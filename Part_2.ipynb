{
 "cells": [
  {
   "cell_type": "code",
   "execution_count": 10,
   "metadata": {},
   "outputs": [
    {
     "name": "stderr",
     "output_type": "stream",
     "text": [
      "C:\\Users\\Sharjil Dhanani\\AppData\\Roaming\\Python\\Python312\\site-packages\\torchvision\\models\\_utils.py:208: UserWarning: The parameter 'pretrained' is deprecated since 0.13 and may be removed in the future, please use 'weights' instead.\n",
      "  warnings.warn(\n",
      "C:\\Users\\Sharjil Dhanani\\AppData\\Roaming\\Python\\Python312\\site-packages\\torchvision\\models\\_utils.py:223: UserWarning: Arguments other than a weight enum or `None` for 'weights' are deprecated since 0.13 and may be removed in the future. The current behavior is equivalent to passing `weights=ResNet50_Weights.IMAGENET1K_V1`. You can also use `weights=ResNet50_Weights.DEFAULT` to get the most up-to-date weights.\n",
      "  warnings.warn(msg)\n"
     ]
    },
    {
     "data": {
      "text/plain": [
       "ALBEFModel(\n",
       "  (image_model): ResNet(\n",
       "    (conv1): Conv2d(3, 64, kernel_size=(7, 7), stride=(2, 2), padding=(3, 3), bias=False)\n",
       "    (bn1): BatchNorm2d(64, eps=1e-05, momentum=0.1, affine=True, track_running_stats=True)\n",
       "    (relu): ReLU(inplace=True)\n",
       "    (maxpool): MaxPool2d(kernel_size=3, stride=2, padding=1, dilation=1, ceil_mode=False)\n",
       "    (layer1): Sequential(\n",
       "      (0): Bottleneck(\n",
       "        (conv1): Conv2d(64, 64, kernel_size=(1, 1), stride=(1, 1), bias=False)\n",
       "        (bn1): BatchNorm2d(64, eps=1e-05, momentum=0.1, affine=True, track_running_stats=True)\n",
       "        (conv2): Conv2d(64, 64, kernel_size=(3, 3), stride=(1, 1), padding=(1, 1), bias=False)\n",
       "        (bn2): BatchNorm2d(64, eps=1e-05, momentum=0.1, affine=True, track_running_stats=True)\n",
       "        (conv3): Conv2d(64, 256, kernel_size=(1, 1), stride=(1, 1), bias=False)\n",
       "        (bn3): BatchNorm2d(256, eps=1e-05, momentum=0.1, affine=True, track_running_stats=True)\n",
       "        (relu): ReLU(inplace=True)\n",
       "        (downsample): Sequential(\n",
       "          (0): Conv2d(64, 256, kernel_size=(1, 1), stride=(1, 1), bias=False)\n",
       "          (1): BatchNorm2d(256, eps=1e-05, momentum=0.1, affine=True, track_running_stats=True)\n",
       "        )\n",
       "      )\n",
       "      (1): Bottleneck(\n",
       "        (conv1): Conv2d(256, 64, kernel_size=(1, 1), stride=(1, 1), bias=False)\n",
       "        (bn1): BatchNorm2d(64, eps=1e-05, momentum=0.1, affine=True, track_running_stats=True)\n",
       "        (conv2): Conv2d(64, 64, kernel_size=(3, 3), stride=(1, 1), padding=(1, 1), bias=False)\n",
       "        (bn2): BatchNorm2d(64, eps=1e-05, momentum=0.1, affine=True, track_running_stats=True)\n",
       "        (conv3): Conv2d(64, 256, kernel_size=(1, 1), stride=(1, 1), bias=False)\n",
       "        (bn3): BatchNorm2d(256, eps=1e-05, momentum=0.1, affine=True, track_running_stats=True)\n",
       "        (relu): ReLU(inplace=True)\n",
       "      )\n",
       "      (2): Bottleneck(\n",
       "        (conv1): Conv2d(256, 64, kernel_size=(1, 1), stride=(1, 1), bias=False)\n",
       "        (bn1): BatchNorm2d(64, eps=1e-05, momentum=0.1, affine=True, track_running_stats=True)\n",
       "        (conv2): Conv2d(64, 64, kernel_size=(3, 3), stride=(1, 1), padding=(1, 1), bias=False)\n",
       "        (bn2): BatchNorm2d(64, eps=1e-05, momentum=0.1, affine=True, track_running_stats=True)\n",
       "        (conv3): Conv2d(64, 256, kernel_size=(1, 1), stride=(1, 1), bias=False)\n",
       "        (bn3): BatchNorm2d(256, eps=1e-05, momentum=0.1, affine=True, track_running_stats=True)\n",
       "        (relu): ReLU(inplace=True)\n",
       "      )\n",
       "    )\n",
       "    (layer2): Sequential(\n",
       "      (0): Bottleneck(\n",
       "        (conv1): Conv2d(256, 128, kernel_size=(1, 1), stride=(1, 1), bias=False)\n",
       "        (bn1): BatchNorm2d(128, eps=1e-05, momentum=0.1, affine=True, track_running_stats=True)\n",
       "        (conv2): Conv2d(128, 128, kernel_size=(3, 3), stride=(2, 2), padding=(1, 1), bias=False)\n",
       "        (bn2): BatchNorm2d(128, eps=1e-05, momentum=0.1, affine=True, track_running_stats=True)\n",
       "        (conv3): Conv2d(128, 512, kernel_size=(1, 1), stride=(1, 1), bias=False)\n",
       "        (bn3): BatchNorm2d(512, eps=1e-05, momentum=0.1, affine=True, track_running_stats=True)\n",
       "        (relu): ReLU(inplace=True)\n",
       "        (downsample): Sequential(\n",
       "          (0): Conv2d(256, 512, kernel_size=(1, 1), stride=(2, 2), bias=False)\n",
       "          (1): BatchNorm2d(512, eps=1e-05, momentum=0.1, affine=True, track_running_stats=True)\n",
       "        )\n",
       "      )\n",
       "      (1): Bottleneck(\n",
       "        (conv1): Conv2d(512, 128, kernel_size=(1, 1), stride=(1, 1), bias=False)\n",
       "        (bn1): BatchNorm2d(128, eps=1e-05, momentum=0.1, affine=True, track_running_stats=True)\n",
       "        (conv2): Conv2d(128, 128, kernel_size=(3, 3), stride=(1, 1), padding=(1, 1), bias=False)\n",
       "        (bn2): BatchNorm2d(128, eps=1e-05, momentum=0.1, affine=True, track_running_stats=True)\n",
       "        (conv3): Conv2d(128, 512, kernel_size=(1, 1), stride=(1, 1), bias=False)\n",
       "        (bn3): BatchNorm2d(512, eps=1e-05, momentum=0.1, affine=True, track_running_stats=True)\n",
       "        (relu): ReLU(inplace=True)\n",
       "      )\n",
       "      (2): Bottleneck(\n",
       "        (conv1): Conv2d(512, 128, kernel_size=(1, 1), stride=(1, 1), bias=False)\n",
       "        (bn1): BatchNorm2d(128, eps=1e-05, momentum=0.1, affine=True, track_running_stats=True)\n",
       "        (conv2): Conv2d(128, 128, kernel_size=(3, 3), stride=(1, 1), padding=(1, 1), bias=False)\n",
       "        (bn2): BatchNorm2d(128, eps=1e-05, momentum=0.1, affine=True, track_running_stats=True)\n",
       "        (conv3): Conv2d(128, 512, kernel_size=(1, 1), stride=(1, 1), bias=False)\n",
       "        (bn3): BatchNorm2d(512, eps=1e-05, momentum=0.1, affine=True, track_running_stats=True)\n",
       "        (relu): ReLU(inplace=True)\n",
       "      )\n",
       "      (3): Bottleneck(\n",
       "        (conv1): Conv2d(512, 128, kernel_size=(1, 1), stride=(1, 1), bias=False)\n",
       "        (bn1): BatchNorm2d(128, eps=1e-05, momentum=0.1, affine=True, track_running_stats=True)\n",
       "        (conv2): Conv2d(128, 128, kernel_size=(3, 3), stride=(1, 1), padding=(1, 1), bias=False)\n",
       "        (bn2): BatchNorm2d(128, eps=1e-05, momentum=0.1, affine=True, track_running_stats=True)\n",
       "        (conv3): Conv2d(128, 512, kernel_size=(1, 1), stride=(1, 1), bias=False)\n",
       "        (bn3): BatchNorm2d(512, eps=1e-05, momentum=0.1, affine=True, track_running_stats=True)\n",
       "        (relu): ReLU(inplace=True)\n",
       "      )\n",
       "    )\n",
       "    (layer3): Sequential(\n",
       "      (0): Bottleneck(\n",
       "        (conv1): Conv2d(512, 256, kernel_size=(1, 1), stride=(1, 1), bias=False)\n",
       "        (bn1): BatchNorm2d(256, eps=1e-05, momentum=0.1, affine=True, track_running_stats=True)\n",
       "        (conv2): Conv2d(256, 256, kernel_size=(3, 3), stride=(2, 2), padding=(1, 1), bias=False)\n",
       "        (bn2): BatchNorm2d(256, eps=1e-05, momentum=0.1, affine=True, track_running_stats=True)\n",
       "        (conv3): Conv2d(256, 1024, kernel_size=(1, 1), stride=(1, 1), bias=False)\n",
       "        (bn3): BatchNorm2d(1024, eps=1e-05, momentum=0.1, affine=True, track_running_stats=True)\n",
       "        (relu): ReLU(inplace=True)\n",
       "        (downsample): Sequential(\n",
       "          (0): Conv2d(512, 1024, kernel_size=(1, 1), stride=(2, 2), bias=False)\n",
       "          (1): BatchNorm2d(1024, eps=1e-05, momentum=0.1, affine=True, track_running_stats=True)\n",
       "        )\n",
       "      )\n",
       "      (1): Bottleneck(\n",
       "        (conv1): Conv2d(1024, 256, kernel_size=(1, 1), stride=(1, 1), bias=False)\n",
       "        (bn1): BatchNorm2d(256, eps=1e-05, momentum=0.1, affine=True, track_running_stats=True)\n",
       "        (conv2): Conv2d(256, 256, kernel_size=(3, 3), stride=(1, 1), padding=(1, 1), bias=False)\n",
       "        (bn2): BatchNorm2d(256, eps=1e-05, momentum=0.1, affine=True, track_running_stats=True)\n",
       "        (conv3): Conv2d(256, 1024, kernel_size=(1, 1), stride=(1, 1), bias=False)\n",
       "        (bn3): BatchNorm2d(1024, eps=1e-05, momentum=0.1, affine=True, track_running_stats=True)\n",
       "        (relu): ReLU(inplace=True)\n",
       "      )\n",
       "      (2): Bottleneck(\n",
       "        (conv1): Conv2d(1024, 256, kernel_size=(1, 1), stride=(1, 1), bias=False)\n",
       "        (bn1): BatchNorm2d(256, eps=1e-05, momentum=0.1, affine=True, track_running_stats=True)\n",
       "        (conv2): Conv2d(256, 256, kernel_size=(3, 3), stride=(1, 1), padding=(1, 1), bias=False)\n",
       "        (bn2): BatchNorm2d(256, eps=1e-05, momentum=0.1, affine=True, track_running_stats=True)\n",
       "        (conv3): Conv2d(256, 1024, kernel_size=(1, 1), stride=(1, 1), bias=False)\n",
       "        (bn3): BatchNorm2d(1024, eps=1e-05, momentum=0.1, affine=True, track_running_stats=True)\n",
       "        (relu): ReLU(inplace=True)\n",
       "      )\n",
       "      (3): Bottleneck(\n",
       "        (conv1): Conv2d(1024, 256, kernel_size=(1, 1), stride=(1, 1), bias=False)\n",
       "        (bn1): BatchNorm2d(256, eps=1e-05, momentum=0.1, affine=True, track_running_stats=True)\n",
       "        (conv2): Conv2d(256, 256, kernel_size=(3, 3), stride=(1, 1), padding=(1, 1), bias=False)\n",
       "        (bn2): BatchNorm2d(256, eps=1e-05, momentum=0.1, affine=True, track_running_stats=True)\n",
       "        (conv3): Conv2d(256, 1024, kernel_size=(1, 1), stride=(1, 1), bias=False)\n",
       "        (bn3): BatchNorm2d(1024, eps=1e-05, momentum=0.1, affine=True, track_running_stats=True)\n",
       "        (relu): ReLU(inplace=True)\n",
       "      )\n",
       "      (4): Bottleneck(\n",
       "        (conv1): Conv2d(1024, 256, kernel_size=(1, 1), stride=(1, 1), bias=False)\n",
       "        (bn1): BatchNorm2d(256, eps=1e-05, momentum=0.1, affine=True, track_running_stats=True)\n",
       "        (conv2): Conv2d(256, 256, kernel_size=(3, 3), stride=(1, 1), padding=(1, 1), bias=False)\n",
       "        (bn2): BatchNorm2d(256, eps=1e-05, momentum=0.1, affine=True, track_running_stats=True)\n",
       "        (conv3): Conv2d(256, 1024, kernel_size=(1, 1), stride=(1, 1), bias=False)\n",
       "        (bn3): BatchNorm2d(1024, eps=1e-05, momentum=0.1, affine=True, track_running_stats=True)\n",
       "        (relu): ReLU(inplace=True)\n",
       "      )\n",
       "      (5): Bottleneck(\n",
       "        (conv1): Conv2d(1024, 256, kernel_size=(1, 1), stride=(1, 1), bias=False)\n",
       "        (bn1): BatchNorm2d(256, eps=1e-05, momentum=0.1, affine=True, track_running_stats=True)\n",
       "        (conv2): Conv2d(256, 256, kernel_size=(3, 3), stride=(1, 1), padding=(1, 1), bias=False)\n",
       "        (bn2): BatchNorm2d(256, eps=1e-05, momentum=0.1, affine=True, track_running_stats=True)\n",
       "        (conv3): Conv2d(256, 1024, kernel_size=(1, 1), stride=(1, 1), bias=False)\n",
       "        (bn3): BatchNorm2d(1024, eps=1e-05, momentum=0.1, affine=True, track_running_stats=True)\n",
       "        (relu): ReLU(inplace=True)\n",
       "      )\n",
       "    )\n",
       "    (layer4): Sequential(\n",
       "      (0): Bottleneck(\n",
       "        (conv1): Conv2d(1024, 512, kernel_size=(1, 1), stride=(1, 1), bias=False)\n",
       "        (bn1): BatchNorm2d(512, eps=1e-05, momentum=0.1, affine=True, track_running_stats=True)\n",
       "        (conv2): Conv2d(512, 512, kernel_size=(3, 3), stride=(2, 2), padding=(1, 1), bias=False)\n",
       "        (bn2): BatchNorm2d(512, eps=1e-05, momentum=0.1, affine=True, track_running_stats=True)\n",
       "        (conv3): Conv2d(512, 2048, kernel_size=(1, 1), stride=(1, 1), bias=False)\n",
       "        (bn3): BatchNorm2d(2048, eps=1e-05, momentum=0.1, affine=True, track_running_stats=True)\n",
       "        (relu): ReLU(inplace=True)\n",
       "        (downsample): Sequential(\n",
       "          (0): Conv2d(1024, 2048, kernel_size=(1, 1), stride=(2, 2), bias=False)\n",
       "          (1): BatchNorm2d(2048, eps=1e-05, momentum=0.1, affine=True, track_running_stats=True)\n",
       "        )\n",
       "      )\n",
       "      (1): Bottleneck(\n",
       "        (conv1): Conv2d(2048, 512, kernel_size=(1, 1), stride=(1, 1), bias=False)\n",
       "        (bn1): BatchNorm2d(512, eps=1e-05, momentum=0.1, affine=True, track_running_stats=True)\n",
       "        (conv2): Conv2d(512, 512, kernel_size=(3, 3), stride=(1, 1), padding=(1, 1), bias=False)\n",
       "        (bn2): BatchNorm2d(512, eps=1e-05, momentum=0.1, affine=True, track_running_stats=True)\n",
       "        (conv3): Conv2d(512, 2048, kernel_size=(1, 1), stride=(1, 1), bias=False)\n",
       "        (bn3): BatchNorm2d(2048, eps=1e-05, momentum=0.1, affine=True, track_running_stats=True)\n",
       "        (relu): ReLU(inplace=True)\n",
       "      )\n",
       "      (2): Bottleneck(\n",
       "        (conv1): Conv2d(2048, 512, kernel_size=(1, 1), stride=(1, 1), bias=False)\n",
       "        (bn1): BatchNorm2d(512, eps=1e-05, momentum=0.1, affine=True, track_running_stats=True)\n",
       "        (conv2): Conv2d(512, 512, kernel_size=(3, 3), stride=(1, 1), padding=(1, 1), bias=False)\n",
       "        (bn2): BatchNorm2d(512, eps=1e-05, momentum=0.1, affine=True, track_running_stats=True)\n",
       "        (conv3): Conv2d(512, 2048, kernel_size=(1, 1), stride=(1, 1), bias=False)\n",
       "        (bn3): BatchNorm2d(2048, eps=1e-05, momentum=0.1, affine=True, track_running_stats=True)\n",
       "        (relu): ReLU(inplace=True)\n",
       "      )\n",
       "    )\n",
       "    (avgpool): AdaptiveAvgPool2d(output_size=(1, 1))\n",
       "    (fc): Linear(in_features=2048, out_features=2048, bias=True)\n",
       "  )\n",
       "  (text_model): BertModel(\n",
       "    (embeddings): BertEmbeddings(\n",
       "      (word_embeddings): Embedding(30522, 768, padding_idx=0)\n",
       "      (position_embeddings): Embedding(512, 768)\n",
       "      (token_type_embeddings): Embedding(2, 768)\n",
       "      (LayerNorm): LayerNorm((768,), eps=1e-12, elementwise_affine=True)\n",
       "      (dropout): Dropout(p=0.1, inplace=False)\n",
       "    )\n",
       "    (encoder): BertEncoder(\n",
       "      (layer): ModuleList(\n",
       "        (0-11): 12 x BertLayer(\n",
       "          (attention): BertAttention(\n",
       "            (self): BertSdpaSelfAttention(\n",
       "              (query): Linear(in_features=768, out_features=768, bias=True)\n",
       "              (key): Linear(in_features=768, out_features=768, bias=True)\n",
       "              (value): Linear(in_features=768, out_features=768, bias=True)\n",
       "              (dropout): Dropout(p=0.1, inplace=False)\n",
       "            )\n",
       "            (output): BertSelfOutput(\n",
       "              (dense): Linear(in_features=768, out_features=768, bias=True)\n",
       "              (LayerNorm): LayerNorm((768,), eps=1e-12, elementwise_affine=True)\n",
       "              (dropout): Dropout(p=0.1, inplace=False)\n",
       "            )\n",
       "          )\n",
       "          (intermediate): BertIntermediate(\n",
       "            (dense): Linear(in_features=768, out_features=3072, bias=True)\n",
       "            (intermediate_act_fn): GELUActivation()\n",
       "          )\n",
       "          (output): BertOutput(\n",
       "            (dense): Linear(in_features=3072, out_features=768, bias=True)\n",
       "            (LayerNorm): LayerNorm((768,), eps=1e-12, elementwise_affine=True)\n",
       "            (dropout): Dropout(p=0.1, inplace=False)\n",
       "          )\n",
       "        )\n",
       "      )\n",
       "    )\n",
       "    (pooler): BertPooler(\n",
       "      (dense): Linear(in_features=768, out_features=768, bias=True)\n",
       "      (activation): Tanh()\n",
       "    )\n",
       "  )\n",
       "  (image_proj): Linear(in_features=2048, out_features=512, bias=True)\n",
       "  (text_proj): Linear(in_features=768, out_features=512, bias=True)\n",
       ")"
      ]
     },
     "execution_count": 10,
     "metadata": {},
     "output_type": "execute_result"
    }
   ],
   "source": [
    "import os\n",
    "import numpy as np\n",
    "import pandas as pd\n",
    "import pydicom\n",
    "from PIL import Image\n",
    "from google.cloud import storage\n",
    "from torchvision import transforms\n",
    "from transformers import BertTokenizer, BertModel\n",
    "import torch\n",
    "from torch import nn\n",
    "from torch.utils.data import DataLoader\n",
    "from io import BytesIO\n",
    "import torch\n",
    "from transformers import BertTokenizer, BertModel\n",
    "from torchvision.models import resnet50\n",
    "class ALBEFModel(nn.Module):\n",
    "    def __init__(self, image_model, text_model, embed_dim):\n",
    "        super(ALBEFModel, self).__init__()\n",
    "        self.image_model = image_model\n",
    "        self.text_model = text_model\n",
    "        self.image_proj = nn.Linear(image_model.fc.in_features, embed_dim)\n",
    "        self.text_proj = nn.Linear(text_model.config.hidden_size, embed_dim)\n",
    "\n",
    "    def forward(self, image, text_input_ids, text_attention_mask):\n",
    "        image_features = self.image_model(image)\n",
    "        image_embed = self.image_proj(image_features)\n",
    "\n",
    "        text_output = self.text_model(input_ids=text_input_ids, attention_mask=text_attention_mask)\n",
    "        text_features = text_output.last_hidden_state[:, 0, :]\n",
    "        text_embed = self.text_proj(text_features)\n",
    "\n",
    "        return image_embed, text_embed\n",
    "image_model = resnet50(pretrained=True)\n",
    "num_features = image_model.fc.in_features\n",
    "image_model.fc = nn.Linear(num_features, num_features) \n",
    "\n",
    "tokenizer = BertTokenizer.from_pretrained('bert-base-uncased')\n",
    "text_model = BertModel.from_pretrained('bert-base-uncased')\n",
    "\n",
    "embed_dim = 512\n",
    "model = ALBEFModel(image_model, text_model, embed_dim)\n",
    "\n",
    "\n",
    "model.load_state_dict(torch.load('albef_model_server.pth'))\n",
    "model.eval()\n",
    "\n",
    "\n",
    "device = torch.device('cuda' if torch.cuda.is_available() else 'cpu')\n",
    "model.to(device)"
   ]
  },
  {
   "cell_type": "code",
   "execution_count": 11,
   "metadata": {},
   "outputs": [
    {
     "data": {
      "text/plain": [
       "ALBEFModel(\n",
       "  (image_model): ResNet(\n",
       "    (conv1): Conv2d(3, 64, kernel_size=(7, 7), stride=(2, 2), padding=(3, 3), bias=False)\n",
       "    (bn1): BatchNorm2d(64, eps=1e-05, momentum=0.1, affine=True, track_running_stats=True)\n",
       "    (relu): ReLU(inplace=True)\n",
       "    (maxpool): MaxPool2d(kernel_size=3, stride=2, padding=1, dilation=1, ceil_mode=False)\n",
       "    (layer1): Sequential(\n",
       "      (0): Bottleneck(\n",
       "        (conv1): Conv2d(64, 64, kernel_size=(1, 1), stride=(1, 1), bias=False)\n",
       "        (bn1): BatchNorm2d(64, eps=1e-05, momentum=0.1, affine=True, track_running_stats=True)\n",
       "        (conv2): Conv2d(64, 64, kernel_size=(3, 3), stride=(1, 1), padding=(1, 1), bias=False)\n",
       "        (bn2): BatchNorm2d(64, eps=1e-05, momentum=0.1, affine=True, track_running_stats=True)\n",
       "        (conv3): Conv2d(64, 256, kernel_size=(1, 1), stride=(1, 1), bias=False)\n",
       "        (bn3): BatchNorm2d(256, eps=1e-05, momentum=0.1, affine=True, track_running_stats=True)\n",
       "        (relu): ReLU(inplace=True)\n",
       "        (downsample): Sequential(\n",
       "          (0): Conv2d(64, 256, kernel_size=(1, 1), stride=(1, 1), bias=False)\n",
       "          (1): BatchNorm2d(256, eps=1e-05, momentum=0.1, affine=True, track_running_stats=True)\n",
       "        )\n",
       "      )\n",
       "      (1): Bottleneck(\n",
       "        (conv1): Conv2d(256, 64, kernel_size=(1, 1), stride=(1, 1), bias=False)\n",
       "        (bn1): BatchNorm2d(64, eps=1e-05, momentum=0.1, affine=True, track_running_stats=True)\n",
       "        (conv2): Conv2d(64, 64, kernel_size=(3, 3), stride=(1, 1), padding=(1, 1), bias=False)\n",
       "        (bn2): BatchNorm2d(64, eps=1e-05, momentum=0.1, affine=True, track_running_stats=True)\n",
       "        (conv3): Conv2d(64, 256, kernel_size=(1, 1), stride=(1, 1), bias=False)\n",
       "        (bn3): BatchNorm2d(256, eps=1e-05, momentum=0.1, affine=True, track_running_stats=True)\n",
       "        (relu): ReLU(inplace=True)\n",
       "      )\n",
       "      (2): Bottleneck(\n",
       "        (conv1): Conv2d(256, 64, kernel_size=(1, 1), stride=(1, 1), bias=False)\n",
       "        (bn1): BatchNorm2d(64, eps=1e-05, momentum=0.1, affine=True, track_running_stats=True)\n",
       "        (conv2): Conv2d(64, 64, kernel_size=(3, 3), stride=(1, 1), padding=(1, 1), bias=False)\n",
       "        (bn2): BatchNorm2d(64, eps=1e-05, momentum=0.1, affine=True, track_running_stats=True)\n",
       "        (conv3): Conv2d(64, 256, kernel_size=(1, 1), stride=(1, 1), bias=False)\n",
       "        (bn3): BatchNorm2d(256, eps=1e-05, momentum=0.1, affine=True, track_running_stats=True)\n",
       "        (relu): ReLU(inplace=True)\n",
       "      )\n",
       "    )\n",
       "    (layer2): Sequential(\n",
       "      (0): Bottleneck(\n",
       "        (conv1): Conv2d(256, 128, kernel_size=(1, 1), stride=(1, 1), bias=False)\n",
       "        (bn1): BatchNorm2d(128, eps=1e-05, momentum=0.1, affine=True, track_running_stats=True)\n",
       "        (conv2): Conv2d(128, 128, kernel_size=(3, 3), stride=(2, 2), padding=(1, 1), bias=False)\n",
       "        (bn2): BatchNorm2d(128, eps=1e-05, momentum=0.1, affine=True, track_running_stats=True)\n",
       "        (conv3): Conv2d(128, 512, kernel_size=(1, 1), stride=(1, 1), bias=False)\n",
       "        (bn3): BatchNorm2d(512, eps=1e-05, momentum=0.1, affine=True, track_running_stats=True)\n",
       "        (relu): ReLU(inplace=True)\n",
       "        (downsample): Sequential(\n",
       "          (0): Conv2d(256, 512, kernel_size=(1, 1), stride=(2, 2), bias=False)\n",
       "          (1): BatchNorm2d(512, eps=1e-05, momentum=0.1, affine=True, track_running_stats=True)\n",
       "        )\n",
       "      )\n",
       "      (1): Bottleneck(\n",
       "        (conv1): Conv2d(512, 128, kernel_size=(1, 1), stride=(1, 1), bias=False)\n",
       "        (bn1): BatchNorm2d(128, eps=1e-05, momentum=0.1, affine=True, track_running_stats=True)\n",
       "        (conv2): Conv2d(128, 128, kernel_size=(3, 3), stride=(1, 1), padding=(1, 1), bias=False)\n",
       "        (bn2): BatchNorm2d(128, eps=1e-05, momentum=0.1, affine=True, track_running_stats=True)\n",
       "        (conv3): Conv2d(128, 512, kernel_size=(1, 1), stride=(1, 1), bias=False)\n",
       "        (bn3): BatchNorm2d(512, eps=1e-05, momentum=0.1, affine=True, track_running_stats=True)\n",
       "        (relu): ReLU(inplace=True)\n",
       "      )\n",
       "      (2): Bottleneck(\n",
       "        (conv1): Conv2d(512, 128, kernel_size=(1, 1), stride=(1, 1), bias=False)\n",
       "        (bn1): BatchNorm2d(128, eps=1e-05, momentum=0.1, affine=True, track_running_stats=True)\n",
       "        (conv2): Conv2d(128, 128, kernel_size=(3, 3), stride=(1, 1), padding=(1, 1), bias=False)\n",
       "        (bn2): BatchNorm2d(128, eps=1e-05, momentum=0.1, affine=True, track_running_stats=True)\n",
       "        (conv3): Conv2d(128, 512, kernel_size=(1, 1), stride=(1, 1), bias=False)\n",
       "        (bn3): BatchNorm2d(512, eps=1e-05, momentum=0.1, affine=True, track_running_stats=True)\n",
       "        (relu): ReLU(inplace=True)\n",
       "      )\n",
       "      (3): Bottleneck(\n",
       "        (conv1): Conv2d(512, 128, kernel_size=(1, 1), stride=(1, 1), bias=False)\n",
       "        (bn1): BatchNorm2d(128, eps=1e-05, momentum=0.1, affine=True, track_running_stats=True)\n",
       "        (conv2): Conv2d(128, 128, kernel_size=(3, 3), stride=(1, 1), padding=(1, 1), bias=False)\n",
       "        (bn2): BatchNorm2d(128, eps=1e-05, momentum=0.1, affine=True, track_running_stats=True)\n",
       "        (conv3): Conv2d(128, 512, kernel_size=(1, 1), stride=(1, 1), bias=False)\n",
       "        (bn3): BatchNorm2d(512, eps=1e-05, momentum=0.1, affine=True, track_running_stats=True)\n",
       "        (relu): ReLU(inplace=True)\n",
       "      )\n",
       "    )\n",
       "    (layer3): Sequential(\n",
       "      (0): Bottleneck(\n",
       "        (conv1): Conv2d(512, 256, kernel_size=(1, 1), stride=(1, 1), bias=False)\n",
       "        (bn1): BatchNorm2d(256, eps=1e-05, momentum=0.1, affine=True, track_running_stats=True)\n",
       "        (conv2): Conv2d(256, 256, kernel_size=(3, 3), stride=(2, 2), padding=(1, 1), bias=False)\n",
       "        (bn2): BatchNorm2d(256, eps=1e-05, momentum=0.1, affine=True, track_running_stats=True)\n",
       "        (conv3): Conv2d(256, 1024, kernel_size=(1, 1), stride=(1, 1), bias=False)\n",
       "        (bn3): BatchNorm2d(1024, eps=1e-05, momentum=0.1, affine=True, track_running_stats=True)\n",
       "        (relu): ReLU(inplace=True)\n",
       "        (downsample): Sequential(\n",
       "          (0): Conv2d(512, 1024, kernel_size=(1, 1), stride=(2, 2), bias=False)\n",
       "          (1): BatchNorm2d(1024, eps=1e-05, momentum=0.1, affine=True, track_running_stats=True)\n",
       "        )\n",
       "      )\n",
       "      (1): Bottleneck(\n",
       "        (conv1): Conv2d(1024, 256, kernel_size=(1, 1), stride=(1, 1), bias=False)\n",
       "        (bn1): BatchNorm2d(256, eps=1e-05, momentum=0.1, affine=True, track_running_stats=True)\n",
       "        (conv2): Conv2d(256, 256, kernel_size=(3, 3), stride=(1, 1), padding=(1, 1), bias=False)\n",
       "        (bn2): BatchNorm2d(256, eps=1e-05, momentum=0.1, affine=True, track_running_stats=True)\n",
       "        (conv3): Conv2d(256, 1024, kernel_size=(1, 1), stride=(1, 1), bias=False)\n",
       "        (bn3): BatchNorm2d(1024, eps=1e-05, momentum=0.1, affine=True, track_running_stats=True)\n",
       "        (relu): ReLU(inplace=True)\n",
       "      )\n",
       "      (2): Bottleneck(\n",
       "        (conv1): Conv2d(1024, 256, kernel_size=(1, 1), stride=(1, 1), bias=False)\n",
       "        (bn1): BatchNorm2d(256, eps=1e-05, momentum=0.1, affine=True, track_running_stats=True)\n",
       "        (conv2): Conv2d(256, 256, kernel_size=(3, 3), stride=(1, 1), padding=(1, 1), bias=False)\n",
       "        (bn2): BatchNorm2d(256, eps=1e-05, momentum=0.1, affine=True, track_running_stats=True)\n",
       "        (conv3): Conv2d(256, 1024, kernel_size=(1, 1), stride=(1, 1), bias=False)\n",
       "        (bn3): BatchNorm2d(1024, eps=1e-05, momentum=0.1, affine=True, track_running_stats=True)\n",
       "        (relu): ReLU(inplace=True)\n",
       "      )\n",
       "      (3): Bottleneck(\n",
       "        (conv1): Conv2d(1024, 256, kernel_size=(1, 1), stride=(1, 1), bias=False)\n",
       "        (bn1): BatchNorm2d(256, eps=1e-05, momentum=0.1, affine=True, track_running_stats=True)\n",
       "        (conv2): Conv2d(256, 256, kernel_size=(3, 3), stride=(1, 1), padding=(1, 1), bias=False)\n",
       "        (bn2): BatchNorm2d(256, eps=1e-05, momentum=0.1, affine=True, track_running_stats=True)\n",
       "        (conv3): Conv2d(256, 1024, kernel_size=(1, 1), stride=(1, 1), bias=False)\n",
       "        (bn3): BatchNorm2d(1024, eps=1e-05, momentum=0.1, affine=True, track_running_stats=True)\n",
       "        (relu): ReLU(inplace=True)\n",
       "      )\n",
       "      (4): Bottleneck(\n",
       "        (conv1): Conv2d(1024, 256, kernel_size=(1, 1), stride=(1, 1), bias=False)\n",
       "        (bn1): BatchNorm2d(256, eps=1e-05, momentum=0.1, affine=True, track_running_stats=True)\n",
       "        (conv2): Conv2d(256, 256, kernel_size=(3, 3), stride=(1, 1), padding=(1, 1), bias=False)\n",
       "        (bn2): BatchNorm2d(256, eps=1e-05, momentum=0.1, affine=True, track_running_stats=True)\n",
       "        (conv3): Conv2d(256, 1024, kernel_size=(1, 1), stride=(1, 1), bias=False)\n",
       "        (bn3): BatchNorm2d(1024, eps=1e-05, momentum=0.1, affine=True, track_running_stats=True)\n",
       "        (relu): ReLU(inplace=True)\n",
       "      )\n",
       "      (5): Bottleneck(\n",
       "        (conv1): Conv2d(1024, 256, kernel_size=(1, 1), stride=(1, 1), bias=False)\n",
       "        (bn1): BatchNorm2d(256, eps=1e-05, momentum=0.1, affine=True, track_running_stats=True)\n",
       "        (conv2): Conv2d(256, 256, kernel_size=(3, 3), stride=(1, 1), padding=(1, 1), bias=False)\n",
       "        (bn2): BatchNorm2d(256, eps=1e-05, momentum=0.1, affine=True, track_running_stats=True)\n",
       "        (conv3): Conv2d(256, 1024, kernel_size=(1, 1), stride=(1, 1), bias=False)\n",
       "        (bn3): BatchNorm2d(1024, eps=1e-05, momentum=0.1, affine=True, track_running_stats=True)\n",
       "        (relu): ReLU(inplace=True)\n",
       "      )\n",
       "    )\n",
       "    (layer4): Sequential(\n",
       "      (0): Bottleneck(\n",
       "        (conv1): Conv2d(1024, 512, kernel_size=(1, 1), stride=(1, 1), bias=False)\n",
       "        (bn1): BatchNorm2d(512, eps=1e-05, momentum=0.1, affine=True, track_running_stats=True)\n",
       "        (conv2): Conv2d(512, 512, kernel_size=(3, 3), stride=(2, 2), padding=(1, 1), bias=False)\n",
       "        (bn2): BatchNorm2d(512, eps=1e-05, momentum=0.1, affine=True, track_running_stats=True)\n",
       "        (conv3): Conv2d(512, 2048, kernel_size=(1, 1), stride=(1, 1), bias=False)\n",
       "        (bn3): BatchNorm2d(2048, eps=1e-05, momentum=0.1, affine=True, track_running_stats=True)\n",
       "        (relu): ReLU(inplace=True)\n",
       "        (downsample): Sequential(\n",
       "          (0): Conv2d(1024, 2048, kernel_size=(1, 1), stride=(2, 2), bias=False)\n",
       "          (1): BatchNorm2d(2048, eps=1e-05, momentum=0.1, affine=True, track_running_stats=True)\n",
       "        )\n",
       "      )\n",
       "      (1): Bottleneck(\n",
       "        (conv1): Conv2d(2048, 512, kernel_size=(1, 1), stride=(1, 1), bias=False)\n",
       "        (bn1): BatchNorm2d(512, eps=1e-05, momentum=0.1, affine=True, track_running_stats=True)\n",
       "        (conv2): Conv2d(512, 512, kernel_size=(3, 3), stride=(1, 1), padding=(1, 1), bias=False)\n",
       "        (bn2): BatchNorm2d(512, eps=1e-05, momentum=0.1, affine=True, track_running_stats=True)\n",
       "        (conv3): Conv2d(512, 2048, kernel_size=(1, 1), stride=(1, 1), bias=False)\n",
       "        (bn3): BatchNorm2d(2048, eps=1e-05, momentum=0.1, affine=True, track_running_stats=True)\n",
       "        (relu): ReLU(inplace=True)\n",
       "      )\n",
       "      (2): Bottleneck(\n",
       "        (conv1): Conv2d(2048, 512, kernel_size=(1, 1), stride=(1, 1), bias=False)\n",
       "        (bn1): BatchNorm2d(512, eps=1e-05, momentum=0.1, affine=True, track_running_stats=True)\n",
       "        (conv2): Conv2d(512, 512, kernel_size=(3, 3), stride=(1, 1), padding=(1, 1), bias=False)\n",
       "        (bn2): BatchNorm2d(512, eps=1e-05, momentum=0.1, affine=True, track_running_stats=True)\n",
       "        (conv3): Conv2d(512, 2048, kernel_size=(1, 1), stride=(1, 1), bias=False)\n",
       "        (bn3): BatchNorm2d(2048, eps=1e-05, momentum=0.1, affine=True, track_running_stats=True)\n",
       "        (relu): ReLU(inplace=True)\n",
       "      )\n",
       "    )\n",
       "    (avgpool): AdaptiveAvgPool2d(output_size=(1, 1))\n",
       "    (fc): Linear(in_features=2048, out_features=2048, bias=True)\n",
       "  )\n",
       "  (text_model): BertModel(\n",
       "    (embeddings): BertEmbeddings(\n",
       "      (word_embeddings): Embedding(30522, 768, padding_idx=0)\n",
       "      (position_embeddings): Embedding(512, 768)\n",
       "      (token_type_embeddings): Embedding(2, 768)\n",
       "      (LayerNorm): LayerNorm((768,), eps=1e-12, elementwise_affine=True)\n",
       "      (dropout): Dropout(p=0.1, inplace=False)\n",
       "    )\n",
       "    (encoder): BertEncoder(\n",
       "      (layer): ModuleList(\n",
       "        (0-11): 12 x BertLayer(\n",
       "          (attention): BertAttention(\n",
       "            (self): BertSdpaSelfAttention(\n",
       "              (query): Linear(in_features=768, out_features=768, bias=True)\n",
       "              (key): Linear(in_features=768, out_features=768, bias=True)\n",
       "              (value): Linear(in_features=768, out_features=768, bias=True)\n",
       "              (dropout): Dropout(p=0.1, inplace=False)\n",
       "            )\n",
       "            (output): BertSelfOutput(\n",
       "              (dense): Linear(in_features=768, out_features=768, bias=True)\n",
       "              (LayerNorm): LayerNorm((768,), eps=1e-12, elementwise_affine=True)\n",
       "              (dropout): Dropout(p=0.1, inplace=False)\n",
       "            )\n",
       "          )\n",
       "          (intermediate): BertIntermediate(\n",
       "            (dense): Linear(in_features=768, out_features=3072, bias=True)\n",
       "            (intermediate_act_fn): GELUActivation()\n",
       "          )\n",
       "          (output): BertOutput(\n",
       "            (dense): Linear(in_features=3072, out_features=768, bias=True)\n",
       "            (LayerNorm): LayerNorm((768,), eps=1e-12, elementwise_affine=True)\n",
       "            (dropout): Dropout(p=0.1, inplace=False)\n",
       "          )\n",
       "        )\n",
       "      )\n",
       "    )\n",
       "    (pooler): BertPooler(\n",
       "      (dense): Linear(in_features=768, out_features=768, bias=True)\n",
       "      (activation): Tanh()\n",
       "    )\n",
       "  )\n",
       "  (image_proj): Linear(in_features=2048, out_features=512, bias=True)\n",
       "  (text_proj): Linear(in_features=768, out_features=512, bias=True)\n",
       ")"
      ]
     },
     "execution_count": 11,
     "metadata": {},
     "output_type": "execute_result"
    }
   ],
   "source": [
    "device = \"cuda\" if torch.cuda.is_available() else \"cpu\"\n",
    "model.to(device)"
   ]
  },
  {
   "cell_type": "code",
   "execution_count": 12,
   "metadata": {},
   "outputs": [
    {
     "name": "stdout",
     "output_type": "stream",
     "text": [
      "                                             Entity1      Relation  \\\n",
      "0                                      Hair artifact   has symptom   \n",
      "1                                      Hair artifact  described by   \n",
      "2         Large left upper lobe necrotic lung cancer   has symptom   \n",
      "3         Large left upper lobe necrotic lung cancer  described by   \n",
      "4  Congenital lobar overinflation - left lung upp...   has symptom   \n",
      "\n",
      "                                             Entity2  \n",
      "0                               Shortness of breath.  \n",
      "1  Heart size normal. Lungs clear. Pronounced ela...  \n",
      "2                   Progressive shortness of breath.  \n",
      "3  An 8 cm mass in the left upper lobe extends to...  \n",
      "4                              Respiratory distress.  \n"
     ]
    },
    {
     "name": "stderr",
     "output_type": "stream",
     "text": [
      "C:\\Users\\Sharjil Dhanani\\AppData\\Roaming\\Python\\Python312\\site-packages\\transformers\\models\\bert\\modeling_bert.py:439: UserWarning: 1Torch was not compiled with flash attention. (Triggered internally at ..\\aten\\src\\ATen\\native\\transformers\\cuda\\sdp_utils.cpp:455.)\n",
      "  attn_output = torch.nn.functional.scaled_dot_product_attention(\n"
     ]
    }
   ],
   "source": [
    "# Define the BERT tokenizer\n",
    "\n",
    "tokenizer = BertTokenizer.from_pretrained('bert-base-uncased')\n",
    "def generate_text_embeddings(text):\n",
    "    tokenized_text = tokenizer(text, return_tensors='pt', padding=True, truncation=True, max_length=512)\n",
    "    input_ids = tokenized_text['input_ids'].to(device)\n",
    "    attention_mask = tokenized_text['attention_mask'].to(device)\n",
    "    with torch.no_grad():\n",
    "        _, text_embed = model(torch.zeros((1, 3, 224, 224)).to(device), input_ids, attention_mask)\n",
    "    return text_embed.cpu().numpy().flatten()\n",
    "import pandas as pd\n",
    "\n",
    "triplets_path = 'triplets_server.csv'\n",
    "triplets_df = pd.read_csv(triplets_path)\n",
    "\n",
    "print(triplets_df.head())\n",
    "\n",
    "triplets = list(triplets_df.itertuples(index=False, name=None))\n",
    "\n",
    "\n",
    "def generate_triplet_embeddings(triplet):\n",
    "    triplet_text = f\"{triplet[0]} {triplet[1]} {triplet[2]}\"\n",
    "    return generate_text_embeddings(triplet_text)\n",
    "\n",
    "triplet_embeddings = [generate_triplet_embeddings(triplet) for triplet in triplets]"
   ]
  },
  {
   "cell_type": "code",
   "execution_count": 13,
   "metadata": {},
   "outputs": [],
   "source": [
    "import numpy as np\n",
    "from sklearn.metrics.pairwise import cosine_similarity\n",
    "\n",
    "image_embeddings = np.load('image_embeddings_server.npy', allow_pickle=True).item()\n",
    "text_embeddings = np.load('text_embeddings_server.npy', allow_pickle=True).item()\n",
    "\n",
    "# Function to retrieve top-k texts and triplets based on cosine similarity\n",
    "def retrieve_top_k_texts_and_triplets(image_embeddings, text_embeddings, triplet_embeddings, triplets, k=5):\n",
    "    top_k_texts_and_triplets = {}\n",
    "\n",
    "    image_embeds = np.array([image_embeddings[key] for key in image_embeddings])\n",
    "    text_embeds = np.array([text_embeddings[key] for key in text_embeddings])\n",
    "\n",
    "        # Compute cosine similarity matrices\n",
    "    text_similarity_matrix = cosine_similarity(image_embeds, text_embeds)\n",
    "    triplet_similarity_matrix = cosine_similarity(image_embeds, triplet_embeddings)\n",
    "\n",
    "    for i, image_id in enumerate(image_embeddings):\n",
    "        top_k_text_indices = text_similarity_matrix[i].argsort()[-k:][::-1]\n",
    "        top_k_triplet_indices = triplet_similarity_matrix[i].argsort()[-k:][::-1]\n",
    "\n",
    "        top_k_text_ids = [list(text_embeddings.keys())[index] for index in top_k_text_indices]\n",
    "        top_k_triplets = [triplets[index] for index in top_k_triplet_indices]\n",
    "\n",
    "        top_k_texts_and_triplets[image_id] = {\n",
    "            'text_ids': top_k_text_ids,\n",
    "            'triplets': top_k_triplets\n",
    "        }\n",
    "\n",
    "    return top_k_texts_and_triplets\n",
    "# Generate triplet embeddings if not already loaded\n",
    "top_k_texts_and_triplets = retrieve_top_k_texts_and_triplets(image_embeddings, text_embeddings, triplet_embeddings, triplets, k=5)\n",
    "\n"
   ]
  },
  {
   "cell_type": "code",
   "execution_count": 14,
   "metadata": {},
   "outputs": [],
   "source": [
    "selected_image_id=['450', '173', '23', '210', '17', '153', '149', '215', '242', '163']"
   ]
  },
  {
   "cell_type": "code",
   "execution_count": 15,
   "metadata": {},
   "outputs": [
    {
     "name": "stdout",
     "output_type": "stream",
     "text": [
      "Image ID: 450_4c8f8ea6-47e8a94c-d0102870-54af5bd2-c538db5f\n",
      "Top-5 Text IDs: ['31402_s51718048', '18549_s50696726', '23163_s53192951', '19294_s59515023', '184_s54234360']\n",
      "Top-5 Triplets: [('Hiatus hernia', 'described by', 'Air-fluid level behind the heart on the lateral radiograph.'), ('Sickle cell disease with acute chest syndrome', 'described by', 'Cardiac silhouette is mildly enlarged. There is bilateral lower zone atelectasis and hazy airspace opacities. Bones are diffusely sclerotic with multi-level H-shaped vertebral bodies. Splenic shadow is difficult to visualize.'), ('Giant cell interstitial pneumonia', 'described by', 'heart is enlarged with a cardiothoracic ratio of 0.59 ill-defined \"shaggy\" left heart border suggests interstitial thickening in the lingula increased interstitial markings in a bibasal distribution no consolidation, pulmonary nodules, or pleural effusion degenerative change of the shoulders and thoracic spine'), ('Usual interstitial pneumonia (UIP)', 'described by', 'Extensive interstitial lung markings throughout the lungs are consistent with chronic interstitial lung disease with equivocal lung volume loss.\\xa0No pleural effusion.\\xa0 No pneumothorax. Enlarged heart silhouette.\\xa0'), ('Bilateral shoulder injuries on chest x-ray', 'described by', 'Interstitial lung markings are prominent by sub-optimal inspiration. The left glenohumeral joint appears dislocated. The right proximal humerus is fractured. Dedicated shoulder views are recommended.')]\n",
      "\n",
      "Image ID: 173_eb2fabb7-4bbc8aab-d7371282-08e5bcb5-de2e430a\n",
      "Top-5 Text IDs: ['9335_s56406916', '22008_s50002557', '11261_s58493244', '22683_s54917419', '194_s53950795']\n",
      "Top-5 Triplets: [('Thoracic empyema', 'described by', 'There is moderate-to-large-sized pleural effusion with multiple septations/loculations associated with underlying consolidation.'), ('Thoracic empyema', 'described by', 'There is moderate-to-large-sized pleural effusion with multiple septations/loculations associated with underlying consolidation.'), ('Re-expansion pulmonary edema', 'described by', 'Right pleural effusion with associated compressive atelectasis. Small left pleural effusion. Left upper zone mass. Sternotomy wires and valve replacement. Enlarged cardiac silhouette.'), ('Re-expansion pulmonary edema', 'described by', 'Right pleural effusion with associated compressive atelectasis. Small left pleural effusion. Left upper zone mass. Sternotomy wires and valve replacement. Enlarged cardiac silhouette.'), ('Oxygen mask and tubing artifact (portable radiograph)', 'described by', 'Patchy air space opacities are noted in the bilateral mid to lower zones and left retrocardiac region which may be suggestive of worsening infective changes. A small left pleural effusion is noted with adjacent atelectasis. No gross pneumothorax is detected. No subdiaphragmatic free gas is seen.\\xa0Aortic calcifications are noted.\\xa0Degenerative changes are noted of the imaged spine on a background of diffuse osteopenia. An old right 9th rib fracture is also seen.')]\n",
      "\n",
      "Image ID: 23_28fad2ac-d6001216-b4f72c5b-2d4d452e-17b6c9a5\n",
      "Top-5 Text IDs: ['19653_s56073986', '20585_s56207921', '11908_s59124602', '24181_s59459488', '12707_s53019840']\n",
      "Top-5 Triplets: [('Rhomboid fossa of the clavicle', 'described by', 'The lungs and pleural spaces are clear. Cardiomediastinal contours and hilar regions within normal limits.\\xa0Incidental prominant left rhomboid fossa of the clavicle on the left - a normal variant.'), ('Rhomboid fossa of the clavicle', 'described by', 'The lungs and pleural spaces are clear. Cardiomediastinal contours and hilar regions within normal limits.\\xa0Incidental prominant left rhomboid fossa of the clavicle on the left - a normal variant.'), ('Nipple stud', 'described by', 'Normal cardiomediastinal contour. Lungs are clear. Linear right nipple stud.'), ('Pneumonia', 'has symptom', 'Chief complaints: throat pain, body ache, fever, and left-sided chest pain for 2 days. No history of breathing difficulty or cough.'), ('Myasthenia gravis - non-thymomatous', 'described by', 'No anterior superior mediastinal mass is seen. The lungs and pleural angles are clear.\\xa0The heart, mediastinum, pulmonary vessels, and diaphragm all appear normal.')]\n",
      "\n",
      "Image ID: 210_5053834b-b1bea04f-680aec42-45abe415-c2d097ba\n",
      "Top-5 Text IDs: ['6870_s56090555', '7286_s53507895', '1758_s55579609', '5815_s56477239', '7183_s55768555']\n",
      "Top-5 Triplets: [('Hydropneumothorax, pneumomediastinum, pneumoperitoneum and pneumoretroperitoneum', 'described by', 'Right-sided hydropneumothorax\\xa0with pneumomediastinum, pneumoperitoneum and pneumoretroperitoneum\\xa0(note the gas outlining the heart,\\xa0aortic knuckle, psoas muscles, kidneys, along the right and left paracolic gutter and in the pelvis).'), ('Basal pneumothorax and trapped lung post thoracentesis', 'has symptom', 'Chronic left pleural effusion. Post thoracocentesis.'), ('Pulmonary lacerations', 'described by', 'Large hazy left mid zone opacity containing a cavity. Smaller medial left basal cavity and adjacent opacity. Small left pneumothorax.\\n\\n'), ('Pneumothorax - large', 'described by', 'Large left sided pneumothorax, with underlying lung collapse. No mediastinal shift. Right lung clear.\\n'), ('Large thoracic aortic aneurysm', 'described by', 'Large dilated tortuous aortic arch and descending aorta with mass effect on the trachea (displacing it to the left and mildly narrowing it). Despite rotation of the patient to the right, there is some mediastinal shift to the left. Increased interstitial markings throughout the lungs. Left apical pleural capping.')]\n",
      "\n",
      "Image ID: 17_6ad819bb-bae74eb9-7b663e90-b8deabd7-57f8054a\n",
      "Top-5 Text IDs: ['21587_s55564934', '19292_s58015625', '10631_s54279389', '5377_s51448682', '31901_s58288699']\n",
      "Top-5 Triplets: [('Hiatus hernia', 'described by', 'Air-fluid level behind the heart on the lateral radiograph.'), ('Miliary tuberculosis', 'described by', 'Bilateral lung fields interstitial opacities.'), ('Miliary tuberculosis', 'described by', 'Bilateral lung fields interstitial opacities.'), ('Large pericardial effusion', 'described by', 'Grossyl enlarged cardiac shadow demonstrating the water bottle sign, bilateral pleural effusion, multiple intrapulmonary masses. Enlarged pulmonary vasculature, diffuse, inhomogenously increased interstitial markings.'), ('Large pericardial effusion', 'described by', 'Grossyl enlarged cardiac shadow demonstrating the water bottle sign, bilateral pleural effusion, multiple intrapulmonary masses. Enlarged pulmonary vasculature, diffuse, inhomogenously increased interstitial markings.')]\n",
      "\n",
      "Image ID: 153_2c814e99-aa096010-bd722059-5a35bd69-a902e44e\n",
      "Top-5 Text IDs: ['19535_s57131561', '22113_s53245228', '11046_s55024693', '5528_s53731433', '20420_s50158561']\n",
      "Top-5 Triplets: [('Bilateral shoulder injuries on chest x-ray', 'described by', 'Interstitial lung markings are prominent by sub-optimal inspiration. The left glenohumeral joint appears dislocated. The right proximal humerus is fractured. Dedicated shoulder views are recommended.'), ('Bilateral shoulder injuries on chest x-ray', 'described by', 'Interstitial lung markings are prominent by sub-optimal inspiration. The left glenohumeral joint appears dislocated. The right proximal humerus is fractured. Dedicated shoulder views are recommended.'), ('Sickle cell disease with acute chest syndrome', 'described by', 'Cardiac silhouette is mildly enlarged. There is bilateral lower zone atelectasis and hazy airspace opacities. Bones are diffusely sclerotic with multi-level H-shaped vertebral bodies. Splenic shadow is difficult to visualize.'), ('Aortic intramural hematoma', 'has symptom', 'Acute central chest and bilateral jaw pain. Progressive with generalized weakness. History of hypertension and ischemic heart disease.'), ('Usual interstitial pneumonia (UIP)', 'described by', 'Extensive interstitial lung markings throughout the lungs are consistent with chronic interstitial lung disease with equivocal lung volume loss.\\xa0No pleural effusion.\\xa0 No pneumothorax. Enlarged heart silhouette.\\xa0')]\n",
      "\n",
      "Image ID: 149_3373e04d-44222d3e-2a706a8e-f5a037de-a41a60f6\n",
      "Top-5 Text IDs: ['6066_s51722041', '31901_s58288699', '30574_s56214651', '12069_s54943962', '5677_s59956857']\n",
      "Top-5 Triplets: [('Cardiomegaly with plethora and edema', 'described by', 'There is cardiomegaly with pulmonary plethora and airspace shadowing suggesting secondary pulmonary edema.'), ('Pulmonary hypertension and edema in Eisenmenger syndrome', 'described by', 'Enlarged pulmonary arteries and plethora. Cardiomegaly. Prominent left-sided aortic arch.\\xa0There are also features of pulmonary edema.'), ('Pulmonary edema', 'described by', 'Air space opacity most confluent in the perihilar regions and interstitial prominence. There is venous congestion and an enlarged cardiac outline. Bilateral small to moderate sized pleural effusions. Appearances are those of mixed alveolar and interstitial pulmonary edema. '), ('Hiatus hernia', 'described by', 'Large gas-filled\\xa0hiatus hernia.'), ('Hiatus hernia', 'described by', 'Large gas-filled\\xa0hiatus hernia.')]\n",
      "\n",
      "Image ID: 215_0d985d10-36a2a165-ddc49c96-8b8466c9-df947f57\n",
      "Top-5 Text IDs: ['8170_s51364164', '853_s51882357', '7036_s56856430', '11096_s55929980', '12226_s57518319']\n",
      "Top-5 Triplets: [('Azygos fissure', 'described by', 'Incidental azygos fissure with mild opacity in the inferior aspect of the fissure.'), ('Lung cancer', 'described by', 'Painless right chest wall mass lateral to the nipple. The skin is intact.'), ('Lung cancer', 'described by', 'Painless right chest wall mass lateral to the nipple. The skin is intact.'), ('Posterior mediastinal mass - probable esophageal carcinoma', 'described by', 'Heart size is within normal limits. Posterior mediastinal density on lateral projection. CT chest recommended.'), ('Posterior mediastinal mass - probable esophageal carcinoma', 'described by', 'Heart size is within normal limits. Posterior mediastinal density on lateral projection. CT chest recommended.')]\n",
      "\n",
      "Image ID: 242_81791c39-946a2aaa-fd27f78d-48400e77-610e2ae2\n",
      "Top-5 Text IDs: ['31728_s53948810', '6176_s58733600', '8070_s51351077', '19103_s53308470', '19984_s53958957']\n",
      "Top-5 Triplets: [('Azygos fissure', 'described by', 'Incidental azygos fissure with mild opacity in the inferior aspect of the fissure.'), ('Lung cancer', 'described by', 'Painless right chest wall mass lateral to the nipple. The skin is intact.'), ('Lung cancer', 'described by', 'Painless right chest wall mass lateral to the nipple. The skin is intact.'), ('Left superior intercostal vein - aortic nipple', 'described by', 'An \"aortic nipple\" is seen on the lateral aspect of the aortic arch/aortic knob. This represents a prominent\\xa0left superior intercostal vein.'), ('Inferior pulmonary ligament', 'described by', 'Lungs are well expanded and clear. Normal cardiomediastinal contour. Left hemidiaphragm retrocardiac irregularity represents the inferior pulmonary ligament')]\n",
      "\n",
      "Image ID: 163_11b6ac54-65f50afa-38228a29-8a18a28e-c51e103a\n",
      "Top-5 Text IDs: ['12686_s59709503', '10237_s50007410', '385_s50370108', '1146_s55277368', '7589_s50867802']\n",
      "Top-5 Triplets: [('Oxygen mask and tubing artifact (portable radiograph)', 'described by', 'Patchy air space opacities are noted in the bilateral mid to lower zones and left retrocardiac region which may be suggestive of worsening infective changes. A small left pleural effusion is noted with adjacent atelectasis. No gross pneumothorax is detected. No subdiaphragmatic free gas is seen.\\xa0Aortic calcifications are noted.\\xa0Degenerative changes are noted of the imaged spine on a background of diffuse osteopenia. An old right 9th rib fracture is also seen.'), ('Oxygen mask and tubing artifact (portable radiograph)', 'described by', 'Patchy air space opacities are noted in the bilateral mid to lower zones and left retrocardiac region which may be suggestive of worsening infective changes. A small left pleural effusion is noted with adjacent atelectasis. No gross pneumothorax is detected. No subdiaphragmatic free gas is seen.\\xa0Aortic calcifications are noted.\\xa0Degenerative changes are noted of the imaged spine on a background of diffuse osteopenia. An old right 9th rib fracture is also seen.'), ('Thoracic empyema', 'described by', 'There is moderate-to-large-sized pleural effusion with multiple septations/loculations associated with underlying consolidation.'), ('Thoracic empyema', 'described by', 'There is moderate-to-large-sized pleural effusion with multiple septations/loculations associated with underlying consolidation.'), ('Hiatus hernia', 'described by', 'Large retrocardiac cystic lesion with air/fluid level.')]\n",
      "\n"
     ]
    }
   ],
   "source": [
    "top_k_texts_and_triplets_selected = {}\n",
    "for numeric_id in selected_image_id:\n",
    "    matching_image_id = next((img_id for img_id in top_k_texts_and_triplets if img_id.startswith(f\"{numeric_id}_\")), None)\n",
    "\n",
    "    if matching_image_id:\n",
    "        top_k_texts_and_triplets_selected[matching_image_id] = top_k_texts_and_triplets[matching_image_id]\n",
    "    else:\n",
    "        print(f\"Warning: No matching image ID found for numeric ID {numeric_id}\")\n",
    "\n",
    "for image_id, data in top_k_texts_and_triplets_selected.items():\n",
    "    print(f\"Image ID: {image_id}\")\n",
    "    print(f\"Top-{len(data['text_ids'])} Text IDs: {data['text_ids']}\")\n",
    "    print(f\"Top-{len(data['triplets'])} Triplets: {data['triplets']}\\n\")"
   ]
  },
  {
   "cell_type": "code",
   "execution_count": 16,
   "metadata": {},
   "outputs": [],
   "source": [
    "pathology_words = [\"atelectasis\", \"opacities\", \"consolidation\", \"effusion\", \"pneumothorax\"]\n",
    "positional_words = [\"right\", \"left\", \"bilateral\", \"upper\", \"lower\", \"middle\"]\n",
    "severity_words = [\"mild\", \"moderate\", \"severe\"]\n",
    "size_words = [\"small\", \"large\"]\n",
    "\n",
    "def construct_detailed_prompt(image_id, context_texts, triplets):\n",
    "    context = \" \".join(context_texts)\n",
    "    triplets_text = \" \".join([f\"{triplet[0]} {triplet[1]} {triplet[2]}\" for triplet in triplets])\n",
    "\n",
    "    prompt = f\"\"\"\n",
    "    You are an assistant designed to write impression summaries for the radiology report.\n",
    "    Users will send a context text and you will respond with an impression summary using that context.\n",
    "    Instructions:\n",
    "    • Impression should be based on the information that the user will send in the context.\n",
    "    • The impression should not mention anything about follow-up actions.\n",
    "    • Impression should not contain any mentions of prior or previous studies.\n",
    "    • Use the following words for attributes where applicable:\n",
    "        - Pathology: {', '.join(pathology_words)}\n",
    "        - Positional: {', '.join(positional_words)}\n",
    "        - Severity: {', '.join(severity_words)}\n",
    "        - Size: {', '.join(size_words)}\n",
    "    CONTEXT: {context} {triplets_text}\n",
    "    IMPRESSION:\n",
    "    \"\"\"\n",
    "    return prompt"
   ]
  },
  {
   "cell_type": "code",
   "execution_count": 17,
   "metadata": {},
   "outputs": [],
   "source": [
    "all_reports_df=pd.read_csv(\"all_reports_df_images.csv\")"
   ]
  },
  {
   "cell_type": "code",
   "execution_count": 18,
   "metadata": {},
   "outputs": [
    {
     "name": "stdout",
     "output_type": "stream",
     "text": [
      "Processing Image ID: 450_4c8f8ea6-47e8a94c-d0102870-54af5bd2-c538db5f\n",
      "Top-5 Text IDs: ['31402_s51718048', '18549_s50696726', '23163_s53192951', '19294_s59515023', '184_s54234360']\n",
      "Processing Image ID: 173_eb2fabb7-4bbc8aab-d7371282-08e5bcb5-de2e430a\n",
      "Top-5 Text IDs: ['9335_s56406916', '22008_s50002557', '11261_s58493244', '22683_s54917419', '194_s53950795']\n",
      "Processing Image ID: 23_28fad2ac-d6001216-b4f72c5b-2d4d452e-17b6c9a5\n",
      "Top-5 Text IDs: ['19653_s56073986', '20585_s56207921', '11908_s59124602', '24181_s59459488', '12707_s53019840']\n",
      "Processing Image ID: 210_5053834b-b1bea04f-680aec42-45abe415-c2d097ba\n",
      "Top-5 Text IDs: ['6870_s56090555', '7286_s53507895', '1758_s55579609', '5815_s56477239', '7183_s55768555']\n",
      "Processing Image ID: 17_6ad819bb-bae74eb9-7b663e90-b8deabd7-57f8054a\n",
      "Top-5 Text IDs: ['21587_s55564934', '19292_s58015625', '10631_s54279389', '5377_s51448682', '31901_s58288699']\n",
      "Processing Image ID: 153_2c814e99-aa096010-bd722059-5a35bd69-a902e44e\n",
      "Top-5 Text IDs: ['19535_s57131561', '22113_s53245228', '11046_s55024693', '5528_s53731433', '20420_s50158561']\n",
      "Processing Image ID: 149_3373e04d-44222d3e-2a706a8e-f5a037de-a41a60f6\n",
      "Top-5 Text IDs: ['6066_s51722041', '31901_s58288699', '30574_s56214651', '12069_s54943962', '5677_s59956857']\n",
      "Processing Image ID: 215_0d985d10-36a2a165-ddc49c96-8b8466c9-df947f57\n",
      "Top-5 Text IDs: ['8170_s51364164', '853_s51882357', '7036_s56856430', '11096_s55929980', '12226_s57518319']\n",
      "Processing Image ID: 242_81791c39-946a2aaa-fd27f78d-48400e77-610e2ae2\n",
      "Top-5 Text IDs: ['31728_s53948810', '6176_s58733600', '8070_s51351077', '19103_s53308470', '19984_s53958957']\n",
      "Processing Image ID: 163_11b6ac54-65f50afa-38228a29-8a18a28e-c51e103a\n",
      "Top-5 Text IDs: ['12686_s59709503', '10237_s50007410', '385_s50370108', '1146_s55277368', '7589_s50867802']\n",
      "Prompt for Image ID: 450_4c8f8ea6-47e8a94c-d0102870-54af5bd2-c538db5f\n",
      "Image ID: 450_4c8f8ea6-47e8a94c-d0102870-54af5bd2-c538db5f\n",
      "Context Texts:\n",
      "- FINAL REPORT HISTORY: ___-year-old female with shortness of breath, cough and sputum production. New onset of dyspnea and chest pain. COMPARISON: None. FINDINGS: Frontal and lateral views of the chest. The bilateral perihilar opacities with indistinct pulmonary vascular markings seen throughout. Blunting of posterior costophrenic angles suggestive of effusions. Linear opacity in the region of the minor fissure suggests fluid within the fissure versus potential adjacent atelectasis or other cause of consolidation. The cardiac silhouette appears enlarged likely exaggerated by poor inspiratory effort. Dense mitral annular calcifications are noted as well as atherosclerotic calcifications of the aorta which is tortuous. Multiple compression deformities are noted throughout the thoracic and likely lumbar spine which are age indeterminate. IMPRESSION: Findings suggestive of congestive failure noting a superimposed infection is also a possibility. Multifocal compression deformities within the spine which are age indeterminate and clinical correlation suggested.\n",
      "- FINAL REPORT INDICATION: Cough and weakness. COMPARISON: Radiograph available from ___. FRONTAL AND LATERAL CHEST RADIOGRAPHS: The heart is moderately enlarged. The hilar and mediastinal contours are unchanged since ___. There has been increase in central vascular congestion with mild interstitial edema. There are right lower and middle lobe densities, increased since the ___ examination, concerning for consolidations. There is no pneumothorax. IMPRESSION: 1. Increase in density of a right lower and middle lobe opacities, concerning for pneumonia. 2. Cardiomegaly with central vascular congestion and mild interstitial edema.\n",
      "- FINAL REPORT CHEST, TWO VIEWS; ___ HISTORY: ___-year-old female with shortness of breath. Additional history from prior radiology report reveals breast cancer with pulmonary metastases. COMPARISON: Chest x-ray from ___ and PET-CT from ___. FINDINGS: Frontal and lateral views of the chest. Multifocal regions of consolidation are compatible with known metastatic lesions throughout the lungs. Overall the size and distribution has not significantly changed. Cardiomediastinal silhouette is stable. No acute osseous abnormality is identified. IMPRESSION: Multifocal, with bilateral pulmonary metastases. No definite superimposed acute cardiopulmonary process although given burden of disease evaluation for subtle change is limited.\n",
      "- WET READ: ___ ___ 8:13 PM Extensive chronic pulmonary fibrotic changes are again noted in a similar distribution. Underlying edema or infection is difficult to exclude. Moderate cardiomegaly is stable. ______________________________________________________________________________ FINAL REPORT EXAMINATION: Chest radiographs. INDICATION: ___F with cough // r/o infiltrate TECHNIQUE: AP and lateral. COMPARISON: Chest CT: ___. Chest radiograph: ___. FINDINGS: Extensive confluent interstitial fibrotic changes are again noted, in a similar distribution compared to prior exams, with peripheral basilar predominance. No new opacification is identified. The cardiomediastinal silhouette is unchanged compared to the prior radiograph, with stable moderate cardiomegaly and calcifications in the aortic arch. There is no pleural effusion or pneumothorax. Surgical clips are noted in the upper abdomen. IMPRESSION: 1. Extensive chronic pulmonary fibrotic changes are again noted in a similar distribution. 2. Underlying edema or infection is difficult to exclude. 3. Moderate cardiomegaly is stable.\n",
      "- FINAL REPORT EXAMINATION: CHEST (PA AND LAT) INDICATION: ___M POD___ s/p robotic CCY, RNY w/ fevers // evaluate for pneumonia IMPRESSION: As compared to ___ radiograph, cardiomediastinal contours are stable. Worsening bibasilar opacities favor atelectasis over infectious pneumonia. Probable very small pleural effusions bilaterally.\n",
      "Triplets:\n",
      "- Hiatus hernia described by Air-fluid level behind the heart on the lateral radiograph.\n",
      "- Sickle cell disease with acute chest syndrome described by Cardiac silhouette is mildly enlarged. There is bilateral lower zone atelectasis and hazy airspace opacities. Bones are diffusely sclerotic with multi-level H-shaped vertebral bodies. Splenic shadow is difficult to visualize.\n",
      "- Giant cell interstitial pneumonia described by heart is enlarged with a cardiothoracic ratio of 0.59 ill-defined \"shaggy\" left heart border suggests interstitial thickening in the lingula increased interstitial markings in a bibasal distribution no consolidation, pulmonary nodules, or pleural effusion degenerative change of the shoulders and thoracic spine\n",
      "- Usual interstitial pneumonia (UIP) described by Extensive interstitial lung markings throughout the lungs are consistent with chronic interstitial lung disease with equivocal lung volume loss. No pleural effusion.  No pneumothorax. Enlarged heart silhouette. \n",
      "- Bilateral shoulder injuries on chest x-ray described by Interstitial lung markings are prominent by sub-optimal inspiration. The left glenohumeral joint appears dislocated. The right proximal humerus is fractured. Dedicated shoulder views are recommended.\n",
      "\n",
      "\n",
      "Prompt for Image ID: 173_eb2fabb7-4bbc8aab-d7371282-08e5bcb5-de2e430a\n",
      "Image ID: 173_eb2fabb7-4bbc8aab-d7371282-08e5bcb5-de2e430a\n",
      "Context Texts:\n",
      "- FINAL REPORT EXAMINATION: CHEST (PORTABLE AP) INDICATION: ___ year old man with pleurx // effusion f/u TECHNIQUE: Portable chest COMPARISON: 517 FINDINGS: There is a moderate right pleural effusion that is increased in size. There is associated right lower lobe volume loss. An underlying infectious infiltrate can't be excluded. There is small left pleural effusion with associated left lower lobe volume loss. There is pulmonary vascular redistribution and moderate cardiomegaly. Sternal wires are again visualized. IMPRESSION: Increased fluid overload with increased right effusion.\n",
      "- FINAL REPORT EXAMINATION: CHEST (PORTABLE AP) INDICATION: ___ year old man with heme malignancy, COPD, CHF. acute resp decompensation // assess for increased Pulm edema, acute processes COMPARISON: ___. IMPRESSION: As compared to the previous radiograph, the known pre-existing diffuse nodular parenchymal opacities increase in extent and severity. In the right lung, these opacities that tends to confluate, thereby forming larger areas of changes with air bronchograms. The mediastinum could have slightly increased in diameter, suggesting either fluid overload or increasing adenopathy. No pleural effusions.\n",
      "- FINAL REPORT EXAMINATION: CHEST (PORTABLE AP) INDICATION: History: ___M with cancer, neutropenic, history of malignant effusions, decreased breath sounds bilaterally TECHNIQUE: Upright AP view of the chest COMPARISON: Chest radiograph ___ FINDINGS: Left-sided Port-A-Cath tip terminates in the proximal right atrium. Severe enlargement of the cardiac silhouette is unchanged. There is continued mild pulmonary edema. The mediastinal and hilar contours are similar. Small bilateral pleural effusions have decreased in size compared to the previous study. Patchy opacities in lung bases may reflect compressive atelectasis. No pneumothorax is seen. There are moderate multilevel degenerative changes in the thoracic spine. IMPRESSION: Severe cardiomegaly with mild pulmonary edema. Small bilateral pleural effusions, decreased in size compared to the previous exam. Patchy opacities in lung bases may reflect atelectasis.\n",
      "- FINAL REPORT EXAMINATION: CHEST (PORTABLE AP) INDICATION: ___ year old man with cirrhosis // eval pulm edema, effusions COMPARISON: CT abdomen from ___. FINDINGS: AP portable upright view of the chest. The heart is obscured by bibasilar opacities, likely reflecting a mixture of moderate pleural effusions with adjacent compressive atelectasis. Air bronchograms are demonstrated at the right base, concerning for underlying consolidation. There is no pneumothorax. The aorta is tortuous, demonstrating mild calcifications at the arch. IMPRESSION: Moderate bilateral pleural effusions with adjacent compressive atelectasis. Air bronchograms at the right base are concerning for underlying consolidation.\n",
      "- FINAL REPORT INDICATION: ___ year old man with SOB and tachycardia // please assess for worsening pna or effusion //___ year old man with SOB and tachycardia TECHNIQUE: AP view of the chest COMPARISON: ___ CT and ___ x-ray FINDINGS: Numerous nodular opacities compatible the patient's metastatic disease are again appreciated. In addition, there is worsening pulmonary edema as well as a worsening right lower lobe infiltrate which could represent pneumonia in the correct clinical setting. A right pleural effusion is also increased in size. IMPRESSION: Worsening combination of pleural effusion, pulmonary edema and possibly pneumonia particularly in the right lower lobe.\n",
      "Triplets:\n",
      "- Thoracic empyema described by There is moderate-to-large-sized pleural effusion with multiple septations/loculations associated with underlying consolidation.\n",
      "- Thoracic empyema described by There is moderate-to-large-sized pleural effusion with multiple septations/loculations associated with underlying consolidation.\n",
      "- Re-expansion pulmonary edema described by Right pleural effusion with associated compressive atelectasis. Small left pleural effusion. Left upper zone mass. Sternotomy wires and valve replacement. Enlarged cardiac silhouette.\n",
      "- Re-expansion pulmonary edema described by Right pleural effusion with associated compressive atelectasis. Small left pleural effusion. Left upper zone mass. Sternotomy wires and valve replacement. Enlarged cardiac silhouette.\n",
      "- Oxygen mask and tubing artifact (portable radiograph) described by Patchy air space opacities are noted in the bilateral mid to lower zones and left retrocardiac region which may be suggestive of worsening infective changes. A small left pleural effusion is noted with adjacent atelectasis. No gross pneumothorax is detected. No subdiaphragmatic free gas is seen. Aortic calcifications are noted. Degenerative changes are noted of the imaged spine on a background of diffuse osteopenia. An old right 9th rib fracture is also seen.\n",
      "\n",
      "\n",
      "Prompt for Image ID: 23_28fad2ac-d6001216-b4f72c5b-2d4d452e-17b6c9a5\n",
      "Image ID: 23_28fad2ac-d6001216-b4f72c5b-2d4d452e-17b6c9a5\n",
      "Context Texts:\n",
      "- FINAL REPORT HISTORY: Fever assess for pneumonia. COMPARISON: None. FINDINGS: 2 views were obtained of the chest. The lungs are well expanded and clear without pleural effusion or pneumothorax. The heart is normal in size with normal cardiomediastinal contours. IMPRESSION: No acute intrathoracic process.\n",
      "- FINAL REPORT HISTORY: Anterior chest pain, evaluate for pneumothorax or infiltrate COMPARISON: None available FINDINGS: Frontal and lateral radiographs of the chest demonstrate normal heart size. The cardiomediastinal silhouette and hilar contours are normal. The lungs are clear. No pleural effusion or pneumothorax. No displaced rib fracture identified. IMPRESSION: Normal chest radiograph.\n",
      "- FINAL REPORT INDICATION: Chest pain. COMPARISON: None available. FINDINGS: The lungs are clear with no evidence of consolidation, effusion, or pneumothorax. Cardiomediastinal silhouette is normal. No acute fractures are identified. IMPRESSION: No acute cardiopulmonary process.\n",
      "- FINAL REPORT HISTORY: Pre renal transplant evaluation. COMPARISON: None. FINDINGS: 2 views were obtained of the chest. The lungs are well expanded and clear. There is no pleural effusion or pneumothorax. The heart is normal in size with normal mediastinal and hilar contours. IMPRESSION: No acute intrathoracic process.\n",
      "- FINAL REPORT HISTORY: Left lower quadrant pain with history of IBS, evaluation for free air. COMPARISON: None available. FINDINGS: The lungs are clear with no evidence of a consolidation, effusion, or pneumothorax. Cardiac and mediastinal silhouettes are normal. No acute fractures are identified. No free air is noted under the hemidiaphragms. IMPRESSION: No acute cardiopulmonary process with no evidence of large amount of free air.\n",
      "Triplets:\n",
      "- Rhomboid fossa of the clavicle described by The lungs and pleural spaces are clear. Cardiomediastinal contours and hilar regions within normal limits. Incidental prominant left rhomboid fossa of the clavicle on the left - a normal variant.\n",
      "- Rhomboid fossa of the clavicle described by The lungs and pleural spaces are clear. Cardiomediastinal contours and hilar regions within normal limits. Incidental prominant left rhomboid fossa of the clavicle on the left - a normal variant.\n",
      "- Nipple stud described by Normal cardiomediastinal contour. Lungs are clear. Linear right nipple stud.\n",
      "- Pneumonia has symptom Chief complaints: throat pain, body ache, fever, and left-sided chest pain for 2 days. No history of breathing difficulty or cough.\n",
      "- Myasthenia gravis - non-thymomatous described by No anterior superior mediastinal mass is seen. The lungs and pleural angles are clear. The heart, mediastinum, pulmonary vessels, and diaphragm all appear normal.\n",
      "\n",
      "\n",
      "Prompt for Image ID: 210_5053834b-b1bea04f-680aec42-45abe415-c2d097ba\n",
      "Image ID: 210_5053834b-b1bea04f-680aec42-45abe415-c2d097ba\n",
      "Context Texts:\n",
      "- FINAL REPORT INDICATION: ___ year old woman s/p thoracentesis. STAT. // assess for PTX or complications of thoracentesis EXAMINATION: CHEST (PORTABLE AP) TECHNIQUE: Portable chest radiograph, frontal view COMPARISON: Chest radiograph ___, CT chest ___ FINDINGS: Right pleural effusion is decreased in size and L small. Small left pleural effusion is unchanged. Left apical cavitary lesion is unchanged. Large hiatal hernia is noted. Left perihilar consolidation corresponds to the region of bronchiectasis in the left lower lobe seen on prior CT. Right lung base opacity is likely atelectasis or re-expansion edema. Cardiomediastinal silhouette is normal size. IMPRESSION: No pneumothorax. Right pleural effusion is smaller. Right lung base opacity is likely atelectasis or re-expansion edema.\n",
      "- FINAL REPORT EXAMINATION: CHEST (PORTABLE AP) INDICATION: ___ year old woman with cirrhosis, MDS with hypothermia and increasing lethargy. // Any signs of pneumonia, acute changes? Any signs of pneumonia, acute changes? IMPRESSION: In comparison with the study of ___ there is even further accumulation of fluid in the left pleural space. Little change in the degree of vascular congestion. Otherwise little change.\n",
      "- FINAL REPORT EXAMINATION: CHEST (PORTABLE AP) INDICATION: ___F hx esophageal adenoCA s/p MIE ___ now with persistent GOO s/p laparoscopic pyloroplasty // assess for barium passage assess for barium passage IMPRESSION: As compared to ___, areas of atelectatic lung in both the right and the left lung base have decreased in extent and severity. Overall, the lung parenchyma is better expanded than on the previous examination. Contrast material is seen in the basal portions of the neoesophagus. No pleural effusions. Normal appearance of the cardiac silhouette.\n",
      "- FINAL REPORT EXAMINATION: CHEST (PORTABLE AP) INDICATION: ___ year old woman with SOB // atelectasis, pneumonia atelectasis, pneumonia IMPRESSION: Cardiomegaly is substantial. Mediastinum is widened and there is interval development of pulmonary edema. Underlying consolidation in the right lower lobe might potentially represent infection but pulmonary edema is the major pathology. Right pleural effusion is a possibility. No pneumothorax. NOTIFICATION: The findings were discussed with Dr. ___ , . by ___ ___, M.D. on the telephone on ___ at 4:49 PM, 10 minutes after discovery of the findings.\n",
      "- WET READ: ___ ___ ___ 9:01 PM improved R pleural effusion; small L pleural effusion w/ associated atelectasis; no ptx. ______________________________________________________________________________ FINAL REPORT HISTORY: Evaluate pleural fluid, pneumothorax. CHEST, SINGLE AP PORTABLE VIEW. Compared with ___ at 14:27 p.m., the left pleural effusion is slightly larger, with progressive left lower lobe collapse and/or consolidation. There is minimal right costophrenic angle blunting, improved. Suspect background hyperinflation consistent with COPD. There is a large right paratracheal mass, as well as a mass in the region of the AP window. There is biapical pleural scarring. Possible slight volume loss on the left side, with atelectasis and/or scarring. Tiny nodular density noted in right upper zone. IMPRESSION: 1. Left effusion slightly larger. Right effusion smaller. 2. No pneumothorax detected. 3. New obscuration of the left hemidiaphragm consistent with left lower lobe collapse and/or consolidation. 4. Prominent mediastinal lymphadenopathy and right upper zone nodule more completely demonstrated on a chest CT dated ___.\n",
      "Triplets:\n",
      "- Hydropneumothorax, pneumomediastinum, pneumoperitoneum and pneumoretroperitoneum described by Right-sided hydropneumothorax with pneumomediastinum, pneumoperitoneum and pneumoretroperitoneum (note the gas outlining the heart, aortic knuckle, psoas muscles, kidneys, along the right and left paracolic gutter and in the pelvis).\n",
      "- Basal pneumothorax and trapped lung post thoracentesis has symptom Chronic left pleural effusion. Post thoracocentesis.\n",
      "- Pulmonary lacerations described by Large hazy left mid zone opacity containing a cavity. Smaller medial left basal cavity and adjacent opacity. Small left pneumothorax.\n",
      "\n",
      "\n",
      "- Pneumothorax - large described by Large left sided pneumothorax, with underlying lung collapse. No mediastinal shift. Right lung clear.\n",
      "\n",
      "- Large thoracic aortic aneurysm described by Large dilated tortuous aortic arch and descending aorta with mass effect on the trachea (displacing it to the left and mildly narrowing it). Despite rotation of the patient to the right, there is some mediastinal shift to the left. Increased interstitial markings throughout the lungs. Left apical pleural capping.\n",
      "\n",
      "\n",
      "Prompt for Image ID: 17_6ad819bb-bae74eb9-7b663e90-b8deabd7-57f8054a\n",
      "Image ID: 17_6ad819bb-bae74eb9-7b663e90-b8deabd7-57f8054a\n",
      "Context Texts:\n",
      "- FINAL REPORT EXAMINATION: Chest: Frontal and lateral views INDICATION: History: ___F with 2h worsening SOB // SOB, CHF? TECHNIQUE: Chest: Frontal and Lateral COMPARISON: ___ FINDINGS: The patient is somewhat rotated. Increased interstitial markings bilaterally are worrisome for moderate interstitial pulmonary edema versus less likely atypical infection. There are small pleural effusions. The cardiac silhouette is mildly enlarged. The aorta is calcified and tortuous. Prominence of the hila may relate to fluid overload or pulmonary hypertension. There may be a hiatal hernia. IMPRESSION: Moderate interstitial edema. Small bilateral pleural effusions.\n",
      "- WET READ: ___ ___ ___ 2:03 PM Worsened diffuse increase in interstitial markings bilaterally in this patient with known history of diffuse fibrotic interstitial lung disease, concerning for progression of interstitial lung disease and/or possible superimposed vascular congestion. ______________________________________________________________________________ FINAL REPORT EXAMINATION: Chest: Frontal and lateral views INDICATION: History: ___F with sob // eval for ptx TECHNIQUE: Chest: Frontal and Lateral COMPARISON: ___ FINDINGS: There is diffuse increase in interstitial markings bilaterally, increased compared to the prior study, consistent with patient's known diffuse interstitial fibrotic lung disease raising concern for worsening of the interstitial lung disease with possible superimposed vascular congestion. No large pleural effusion is seen although trace pleural effusion would be difficult to exclude. There is no pneumothorax. The cardiac and mediastinal silhouettes are grossly stable. Aortic knob calcification is re- demonstrated. IMPRESSION: Worsened diffuse increase in interstitial markings bilaterally in this patient with known history of diffuse fibrotic interstitial lung disease, concerning for progression of interstitial lung disease and/or possible superimposed vascular congestion.\n",
      "- FINAL REPORT EXAMINATION: Chest: Frontal and lateral views INDICATION: History: ___F with dyspnea // r/o acute process TECHNIQUE: Chest: Frontal and Lateral COMPARISON: ___ FINDINGS: Diffuse increase in interstitial markings bilaterally is similar to prior consistent with mild interstitial edema with pulmonary vascular congestion. No large pleural effusion is seen. There is no pneumothorax. The cardiac and mediastinal silhouettes are stable. IMPRESSION: Persistent diffuse increase in interstitial markings bilaterally consistent with mild interstitial edema versus less likely chronic lung disease.\n",
      "- FINAL REPORT EXAMINATION: CHEST (PA AND LAT) INDICATION: ___M with dyspnea on exertion // Edema, consolidation COMPARISON: ___ FINDINGS: PA and lateral views of the chest provided. Again seen is elevation of the left hemidiaphragm. Heart size is difficult to assess though appears at least mildly enlarged. Bibasilar opacities likely reflect atelectasis, difficult to exclude tiny pleural effusions. There is probable mild interstitial pulmonary edema. IMPRESSION: As above.\n",
      "- FINAL REPORT EXAMINATION: Chest: Frontal and lateral views INDICATION: History: ___M with CHF, COPD on 4L home O2 with hypoxemia and ___. // eval for pulm edema, pneumonia TECHNIQUE: Chest: Frontal and Lateral COMPARISON: ___ and ___ FINDINGS: Re- demonstrated widespread pulmonary interstitial abnormality, slightly worsened compared to ___, similar compared to ___, again may be due to interstitial pulmonary edema superimposed on a background of moderate pulmonary emphysema. Superimposed infectious process is not excluded. There are small bilateral pleural effusions. No pneumothorax is seen. The cardiac and mediastinal silhouettes are stably enlarged. IMPRESSION: Re- demonstrated widespread pulmonary interstitial abnormality, slightly worse compared to ___, similar compared to ___, can't may be due to interstitial pulmonary edema superimposed on a background of pulmonary emphysema. Superimposed infectious process not excluded.\n",
      "Triplets:\n",
      "- Hiatus hernia described by Air-fluid level behind the heart on the lateral radiograph.\n",
      "- Miliary tuberculosis described by Bilateral lung fields interstitial opacities.\n",
      "- Miliary tuberculosis described by Bilateral lung fields interstitial opacities.\n",
      "- Large pericardial effusion described by Grossyl enlarged cardiac shadow demonstrating the water bottle sign, bilateral pleural effusion, multiple intrapulmonary masses. Enlarged pulmonary vasculature, diffuse, inhomogenously increased interstitial markings.\n",
      "- Large pericardial effusion described by Grossyl enlarged cardiac shadow demonstrating the water bottle sign, bilateral pleural effusion, multiple intrapulmonary masses. Enlarged pulmonary vasculature, diffuse, inhomogenously increased interstitial markings.\n",
      "\n",
      "\n",
      "Prompt for Image ID: 153_2c814e99-aa096010-bd722059-5a35bd69-a902e44e\n",
      "Image ID: 153_2c814e99-aa096010-bd722059-5a35bd69-a902e44e\n",
      "Context Texts:\n",
      "- FINAL REPORT EXAMINATION: Chest radiograph. INDICATION: History: ___F with COPD aND sob, COUGH, pls eval cxr for pna; also vag bleeding s/p hysterectomy pls eval u/s for clots/hematomas // History: ___F with COPD aND sob, COUGH, pls eval cxr for pna; also vag bleeding s/p hysterectomy pls eval u/s for clots/hematomas TECHNIQUE: Chest AP and lateral COMPARISON: Chest radiographs dated ___, CT chest dated ___. FINDINGS: The patient is status post median sternotomy and CABG. Stable, moderate cardiomegaly is noted. Emphysematous changes are noted. Mildly prominent bilateral hila is suggestive of mild pulmonary congestion. There is no pleural effusion, lobar consolidation, or overt pulmonary edema identified. The descending thoracic aorta is calcified and mildly tortuous. IMPRESSION: Stable, moderate cardiomegaly. Mild emphysema without lobar consolidation.\n",
      "- FINAL REPORT EXAMINATION: CHEST (AP AND LAT) INDICATION: History: ___M with dyspnea TECHNIQUE: Upright AP and lateral views of the chest COMPARISON: Chest radiograph ___ FINDINGS: Cardiac silhouette size appears mild to moderately enlarged as seen previously. The aorta is unfolded with atherosclerotic calcifications noted in the descending thoracic aorta. Lung volumes are lower compared to the previous study. Enlarged on the hila is again noted bilaterally. Mild interstitial pulmonary edema is worse in the interval, with increased patchy bibasilar opacities likely reflective of atelectasis. No pleural effusion or pneumothorax is clearly identified. No acute osseous abnormality seen. A rounded radiopaque dense structure measuring 2 cm projects over the epigastric region. IMPRESSION: Mild interstitial pulmonary edema, worse in the interval, with patchy bibasilar opacities, likely atelectasis.\n",
      "- FINAL REPORT EXAMINATION: CHEST (AP AND LAT) INDICATION: ___M with cough and shortness of breath x 2 weeks // eval for pna COMPARISON: ___ FINDINGS: AP upright and lateral views of the chest provided. Hilar congestion with mild interstitial pulmonary edema noted. There also bibasilar opacities right greater than left which could reflect aspiration or pneumonia. No large effusion or pneumothorax. Overall cardiomediastinal silhouette is unchanged. Bony structures are intact. IMPRESSION: Mild pulmonary edema with bibasilar opacities which could reflect atelectasis though difficult to exclude aspiration/pneumonia.\n",
      "- FINAL REPORT EXAMINATION: CHEST (AP AND LATERAL) INDICATION: History: ___M with chest pain, confusion TECHNIQUE: Upright AP and lateral views of the chest COMPARISON: ___ FINDINGS: The patient is status post median sternotomy and CABG. Lung volumes are low which accentuates the size of the cardiac silhouette which remains mildly enlarged. Mediastinal and hilar contours are unchanged. There is crowding of the bronchovascular structures due to low lung volumes without overt pulmonary edema. Innumerable basilar predominant nodular opacities are less pronounced on the current study but compatible with known metastases. Patchy opacities are re- demonstrated in the lung bases likely reflective of atelectasis. No new focal consolidation, pleural effusion or pneumothorax is demonstrated. Multilevel degenerative changes are again noted in the thoracic spine. IMPRESSION: Innumerable pulmonary metastases are less pronounced on the current study. Bibasilar atelectasis.\n",
      "- WET READ: ___ ___ ___ 12:56 PM Moderate bibasilar atelectasis with low lung volumes. ______________________________________________________________________________ FINAL REPORT EXAMINATION: Chest radiograph INDICATION: History: ___M with fall // ? Abnormality, traumatic injuries TECHNIQUE: Chest PA and lateral COMPARISON: Prior chest radiographs from ___, ___, ___ FINDINGS: Moderate bibasilar atelectasis is noted with low lung volumes. Redemonstrated anterior upper mediastinal soft tissue has previously been identified as an enlarged thyroid goiter. Heart size is emphasized due to low lung volumes. No pneumothorax or pulmonary edema. IMPRESSION: Moderate bibasilar atelectasis with low lung volumes.\n",
      "Triplets:\n",
      "- Bilateral shoulder injuries on chest x-ray described by Interstitial lung markings are prominent by sub-optimal inspiration. The left glenohumeral joint appears dislocated. The right proximal humerus is fractured. Dedicated shoulder views are recommended.\n",
      "- Bilateral shoulder injuries on chest x-ray described by Interstitial lung markings are prominent by sub-optimal inspiration. The left glenohumeral joint appears dislocated. The right proximal humerus is fractured. Dedicated shoulder views are recommended.\n",
      "- Sickle cell disease with acute chest syndrome described by Cardiac silhouette is mildly enlarged. There is bilateral lower zone atelectasis and hazy airspace opacities. Bones are diffusely sclerotic with multi-level H-shaped vertebral bodies. Splenic shadow is difficult to visualize.\n",
      "- Aortic intramural hematoma has symptom Acute central chest and bilateral jaw pain. Progressive with generalized weakness. History of hypertension and ischemic heart disease.\n",
      "- Usual interstitial pneumonia (UIP) described by Extensive interstitial lung markings throughout the lungs are consistent with chronic interstitial lung disease with equivocal lung volume loss. No pleural effusion.  No pneumothorax. Enlarged heart silhouette. \n",
      "\n",
      "\n",
      "Prompt for Image ID: 149_3373e04d-44222d3e-2a706a8e-f5a037de-a41a60f6\n",
      "Image ID: 149_3373e04d-44222d3e-2a706a8e-f5a037de-a41a60f6\n",
      "Context Texts:\n",
      "- FINAL REPORT INDICATION: ___M with hypoxia // pulmonary edema? TECHNIQUE: Frontal and lateral views the chest. COMPARISON: ___. FINDINGS: When compared to prior, there has been interval progression the degree of pulmonary vascular congestion. There is blunting of the posterior costophrenic angles suggesting small effusions. Enlarged cardiac silhouette is similar to prior IMPRESSION: Mild pulmonary edema with small bilateral effusions.\n",
      "- FINAL REPORT EXAMINATION: Chest: Frontal and lateral views INDICATION: History: ___M with CHF, COPD on 4L home O2 with hypoxemia and ___. // eval for pulm edema, pneumonia TECHNIQUE: Chest: Frontal and Lateral COMPARISON: ___ and ___ FINDINGS: Re- demonstrated widespread pulmonary interstitial abnormality, slightly worsened compared to ___, similar compared to ___, again may be due to interstitial pulmonary edema superimposed on a background of moderate pulmonary emphysema. Superimposed infectious process is not excluded. There are small bilateral pleural effusions. No pneumothorax is seen. The cardiac and mediastinal silhouettes are stably enlarged. IMPRESSION: Re- demonstrated widespread pulmonary interstitial abnormality, slightly worse compared to ___, similar compared to ___, can't may be due to interstitial pulmonary edema superimposed on a background of pulmonary emphysema. Superimposed infectious process not excluded.\n",
      "- FINAL REPORT EXAMINATION: CHEST (PA AND LAT) INDICATION: History: ___M with CHF, COPD, CAD presents with progressive dyspnea, fluid retention, cough TECHNIQUE: Upright AP and lateral views of the chest COMPARISON: Chest radiograph ___ FINDINGS: CC is status post median sternotomy and CABG. Severe cardiomegaly is unchanged. There is mild to moderate pulmonary edema, as seen previously. The mediastinal and hilar contours are similar with atherosclerotic calcifications noted diffusely in the descending thoracic aorta. Small bilateral pleural effusions have decreased in size compared to the prior study. Patchy atelectasis is noted in the lung bases. No pneumothorax is identified. There are moderate degenerative changes in the thoracic spine. IMPRESSION: Mild to moderate pulmonary edema, as seen previously, with severe cardiomegaly. Trace bilateral pleural effusions, decreased in size in the interval.\n",
      "- FINAL REPORT EXAMINATION: Chest radiograph. INDICATION: History: ___F with hypoxia // eval for PNA TECHNIQUE: AP and lateral views of the chest COMPARISON: Chest radiographs dated ___. FINDINGS: Interval removal of a right internal jugular central venous line. Lung volumes have diminished with crowding of the pulmonary vasculature and interval improvement in pulmonary vascular congestion. Bilateral layering effusions with associated airspace opacities likely reflecting partial lower lobe atelectasis, although pneumonia cannot be excluded. No pneumothorax. Overall cardiac and mediastinal contours are likely unchanged given differences in positioning. IMPRESSION: Layering bilateral effusions with associated airspace disease most consistent with partial lower lobe atelectasis, although pneumonia cannot be entirely excluded.\n",
      "- FINAL REPORT INDICATION: ___M with sob // eval for pna TECHNIQUE: AP and lateral views of the chest. COMPARISON: ___. FINDINGS: There are a small-moderate bilateral pleural effusions and moderate pulmonary edema. Enlargement of cardiac silhouette is again seen. Tortuosity of the thoracic aorta is again noted. No acute osseous abnormalities. IMPRESSION: Small-moderate bilateral pleural effusions and moderate pulmonary edema.\n",
      "Triplets:\n",
      "- Cardiomegaly with plethora and edema described by There is cardiomegaly with pulmonary plethora and airspace shadowing suggesting secondary pulmonary edema.\n",
      "- Pulmonary hypertension and edema in Eisenmenger syndrome described by Enlarged pulmonary arteries and plethora. Cardiomegaly. Prominent left-sided aortic arch. There are also features of pulmonary edema.\n",
      "- Pulmonary edema described by Air space opacity most confluent in the perihilar regions and interstitial prominence. There is venous congestion and an enlarged cardiac outline. Bilateral small to moderate sized pleural effusions. Appearances are those of mixed alveolar and interstitial pulmonary edema. \n",
      "- Hiatus hernia described by Large gas-filled hiatus hernia.\n",
      "- Hiatus hernia described by Large gas-filled hiatus hernia.\n",
      "\n",
      "\n",
      "Prompt for Image ID: 215_0d985d10-36a2a165-ddc49c96-8b8466c9-df947f57\n",
      "Image ID: 215_0d985d10-36a2a165-ddc49c96-8b8466c9-df947f57\n",
      "Context Texts:\n",
      "- WET READ: ___ ___ 6:22 AM No evidence of acute cardiopulmonary process. ______________________________________________________________________________ FINAL REPORT INDICATION: ___F with back pain, fever evaluate for acute cardiopulmonary disease. TECHNIQUE: Chest PA and lateral COMPARISON: Multiple prior chest radiographs dating back to ___ peer FINDINGS: There is no focal consolidation, pleural effusion, pulmonary edema, or pneumothorax. The cardiomediastinal contour is within normal limits with unchanged median sternotomy wires and mediastinal surgical clips noted. IMPRESSION: No evidence of acute cardiopulmonary process.\n",
      "- FINAL REPORT INDICATION: ___F with chest pain // ?cause of cp TECHNIQUE: PA and lateral views the chest. COMPARISON: ___. FINDINGS: The lungs are clear. The cardiomediastinal silhouette is stable. No acute osseous abnormalities. Coronary artery stent is noted. Surgical clips in the right upper quadrant suggest prior cholecystectomy. IMPRESSION: No acute cardiopulmonary process.\n",
      "- FINAL REPORT INDICATION: ___F with chest pain // Please eval for any PNA, infectious process TECHNIQUE: PA and lateral views of the chest. COMPARISON: ___. FINDINGS: The lungs are clear without consolidation, effusion, or edema. The cardiac silhouette is enlarged similar to prior. Median sternotomy wires and mediastinal clips are noted. No acute osseous abnormalities identified. IMPRESSION: No acute cardiopulmonary process.\n",
      "- WET READ: ___ ___ ___ 6:07 PM Changes in the perihilar regions of the lungs bilaterally suggesting underlying scarring. Given regions of opacity particularly in the right lower lung, superimposed infection or other acute process cannot be excluded without prior imaging to evaluate for stability. Followup will be necessary unless prior becomes available to document stability particularly for evaluation of the increased opacity in the retrosternal clear space. *** ED URGENT ATTENTION *** ______________________________________________________________________________ FINAL REPORT INDICATION: ___F with cough, SOB, wheezing, ___ sarcoid // presence of infiltrate, pleural effusions TECHNIQUE: PA and lateral views of the chest. COMPARISON: None. FINDINGS: Increased opacity seen in the right mid lung and there are changes suggesting of underlying fibrotic changes in the perihilar regions bilaterally, right greater than left. There is also increased density in the retrosternal clear space on lateral view with associated linear, spiculated opacities. The lungs are otherwise clear. The cardiomediastinal silhouette is within normal limits. No acute osseous abnormalities identified. IMPRESSION: Changes in the perihilar regions of the lungs bilaterally suggesting underlying scarring. Given regions of opacity particularly in the right lower lung, superimposed infection or other acute process cannot be excluded without prior imaging to evaluate for stability. Followup will be necessary unless prior becomes available to document stability particularly for evaluation of the increased opacity in the retrosternal clear space.\n",
      "- FINAL REPORT EXAMINATION: CHEST (PA AND LAT) INDICATION: ___F with c/o cough with DOE COMPARISON: None FINDINGS: PA and lateral views of the chest provided. Cardiomegaly is noted with hilar congestion and mild interstitial edema. No large effusion or pneumothorax. No signs of pneumonia. Bony structures are intact. Mediastinal contour appears grossly unremarkable. Bony structures are intact. No free air below the right hemidiaphragm. IMPRESSION: Cardiomegaly with hilar congestion and mild pulmonary edema.\n",
      "Triplets:\n",
      "- Azygos fissure described by Incidental azygos fissure with mild opacity in the inferior aspect of the fissure.\n",
      "- Lung cancer described by Painless right chest wall mass lateral to the nipple. The skin is intact.\n",
      "- Lung cancer described by Painless right chest wall mass lateral to the nipple. The skin is intact.\n",
      "- Posterior mediastinal mass - probable esophageal carcinoma described by Heart size is within normal limits. Posterior mediastinal density on lateral projection. CT chest recommended.\n",
      "- Posterior mediastinal mass - probable esophageal carcinoma described by Heart size is within normal limits. Posterior mediastinal density on lateral projection. CT chest recommended.\n",
      "\n",
      "\n",
      "Prompt for Image ID: 242_81791c39-946a2aaa-fd27f78d-48400e77-610e2ae2\n",
      "Image ID: 242_81791c39-946a2aaa-fd27f78d-48400e77-610e2ae2\n",
      "Context Texts:\n",
      "- FINAL REPORT EXAMINATION: CHEST (PA AND LAT) INDICATION: ___F with sob // eval pneumonia COMPARISON: None FINDINGS: PA and lateral views of the chest provided. Extensive airspace consolidation is seen within the right lung involving right upper, middle and lower lobes compatible with multifocal pneumonia. The left lung appears clear. No large pleural effusion or pneumothorax. The heart size is mildly enlarged. The mediastinal contour is unremarkable. Bony structures appear intact. IMPRESSION: Multifocal pneumonia within the right lung. Mild cardiomegaly.\n",
      "- FINAL REPORT EXAMINATION: CHEST (PA AND LAT) INDICATION: History: ___F with cough/fever // PNA? TECHNIQUE: Chest PA and lateral COMPARISON: ___ FINDINGS: Since the prior study of ___, there is increased pulmonary vascular congestion and diffuse interstitial abnormality. Peribronchial cuffing is moderate. No pleural effusion or focal consolidation. Heart size is mildly enlarged, as before. IMPRESSION: Diffuse interstitial abnormality and peribronchial cuffing compatible with small airway inflammation.\n",
      "- FINAL REPORT EXAMINATION: CHEST (PA AND LAT) INDICATION: ___M with chest pain pls eval pna or edema COMPARISON: ___ FINDINGS: PA and lateral views of the chest provided. Coronary stent projects over the heart. A stent projects over the right upper arm. There is again noted to be coarsened prominent interstitial markings throughout both lungs which could reflect underlying fibrosis versus interstitial pulmonary edema. No large effusion or pneumothorax. No convincing evidence for pneumonia. Cardiomediastinal silhouette is stable. Bony structures are intact. A chronic left clavicular midshaft deformity is noted. IMPRESSION: Prominent bilateral interstitial opacities could reflect interstitial lung disease versus interstitial edema. Please correlate clinically.\n",
      "- FINAL REPORT EXAMINATION: CHEST (PA AND LAT) INDICATION: ___M with cough, sob, hx CHF COMPARISON: ___ FINDINGS: PA and lateral views of the chest provided. Cardiomegaly is again noted with mild pulmonary interstitial edema re- demonstrated. No significant progression. No large effusion or pneumothorax. No convincing evidence for pneumonia. Mediastinal contour stable. Bony structures are intact. IMPRESSION: Mild interstitial edema, cardiomegaly.\n",
      "- FINAL REPORT HISTORY: History of dyspnea on exertion and chest pain. Evaluate for pneumonia or pneumothorax. TECHNIQUE: PA and lateral chest radiographs were provided. COMPARISON: None. FINDINGS: There is no focal consolidation or pneumothorax. Interstitial markings are prominent, likely due to mild pulmonary edema. There is a small amount of fluid within the fissures and trace bilateral pleural effusions. The heart is mildly enlarged. The imaged upper abdomen is unremarkable. IMPRESSION: 1. Mild pulmonary edema and cardiomegaly. 2. Small bilateral pleural effusions.\n",
      "Triplets:\n",
      "- Azygos fissure described by Incidental azygos fissure with mild opacity in the inferior aspect of the fissure.\n",
      "- Lung cancer described by Painless right chest wall mass lateral to the nipple. The skin is intact.\n",
      "- Lung cancer described by Painless right chest wall mass lateral to the nipple. The skin is intact.\n",
      "- Left superior intercostal vein - aortic nipple described by An \"aortic nipple\" is seen on the lateral aspect of the aortic arch/aortic knob. This represents a prominent left superior intercostal vein.\n",
      "- Inferior pulmonary ligament described by Lungs are well expanded and clear. Normal cardiomediastinal contour. Left hemidiaphragm retrocardiac irregularity represents the inferior pulmonary ligament\n",
      "\n",
      "\n",
      "Prompt for Image ID: 163_11b6ac54-65f50afa-38228a29-8a18a28e-c51e103a\n",
      "Image ID: 163_11b6ac54-65f50afa-38228a29-8a18a28e-c51e103a\n",
      "Context Texts:\n",
      "- FINAL REPORT EXAMINATION: CHEST (PORTABLE AP) INDICATION: ___ year old man with R pleural effusion now s/p thoracentesis // now s/p thoracentesis. check for pneumothorax degree of change of R pleural effusion now s/p thoracentesis. check for pneumothorax degree of change of R pleural effusion IMPRESSION: In comparison with study of ___, there has been a thoracentesis on the right with removal of a large amount of pleural fluid, no definite pneumothorax. Increasing pleural effusion on the left. Continued enlargement the cardiac silhouette with mild to moderate pulmonary vascular congestion.\n",
      "- FINAL REPORT EXAMINATION: CHEST (PORTABLE AP) INDICATION: ___ year old man with COPD // int change int change IMPRESSION: In comparison with the study of ___, there is increased opacification in the lower ___ of the right hemithorax in this patient with severe chronic pulmonary disease and biapical scarring. These findings could reflect volume loss in the right middle and lower lobes with pleural effusion. However, much of this appearance could be a manifestation of developing pneumonia. Little change in the opacification is at the left base.\n",
      "- FINAL REPORT INDICATION: ___ year old man with hypoxemia, ? etiology // ___ year old man with hypoxemia, ? etiology COMPARISON: Radiographs from ___. IMPRESSION: There has been worsening of the areas of consolidation and interstitial prominence throughout both lung fields. There are more confluent areas of consolidation in the perihilar regions and in the left base. No pneumothoraces are identified. Findings may relate to multifocal pneumonia as previously suspected; however superimposed pulmonary edema could also be present.\n",
      "- FINAL REPORT EXAMINATION: CHEST (PORTABLE AP) INDICATION: ___ year old man s/p ct pull // eval for ptx TECHNIQUE: Single frontal view of the chest COMPARISON: ___ IMPRESSION: Large left pleural effusion has increased. Right pleural effusion and right lower lobe and right middle lobe consolidations have increased. There are low lung volumes. Cardiomegaly cannot be assessed. There is no evident pneumothorax.\n",
      "- FINAL REPORT EXAMINATION: CHEST (PORTABLE AP) INDICATION: ___ year old man with PAH, refract hypoxemia // Eval for interval change Eval for interval change IMPRESSION: Heart size and mediastinum are stable. Right mid lung consolidation appears to be an more conspicuous concerning for infectious process. Interstitial changes are extensive, similar to previous examination. Small amount of bilateral pleural effusion is most likely present. There is no pneumothorax.\n",
      "Triplets:\n",
      "- Oxygen mask and tubing artifact (portable radiograph) described by Patchy air space opacities are noted in the bilateral mid to lower zones and left retrocardiac region which may be suggestive of worsening infective changes. A small left pleural effusion is noted with adjacent atelectasis. No gross pneumothorax is detected. No subdiaphragmatic free gas is seen. Aortic calcifications are noted. Degenerative changes are noted of the imaged spine on a background of diffuse osteopenia. An old right 9th rib fracture is also seen.\n",
      "- Oxygen mask and tubing artifact (portable radiograph) described by Patchy air space opacities are noted in the bilateral mid to lower zones and left retrocardiac region which may be suggestive of worsening infective changes. A small left pleural effusion is noted with adjacent atelectasis. No gross pneumothorax is detected. No subdiaphragmatic free gas is seen. Aortic calcifications are noted. Degenerative changes are noted of the imaged spine on a background of diffuse osteopenia. An old right 9th rib fracture is also seen.\n",
      "- Thoracic empyema described by There is moderate-to-large-sized pleural effusion with multiple septations/loculations associated with underlying consolidation.\n",
      "- Thoracic empyema described by There is moderate-to-large-sized pleural effusion with multiple septations/loculations associated with underlying consolidation.\n",
      "- Hiatus hernia described by Large retrocardiac cystic lesion with air/fluid level.\n",
      "\n",
      "\n"
     ]
    }
   ],
   "source": [
    "def construct_detailed_prompt(image_id, context_texts, triplets):\n",
    "    prompt = f\"Image ID: {image_id}\\n\"\n",
    "    prompt += \"Context Texts:\\n\"\n",
    "    for context in context_texts:\n",
    "        prompt += f\"- {context}\\n\"\n",
    "    prompt += \"Triplets:\\n\"\n",
    "    for triplet in triplets:\n",
    "        prompt += f\"- {triplet[0]} {triplet[1]} {triplet[2]}\\n\"\n",
    "    return prompt\n",
    "\n",
    "detailed_prompts = {}\n",
    "\n",
    "# Process each image and generate detailed prompts\n",
    "\n",
    "for image_id, data in top_k_texts_and_triplets_selected.items():\n",
    "    if any(image_id.startswith(selected_id) for selected_id in selected_image_id):\n",
    "        context_text_ids = data['text_ids']\n",
    "        context_texts = []\n",
    "\n",
    "        print(f\"Processing Image ID: {image_id}\")\n",
    "        print(f\"Top-5 Text IDs: {context_text_ids}\")\n",
    "\n",
    "        for text_id in context_text_ids:\n",
    "            report_row = all_reports_df[all_reports_df['report_id'] == text_id]\n",
    "            if not report_row.empty:\n",
    "                context_texts.append(report_row['cleaned_report'].values[0])\n",
    "            else:\n",
    "                print(f\"Warning: Report ID {text_id} not found in all_reports_df.\")\n",
    "        # Skip if no context texts found\n",
    "        if not context_texts:\n",
    "            print(f\"Warning: No context texts found for image ID {image_id}.\")\n",
    "            continue\n",
    "            \n",
    "        triplets = data['triplets']\n",
    "\n",
    "        detailed_prompts[image_id] = construct_detailed_prompt(image_id, context_texts, triplets)\n",
    "\n",
    "for image_id, prompt in detailed_prompts.items():\n",
    "    print(f\"Prompt for Image ID: {image_id}\\n{prompt}\\n\")\n"
   ]
  },
  {
   "cell_type": "code",
   "execution_count": 19,
   "metadata": {},
   "outputs": [
    {
     "name": "stdout",
     "output_type": "stream",
     "text": [
      "Processing Image ID: 450_4c8f8ea6-47e8a94c-d0102870-54af5bd2-c538db5f\n",
      "Top-5 Text IDs: ['31402_s51718048', '18549_s50696726', '23163_s53192951', '19294_s59515023', '184_s54234360']\n",
      "Processing Image ID: 173_eb2fabb7-4bbc8aab-d7371282-08e5bcb5-de2e430a\n",
      "Top-5 Text IDs: ['9335_s56406916', '22008_s50002557', '11261_s58493244', '22683_s54917419', '194_s53950795']\n",
      "Processing Image ID: 23_28fad2ac-d6001216-b4f72c5b-2d4d452e-17b6c9a5\n",
      "Top-5 Text IDs: ['19653_s56073986', '20585_s56207921', '11908_s59124602', '24181_s59459488', '12707_s53019840']\n",
      "Processing Image ID: 210_5053834b-b1bea04f-680aec42-45abe415-c2d097ba\n",
      "Top-5 Text IDs: ['6870_s56090555', '7286_s53507895', '1758_s55579609', '5815_s56477239', '7183_s55768555']\n",
      "Processing Image ID: 17_6ad819bb-bae74eb9-7b663e90-b8deabd7-57f8054a\n",
      "Top-5 Text IDs: ['21587_s55564934', '19292_s58015625', '10631_s54279389', '5377_s51448682', '31901_s58288699']\n",
      "Processing Image ID: 153_2c814e99-aa096010-bd722059-5a35bd69-a902e44e\n",
      "Top-5 Text IDs: ['19535_s57131561', '22113_s53245228', '11046_s55024693', '5528_s53731433', '20420_s50158561']\n",
      "Processing Image ID: 149_3373e04d-44222d3e-2a706a8e-f5a037de-a41a60f6\n",
      "Top-5 Text IDs: ['6066_s51722041', '31901_s58288699', '30574_s56214651', '12069_s54943962', '5677_s59956857']\n",
      "Processing Image ID: 215_0d985d10-36a2a165-ddc49c96-8b8466c9-df947f57\n",
      "Top-5 Text IDs: ['8170_s51364164', '853_s51882357', '7036_s56856430', '11096_s55929980', '12226_s57518319']\n",
      "Processing Image ID: 242_81791c39-946a2aaa-fd27f78d-48400e77-610e2ae2\n",
      "Top-5 Text IDs: ['31728_s53948810', '6176_s58733600', '8070_s51351077', '19103_s53308470', '19984_s53958957']\n",
      "Processing Image ID: 163_11b6ac54-65f50afa-38228a29-8a18a28e-c51e103a\n",
      "Top-5 Text IDs: ['12686_s59709503', '10237_s50007410', '385_s50370108', '1146_s55277368', '7589_s50867802']\n",
      "Prompt for Image ID: 450_4c8f8ea6-47e8a94c-d0102870-54af5bd2-c538db5f\n",
      "Image ID: 450_4c8f8ea6-47e8a94c-d0102870-54af5bd2-c538db5f\n",
      "Context Texts:\n",
      "- FINAL REPORT HISTORY: ___-year-old female with shortness of breath, cough and sputum production. New onset of dyspnea and chest pain. COMPARISON: None. FINDINGS: Frontal and lateral views of the chest. The bilateral perihilar opacities with indistinct pulmonary vascular markings seen throughout. Blunting of posterior costophrenic angles suggestive of effusions. Linear opacity in the region of the minor fissure suggests fluid within the fissure versus potential adjacent atelectasis or other cause of consolidation. The cardiac silhouette appears enlarged likely exaggerated by poor inspiratory effort. Dense mitral annular calcifications are noted as well as atherosclerotic calcifications of the aorta which is tortuous. Multiple compression deformities are noted throughout the thoracic and likely lumbar spine which are age indeterminate. IMPRESSION: Findings suggestive of congestive failure noting a superimposed infection is also a possibility. Multifocal compression deformities within the spine which are age indeterminate and clinical correlation suggested.\n",
      "- FINAL REPORT INDICATION: Cough and weakness. COMPARISON: Radiograph available from ___. FRONTAL AND LATERAL CHEST RADIOGRAPHS: The heart is moderately enlarged. The hilar and mediastinal contours are unchanged since ___. There has been increase in central vascular congestion with mild interstitial edema. There are right lower and middle lobe densities, increased since the ___ examination, concerning for consolidations. There is no pneumothorax. IMPRESSION: 1. Increase in density of a right lower and middle lobe opacities, concerning for pneumonia. 2. Cardiomegaly with central vascular congestion and mild interstitial edema.\n",
      "- FINAL REPORT CHEST, TWO VIEWS; ___ HISTORY: ___-year-old female with shortness of breath. Additional history from prior radiology report reveals breast cancer with pulmonary metastases. COMPARISON: Chest x-ray from ___ and PET-CT from ___. FINDINGS: Frontal and lateral views of the chest. Multifocal regions of consolidation are compatible with known metastatic lesions throughout the lungs. Overall the size and distribution has not significantly changed. Cardiomediastinal silhouette is stable. No acute osseous abnormality is identified. IMPRESSION: Multifocal, with bilateral pulmonary metastases. No definite superimposed acute cardiopulmonary process although given burden of disease evaluation for subtle change is limited.\n",
      "- WET READ: ___ ___ 8:13 PM Extensive chronic pulmonary fibrotic changes are again noted in a similar distribution. Underlying edema or infection is difficult to exclude. Moderate cardiomegaly is stable. ______________________________________________________________________________ FINAL REPORT EXAMINATION: Chest radiographs. INDICATION: ___F with cough // r/o infiltrate TECHNIQUE: AP and lateral. COMPARISON: Chest CT: ___. Chest radiograph: ___. FINDINGS: Extensive confluent interstitial fibrotic changes are again noted, in a similar distribution compared to prior exams, with peripheral basilar predominance. No new opacification is identified. The cardiomediastinal silhouette is unchanged compared to the prior radiograph, with stable moderate cardiomegaly and calcifications in the aortic arch. There is no pleural effusion or pneumothorax. Surgical clips are noted in the upper abdomen. IMPRESSION: 1. Extensive chronic pulmonary fibrotic changes are again noted in a similar distribution. 2. Underlying edema or infection is difficult to exclude. 3. Moderate cardiomegaly is stable.\n",
      "- FINAL REPORT EXAMINATION: CHEST (PA AND LAT) INDICATION: ___M POD___ s/p robotic CCY, RNY w/ fevers // evaluate for pneumonia IMPRESSION: As compared to ___ radiograph, cardiomediastinal contours are stable. Worsening bibasilar opacities favor atelectasis over infectious pneumonia. Probable very small pleural effusions bilaterally.\n",
      "Triplets:\n",
      "- Hiatus hernia described by Air-fluid level behind the heart on the lateral radiograph.\n",
      "- Sickle cell disease with acute chest syndrome described by Cardiac silhouette is mildly enlarged. There is bilateral lower zone atelectasis and hazy airspace opacities. Bones are diffusely sclerotic with multi-level H-shaped vertebral bodies. Splenic shadow is difficult to visualize.\n",
      "- Giant cell interstitial pneumonia described by heart is enlarged with a cardiothoracic ratio of 0.59 ill-defined \"shaggy\" left heart border suggests interstitial thickening in the lingula increased interstitial markings in a bibasal distribution no consolidation, pulmonary nodules, or pleural effusion degenerative change of the shoulders and thoracic spine\n",
      "- Usual interstitial pneumonia (UIP) described by Extensive interstitial lung markings throughout the lungs are consistent with chronic interstitial lung disease with equivocal lung volume loss. No pleural effusion.  No pneumothorax. Enlarged heart silhouette. \n",
      "- Bilateral shoulder injuries on chest x-ray described by Interstitial lung markings are prominent by sub-optimal inspiration. The left glenohumeral joint appears dislocated. The right proximal humerus is fractured. Dedicated shoulder views are recommended.\n",
      "\n",
      "\n",
      "Prompt for Image ID: 173_eb2fabb7-4bbc8aab-d7371282-08e5bcb5-de2e430a\n",
      "Image ID: 173_eb2fabb7-4bbc8aab-d7371282-08e5bcb5-de2e430a\n",
      "Context Texts:\n",
      "- FINAL REPORT EXAMINATION: CHEST (PORTABLE AP) INDICATION: ___ year old man with pleurx // effusion f/u TECHNIQUE: Portable chest COMPARISON: 517 FINDINGS: There is a moderate right pleural effusion that is increased in size. There is associated right lower lobe volume loss. An underlying infectious infiltrate can't be excluded. There is small left pleural effusion with associated left lower lobe volume loss. There is pulmonary vascular redistribution and moderate cardiomegaly. Sternal wires are again visualized. IMPRESSION: Increased fluid overload with increased right effusion.\n",
      "- FINAL REPORT EXAMINATION: CHEST (PORTABLE AP) INDICATION: ___ year old man with heme malignancy, COPD, CHF. acute resp decompensation // assess for increased Pulm edema, acute processes COMPARISON: ___. IMPRESSION: As compared to the previous radiograph, the known pre-existing diffuse nodular parenchymal opacities increase in extent and severity. In the right lung, these opacities that tends to confluate, thereby forming larger areas of changes with air bronchograms. The mediastinum could have slightly increased in diameter, suggesting either fluid overload or increasing adenopathy. No pleural effusions.\n",
      "- FINAL REPORT EXAMINATION: CHEST (PORTABLE AP) INDICATION: History: ___M with cancer, neutropenic, history of malignant effusions, decreased breath sounds bilaterally TECHNIQUE: Upright AP view of the chest COMPARISON: Chest radiograph ___ FINDINGS: Left-sided Port-A-Cath tip terminates in the proximal right atrium. Severe enlargement of the cardiac silhouette is unchanged. There is continued mild pulmonary edema. The mediastinal and hilar contours are similar. Small bilateral pleural effusions have decreased in size compared to the previous study. Patchy opacities in lung bases may reflect compressive atelectasis. No pneumothorax is seen. There are moderate multilevel degenerative changes in the thoracic spine. IMPRESSION: Severe cardiomegaly with mild pulmonary edema. Small bilateral pleural effusions, decreased in size compared to the previous exam. Patchy opacities in lung bases may reflect atelectasis.\n",
      "- FINAL REPORT EXAMINATION: CHEST (PORTABLE AP) INDICATION: ___ year old man with cirrhosis // eval pulm edema, effusions COMPARISON: CT abdomen from ___. FINDINGS: AP portable upright view of the chest. The heart is obscured by bibasilar opacities, likely reflecting a mixture of moderate pleural effusions with adjacent compressive atelectasis. Air bronchograms are demonstrated at the right base, concerning for underlying consolidation. There is no pneumothorax. The aorta is tortuous, demonstrating mild calcifications at the arch. IMPRESSION: Moderate bilateral pleural effusions with adjacent compressive atelectasis. Air bronchograms at the right base are concerning for underlying consolidation.\n",
      "- FINAL REPORT INDICATION: ___ year old man with SOB and tachycardia // please assess for worsening pna or effusion //___ year old man with SOB and tachycardia TECHNIQUE: AP view of the chest COMPARISON: ___ CT and ___ x-ray FINDINGS: Numerous nodular opacities compatible the patient's metastatic disease are again appreciated. In addition, there is worsening pulmonary edema as well as a worsening right lower lobe infiltrate which could represent pneumonia in the correct clinical setting. A right pleural effusion is also increased in size. IMPRESSION: Worsening combination of pleural effusion, pulmonary edema and possibly pneumonia particularly in the right lower lobe.\n",
      "Triplets:\n",
      "- Thoracic empyema described by There is moderate-to-large-sized pleural effusion with multiple septations/loculations associated with underlying consolidation.\n",
      "- Thoracic empyema described by There is moderate-to-large-sized pleural effusion with multiple septations/loculations associated with underlying consolidation.\n",
      "- Re-expansion pulmonary edema described by Right pleural effusion with associated compressive atelectasis. Small left pleural effusion. Left upper zone mass. Sternotomy wires and valve replacement. Enlarged cardiac silhouette.\n",
      "- Re-expansion pulmonary edema described by Right pleural effusion with associated compressive atelectasis. Small left pleural effusion. Left upper zone mass. Sternotomy wires and valve replacement. Enlarged cardiac silhouette.\n",
      "- Oxygen mask and tubing artifact (portable radiograph) described by Patchy air space opacities are noted in the bilateral mid to lower zones and left retrocardiac region which may be suggestive of worsening infective changes. A small left pleural effusion is noted with adjacent atelectasis. No gross pneumothorax is detected. No subdiaphragmatic free gas is seen. Aortic calcifications are noted. Degenerative changes are noted of the imaged spine on a background of diffuse osteopenia. An old right 9th rib fracture is also seen.\n",
      "\n",
      "\n",
      "Prompt for Image ID: 23_28fad2ac-d6001216-b4f72c5b-2d4d452e-17b6c9a5\n",
      "Image ID: 23_28fad2ac-d6001216-b4f72c5b-2d4d452e-17b6c9a5\n",
      "Context Texts:\n",
      "- FINAL REPORT HISTORY: Fever assess for pneumonia. COMPARISON: None. FINDINGS: 2 views were obtained of the chest. The lungs are well expanded and clear without pleural effusion or pneumothorax. The heart is normal in size with normal cardiomediastinal contours. IMPRESSION: No acute intrathoracic process.\n",
      "- FINAL REPORT HISTORY: Anterior chest pain, evaluate for pneumothorax or infiltrate COMPARISON: None available FINDINGS: Frontal and lateral radiographs of the chest demonstrate normal heart size. The cardiomediastinal silhouette and hilar contours are normal. The lungs are clear. No pleural effusion or pneumothorax. No displaced rib fracture identified. IMPRESSION: Normal chest radiograph.\n",
      "- FINAL REPORT INDICATION: Chest pain. COMPARISON: None available. FINDINGS: The lungs are clear with no evidence of consolidation, effusion, or pneumothorax. Cardiomediastinal silhouette is normal. No acute fractures are identified. IMPRESSION: No acute cardiopulmonary process.\n",
      "- FINAL REPORT HISTORY: Pre renal transplant evaluation. COMPARISON: None. FINDINGS: 2 views were obtained of the chest. The lungs are well expanded and clear. There is no pleural effusion or pneumothorax. The heart is normal in size with normal mediastinal and hilar contours. IMPRESSION: No acute intrathoracic process.\n",
      "- FINAL REPORT HISTORY: Left lower quadrant pain with history of IBS, evaluation for free air. COMPARISON: None available. FINDINGS: The lungs are clear with no evidence of a consolidation, effusion, or pneumothorax. Cardiac and mediastinal silhouettes are normal. No acute fractures are identified. No free air is noted under the hemidiaphragms. IMPRESSION: No acute cardiopulmonary process with no evidence of large amount of free air.\n",
      "Triplets:\n",
      "- Rhomboid fossa of the clavicle described by The lungs and pleural spaces are clear. Cardiomediastinal contours and hilar regions within normal limits. Incidental prominant left rhomboid fossa of the clavicle on the left - a normal variant.\n",
      "- Rhomboid fossa of the clavicle described by The lungs and pleural spaces are clear. Cardiomediastinal contours and hilar regions within normal limits. Incidental prominant left rhomboid fossa of the clavicle on the left - a normal variant.\n",
      "- Nipple stud described by Normal cardiomediastinal contour. Lungs are clear. Linear right nipple stud.\n",
      "- Pneumonia has symptom Chief complaints: throat pain, body ache, fever, and left-sided chest pain for 2 days. No history of breathing difficulty or cough.\n",
      "- Myasthenia gravis - non-thymomatous described by No anterior superior mediastinal mass is seen. The lungs and pleural angles are clear. The heart, mediastinum, pulmonary vessels, and diaphragm all appear normal.\n",
      "\n",
      "\n",
      "Prompt for Image ID: 210_5053834b-b1bea04f-680aec42-45abe415-c2d097ba\n",
      "Image ID: 210_5053834b-b1bea04f-680aec42-45abe415-c2d097ba\n",
      "Context Texts:\n",
      "- FINAL REPORT INDICATION: ___ year old woman s/p thoracentesis. STAT. // assess for PTX or complications of thoracentesis EXAMINATION: CHEST (PORTABLE AP) TECHNIQUE: Portable chest radiograph, frontal view COMPARISON: Chest radiograph ___, CT chest ___ FINDINGS: Right pleural effusion is decreased in size and L small. Small left pleural effusion is unchanged. Left apical cavitary lesion is unchanged. Large hiatal hernia is noted. Left perihilar consolidation corresponds to the region of bronchiectasis in the left lower lobe seen on prior CT. Right lung base opacity is likely atelectasis or re-expansion edema. Cardiomediastinal silhouette is normal size. IMPRESSION: No pneumothorax. Right pleural effusion is smaller. Right lung base opacity is likely atelectasis or re-expansion edema.\n",
      "- FINAL REPORT EXAMINATION: CHEST (PORTABLE AP) INDICATION: ___ year old woman with cirrhosis, MDS with hypothermia and increasing lethargy. // Any signs of pneumonia, acute changes? Any signs of pneumonia, acute changes? IMPRESSION: In comparison with the study of ___ there is even further accumulation of fluid in the left pleural space. Little change in the degree of vascular congestion. Otherwise little change.\n",
      "- FINAL REPORT EXAMINATION: CHEST (PORTABLE AP) INDICATION: ___F hx esophageal adenoCA s/p MIE ___ now with persistent GOO s/p laparoscopic pyloroplasty // assess for barium passage assess for barium passage IMPRESSION: As compared to ___, areas of atelectatic lung in both the right and the left lung base have decreased in extent and severity. Overall, the lung parenchyma is better expanded than on the previous examination. Contrast material is seen in the basal portions of the neoesophagus. No pleural effusions. Normal appearance of the cardiac silhouette.\n",
      "- FINAL REPORT EXAMINATION: CHEST (PORTABLE AP) INDICATION: ___ year old woman with SOB // atelectasis, pneumonia atelectasis, pneumonia IMPRESSION: Cardiomegaly is substantial. Mediastinum is widened and there is interval development of pulmonary edema. Underlying consolidation in the right lower lobe might potentially represent infection but pulmonary edema is the major pathology. Right pleural effusion is a possibility. No pneumothorax. NOTIFICATION: The findings were discussed with Dr. ___ , . by ___ ___, M.D. on the telephone on ___ at 4:49 PM, 10 minutes after discovery of the findings.\n",
      "- WET READ: ___ ___ ___ 9:01 PM improved R pleural effusion; small L pleural effusion w/ associated atelectasis; no ptx. ______________________________________________________________________________ FINAL REPORT HISTORY: Evaluate pleural fluid, pneumothorax. CHEST, SINGLE AP PORTABLE VIEW. Compared with ___ at 14:27 p.m., the left pleural effusion is slightly larger, with progressive left lower lobe collapse and/or consolidation. There is minimal right costophrenic angle blunting, improved. Suspect background hyperinflation consistent with COPD. There is a large right paratracheal mass, as well as a mass in the region of the AP window. There is biapical pleural scarring. Possible slight volume loss on the left side, with atelectasis and/or scarring. Tiny nodular density noted in right upper zone. IMPRESSION: 1. Left effusion slightly larger. Right effusion smaller. 2. No pneumothorax detected. 3. New obscuration of the left hemidiaphragm consistent with left lower lobe collapse and/or consolidation. 4. Prominent mediastinal lymphadenopathy and right upper zone nodule more completely demonstrated on a chest CT dated ___.\n",
      "Triplets:\n",
      "- Hydropneumothorax, pneumomediastinum, pneumoperitoneum and pneumoretroperitoneum described by Right-sided hydropneumothorax with pneumomediastinum, pneumoperitoneum and pneumoretroperitoneum (note the gas outlining the heart, aortic knuckle, psoas muscles, kidneys, along the right and left paracolic gutter and in the pelvis).\n",
      "- Basal pneumothorax and trapped lung post thoracentesis has symptom Chronic left pleural effusion. Post thoracocentesis.\n",
      "- Pulmonary lacerations described by Large hazy left mid zone opacity containing a cavity. Smaller medial left basal cavity and adjacent opacity. Small left pneumothorax.\n",
      "\n",
      "\n",
      "- Pneumothorax - large described by Large left sided pneumothorax, with underlying lung collapse. No mediastinal shift. Right lung clear.\n",
      "\n",
      "- Large thoracic aortic aneurysm described by Large dilated tortuous aortic arch and descending aorta with mass effect on the trachea (displacing it to the left and mildly narrowing it). Despite rotation of the patient to the right, there is some mediastinal shift to the left. Increased interstitial markings throughout the lungs. Left apical pleural capping.\n",
      "\n",
      "\n",
      "Prompt for Image ID: 17_6ad819bb-bae74eb9-7b663e90-b8deabd7-57f8054a\n",
      "Image ID: 17_6ad819bb-bae74eb9-7b663e90-b8deabd7-57f8054a\n",
      "Context Texts:\n",
      "- FINAL REPORT EXAMINATION: Chest: Frontal and lateral views INDICATION: History: ___F with 2h worsening SOB // SOB, CHF? TECHNIQUE: Chest: Frontal and Lateral COMPARISON: ___ FINDINGS: The patient is somewhat rotated. Increased interstitial markings bilaterally are worrisome for moderate interstitial pulmonary edema versus less likely atypical infection. There are small pleural effusions. The cardiac silhouette is mildly enlarged. The aorta is calcified and tortuous. Prominence of the hila may relate to fluid overload or pulmonary hypertension. There may be a hiatal hernia. IMPRESSION: Moderate interstitial edema. Small bilateral pleural effusions.\n",
      "- WET READ: ___ ___ ___ 2:03 PM Worsened diffuse increase in interstitial markings bilaterally in this patient with known history of diffuse fibrotic interstitial lung disease, concerning for progression of interstitial lung disease and/or possible superimposed vascular congestion. ______________________________________________________________________________ FINAL REPORT EXAMINATION: Chest: Frontal and lateral views INDICATION: History: ___F with sob // eval for ptx TECHNIQUE: Chest: Frontal and Lateral COMPARISON: ___ FINDINGS: There is diffuse increase in interstitial markings bilaterally, increased compared to the prior study, consistent with patient's known diffuse interstitial fibrotic lung disease raising concern for worsening of the interstitial lung disease with possible superimposed vascular congestion. No large pleural effusion is seen although trace pleural effusion would be difficult to exclude. There is no pneumothorax. The cardiac and mediastinal silhouettes are grossly stable. Aortic knob calcification is re- demonstrated. IMPRESSION: Worsened diffuse increase in interstitial markings bilaterally in this patient with known history of diffuse fibrotic interstitial lung disease, concerning for progression of interstitial lung disease and/or possible superimposed vascular congestion.\n",
      "- FINAL REPORT EXAMINATION: Chest: Frontal and lateral views INDICATION: History: ___F with dyspnea // r/o acute process TECHNIQUE: Chest: Frontal and Lateral COMPARISON: ___ FINDINGS: Diffuse increase in interstitial markings bilaterally is similar to prior consistent with mild interstitial edema with pulmonary vascular congestion. No large pleural effusion is seen. There is no pneumothorax. The cardiac and mediastinal silhouettes are stable. IMPRESSION: Persistent diffuse increase in interstitial markings bilaterally consistent with mild interstitial edema versus less likely chronic lung disease.\n",
      "- FINAL REPORT EXAMINATION: CHEST (PA AND LAT) INDICATION: ___M with dyspnea on exertion // Edema, consolidation COMPARISON: ___ FINDINGS: PA and lateral views of the chest provided. Again seen is elevation of the left hemidiaphragm. Heart size is difficult to assess though appears at least mildly enlarged. Bibasilar opacities likely reflect atelectasis, difficult to exclude tiny pleural effusions. There is probable mild interstitial pulmonary edema. IMPRESSION: As above.\n",
      "- FINAL REPORT EXAMINATION: Chest: Frontal and lateral views INDICATION: History: ___M with CHF, COPD on 4L home O2 with hypoxemia and ___. // eval for pulm edema, pneumonia TECHNIQUE: Chest: Frontal and Lateral COMPARISON: ___ and ___ FINDINGS: Re- demonstrated widespread pulmonary interstitial abnormality, slightly worsened compared to ___, similar compared to ___, again may be due to interstitial pulmonary edema superimposed on a background of moderate pulmonary emphysema. Superimposed infectious process is not excluded. There are small bilateral pleural effusions. No pneumothorax is seen. The cardiac and mediastinal silhouettes are stably enlarged. IMPRESSION: Re- demonstrated widespread pulmonary interstitial abnormality, slightly worse compared to ___, similar compared to ___, can't may be due to interstitial pulmonary edema superimposed on a background of pulmonary emphysema. Superimposed infectious process not excluded.\n",
      "Triplets:\n",
      "- Hiatus hernia described by Air-fluid level behind the heart on the lateral radiograph.\n",
      "- Miliary tuberculosis described by Bilateral lung fields interstitial opacities.\n",
      "- Miliary tuberculosis described by Bilateral lung fields interstitial opacities.\n",
      "- Large pericardial effusion described by Grossyl enlarged cardiac shadow demonstrating the water bottle sign, bilateral pleural effusion, multiple intrapulmonary masses. Enlarged pulmonary vasculature, diffuse, inhomogenously increased interstitial markings.\n",
      "- Large pericardial effusion described by Grossyl enlarged cardiac shadow demonstrating the water bottle sign, bilateral pleural effusion, multiple intrapulmonary masses. Enlarged pulmonary vasculature, diffuse, inhomogenously increased interstitial markings.\n",
      "\n",
      "\n",
      "Prompt for Image ID: 153_2c814e99-aa096010-bd722059-5a35bd69-a902e44e\n",
      "Image ID: 153_2c814e99-aa096010-bd722059-5a35bd69-a902e44e\n",
      "Context Texts:\n",
      "- FINAL REPORT EXAMINATION: Chest radiograph. INDICATION: History: ___F with COPD aND sob, COUGH, pls eval cxr for pna; also vag bleeding s/p hysterectomy pls eval u/s for clots/hematomas // History: ___F with COPD aND sob, COUGH, pls eval cxr for pna; also vag bleeding s/p hysterectomy pls eval u/s for clots/hematomas TECHNIQUE: Chest AP and lateral COMPARISON: Chest radiographs dated ___, CT chest dated ___. FINDINGS: The patient is status post median sternotomy and CABG. Stable, moderate cardiomegaly is noted. Emphysematous changes are noted. Mildly prominent bilateral hila is suggestive of mild pulmonary congestion. There is no pleural effusion, lobar consolidation, or overt pulmonary edema identified. The descending thoracic aorta is calcified and mildly tortuous. IMPRESSION: Stable, moderate cardiomegaly. Mild emphysema without lobar consolidation.\n",
      "- FINAL REPORT EXAMINATION: CHEST (AP AND LAT) INDICATION: History: ___M with dyspnea TECHNIQUE: Upright AP and lateral views of the chest COMPARISON: Chest radiograph ___ FINDINGS: Cardiac silhouette size appears mild to moderately enlarged as seen previously. The aorta is unfolded with atherosclerotic calcifications noted in the descending thoracic aorta. Lung volumes are lower compared to the previous study. Enlarged on the hila is again noted bilaterally. Mild interstitial pulmonary edema is worse in the interval, with increased patchy bibasilar opacities likely reflective of atelectasis. No pleural effusion or pneumothorax is clearly identified. No acute osseous abnormality seen. A rounded radiopaque dense structure measuring 2 cm projects over the epigastric region. IMPRESSION: Mild interstitial pulmonary edema, worse in the interval, with patchy bibasilar opacities, likely atelectasis.\n",
      "- FINAL REPORT EXAMINATION: CHEST (AP AND LAT) INDICATION: ___M with cough and shortness of breath x 2 weeks // eval for pna COMPARISON: ___ FINDINGS: AP upright and lateral views of the chest provided. Hilar congestion with mild interstitial pulmonary edema noted. There also bibasilar opacities right greater than left which could reflect aspiration or pneumonia. No large effusion or pneumothorax. Overall cardiomediastinal silhouette is unchanged. Bony structures are intact. IMPRESSION: Mild pulmonary edema with bibasilar opacities which could reflect atelectasis though difficult to exclude aspiration/pneumonia.\n",
      "- FINAL REPORT EXAMINATION: CHEST (AP AND LATERAL) INDICATION: History: ___M with chest pain, confusion TECHNIQUE: Upright AP and lateral views of the chest COMPARISON: ___ FINDINGS: The patient is status post median sternotomy and CABG. Lung volumes are low which accentuates the size of the cardiac silhouette which remains mildly enlarged. Mediastinal and hilar contours are unchanged. There is crowding of the bronchovascular structures due to low lung volumes without overt pulmonary edema. Innumerable basilar predominant nodular opacities are less pronounced on the current study but compatible with known metastases. Patchy opacities are re- demonstrated in the lung bases likely reflective of atelectasis. No new focal consolidation, pleural effusion or pneumothorax is demonstrated. Multilevel degenerative changes are again noted in the thoracic spine. IMPRESSION: Innumerable pulmonary metastases are less pronounced on the current study. Bibasilar atelectasis.\n",
      "- WET READ: ___ ___ ___ 12:56 PM Moderate bibasilar atelectasis with low lung volumes. ______________________________________________________________________________ FINAL REPORT EXAMINATION: Chest radiograph INDICATION: History: ___M with fall // ? Abnormality, traumatic injuries TECHNIQUE: Chest PA and lateral COMPARISON: Prior chest radiographs from ___, ___, ___ FINDINGS: Moderate bibasilar atelectasis is noted with low lung volumes. Redemonstrated anterior upper mediastinal soft tissue has previously been identified as an enlarged thyroid goiter. Heart size is emphasized due to low lung volumes. No pneumothorax or pulmonary edema. IMPRESSION: Moderate bibasilar atelectasis with low lung volumes.\n",
      "Triplets:\n",
      "- Bilateral shoulder injuries on chest x-ray described by Interstitial lung markings are prominent by sub-optimal inspiration. The left glenohumeral joint appears dislocated. The right proximal humerus is fractured. Dedicated shoulder views are recommended.\n",
      "- Bilateral shoulder injuries on chest x-ray described by Interstitial lung markings are prominent by sub-optimal inspiration. The left glenohumeral joint appears dislocated. The right proximal humerus is fractured. Dedicated shoulder views are recommended.\n",
      "- Sickle cell disease with acute chest syndrome described by Cardiac silhouette is mildly enlarged. There is bilateral lower zone atelectasis and hazy airspace opacities. Bones are diffusely sclerotic with multi-level H-shaped vertebral bodies. Splenic shadow is difficult to visualize.\n",
      "- Aortic intramural hematoma has symptom Acute central chest and bilateral jaw pain. Progressive with generalized weakness. History of hypertension and ischemic heart disease.\n",
      "- Usual interstitial pneumonia (UIP) described by Extensive interstitial lung markings throughout the lungs are consistent with chronic interstitial lung disease with equivocal lung volume loss. No pleural effusion.  No pneumothorax. Enlarged heart silhouette. \n",
      "\n",
      "\n",
      "Prompt for Image ID: 149_3373e04d-44222d3e-2a706a8e-f5a037de-a41a60f6\n",
      "Image ID: 149_3373e04d-44222d3e-2a706a8e-f5a037de-a41a60f6\n",
      "Context Texts:\n",
      "- FINAL REPORT INDICATION: ___M with hypoxia // pulmonary edema? TECHNIQUE: Frontal and lateral views the chest. COMPARISON: ___. FINDINGS: When compared to prior, there has been interval progression the degree of pulmonary vascular congestion. There is blunting of the posterior costophrenic angles suggesting small effusions. Enlarged cardiac silhouette is similar to prior IMPRESSION: Mild pulmonary edema with small bilateral effusions.\n",
      "- FINAL REPORT EXAMINATION: Chest: Frontal and lateral views INDICATION: History: ___M with CHF, COPD on 4L home O2 with hypoxemia and ___. // eval for pulm edema, pneumonia TECHNIQUE: Chest: Frontal and Lateral COMPARISON: ___ and ___ FINDINGS: Re- demonstrated widespread pulmonary interstitial abnormality, slightly worsened compared to ___, similar compared to ___, again may be due to interstitial pulmonary edema superimposed on a background of moderate pulmonary emphysema. Superimposed infectious process is not excluded. There are small bilateral pleural effusions. No pneumothorax is seen. The cardiac and mediastinal silhouettes are stably enlarged. IMPRESSION: Re- demonstrated widespread pulmonary interstitial abnormality, slightly worse compared to ___, similar compared to ___, can't may be due to interstitial pulmonary edema superimposed on a background of pulmonary emphysema. Superimposed infectious process not excluded.\n",
      "- FINAL REPORT EXAMINATION: CHEST (PA AND LAT) INDICATION: History: ___M with CHF, COPD, CAD presents with progressive dyspnea, fluid retention, cough TECHNIQUE: Upright AP and lateral views of the chest COMPARISON: Chest radiograph ___ FINDINGS: CC is status post median sternotomy and CABG. Severe cardiomegaly is unchanged. There is mild to moderate pulmonary edema, as seen previously. The mediastinal and hilar contours are similar with atherosclerotic calcifications noted diffusely in the descending thoracic aorta. Small bilateral pleural effusions have decreased in size compared to the prior study. Patchy atelectasis is noted in the lung bases. No pneumothorax is identified. There are moderate degenerative changes in the thoracic spine. IMPRESSION: Mild to moderate pulmonary edema, as seen previously, with severe cardiomegaly. Trace bilateral pleural effusions, decreased in size in the interval.\n",
      "- FINAL REPORT EXAMINATION: Chest radiograph. INDICATION: History: ___F with hypoxia // eval for PNA TECHNIQUE: AP and lateral views of the chest COMPARISON: Chest radiographs dated ___. FINDINGS: Interval removal of a right internal jugular central venous line. Lung volumes have diminished with crowding of the pulmonary vasculature and interval improvement in pulmonary vascular congestion. Bilateral layering effusions with associated airspace opacities likely reflecting partial lower lobe atelectasis, although pneumonia cannot be excluded. No pneumothorax. Overall cardiac and mediastinal contours are likely unchanged given differences in positioning. IMPRESSION: Layering bilateral effusions with associated airspace disease most consistent with partial lower lobe atelectasis, although pneumonia cannot be entirely excluded.\n",
      "- FINAL REPORT INDICATION: ___M with sob // eval for pna TECHNIQUE: AP and lateral views of the chest. COMPARISON: ___. FINDINGS: There are a small-moderate bilateral pleural effusions and moderate pulmonary edema. Enlargement of cardiac silhouette is again seen. Tortuosity of the thoracic aorta is again noted. No acute osseous abnormalities. IMPRESSION: Small-moderate bilateral pleural effusions and moderate pulmonary edema.\n",
      "Triplets:\n",
      "- Cardiomegaly with plethora and edema described by There is cardiomegaly with pulmonary plethora and airspace shadowing suggesting secondary pulmonary edema.\n",
      "- Pulmonary hypertension and edema in Eisenmenger syndrome described by Enlarged pulmonary arteries and plethora. Cardiomegaly. Prominent left-sided aortic arch. There are also features of pulmonary edema.\n",
      "- Pulmonary edema described by Air space opacity most confluent in the perihilar regions and interstitial prominence. There is venous congestion and an enlarged cardiac outline. Bilateral small to moderate sized pleural effusions. Appearances are those of mixed alveolar and interstitial pulmonary edema. \n",
      "- Hiatus hernia described by Large gas-filled hiatus hernia.\n",
      "- Hiatus hernia described by Large gas-filled hiatus hernia.\n",
      "\n",
      "\n",
      "Prompt for Image ID: 215_0d985d10-36a2a165-ddc49c96-8b8466c9-df947f57\n",
      "Image ID: 215_0d985d10-36a2a165-ddc49c96-8b8466c9-df947f57\n",
      "Context Texts:\n",
      "- WET READ: ___ ___ 6:22 AM No evidence of acute cardiopulmonary process. ______________________________________________________________________________ FINAL REPORT INDICATION: ___F with back pain, fever evaluate for acute cardiopulmonary disease. TECHNIQUE: Chest PA and lateral COMPARISON: Multiple prior chest radiographs dating back to ___ peer FINDINGS: There is no focal consolidation, pleural effusion, pulmonary edema, or pneumothorax. The cardiomediastinal contour is within normal limits with unchanged median sternotomy wires and mediastinal surgical clips noted. IMPRESSION: No evidence of acute cardiopulmonary process.\n",
      "- FINAL REPORT INDICATION: ___F with chest pain // ?cause of cp TECHNIQUE: PA and lateral views the chest. COMPARISON: ___. FINDINGS: The lungs are clear. The cardiomediastinal silhouette is stable. No acute osseous abnormalities. Coronary artery stent is noted. Surgical clips in the right upper quadrant suggest prior cholecystectomy. IMPRESSION: No acute cardiopulmonary process.\n",
      "- FINAL REPORT INDICATION: ___F with chest pain // Please eval for any PNA, infectious process TECHNIQUE: PA and lateral views of the chest. COMPARISON: ___. FINDINGS: The lungs are clear without consolidation, effusion, or edema. The cardiac silhouette is enlarged similar to prior. Median sternotomy wires and mediastinal clips are noted. No acute osseous abnormalities identified. IMPRESSION: No acute cardiopulmonary process.\n",
      "- WET READ: ___ ___ ___ 6:07 PM Changes in the perihilar regions of the lungs bilaterally suggesting underlying scarring. Given regions of opacity particularly in the right lower lung, superimposed infection or other acute process cannot be excluded without prior imaging to evaluate for stability. Followup will be necessary unless prior becomes available to document stability particularly for evaluation of the increased opacity in the retrosternal clear space. *** ED URGENT ATTENTION *** ______________________________________________________________________________ FINAL REPORT INDICATION: ___F with cough, SOB, wheezing, ___ sarcoid // presence of infiltrate, pleural effusions TECHNIQUE: PA and lateral views of the chest. COMPARISON: None. FINDINGS: Increased opacity seen in the right mid lung and there are changes suggesting of underlying fibrotic changes in the perihilar regions bilaterally, right greater than left. There is also increased density in the retrosternal clear space on lateral view with associated linear, spiculated opacities. The lungs are otherwise clear. The cardiomediastinal silhouette is within normal limits. No acute osseous abnormalities identified. IMPRESSION: Changes in the perihilar regions of the lungs bilaterally suggesting underlying scarring. Given regions of opacity particularly in the right lower lung, superimposed infection or other acute process cannot be excluded without prior imaging to evaluate for stability. Followup will be necessary unless prior becomes available to document stability particularly for evaluation of the increased opacity in the retrosternal clear space.\n",
      "- FINAL REPORT EXAMINATION: CHEST (PA AND LAT) INDICATION: ___F with c/o cough with DOE COMPARISON: None FINDINGS: PA and lateral views of the chest provided. Cardiomegaly is noted with hilar congestion and mild interstitial edema. No large effusion or pneumothorax. No signs of pneumonia. Bony structures are intact. Mediastinal contour appears grossly unremarkable. Bony structures are intact. No free air below the right hemidiaphragm. IMPRESSION: Cardiomegaly with hilar congestion and mild pulmonary edema.\n",
      "Triplets:\n",
      "- Azygos fissure described by Incidental azygos fissure with mild opacity in the inferior aspect of the fissure.\n",
      "- Lung cancer described by Painless right chest wall mass lateral to the nipple. The skin is intact.\n",
      "- Lung cancer described by Painless right chest wall mass lateral to the nipple. The skin is intact.\n",
      "- Posterior mediastinal mass - probable esophageal carcinoma described by Heart size is within normal limits. Posterior mediastinal density on lateral projection. CT chest recommended.\n",
      "- Posterior mediastinal mass - probable esophageal carcinoma described by Heart size is within normal limits. Posterior mediastinal density on lateral projection. CT chest recommended.\n",
      "\n",
      "\n",
      "Prompt for Image ID: 242_81791c39-946a2aaa-fd27f78d-48400e77-610e2ae2\n",
      "Image ID: 242_81791c39-946a2aaa-fd27f78d-48400e77-610e2ae2\n",
      "Context Texts:\n",
      "- FINAL REPORT EXAMINATION: CHEST (PA AND LAT) INDICATION: ___F with sob // eval pneumonia COMPARISON: None FINDINGS: PA and lateral views of the chest provided. Extensive airspace consolidation is seen within the right lung involving right upper, middle and lower lobes compatible with multifocal pneumonia. The left lung appears clear. No large pleural effusion or pneumothorax. The heart size is mildly enlarged. The mediastinal contour is unremarkable. Bony structures appear intact. IMPRESSION: Multifocal pneumonia within the right lung. Mild cardiomegaly.\n",
      "- FINAL REPORT EXAMINATION: CHEST (PA AND LAT) INDICATION: History: ___F with cough/fever // PNA? TECHNIQUE: Chest PA and lateral COMPARISON: ___ FINDINGS: Since the prior study of ___, there is increased pulmonary vascular congestion and diffuse interstitial abnormality. Peribronchial cuffing is moderate. No pleural effusion or focal consolidation. Heart size is mildly enlarged, as before. IMPRESSION: Diffuse interstitial abnormality and peribronchial cuffing compatible with small airway inflammation.\n",
      "- FINAL REPORT EXAMINATION: CHEST (PA AND LAT) INDICATION: ___M with chest pain pls eval pna or edema COMPARISON: ___ FINDINGS: PA and lateral views of the chest provided. Coronary stent projects over the heart. A stent projects over the right upper arm. There is again noted to be coarsened prominent interstitial markings throughout both lungs which could reflect underlying fibrosis versus interstitial pulmonary edema. No large effusion or pneumothorax. No convincing evidence for pneumonia. Cardiomediastinal silhouette is stable. Bony structures are intact. A chronic left clavicular midshaft deformity is noted. IMPRESSION: Prominent bilateral interstitial opacities could reflect interstitial lung disease versus interstitial edema. Please correlate clinically.\n",
      "- FINAL REPORT EXAMINATION: CHEST (PA AND LAT) INDICATION: ___M with cough, sob, hx CHF COMPARISON: ___ FINDINGS: PA and lateral views of the chest provided. Cardiomegaly is again noted with mild pulmonary interstitial edema re- demonstrated. No significant progression. No large effusion or pneumothorax. No convincing evidence for pneumonia. Mediastinal contour stable. Bony structures are intact. IMPRESSION: Mild interstitial edema, cardiomegaly.\n",
      "- FINAL REPORT HISTORY: History of dyspnea on exertion and chest pain. Evaluate for pneumonia or pneumothorax. TECHNIQUE: PA and lateral chest radiographs were provided. COMPARISON: None. FINDINGS: There is no focal consolidation or pneumothorax. Interstitial markings are prominent, likely due to mild pulmonary edema. There is a small amount of fluid within the fissures and trace bilateral pleural effusions. The heart is mildly enlarged. The imaged upper abdomen is unremarkable. IMPRESSION: 1. Mild pulmonary edema and cardiomegaly. 2. Small bilateral pleural effusions.\n",
      "Triplets:\n",
      "- Azygos fissure described by Incidental azygos fissure with mild opacity in the inferior aspect of the fissure.\n",
      "- Lung cancer described by Painless right chest wall mass lateral to the nipple. The skin is intact.\n",
      "- Lung cancer described by Painless right chest wall mass lateral to the nipple. The skin is intact.\n",
      "- Left superior intercostal vein - aortic nipple described by An \"aortic nipple\" is seen on the lateral aspect of the aortic arch/aortic knob. This represents a prominent left superior intercostal vein.\n",
      "- Inferior pulmonary ligament described by Lungs are well expanded and clear. Normal cardiomediastinal contour. Left hemidiaphragm retrocardiac irregularity represents the inferior pulmonary ligament\n",
      "\n",
      "\n",
      "Prompt for Image ID: 163_11b6ac54-65f50afa-38228a29-8a18a28e-c51e103a\n",
      "Image ID: 163_11b6ac54-65f50afa-38228a29-8a18a28e-c51e103a\n",
      "Context Texts:\n",
      "- FINAL REPORT EXAMINATION: CHEST (PORTABLE AP) INDICATION: ___ year old man with R pleural effusion now s/p thoracentesis // now s/p thoracentesis. check for pneumothorax degree of change of R pleural effusion now s/p thoracentesis. check for pneumothorax degree of change of R pleural effusion IMPRESSION: In comparison with study of ___, there has been a thoracentesis on the right with removal of a large amount of pleural fluid, no definite pneumothorax. Increasing pleural effusion on the left. Continued enlargement the cardiac silhouette with mild to moderate pulmonary vascular congestion.\n",
      "- FINAL REPORT EXAMINATION: CHEST (PORTABLE AP) INDICATION: ___ year old man with COPD // int change int change IMPRESSION: In comparison with the study of ___, there is increased opacification in the lower ___ of the right hemithorax in this patient with severe chronic pulmonary disease and biapical scarring. These findings could reflect volume loss in the right middle and lower lobes with pleural effusion. However, much of this appearance could be a manifestation of developing pneumonia. Little change in the opacification is at the left base.\n",
      "- FINAL REPORT INDICATION: ___ year old man with hypoxemia, ? etiology // ___ year old man with hypoxemia, ? etiology COMPARISON: Radiographs from ___. IMPRESSION: There has been worsening of the areas of consolidation and interstitial prominence throughout both lung fields. There are more confluent areas of consolidation in the perihilar regions and in the left base. No pneumothoraces are identified. Findings may relate to multifocal pneumonia as previously suspected; however superimposed pulmonary edema could also be present.\n",
      "- FINAL REPORT EXAMINATION: CHEST (PORTABLE AP) INDICATION: ___ year old man s/p ct pull // eval for ptx TECHNIQUE: Single frontal view of the chest COMPARISON: ___ IMPRESSION: Large left pleural effusion has increased. Right pleural effusion and right lower lobe and right middle lobe consolidations have increased. There are low lung volumes. Cardiomegaly cannot be assessed. There is no evident pneumothorax.\n",
      "- FINAL REPORT EXAMINATION: CHEST (PORTABLE AP) INDICATION: ___ year old man with PAH, refract hypoxemia // Eval for interval change Eval for interval change IMPRESSION: Heart size and mediastinum are stable. Right mid lung consolidation appears to be an more conspicuous concerning for infectious process. Interstitial changes are extensive, similar to previous examination. Small amount of bilateral pleural effusion is most likely present. There is no pneumothorax.\n",
      "Triplets:\n",
      "- Oxygen mask and tubing artifact (portable radiograph) described by Patchy air space opacities are noted in the bilateral mid to lower zones and left retrocardiac region which may be suggestive of worsening infective changes. A small left pleural effusion is noted with adjacent atelectasis. No gross pneumothorax is detected. No subdiaphragmatic free gas is seen. Aortic calcifications are noted. Degenerative changes are noted of the imaged spine on a background of diffuse osteopenia. An old right 9th rib fracture is also seen.\n",
      "- Oxygen mask and tubing artifact (portable radiograph) described by Patchy air space opacities are noted in the bilateral mid to lower zones and left retrocardiac region which may be suggestive of worsening infective changes. A small left pleural effusion is noted with adjacent atelectasis. No gross pneumothorax is detected. No subdiaphragmatic free gas is seen. Aortic calcifications are noted. Degenerative changes are noted of the imaged spine on a background of diffuse osteopenia. An old right 9th rib fracture is also seen.\n",
      "- Thoracic empyema described by There is moderate-to-large-sized pleural effusion with multiple septations/loculations associated with underlying consolidation.\n",
      "- Thoracic empyema described by There is moderate-to-large-sized pleural effusion with multiple septations/loculations associated with underlying consolidation.\n",
      "- Hiatus hernia described by Large retrocardiac cystic lesion with air/fluid level.\n",
      "\n",
      "\n"
     ]
    }
   ],
   "source": [
    "detailed_prompts = {}\n",
    "\n",
    "for image_id, data in top_k_texts_and_triplets_selected.items():\n",
    "    if any(image_id.startswith(selected_id) for selected_id in selected_image_id):\n",
    "        context_text_ids = data['text_ids']\n",
    "        context_texts = []\n",
    "\n",
    "        print(f\"Processing Image ID: {image_id}\")\n",
    "        print(f\"Top-5 Text IDs: {context_text_ids}\")\n",
    "\n",
    "        for text_id in context_text_ids:\n",
    "            report_row = all_reports_df[all_reports_df['report_id'] == text_id]\n",
    "            if not report_row.empty:\n",
    "                context_texts.append(report_row['cleaned_report'].values[0])\n",
    "            else:\n",
    "                print(f\"Warning: Report ID {text_id} not found in all_reports_df.\")\n",
    "\n",
    "        if not context_texts:\n",
    "            print(f\"Warning: No context texts found for image ID {image_id}.\")\n",
    "            continue\n",
    "\n",
    "        triplets = data['triplets']\n",
    "        detailed_prompts[image_id] = construct_detailed_prompt(image_id, context_texts, triplets)\n",
    "\n",
    "for image_id, prompt in detailed_prompts.items():\n",
    "    print(f\"Prompt for Image ID: {image_id}\\n{prompt}\\n\")"
   ]
  },
  {
   "cell_type": "code",
   "execution_count": null,
   "metadata": {},
   "outputs": [],
   "source": [
    "#Below key has been deleted\n",
    "from openai import OpenAI\n",
    "client = OpenAI(\n",
    "    api_key='XXX',\n",
    ")"
   ]
  },
  {
   "cell_type": "code",
   "execution_count": 22,
   "metadata": {},
   "outputs": [
    {
     "name": "stdout",
     "output_type": "stream",
     "text": [
      "Generated report for image 450_4c8f8ea6-47e8a94c-d0102870-54af5bd2-c538db5f:\n",
      "ChatCompletion(id='chatcmpl-9p8MRA0VOXPtsRFrp2aXvLdwmOMW9', choices=[Choice(finish_reason='stop', index=0, logprobs=None, message=ChatCompletionMessage(content='Multiple findings are present including bilateral perihilar opacities, possible effusions indicated by blunting of the costophrenic angles, and potential atelectasis or consolidation in the region of the minor fissure. Atherosclerotic and mitral annular calcifications are noted, alongside an enlarged cardiac silhouette. There are also multiple compression deformities in the thoracic and lumbar spine. \\n\\nAdditional findings include moderate enlargement of the heart, central vascular congestion with mild interstitial edema and right lower and middle lobe densities which may indicate consolidations. No pneumothorax is seen.\\n\\nThe presence of multifocal regions of consolidation are compatible with metastatic lesions in the lungs. However, no definitive acute cardiopulmonary process is identified.\\n\\nChronic pulmonary fibrotic changes are noted extensively, especially in the peripheral basal regions. Cardiomegaly is moderate and stable. There is no identified pleural effusion or pneumothorax.\\n\\nIncreasing bibasilar opacities may suggest atelectasis. The presence of small bilateral pleural effusions are probable. Interstitial thickening in the lingula is suggested by a shaggy heart border. Interstitial lung markings consistent with chronic interstitial lung disease were observed throughout the lung, potentially indicating volume loss. Bilateral shoulder injuries are noted including a dislocated left glenohumeral joint and a fractured right proximal humerus.', role='assistant', function_call=None, tool_calls=None))], created=1721973895, model='gpt-4-0613', object='chat.completion', service_tier=None, system_fingerprint=None, usage=CompletionUsage(completion_tokens=286, prompt_tokens=1259, total_tokens=1545))\n",
      "\n",
      "Generated report for image 173_eb2fabb7-4bbc8aab-d7371282-08e5bcb5-de2e430a:\n",
      "ChatCompletion(id='chatcmpl-9p8MeEyIptCmn1DLLlrntuyQcCdO7', choices=[Choice(finish_reason='stop', index=0, logprobs=None, message=ChatCompletionMessage(content='Moderate right pleural effusion with associated right lower lobe volume loss, possible underlying infection. Small left pleural effusion with associated left lower lobe volume loss. Diffuse nodular parenchymal opacities increasing in extent and severity in the right lung. Severe cardiomegaly with mild pulmonary edema and small bilateral pleural effusions. Possibility of compressive atelectasis due to patchy lung base opacities. Moderate bilateral pleural effusions with potential adjacent compressive atelectasis and underlying consolidation at the right base. Presence of pleural effusion, pulmonary edema, and potential pneumonia particularly in the right lower lobe. Moderate-to-large-sized pleural effusion with multiple septations/locations and underlying consolidation signifying thoracic empyema. Compressive atelectasis associated with right pleural effusion and a small left pleural effusion, left upper zone mass, and enlarged cardiac silhouette may indicate re-expansion pulmonary edema. Patchy opacities in the bilateral mid to lower zones and left retrocardiac regions suggesting potential worsening infective changes, adjacent left pleural effusion and associated atelectasis.', role='assistant', function_call=None, tool_calls=None))], created=1721973908, model='gpt-4-0613', object='chat.completion', service_tier=None, system_fingerprint=None, usage=CompletionUsage(completion_tokens=238, prompt_tokens=1233, total_tokens=1471))\n",
      "\n",
      "Generated report for image 23_28fad2ac-d6001216-b4f72c5b-2d4d452e-17b6c9a5:\n",
      "ChatCompletion(id='chatcmpl-9p8MpJYUwhddFrlNsS0mcIXlQqUKf', choices=[Choice(finish_reason='stop', index=0, logprobs=None, message=ChatCompletionMessage(content='The first report shows a well-expanded and clear lung with normal heart size and no sign of intrathoracic process. Second report presents a normal chest radiograph with clear lungs, normal heart size, and no pleural effusion or pneumothorax. Third report also describes clear lungs without signs of consolidation, effusion or pneumothorax, and normal cardiopulmonary silhouette. Similarly, the fourth report shows clear and well-expanded lungs without pleural effusion, pneumothorax or abnormality in the heart. In the fifth report, the lungs are free from consolidation, effusion, pneumothorax, and no evidence of significant free air presence, indicating no acute cardiopulmonary process. Finally, although incidents of a prominent left rhomboid fossa of the clavicle and a right nipple stud are mentioned, the lungs and cardiomediastinal contours remain normal. The latter reports indicate no symptoms of pneumonia, and in the patient with Myasthenia gravis, no signs of anterior superior mediastinal mass with clear lungs, and normal heart, mediastinum, pulmonary vessels, and diaphragm. Overall, all reports suggest normal cardiopulmonary findings without the presence of acute intrathoracic processes.', role='assistant', function_call=None, tool_calls=None))], created=1721973919, model='gpt-4-0613', object='chat.completion', service_tier=None, system_fingerprint=None, usage=CompletionUsage(completion_tokens=256, prompt_tokens=804, total_tokens=1060))\n",
      "\n",
      "Generated report for image 210_5053834b-b1bea04f-680aec42-45abe415-c2d097ba:\n",
      "ChatCompletion(id='chatcmpl-9p8N4XE2ix9p6wVHAzMdtOH2h4R9R', choices=[Choice(finish_reason='length', index=0, logprobs=None, message=ChatCompletionMessage(content='1. Reduced size of right pleural effusion and presence of small left pleural effusion.\\n2. Unchanged left apical cavitary lesion and large hiatal hernia noted.\\n3. Left perihilar consolidation aligning with the region of left lower lobe bronchiectasis.\\n4. Likely atelectasis or re-expansion edema at the right lung base with a normal size cardiomediastinal silhouette. No pneumothorax detected.\\n5. Increased fluid accumulation in the left pleural space with vascular congestion.\\n6. Decreased extent and severity of atelectasis in both right and left lung bases with expanded lung parenchyma.\\n7. Pronounced cardiomegaly and widened mediastinum with the development of pulmonary edema, potential for infection in right lower lobe consolidation and potential right pleural effusion. \\n8. Enlarged left pleural effusion with collapsed and/or consolidated left lower lobe, and improved right costophrenic angle blunting. Hyperinflation suggestive of COPD. \\n9. Notable mediastinal lymphadenopathy with a right upper zone nodule. Slight volume loss on the left with atelectasis and/or scarring. \\n10. Left-sided large pneumothorax, underlying lung collapse with no mediastinal shift and clear right lung.\\n11. Large, dilated, tortuous aortic arch and descending aorta causing mass effect on the trachea', role='assistant', function_call=None, tool_calls=None))], created=1721973934, model='gpt-4-0613', object='chat.completion', service_tier=None, system_fingerprint=None, usage=CompletionUsage(completion_tokens=300, prompt_tokens=1263, total_tokens=1563))\n",
      "\n",
      "Generated report for image 17_6ad819bb-bae74eb9-7b663e90-b8deabd7-57f8054a:\n",
      "ChatCompletion(id='chatcmpl-9p8NJJgBTNSToz6ktivyJN55NhqRQ', choices=[Choice(finish_reason='stop', index=0, logprobs=None, message=ChatCompletionMessage(content='Moderate bilateral interstitial edema with a possibility of atypical infection, and the presence of small bilateral pleural effusions. Mild enlargement of the cardiac silhouette is noted. Signs of increased interstitial markings that may indicate worsening of known diffuse fibrotic interstitial lung disease or possible superimposed vascular congestion. Mild bilateral interstitial edema is persistent. The left hemidiaphragm demonstrates elevation with possible indications of atelectasis and tiny pleural effusions. Severe pulmonary interstitial abnormalities are visible, potentially due to interstitial pulmonary edema superimposed on moderate pulmonary emphysema. The presence of a possible superimposed infectious process is not ruled out. There exists an air-fluid level behind the heart suggestive of hiatus hernia, bilateral interstitial opacities hinting at miliary tuberculosis, and multiple intrapulmonary masses. Large pericardial effusion is evident with signs of the water bottle sign and enlarged pulmonary vasculature. Additionally, there are diffusely increased, inhomogeneous interstitial markings.', role='assistant', function_call=None, tool_calls=None))], created=1721973949, model='gpt-4-0613', object='chat.completion', service_tier=None, system_fingerprint=None, usage=CompletionUsage(completion_tokens=212, prompt_tokens=1195, total_tokens=1407))\n",
      "\n",
      "Generated report for image 153_2c814e99-aa096010-bd722059-5a35bd69-a902e44e:\n",
      "ChatCompletion(id='chatcmpl-9p8NTkoJsnduIosqT8NMDYfNGz36Z', choices=[Choice(finish_reason='stop', index=0, logprobs=None, message=ChatCompletionMessage(content='Bilateral pulmonary congestion, emphysematous changes, and atelectasis with stable cardiomegaly. Mild to moderate enlargement of the cardiac silhouette, bibasilar opacities likely indicative of atelectasis, alongside mild interstitial pulmonary edema. Presence of bibasilar opacities possibly reflective of either atelectasis or aspiration/pneumonia, and mild interstitial pulmonary edema. Reduced lung volumes causing crowding of bronchovascular structures, innumerable pulmonary metastases and bibasilar atelectasis. Moderate bibasilar atelectasis in the scenario of low lung volumes. Finally, evidence of interstitial lung markings attributable to chronic interstitial lung disease with a missed splenic shadow, indicative of sickle cell disease with acute chest syndrome, alongside a mild enlargement of the cardiac silhouette.', role='assistant', function_call=None, tool_calls=None))], created=1721973959, model='gpt-4-0613', object='chat.completion', service_tier=None, system_fingerprint=None, usage=CompletionUsage(completion_tokens=167, prompt_tokens=1356, total_tokens=1523))\n",
      "\n",
      "Generated report for image 149_3373e04d-44222d3e-2a706a8e-f5a037de-a41a60f6:\n",
      "ChatCompletion(id='chatcmpl-9p8Ndaqk5xPx46F8sQNLTqUpX8kVf', choices=[Choice(finish_reason='stop', index=0, logprobs=None, message=ChatCompletionMessage(content='Moderate pulmonary edema with small to moderate bilateral effusions, pointing towards significant cardiomegaly. Mild probable atelectasis present in the lower lung zones. No evident pneumothorax. Presence also noted of pleural airspace disease, likely due to partial lower lobe atelectasis, though definitive exclusion of pneumonia is not possible.', role='assistant', function_call=None, tool_calls=None))], created=1721973969, model='gpt-4-0613', object='chat.completion', service_tier=None, system_fingerprint=None, usage=CompletionUsage(completion_tokens=69, prompt_tokens=1133, total_tokens=1202))\n",
      "\n",
      "Generated report for image 215_0d985d10-36a2a165-ddc49c96-8b8466c9-df947f57:\n",
      "ChatCompletion(id='chatcmpl-9p8Ni70fMW1MesjUKvichR5XNVNif', choices=[Choice(finish_reason='stop', index=0, logprobs=None, message=ChatCompletionMessage(content='1. No evidence of acute cardiopulmonary process in a patient presenting with back pain and fever.\\n2. No acute cardiopulmonary process in a patient with chest pain.\\n3. No acute cardiopulmonary process in a patient with chest pain, with clear lungs and no signs of infection or pneumothorax.\\n4. Bilateral changes in the perihilar regions of the lungs, suggestive of underlying scarring. Presence of opacities, particularly in the right lower lung, may be suggestive of superimposed infection or an acute process.\\n5. Cardiomegaly, hilar congestion, and mild pulmonary edema observed in a patient with reported cough and dyspnea on exertion. There is no large effusion, pneumothorax, or signs of pneumonia, and bony structures are intact.\\n6. Incidental findings of an azygos fissure with mild opacity in the inferior aspect. Presence of a painless right chest wall mass lateral to the nipple, with intact skin, suggestive of a lung cancer case. A similar finding of a probable esophageal carcinoma case characterised by a posterior mediastinal density on a lateral projection.', role='assistant', function_call=None, tool_calls=None))], created=1721973974, model='gpt-4-0613', object='chat.completion', service_tier=None, system_fingerprint=None, usage=CompletionUsage(completion_tokens=239, prompt_tokens=1073, total_tokens=1312))\n",
      "\n",
      "Generated report for image 242_81791c39-946a2aaa-fd27f78d-48400e77-610e2ae2:\n",
      "ChatCompletion(id='chatcmpl-9p8NwmgL7VJTl8yyKNhAIc9NBfmjg', choices=[Choice(finish_reason='stop', index=0, logprobs=None, message=ChatCompletionMessage(content='Multifocal pneumonia observed in the right upper, middle, and lower lobes. Mild cardiomegaly is also present. Diffuse interstitial abnormality detected with moderate peribronchial cuffing suggesting small airway inflammation. Prominent bilateral interstitial opacities could indicate possible interstitial lung disease or interstitial edema. Presence of mild interstitial edema and cardiomegaly alongside small bilateral pleural effusions. Other findings include an azygos fissure presenting with mild opacity in the inferior aspect of the fissure, a painless right chest wall mass suggesting lung cancer and an \"aortic nipple\" indicating a prominent left superior intercostal vein. The inferior pulmonary ligament, revealed by the retrocardiac irregularity on the left hemidiaphragm, appears normal.', role='assistant', function_call=None, tool_calls=None))], created=1721973988, model='gpt-4-0613', object='chat.completion', service_tier=None, system_fingerprint=None, usage=CompletionUsage(completion_tokens=163, prompt_tokens=983, total_tokens=1146))\n",
      "\n",
      "Generated report for image 163_11b6ac54-65f50afa-38228a29-8a18a28e-c51e103a:\n",
      "ChatCompletion(id='chatcmpl-9p8O35dsBol04pqiQa7COvBMukuSr', choices=[Choice(finish_reason='stop', index=0, logprobs=None, message=ChatCompletionMessage(content='The examination reveals a large volume removal of right pleural effusion with no definite pneumothorax. There is an increased opacification in the lower right hemithorax due to severe chronic pulmonary disease and scarring that indicates a possible developing pneumonia. There is also an increased pleural effusion on the left, a severe enlargement of the cardiac silhouette, and moderate pulmonary vascular congestion. \\n\\nIn addition, the examination also highlights worsening of areas of consolidation and interstitial prominence throughout both lung fields, with more confluent areas of consolidation in the perihilar regions and in the left base. This may indicate multifocal pneumonia or superimposed pulmonary edema.\\n\\nFurthermore, an increase in both right and left pleural effusions is noted, along with consolidation in the right lower and middle lobes. No evident pneumothorax is identified. Both right mid-lung consolidation and interstitial changes appear extensive and are concerning for an infectious process. \\n\\nPatchy airspace opacities are seen in the mid to lower zones bilaterally and left retrocardiac region suggestive of worsening infective changes. A small left pleural effusion with adjacent atelectasis is also noted.\\n\\nThere are moderate to large pleural effusions with multiple septations and underlying consolidation, which is indicative of thoracic empyema. Finally, a large retrocardiac cystic lesion with air/fluid level is indicative of a hiatus hernia.', role='assistant', function_call=None, tool_calls=None))], created=1721973995, model='gpt-4-0613', object='chat.completion', service_tier=None, system_fingerprint=None, usage=CompletionUsage(completion_tokens=288, prompt_tokens=1066, total_tokens=1354))\n",
      "\n",
      "Report generation completed.\n"
     ]
    }
   ],
   "source": [
    "def generate_report(prompt):\n",
    "    response = client.chat.completions.create(\n",
    "        model=\"gpt-4\",\n",
    "        messages=[\n",
    "            {\"role\": \"system\", \"content\": \"You are a medical AI specialized in generating radiology reports.\"},\n",
    "            {\"role\": \"user\", \"content\": prompt}\n",
    "        ],\n",
    "        max_tokens=300 \n",
    "    )\n",
    "    return(response)\n",
    "    \n",
    "\n",
    "generated_reports = {}\n",
    "for image_id, prompt in detailed_prompts.items():\n",
    "    generated_reports[image_id] = generate_report(prompt)\n",
    "    print(f\"Generated report for image {image_id}:\\n{generated_reports[image_id]}\\n\")\n",
    "\n",
    "with open('generated_reports.txt', 'w') as file:\n",
    "    for image_id, report in generated_reports.items():\n",
    "        file.write(f\"Image ID: {image_id}\\n\")\n",
    "        file.write(f\"{report}\\n\")\n",
    "        file.write(\"\\n\" + \"-\"*80 + \"\\n\")\n",
    "\n",
    "print(\"Report generation completed.\")\n"
   ]
  },
  {
   "cell_type": "code",
   "execution_count": 23,
   "metadata": {},
   "outputs": [
    {
     "data": {
      "text/plain": [
       "{'450_4c8f8ea6-47e8a94c-d0102870-54af5bd2-c538db5f': ChatCompletion(id='chatcmpl-9p8MRA0VOXPtsRFrp2aXvLdwmOMW9', choices=[Choice(finish_reason='stop', index=0, logprobs=None, message=ChatCompletionMessage(content='Multiple findings are present including bilateral perihilar opacities, possible effusions indicated by blunting of the costophrenic angles, and potential atelectasis or consolidation in the region of the minor fissure. Atherosclerotic and mitral annular calcifications are noted, alongside an enlarged cardiac silhouette. There are also multiple compression deformities in the thoracic and lumbar spine. \\n\\nAdditional findings include moderate enlargement of the heart, central vascular congestion with mild interstitial edema and right lower and middle lobe densities which may indicate consolidations. No pneumothorax is seen.\\n\\nThe presence of multifocal regions of consolidation are compatible with metastatic lesions in the lungs. However, no definitive acute cardiopulmonary process is identified.\\n\\nChronic pulmonary fibrotic changes are noted extensively, especially in the peripheral basal regions. Cardiomegaly is moderate and stable. There is no identified pleural effusion or pneumothorax.\\n\\nIncreasing bibasilar opacities may suggest atelectasis. The presence of small bilateral pleural effusions are probable. Interstitial thickening in the lingula is suggested by a shaggy heart border. Interstitial lung markings consistent with chronic interstitial lung disease were observed throughout the lung, potentially indicating volume loss. Bilateral shoulder injuries are noted including a dislocated left glenohumeral joint and a fractured right proximal humerus.', role='assistant', function_call=None, tool_calls=None))], created=1721973895, model='gpt-4-0613', object='chat.completion', service_tier=None, system_fingerprint=None, usage=CompletionUsage(completion_tokens=286, prompt_tokens=1259, total_tokens=1545)),\n",
       " '173_eb2fabb7-4bbc8aab-d7371282-08e5bcb5-de2e430a': ChatCompletion(id='chatcmpl-9p8MeEyIptCmn1DLLlrntuyQcCdO7', choices=[Choice(finish_reason='stop', index=0, logprobs=None, message=ChatCompletionMessage(content='Moderate right pleural effusion with associated right lower lobe volume loss, possible underlying infection. Small left pleural effusion with associated left lower lobe volume loss. Diffuse nodular parenchymal opacities increasing in extent and severity in the right lung. Severe cardiomegaly with mild pulmonary edema and small bilateral pleural effusions. Possibility of compressive atelectasis due to patchy lung base opacities. Moderate bilateral pleural effusions with potential adjacent compressive atelectasis and underlying consolidation at the right base. Presence of pleural effusion, pulmonary edema, and potential pneumonia particularly in the right lower lobe. Moderate-to-large-sized pleural effusion with multiple septations/locations and underlying consolidation signifying thoracic empyema. Compressive atelectasis associated with right pleural effusion and a small left pleural effusion, left upper zone mass, and enlarged cardiac silhouette may indicate re-expansion pulmonary edema. Patchy opacities in the bilateral mid to lower zones and left retrocardiac regions suggesting potential worsening infective changes, adjacent left pleural effusion and associated atelectasis.', role='assistant', function_call=None, tool_calls=None))], created=1721973908, model='gpt-4-0613', object='chat.completion', service_tier=None, system_fingerprint=None, usage=CompletionUsage(completion_tokens=238, prompt_tokens=1233, total_tokens=1471)),\n",
       " '23_28fad2ac-d6001216-b4f72c5b-2d4d452e-17b6c9a5': ChatCompletion(id='chatcmpl-9p8MpJYUwhddFrlNsS0mcIXlQqUKf', choices=[Choice(finish_reason='stop', index=0, logprobs=None, message=ChatCompletionMessage(content='The first report shows a well-expanded and clear lung with normal heart size and no sign of intrathoracic process. Second report presents a normal chest radiograph with clear lungs, normal heart size, and no pleural effusion or pneumothorax. Third report also describes clear lungs without signs of consolidation, effusion or pneumothorax, and normal cardiopulmonary silhouette. Similarly, the fourth report shows clear and well-expanded lungs without pleural effusion, pneumothorax or abnormality in the heart. In the fifth report, the lungs are free from consolidation, effusion, pneumothorax, and no evidence of significant free air presence, indicating no acute cardiopulmonary process. Finally, although incidents of a prominent left rhomboid fossa of the clavicle and a right nipple stud are mentioned, the lungs and cardiomediastinal contours remain normal. The latter reports indicate no symptoms of pneumonia, and in the patient with Myasthenia gravis, no signs of anterior superior mediastinal mass with clear lungs, and normal heart, mediastinum, pulmonary vessels, and diaphragm. Overall, all reports suggest normal cardiopulmonary findings without the presence of acute intrathoracic processes.', role='assistant', function_call=None, tool_calls=None))], created=1721973919, model='gpt-4-0613', object='chat.completion', service_tier=None, system_fingerprint=None, usage=CompletionUsage(completion_tokens=256, prompt_tokens=804, total_tokens=1060)),\n",
       " '210_5053834b-b1bea04f-680aec42-45abe415-c2d097ba': ChatCompletion(id='chatcmpl-9p8N4XE2ix9p6wVHAzMdtOH2h4R9R', choices=[Choice(finish_reason='length', index=0, logprobs=None, message=ChatCompletionMessage(content='1. Reduced size of right pleural effusion and presence of small left pleural effusion.\\n2. Unchanged left apical cavitary lesion and large hiatal hernia noted.\\n3. Left perihilar consolidation aligning with the region of left lower lobe bronchiectasis.\\n4. Likely atelectasis or re-expansion edema at the right lung base with a normal size cardiomediastinal silhouette. No pneumothorax detected.\\n5. Increased fluid accumulation in the left pleural space with vascular congestion.\\n6. Decreased extent and severity of atelectasis in both right and left lung bases with expanded lung parenchyma.\\n7. Pronounced cardiomegaly and widened mediastinum with the development of pulmonary edema, potential for infection in right lower lobe consolidation and potential right pleural effusion. \\n8. Enlarged left pleural effusion with collapsed and/or consolidated left lower lobe, and improved right costophrenic angle blunting. Hyperinflation suggestive of COPD. \\n9. Notable mediastinal lymphadenopathy with a right upper zone nodule. Slight volume loss on the left with atelectasis and/or scarring. \\n10. Left-sided large pneumothorax, underlying lung collapse with no mediastinal shift and clear right lung.\\n11. Large, dilated, tortuous aortic arch and descending aorta causing mass effect on the trachea', role='assistant', function_call=None, tool_calls=None))], created=1721973934, model='gpt-4-0613', object='chat.completion', service_tier=None, system_fingerprint=None, usage=CompletionUsage(completion_tokens=300, prompt_tokens=1263, total_tokens=1563)),\n",
       " '17_6ad819bb-bae74eb9-7b663e90-b8deabd7-57f8054a': ChatCompletion(id='chatcmpl-9p8NJJgBTNSToz6ktivyJN55NhqRQ', choices=[Choice(finish_reason='stop', index=0, logprobs=None, message=ChatCompletionMessage(content='Moderate bilateral interstitial edema with a possibility of atypical infection, and the presence of small bilateral pleural effusions. Mild enlargement of the cardiac silhouette is noted. Signs of increased interstitial markings that may indicate worsening of known diffuse fibrotic interstitial lung disease or possible superimposed vascular congestion. Mild bilateral interstitial edema is persistent. The left hemidiaphragm demonstrates elevation with possible indications of atelectasis and tiny pleural effusions. Severe pulmonary interstitial abnormalities are visible, potentially due to interstitial pulmonary edema superimposed on moderate pulmonary emphysema. The presence of a possible superimposed infectious process is not ruled out. There exists an air-fluid level behind the heart suggestive of hiatus hernia, bilateral interstitial opacities hinting at miliary tuberculosis, and multiple intrapulmonary masses. Large pericardial effusion is evident with signs of the water bottle sign and enlarged pulmonary vasculature. Additionally, there are diffusely increased, inhomogeneous interstitial markings.', role='assistant', function_call=None, tool_calls=None))], created=1721973949, model='gpt-4-0613', object='chat.completion', service_tier=None, system_fingerprint=None, usage=CompletionUsage(completion_tokens=212, prompt_tokens=1195, total_tokens=1407)),\n",
       " '153_2c814e99-aa096010-bd722059-5a35bd69-a902e44e': ChatCompletion(id='chatcmpl-9p8NTkoJsnduIosqT8NMDYfNGz36Z', choices=[Choice(finish_reason='stop', index=0, logprobs=None, message=ChatCompletionMessage(content='Bilateral pulmonary congestion, emphysematous changes, and atelectasis with stable cardiomegaly. Mild to moderate enlargement of the cardiac silhouette, bibasilar opacities likely indicative of atelectasis, alongside mild interstitial pulmonary edema. Presence of bibasilar opacities possibly reflective of either atelectasis or aspiration/pneumonia, and mild interstitial pulmonary edema. Reduced lung volumes causing crowding of bronchovascular structures, innumerable pulmonary metastases and bibasilar atelectasis. Moderate bibasilar atelectasis in the scenario of low lung volumes. Finally, evidence of interstitial lung markings attributable to chronic interstitial lung disease with a missed splenic shadow, indicative of sickle cell disease with acute chest syndrome, alongside a mild enlargement of the cardiac silhouette.', role='assistant', function_call=None, tool_calls=None))], created=1721973959, model='gpt-4-0613', object='chat.completion', service_tier=None, system_fingerprint=None, usage=CompletionUsage(completion_tokens=167, prompt_tokens=1356, total_tokens=1523)),\n",
       " '149_3373e04d-44222d3e-2a706a8e-f5a037de-a41a60f6': ChatCompletion(id='chatcmpl-9p8Ndaqk5xPx46F8sQNLTqUpX8kVf', choices=[Choice(finish_reason='stop', index=0, logprobs=None, message=ChatCompletionMessage(content='Moderate pulmonary edema with small to moderate bilateral effusions, pointing towards significant cardiomegaly. Mild probable atelectasis present in the lower lung zones. No evident pneumothorax. Presence also noted of pleural airspace disease, likely due to partial lower lobe atelectasis, though definitive exclusion of pneumonia is not possible.', role='assistant', function_call=None, tool_calls=None))], created=1721973969, model='gpt-4-0613', object='chat.completion', service_tier=None, system_fingerprint=None, usage=CompletionUsage(completion_tokens=69, prompt_tokens=1133, total_tokens=1202)),\n",
       " '215_0d985d10-36a2a165-ddc49c96-8b8466c9-df947f57': ChatCompletion(id='chatcmpl-9p8Ni70fMW1MesjUKvichR5XNVNif', choices=[Choice(finish_reason='stop', index=0, logprobs=None, message=ChatCompletionMessage(content='1. No evidence of acute cardiopulmonary process in a patient presenting with back pain and fever.\\n2. No acute cardiopulmonary process in a patient with chest pain.\\n3. No acute cardiopulmonary process in a patient with chest pain, with clear lungs and no signs of infection or pneumothorax.\\n4. Bilateral changes in the perihilar regions of the lungs, suggestive of underlying scarring. Presence of opacities, particularly in the right lower lung, may be suggestive of superimposed infection or an acute process.\\n5. Cardiomegaly, hilar congestion, and mild pulmonary edema observed in a patient with reported cough and dyspnea on exertion. There is no large effusion, pneumothorax, or signs of pneumonia, and bony structures are intact.\\n6. Incidental findings of an azygos fissure with mild opacity in the inferior aspect. Presence of a painless right chest wall mass lateral to the nipple, with intact skin, suggestive of a lung cancer case. A similar finding of a probable esophageal carcinoma case characterised by a posterior mediastinal density on a lateral projection.', role='assistant', function_call=None, tool_calls=None))], created=1721973974, model='gpt-4-0613', object='chat.completion', service_tier=None, system_fingerprint=None, usage=CompletionUsage(completion_tokens=239, prompt_tokens=1073, total_tokens=1312)),\n",
       " '242_81791c39-946a2aaa-fd27f78d-48400e77-610e2ae2': ChatCompletion(id='chatcmpl-9p8NwmgL7VJTl8yyKNhAIc9NBfmjg', choices=[Choice(finish_reason='stop', index=0, logprobs=None, message=ChatCompletionMessage(content='Multifocal pneumonia observed in the right upper, middle, and lower lobes. Mild cardiomegaly is also present. Diffuse interstitial abnormality detected with moderate peribronchial cuffing suggesting small airway inflammation. Prominent bilateral interstitial opacities could indicate possible interstitial lung disease or interstitial edema. Presence of mild interstitial edema and cardiomegaly alongside small bilateral pleural effusions. Other findings include an azygos fissure presenting with mild opacity in the inferior aspect of the fissure, a painless right chest wall mass suggesting lung cancer and an \"aortic nipple\" indicating a prominent left superior intercostal vein. The inferior pulmonary ligament, revealed by the retrocardiac irregularity on the left hemidiaphragm, appears normal.', role='assistant', function_call=None, tool_calls=None))], created=1721973988, model='gpt-4-0613', object='chat.completion', service_tier=None, system_fingerprint=None, usage=CompletionUsage(completion_tokens=163, prompt_tokens=983, total_tokens=1146)),\n",
       " '163_11b6ac54-65f50afa-38228a29-8a18a28e-c51e103a': ChatCompletion(id='chatcmpl-9p8O35dsBol04pqiQa7COvBMukuSr', choices=[Choice(finish_reason='stop', index=0, logprobs=None, message=ChatCompletionMessage(content='The examination reveals a large volume removal of right pleural effusion with no definite pneumothorax. There is an increased opacification in the lower right hemithorax due to severe chronic pulmonary disease and scarring that indicates a possible developing pneumonia. There is also an increased pleural effusion on the left, a severe enlargement of the cardiac silhouette, and moderate pulmonary vascular congestion. \\n\\nIn addition, the examination also highlights worsening of areas of consolidation and interstitial prominence throughout both lung fields, with more confluent areas of consolidation in the perihilar regions and in the left base. This may indicate multifocal pneumonia or superimposed pulmonary edema.\\n\\nFurthermore, an increase in both right and left pleural effusions is noted, along with consolidation in the right lower and middle lobes. No evident pneumothorax is identified. Both right mid-lung consolidation and interstitial changes appear extensive and are concerning for an infectious process. \\n\\nPatchy airspace opacities are seen in the mid to lower zones bilaterally and left retrocardiac region suggestive of worsening infective changes. A small left pleural effusion with adjacent atelectasis is also noted.\\n\\nThere are moderate to large pleural effusions with multiple septations and underlying consolidation, which is indicative of thoracic empyema. Finally, a large retrocardiac cystic lesion with air/fluid level is indicative of a hiatus hernia.', role='assistant', function_call=None, tool_calls=None))], created=1721973995, model='gpt-4-0613', object='chat.completion', service_tier=None, system_fingerprint=None, usage=CompletionUsage(completion_tokens=288, prompt_tokens=1066, total_tokens=1354))}"
      ]
     },
     "execution_count": 23,
     "metadata": {},
     "output_type": "execute_result"
    }
   ],
   "source": [
    "generated_reports"
   ]
  },
  {
   "cell_type": "code",
   "execution_count": 24,
   "metadata": {},
   "outputs": [],
   "source": [
    "import re\n",
    "\n",
    "def clean_report_text(text):\n",
    "    text = re.sub(r'\\n', ' ', text)  \n",
    "    text = re.sub(r'\\s+', ' ', text) \n",
    "    text = text.strip()\n",
    "    return text\n"
   ]
  },
  {
   "cell_type": "code",
   "execution_count": 25,
   "metadata": {},
   "outputs": [
    {
     "name": "stdout",
     "output_type": "stream",
     "text": [
      "Image ID: 450_4c8f8ea6-47e8a94c-d0102870-54af5bd2-c538db5f\n",
      "Report: Multiple findings are present including bilateral perihilar opacities, possible effusions indicated by blunting of the costophrenic angles, and potential atelectasis or consolidation in the region of the minor fissure. Atherosclerotic and mitral annular calcifications are noted, alongside an enlarged cardiac silhouette. There are also multiple compression deformities in the thoracic and lumbar spine.   Additional findings include moderate enlargement of the heart, central vascular congestion with mild interstitial edema and right lower and middle lobe densities which may indicate consolidations. No pneumothorax is seen.  The presence of multifocal regions of consolidation are compatible with metastatic lesions in the lungs. However, no definitive acute cardiopulmonary process is identified.  Chronic pulmonary fibrotic changes are noted extensively, especially in the peripheral basal regions. Cardiomegaly is moderate and stable. There is no identified pleural effusion or pneumothorax.  Increasing bibasilar opacities may suggest atelectasis. The presence of small bilateral pleural effusions are probable. Interstitial thickening in the lingula is suggested by a shaggy heart border. Interstitial lung markings consistent with chronic interstitial lung disease were observed throughout the lung, potentially indicating volume loss. Bilateral shoulder injuries are noted including a dislocated left glenohumeral joint and a fractured right proximal humerus.\n",
      "\n",
      "Image ID: 173_eb2fabb7-4bbc8aab-d7371282-08e5bcb5-de2e430a\n",
      "Report: Moderate right pleural effusion with associated right lower lobe volume loss, possible underlying infection. Small left pleural effusion with associated left lower lobe volume loss. Diffuse nodular parenchymal opacities increasing in extent and severity in the right lung. Severe cardiomegaly with mild pulmonary edema and small bilateral pleural effusions. Possibility of compressive atelectasis due to patchy lung base opacities. Moderate bilateral pleural effusions with potential adjacent compressive atelectasis and underlying consolidation at the right base. Presence of pleural effusion, pulmonary edema, and potential pneumonia particularly in the right lower lobe. Moderate-to-large-sized pleural effusion with multiple septations/locations and underlying consolidation signifying thoracic empyema. Compressive atelectasis associated with right pleural effusion and a small left pleural effusion, left upper zone mass, and enlarged cardiac silhouette may indicate re-expansion pulmonary edema. Patchy opacities in the bilateral mid to lower zones and left retrocardiac regions suggesting potential worsening infective changes, adjacent left pleural effusion and associated atelectasis.\n",
      "\n",
      "Image ID: 23_28fad2ac-d6001216-b4f72c5b-2d4d452e-17b6c9a5\n",
      "Report: The first report shows a well-expanded and clear lung with normal heart size and no sign of intrathoracic process. Second report presents a normal chest radiograph with clear lungs, normal heart size, and no pleural effusion or pneumothorax. Third report also describes clear lungs without signs of consolidation, effusion or pneumothorax, and normal cardiopulmonary silhouette. Similarly, the fourth report shows clear and well-expanded lungs without pleural effusion, pneumothorax or abnormality in the heart. In the fifth report, the lungs are free from consolidation, effusion, pneumothorax, and no evidence of significant free air presence, indicating no acute cardiopulmonary process. Finally, although incidents of a prominent left rhomboid fossa of the clavicle and a right nipple stud are mentioned, the lungs and cardiomediastinal contours remain normal. The latter reports indicate no symptoms of pneumonia, and in the patient with Myasthenia gravis, no signs of anterior superior mediastinal mass with clear lungs, and normal heart, mediastinum, pulmonary vessels, and diaphragm. Overall, all reports suggest normal cardiopulmonary findings without the presence of acute intrathoracic processes.\n",
      "\n",
      "Image ID: 210_5053834b-b1bea04f-680aec42-45abe415-c2d097ba\n",
      "Report: 1. Reduced size of right pleural effusion and presence of small left pleural effusion. 2. Unchanged left apical cavitary lesion and large hiatal hernia noted. 3. Left perihilar consolidation aligning with the region of left lower lobe bronchiectasis. 4. Likely atelectasis or re-expansion edema at the right lung base with a normal size cardiomediastinal silhouette. No pneumothorax detected. 5. Increased fluid accumulation in the left pleural space with vascular congestion. 6. Decreased extent and severity of atelectasis in both right and left lung bases with expanded lung parenchyma. 7. Pronounced cardiomegaly and widened mediastinum with the development of pulmonary edema, potential for infection in right lower lobe consolidation and potential right pleural effusion.  8. Enlarged left pleural effusion with collapsed and/or consolidated left lower lobe, and improved right costophrenic angle blunting. Hyperinflation suggestive of COPD.  9. Notable mediastinal lymphadenopathy with a right upper zone nodule. Slight volume loss on the left with atelectasis and/or scarring.  10. Left-sided large pneumothorax, underlying lung collapse with no mediastinal shift and clear right lung. 11. Large, dilated, tortuous aortic arch and descending aorta causing mass effect on the trachea\n",
      "\n",
      "Image ID: 17_6ad819bb-bae74eb9-7b663e90-b8deabd7-57f8054a\n",
      "Report: Moderate bilateral interstitial edema with a possibility of atypical infection, and the presence of small bilateral pleural effusions. Mild enlargement of the cardiac silhouette is noted. Signs of increased interstitial markings that may indicate worsening of known diffuse fibrotic interstitial lung disease or possible superimposed vascular congestion. Mild bilateral interstitial edema is persistent. The left hemidiaphragm demonstrates elevation with possible indications of atelectasis and tiny pleural effusions. Severe pulmonary interstitial abnormalities are visible, potentially due to interstitial pulmonary edema superimposed on moderate pulmonary emphysema. The presence of a possible superimposed infectious process is not ruled out. There exists an air-fluid level behind the heart suggestive of hiatus hernia, bilateral interstitial opacities hinting at miliary tuberculosis, and multiple intrapulmonary masses. Large pericardial effusion is evident with signs of the water bottle sign and enlarged pulmonary vasculature. Additionally, there are diffusely increased, inhomogeneous interstitial markings.\n",
      "\n",
      "Image ID: 153_2c814e99-aa096010-bd722059-5a35bd69-a902e44e\n",
      "Report: Bilateral pulmonary congestion, emphysematous changes, and atelectasis with stable cardiomegaly. Mild to moderate enlargement of the cardiac silhouette, bibasilar opacities likely indicative of atelectasis, alongside mild interstitial pulmonary edema. Presence of bibasilar opacities possibly reflective of either atelectasis or aspiration/pneumonia, and mild interstitial pulmonary edema. Reduced lung volumes causing crowding of bronchovascular structures, innumerable pulmonary metastases and bibasilar atelectasis. Moderate bibasilar atelectasis in the scenario of low lung volumes. Finally, evidence of interstitial lung markings attributable to chronic interstitial lung disease with a missed splenic shadow, indicative of sickle cell disease with acute chest syndrome, alongside a mild enlargement of the cardiac silhouette.\n",
      "\n",
      "Image ID: 149_3373e04d-44222d3e-2a706a8e-f5a037de-a41a60f6\n",
      "Report: Moderate pulmonary edema with small to moderate bilateral effusions, pointing towards significant cardiomegaly. Mild probable atelectasis present in the lower lung zones. No evident pneumothorax. Presence also noted of pleural airspace disease, likely due to partial lower lobe atelectasis, though definitive exclusion of pneumonia is not possible.\n",
      "\n",
      "Image ID: 215_0d985d10-36a2a165-ddc49c96-8b8466c9-df947f57\n",
      "Report: 1. No evidence of acute cardiopulmonary process in a patient presenting with back pain and fever. 2. No acute cardiopulmonary process in a patient with chest pain. 3. No acute cardiopulmonary process in a patient with chest pain, with clear lungs and no signs of infection or pneumothorax. 4. Bilateral changes in the perihilar regions of the lungs, suggestive of underlying scarring. Presence of opacities, particularly in the right lower lung, may be suggestive of superimposed infection or an acute process. 5. Cardiomegaly, hilar congestion, and mild pulmonary edema observed in a patient with reported cough and dyspnea on exertion. There is no large effusion, pneumothorax, or signs of pneumonia, and bony structures are intact. 6. Incidental findings of an azygos fissure with mild opacity in the inferior aspect. Presence of a painless right chest wall mass lateral to the nipple, with intact skin, suggestive of a lung cancer case. A similar finding of a probable esophageal carcinoma case characterised by a posterior mediastinal density on a lateral projection.\n",
      "\n",
      "Image ID: 242_81791c39-946a2aaa-fd27f78d-48400e77-610e2ae2\n",
      "Report: Multifocal pneumonia observed in the right upper, middle, and lower lobes. Mild cardiomegaly is also present. Diffuse interstitial abnormality detected with moderate peribronchial cuffing suggesting small airway inflammation. Prominent bilateral interstitial opacities could indicate possible interstitial lung disease or interstitial edema. Presence of mild interstitial edema and cardiomegaly alongside small bilateral pleural effusions. Other findings include an azygos fissure presenting with mild opacity in the inferior aspect of the fissure, a painless right chest wall mass suggesting lung cancer and an \"aortic nipple\" indicating a prominent left superior intercostal vein. The inferior pulmonary ligament, revealed by the retrocardiac irregularity on the left hemidiaphragm, appears normal.\n",
      "\n",
      "Image ID: 163_11b6ac54-65f50afa-38228a29-8a18a28e-c51e103a\n",
      "Report: The examination reveals a large volume removal of right pleural effusion with no definite pneumothorax. There is an increased opacification in the lower right hemithorax due to severe chronic pulmonary disease and scarring that indicates a possible developing pneumonia. There is also an increased pleural effusion on the left, a severe enlargement of the cardiac silhouette, and moderate pulmonary vascular congestion.   In addition, the examination also highlights worsening of areas of consolidation and interstitial prominence throughout both lung fields, with more confluent areas of consolidation in the perihilar regions and in the left base. This may indicate multifocal pneumonia or superimposed pulmonary edema.  Furthermore, an increase in both right and left pleural effusions is noted, along with consolidation in the right lower and middle lobes. No evident pneumothorax is identified. Both right mid-lung consolidation and interstitial changes appear extensive and are concerning for an infectious process.   Patchy airspace opacities are seen in the mid to lower zones bilaterally and left retrocardiac region suggestive of worsening infective changes. A small left pleural effusion with adjacent atelectasis is also noted.  There are moderate to large pleural effusions with multiple septations and underlying consolidation, which is indicative of thoracic empyema. Finally, a large retrocardiac cystic lesion with air/fluid level is indicative of a hiatus hernia.\n",
      "\n"
     ]
    }
   ],
   "source": [
    "import re\n",
    "\n",
    "# Function to extract report content from a file and clean it\n",
    "def extract_report_content(file_path):\n",
    "    with open(file_path, 'r') as file:\n",
    "        content = file.read()\n",
    "\n",
    "    \n",
    "    reports = content.split(\"--------------------------------------------------------------------------------\")\n",
    "    cleaned_reports = {}\n",
    "\n",
    "    for report in reports:\n",
    "        \n",
    "        image_id_match = re.search(r'Image ID: (\\S+)', report)\n",
    "        if image_id_match:\n",
    "            image_id = image_id_match.group(1)\n",
    "            \n",
    "            \n",
    "            report_content_match = re.search(r'content=\\'(.*?)\\'', report, re.DOTALL)\n",
    "            if report_content_match:\n",
    "                report_content = report_content_match.group(1).replace('\\\\n', ' ').replace('\\\\', '')\n",
    "\n",
    "               \n",
    "                cleaned_reports[image_id] = report_content.strip()\n",
    "    \n",
    "    return cleaned_reports\n",
    "\n",
    "\n",
    "file_path = 'generated_reports.txt'\n",
    "\n",
    "cleaned_generated_reports = extract_report_content(file_path)\n",
    "\n",
    "\n",
    "for image_id, report in cleaned_generated_reports.items():\n",
    "    print(f\"Image ID: {image_id}\")\n",
    "    print(f\"Report: {report}\\n\")\n",
    "\n"
   ]
  },
  {
   "cell_type": "code",
   "execution_count": 26,
   "metadata": {},
   "outputs": [
    {
     "data": {
      "text/plain": [
       "{'450_4c8f8ea6-47e8a94c-d0102870-54af5bd2-c538db5f': 'Multiple findings are present including bilateral perihilar opacities, possible effusions indicated by blunting of the costophrenic angles, and potential atelectasis or consolidation in the region of the minor fissure. Atherosclerotic and mitral annular calcifications are noted, alongside an enlarged cardiac silhouette. There are also multiple compression deformities in the thoracic and lumbar spine.   Additional findings include moderate enlargement of the heart, central vascular congestion with mild interstitial edema and right lower and middle lobe densities which may indicate consolidations. No pneumothorax is seen.  The presence of multifocal regions of consolidation are compatible with metastatic lesions in the lungs. However, no definitive acute cardiopulmonary process is identified.  Chronic pulmonary fibrotic changes are noted extensively, especially in the peripheral basal regions. Cardiomegaly is moderate and stable. There is no identified pleural effusion or pneumothorax.  Increasing bibasilar opacities may suggest atelectasis. The presence of small bilateral pleural effusions are probable. Interstitial thickening in the lingula is suggested by a shaggy heart border. Interstitial lung markings consistent with chronic interstitial lung disease were observed throughout the lung, potentially indicating volume loss. Bilateral shoulder injuries are noted including a dislocated left glenohumeral joint and a fractured right proximal humerus.',\n",
       " '173_eb2fabb7-4bbc8aab-d7371282-08e5bcb5-de2e430a': 'Moderate right pleural effusion with associated right lower lobe volume loss, possible underlying infection. Small left pleural effusion with associated left lower lobe volume loss. Diffuse nodular parenchymal opacities increasing in extent and severity in the right lung. Severe cardiomegaly with mild pulmonary edema and small bilateral pleural effusions. Possibility of compressive atelectasis due to patchy lung base opacities. Moderate bilateral pleural effusions with potential adjacent compressive atelectasis and underlying consolidation at the right base. Presence of pleural effusion, pulmonary edema, and potential pneumonia particularly in the right lower lobe. Moderate-to-large-sized pleural effusion with multiple septations/locations and underlying consolidation signifying thoracic empyema. Compressive atelectasis associated with right pleural effusion and a small left pleural effusion, left upper zone mass, and enlarged cardiac silhouette may indicate re-expansion pulmonary edema. Patchy opacities in the bilateral mid to lower zones and left retrocardiac regions suggesting potential worsening infective changes, adjacent left pleural effusion and associated atelectasis.',\n",
       " '23_28fad2ac-d6001216-b4f72c5b-2d4d452e-17b6c9a5': 'The first report shows a well-expanded and clear lung with normal heart size and no sign of intrathoracic process. Second report presents a normal chest radiograph with clear lungs, normal heart size, and no pleural effusion or pneumothorax. Third report also describes clear lungs without signs of consolidation, effusion or pneumothorax, and normal cardiopulmonary silhouette. Similarly, the fourth report shows clear and well-expanded lungs without pleural effusion, pneumothorax or abnormality in the heart. In the fifth report, the lungs are free from consolidation, effusion, pneumothorax, and no evidence of significant free air presence, indicating no acute cardiopulmonary process. Finally, although incidents of a prominent left rhomboid fossa of the clavicle and a right nipple stud are mentioned, the lungs and cardiomediastinal contours remain normal. The latter reports indicate no symptoms of pneumonia, and in the patient with Myasthenia gravis, no signs of anterior superior mediastinal mass with clear lungs, and normal heart, mediastinum, pulmonary vessels, and diaphragm. Overall, all reports suggest normal cardiopulmonary findings without the presence of acute intrathoracic processes.',\n",
       " '210_5053834b-b1bea04f-680aec42-45abe415-c2d097ba': '1. Reduced size of right pleural effusion and presence of small left pleural effusion. 2. Unchanged left apical cavitary lesion and large hiatal hernia noted. 3. Left perihilar consolidation aligning with the region of left lower lobe bronchiectasis. 4. Likely atelectasis or re-expansion edema at the right lung base with a normal size cardiomediastinal silhouette. No pneumothorax detected. 5. Increased fluid accumulation in the left pleural space with vascular congestion. 6. Decreased extent and severity of atelectasis in both right and left lung bases with expanded lung parenchyma. 7. Pronounced cardiomegaly and widened mediastinum with the development of pulmonary edema, potential for infection in right lower lobe consolidation and potential right pleural effusion.  8. Enlarged left pleural effusion with collapsed and/or consolidated left lower lobe, and improved right costophrenic angle blunting. Hyperinflation suggestive of COPD.  9. Notable mediastinal lymphadenopathy with a right upper zone nodule. Slight volume loss on the left with atelectasis and/or scarring.  10. Left-sided large pneumothorax, underlying lung collapse with no mediastinal shift and clear right lung. 11. Large, dilated, tortuous aortic arch and descending aorta causing mass effect on the trachea',\n",
       " '17_6ad819bb-bae74eb9-7b663e90-b8deabd7-57f8054a': 'Moderate bilateral interstitial edema with a possibility of atypical infection, and the presence of small bilateral pleural effusions. Mild enlargement of the cardiac silhouette is noted. Signs of increased interstitial markings that may indicate worsening of known diffuse fibrotic interstitial lung disease or possible superimposed vascular congestion. Mild bilateral interstitial edema is persistent. The left hemidiaphragm demonstrates elevation with possible indications of atelectasis and tiny pleural effusions. Severe pulmonary interstitial abnormalities are visible, potentially due to interstitial pulmonary edema superimposed on moderate pulmonary emphysema. The presence of a possible superimposed infectious process is not ruled out. There exists an air-fluid level behind the heart suggestive of hiatus hernia, bilateral interstitial opacities hinting at miliary tuberculosis, and multiple intrapulmonary masses. Large pericardial effusion is evident with signs of the water bottle sign and enlarged pulmonary vasculature. Additionally, there are diffusely increased, inhomogeneous interstitial markings.',\n",
       " '153_2c814e99-aa096010-bd722059-5a35bd69-a902e44e': 'Bilateral pulmonary congestion, emphysematous changes, and atelectasis with stable cardiomegaly. Mild to moderate enlargement of the cardiac silhouette, bibasilar opacities likely indicative of atelectasis, alongside mild interstitial pulmonary edema. Presence of bibasilar opacities possibly reflective of either atelectasis or aspiration/pneumonia, and mild interstitial pulmonary edema. Reduced lung volumes causing crowding of bronchovascular structures, innumerable pulmonary metastases and bibasilar atelectasis. Moderate bibasilar atelectasis in the scenario of low lung volumes. Finally, evidence of interstitial lung markings attributable to chronic interstitial lung disease with a missed splenic shadow, indicative of sickle cell disease with acute chest syndrome, alongside a mild enlargement of the cardiac silhouette.',\n",
       " '149_3373e04d-44222d3e-2a706a8e-f5a037de-a41a60f6': 'Moderate pulmonary edema with small to moderate bilateral effusions, pointing towards significant cardiomegaly. Mild probable atelectasis present in the lower lung zones. No evident pneumothorax. Presence also noted of pleural airspace disease, likely due to partial lower lobe atelectasis, though definitive exclusion of pneumonia is not possible.',\n",
       " '215_0d985d10-36a2a165-ddc49c96-8b8466c9-df947f57': '1. No evidence of acute cardiopulmonary process in a patient presenting with back pain and fever. 2. No acute cardiopulmonary process in a patient with chest pain. 3. No acute cardiopulmonary process in a patient with chest pain, with clear lungs and no signs of infection or pneumothorax. 4. Bilateral changes in the perihilar regions of the lungs, suggestive of underlying scarring. Presence of opacities, particularly in the right lower lung, may be suggestive of superimposed infection or an acute process. 5. Cardiomegaly, hilar congestion, and mild pulmonary edema observed in a patient with reported cough and dyspnea on exertion. There is no large effusion, pneumothorax, or signs of pneumonia, and bony structures are intact. 6. Incidental findings of an azygos fissure with mild opacity in the inferior aspect. Presence of a painless right chest wall mass lateral to the nipple, with intact skin, suggestive of a lung cancer case. A similar finding of a probable esophageal carcinoma case characterised by a posterior mediastinal density on a lateral projection.',\n",
       " '242_81791c39-946a2aaa-fd27f78d-48400e77-610e2ae2': 'Multifocal pneumonia observed in the right upper, middle, and lower lobes. Mild cardiomegaly is also present. Diffuse interstitial abnormality detected with moderate peribronchial cuffing suggesting small airway inflammation. Prominent bilateral interstitial opacities could indicate possible interstitial lung disease or interstitial edema. Presence of mild interstitial edema and cardiomegaly alongside small bilateral pleural effusions. Other findings include an azygos fissure presenting with mild opacity in the inferior aspect of the fissure, a painless right chest wall mass suggesting lung cancer and an \"aortic nipple\" indicating a prominent left superior intercostal vein. The inferior pulmonary ligament, revealed by the retrocardiac irregularity on the left hemidiaphragm, appears normal.',\n",
       " '163_11b6ac54-65f50afa-38228a29-8a18a28e-c51e103a': 'The examination reveals a large volume removal of right pleural effusion with no definite pneumothorax. There is an increased opacification in the lower right hemithorax due to severe chronic pulmonary disease and scarring that indicates a possible developing pneumonia. There is also an increased pleural effusion on the left, a severe enlargement of the cardiac silhouette, and moderate pulmonary vascular congestion.   In addition, the examination also highlights worsening of areas of consolidation and interstitial prominence throughout both lung fields, with more confluent areas of consolidation in the perihilar regions and in the left base. This may indicate multifocal pneumonia or superimposed pulmonary edema.  Furthermore, an increase in both right and left pleural effusions is noted, along with consolidation in the right lower and middle lobes. No evident pneumothorax is identified. Both right mid-lung consolidation and interstitial changes appear extensive and are concerning for an infectious process.   Patchy airspace opacities are seen in the mid to lower zones bilaterally and left retrocardiac region suggestive of worsening infective changes. A small left pleural effusion with adjacent atelectasis is also noted.  There are moderate to large pleural effusions with multiple septations and underlying consolidation, which is indicative of thoracic empyema. Finally, a large retrocardiac cystic lesion with air/fluid level is indicative of a hiatus hernia.'}"
      ]
     },
     "execution_count": 26,
     "metadata": {},
     "output_type": "execute_result"
    }
   ],
   "source": [
    "cleaned_generated_reports"
   ]
  },
  {
   "cell_type": "code",
   "execution_count": 29,
   "metadata": {},
   "outputs": [
    {
     "name": "stdout",
     "output_type": "stream",
     "text": [
      "Cleaned reports have been saved to cleaned_generated_reports.txt\n"
     ]
    }
   ],
   "source": [
    "import re\n",
    "\n",
    "# Function to extract and clean report content from a file\n",
    "def extract_report_content(file_path):\n",
    "    with open(file_path, 'r') as file:\n",
    "        content = file.read()\n",
    "\n",
    "    reports = content.split(\"--------------------------------------------------------------------------------\")\n",
    "    cleaned_reports = {}\n",
    "\n",
    "    for report in reports:\n",
    "        image_id_match = re.search(r'Image ID: (\\S+)', report)\n",
    "        if image_id_match:\n",
    "            image_id = image_id_match.group(1)\n",
    "            \n",
    "            report_content_match = re.search(r'content=\\'(.*?)\\'', report, re.DOTALL)\n",
    "            if report_content_match:\n",
    "                report_content = report_content_match.group(1).replace('\\\\n', ' ').replace('\\\\', '')\n",
    "\n",
    "                cleaned_reports[image_id] = report_content.strip()\n",
    "    \n",
    "    return cleaned_reports\n",
    "\n",
    "def save_reports_as_txt(cleaned_reports, output_file_path):\n",
    "    with open(output_file_path, 'w') as file:\n",
    "        for image_id, report in cleaned_reports.items():\n",
    "            file.write(f\"Image ID: {image_id}\\n\")\n",
    "            file.write(f\"Report: {report}\\n\")\n",
    "            file.write(\"--------------------------------------------------------------------------------\\n\")\n",
    "\n",
    "file_path = 'generated_reports.txt'\n",
    "output_file_path = 'cleaned_generated_reports.txt'\n",
    "\n",
    "cleaned_generated_reports = extract_report_content(file_path)\n",
    "save_reports_as_txt(cleaned_generated_reports, output_file_path)\n",
    "\n",
    "print(f\"Cleaned reports have been saved to {output_file_path}\")\n"
   ]
  },
  {
   "cell_type": "code",
   "execution_count": 30,
   "metadata": {},
   "outputs": [],
   "source": [
    "import pandas as pd\n",
    "\n",
    "\n",
    "all_reports_df = pd.read_csv('all_reports_df_images.csv')\n",
    "\n",
    "data = []\n",
    "\n",
    "with open('cleaned_generated_reports.txt', 'r') as file:\n",
    "    content = file.read().strip().split('--------------------------------------------------------------------------------')\n",
    "\n",
    "for block in content:\n",
    "    lines = block.strip().split('\\n')\n",
    "    if len(lines) > 1:\n",
    "        try:\n",
    "            image_id = lines[0].split(': ')[1]\n",
    "            cleaned_report = ' '.join(lines[1:]).strip()\n",
    "            data.append([image_id, cleaned_report])\n",
    "        except IndexError:\n",
    "            print(f\"Skipping malformed block: {block}\")\n",
    "\n",
    "cleaned_reports_df = pd.DataFrame(data, columns=['image_id', 'AI_generated_report'])\n",
    "\n",
    "filtered_df = all_reports_df[all_reports_df['image_id'].isin(cleaned_reports_df['image_id'])]\n",
    "\n",
    "filtered_df = filtered_df.merge(cleaned_reports_df, on='image_id', how='left')\n",
    "\n",
    "filtered_df.to_csv('filtered_reports_with_ai.csv', index=False)\n",
    "\n"
   ]
  },
  {
   "cell_type": "code",
   "execution_count": 32,
   "metadata": {},
   "outputs": [
    {
     "name": "stdout",
     "output_type": "stream",
     "text": [
      "Generated report for image 450_4c8f8ea6-47e8a94c-d0102870-54af5bd2-c538db5f:\n",
      "ChatCompletion(id='chatcmpl-9p8W0dbfFFo2SW0gzh50XEbO7X0DO', choices=[Choice(finish_reason='stop', index=0, logprobs=None, message=ChatCompletionMessage(content='Impression Summary:\\nBilateral perihilar opacities and blunting of posterior costophrenic angles suggestive of effusions. Linear opacity in the minor fissure, potentially indicative of fluid or atelectasis. Cardiac silhouette appears enlarged, potentially due to poor inspiratory effort. Dense mitral annular and aortic calcifications are present. Age indeterminate multifocal compression deformities within the thoracic and likely lumbar spine. Findings are suggestive of congestive heart failure with a possibility of a superimposed infection.', role='assistant', function_call=None, tool_calls=None))], created=1721974488, model='gpt-4o-2024-05-13', object='chat.completion', service_tier=None, system_fingerprint='fp_400f27fa1f', usage=CompletionUsage(completion_tokens=108, prompt_tokens=1244, total_tokens=1352))\n",
      "\n",
      "Generated report for image 173_eb2fabb7-4bbc8aab-d7371282-08e5bcb5-de2e430a:\n",
      "ChatCompletion(id='chatcmpl-9p8W25YqRY9NAiiLRZXD35yKDex2b', choices=[Choice(finish_reason='stop', index=0, logprobs=None, message=ChatCompletionMessage(content='Moderate right pleural effusion with associated right lower lobe volume loss. A small left pleural effusion is also noted with left lower lobe volume loss. There is evidence of pulmonary vascular redistribution and moderate cardiomegaly. Patchy opacities in lung bases may indicate compressive atelectasis. No pneumothorax detected.', role='assistant', function_call=None, tool_calls=None))], created=1721974490, model='gpt-4o-2024-05-13', object='chat.completion', service_tier=None, system_fingerprint='fp_400f27fa1f', usage=CompletionUsage(completion_tokens=71, prompt_tokens=1212, total_tokens=1283))\n",
      "\n",
      "Generated report for image 23_28fad2ac-d6001216-b4f72c5b-2d4d452e-17b6c9a5:\n",
      "ChatCompletion(id='chatcmpl-9p8W4es5ACqEHKeGhwYxYhonopbf0', choices=[Choice(finish_reason='stop', index=0, logprobs=None, message=ChatCompletionMessage(content='No acute intrathoracic or cardiopulmonary process with incidental prominent left rhomboid fossa of the clavicle, a normal variant. Linear right nipple stud noted.', role='assistant', function_call=None, tool_calls=None))], created=1721974492, model='gpt-4o-2024-05-13', object='chat.completion', service_tier=None, system_fingerprint='fp_400f27fa1f', usage=CompletionUsage(completion_tokens=36, prompt_tokens=800, total_tokens=836))\n",
      "\n",
      "Generated report for image 210_5053834b-b1bea04f-680aec42-45abe415-c2d097ba:\n",
      "ChatCompletion(id='chatcmpl-9p8W6yO8GFKTFstFE16ZTkSxnynKJ', choices=[Choice(finish_reason='stop', index=0, logprobs=None, message=ChatCompletionMessage(content='**Impression:**\\n\\n- No pneumothorax.\\n- Decreased right pleural effusion.\\n- Small left pleural effusion, unchanged.\\n- Left perihilar consolidation in the left lower lobe.\\n- Right lung base opacity likely representing atelectasis or re-expansion edema.\\n- Large hiatal hernia noted.\\n- Normal cardiomediastinal silhouette.', role='assistant', function_call=None, tool_calls=None))], created=1721974494, model='gpt-4o-2024-05-13', object='chat.completion', service_tier=None, system_fingerprint='fp_4e2b2da518', usage=CompletionUsage(completion_tokens=77, prompt_tokens=1252, total_tokens=1329))\n",
      "\n",
      "Generated report for image 17_6ad819bb-bae74eb9-7b663e90-b8deabd7-57f8054a:\n",
      "ChatCompletion(id='chatcmpl-9p8W89SRE5JwePxQxMcJveafd9vl8', choices=[Choice(finish_reason='stop', index=0, logprobs=None, message=ChatCompletionMessage(content='Moderate interstitial edema with small bilateral pleural effusions. Mildly enlarged cardiac silhouette and prominence of the hila suggestive of fluid overload or pulmonary hypertension.', role='assistant', function_call=None, tool_calls=None))], created=1721974496, model='gpt-4o-2024-05-13', object='chat.completion', service_tier=None, system_fingerprint='fp_400f27fa1f', usage=CompletionUsage(completion_tokens=33, prompt_tokens=1174, total_tokens=1207))\n",
      "\n",
      "Generated report for image 153_2c814e99-aa096010-bd722059-5a35bd69-a902e44e:\n",
      "ChatCompletion(id='chatcmpl-9p8WAbFgUnnSsCoB3MWrvTNDNLHg7', choices=[Choice(finish_reason='stop', index=0, logprobs=None, message=ChatCompletionMessage(content='1. **Impression for Report 1:**\\n   Stable, moderate cardiomegaly. Mild emphysema without lobar consolidation.\\n\\n2. **Impression for Report 2:**\\n   Mild interstitial pulmonary edema, with patchy bibasilar opacities likely reflective of atelectasis.\\n\\n3. **Impression for Report 3:**\\n   Mild pulmonary edema with bibasilar opacities which could reflect atelectasis though difficult to exclude aspiration/pneumonia.\\n\\n4. **Impression for Report 4:**\\n   Innumerable pulmonary metastases are less pronounced on the current study. Bibasilar atelectasis.\\n\\n5. **Impression for Report 5:**\\n   Moderate bibasilar atelectasis with low lung volumes. Bilateral shoulder injuries with left glenohumeral dislocation and right proximal humerus fracture. \\n\\n6. **Impression for Report 6:**\\n   Mildly enlarged cardiac silhouette. Bilateral lower zone atelectasis and hazy airspace opacities. Diffusely sclerotic bones with multi-level H-shaped vertebral bodies.\\n\\n7. **Impression for Report 7:**\\n   Extensive interstitial lung markings throughout the lungs are consistent with chronic interstitial lung disease. Enlarged heart silhouette.', role='assistant', function_call=None, tool_calls=None))], created=1721974498, model='gpt-4o-2024-05-13', object='chat.completion', service_tier=None, system_fingerprint='fp_400f27fa1f', usage=CompletionUsage(completion_tokens=263, prompt_tokens=1341, total_tokens=1604))\n",
      "\n",
      "Generated report for image 149_3373e04d-44222d3e-2a706a8e-f5a037de-a41a60f6:\n",
      "ChatCompletion(id='chatcmpl-9p8WEUr2jy2rjfcUmDvzlLjZ4YG2s', choices=[Choice(finish_reason='stop', index=0, logprobs=None, message=ChatCompletionMessage(content='Mild to moderate pulmonary edema with small to moderate bilateral pleural effusions and cardiomegaly. There is airspace shadowing suggestive of secondary pulmonary edema. The presence of prominent left-sided aortic arch and large gas-filled hiatus hernia is also noted.', role='assistant', function_call=None, tool_calls=None))], created=1721974502, model='gpt-4o-2024-05-13', object='chat.completion', service_tier=None, system_fingerprint='fp_18cc0f1fa0', usage=CompletionUsage(completion_tokens=54, prompt_tokens=1102, total_tokens=1156))\n",
      "\n",
      "Generated report for image 215_0d985d10-36a2a165-ddc49c96-8b8466c9-df947f57:\n",
      "ChatCompletion(id='chatcmpl-9p8WGpwKMzo4cME6fyxVLfa8fshiN', choices=[Choice(finish_reason='stop', index=0, logprobs=None, message=ChatCompletionMessage(content='1. No evidence of acute cardiopulmonary process.\\n\\n2. No acute cardiopulmonary process.\\n\\n3. No acute cardiopulmonary process.\\n\\n4. Changes in the perihilar regions of the lungs bilaterally suggesting underlying scarring. Increased opacity in the right mid lung and retrosternal clear space with associated linear, spiculated opacities.\\n\\n5. Cardiomegaly with hilar congestion and mild pulmonary edema. Incidental azygos fissure with mild opacity in the inferior aspect of the fissure.', role='assistant', function_call=None, tool_calls=None))], created=1721974504, model='gpt-4o-2024-05-13', object='chat.completion', service_tier=None, system_fingerprint='fp_400f27fa1f', usage=CompletionUsage(completion_tokens=108, prompt_tokens=1070, total_tokens=1178))\n",
      "\n",
      "Generated report for image 242_81791c39-946a2aaa-fd27f78d-48400e77-610e2ae2:\n",
      "ChatCompletion(id='chatcmpl-9p8WJW1rSK0cDXS7058KIlLCY9Shz', choices=[Choice(finish_reason='stop', index=0, logprobs=None, message=ChatCompletionMessage(content='1. Multifocal pneumonia within the right lung involving the right upper, middle, and lower lobes. Mild cardiomegaly.\\n\\n2. Diffuse interstitial abnormality and moderate peribronchial cuffing indicative of small airway inflammation. Mild cardiomegaly.\\n\\n3. Prominent bilateral interstitial opacities suggestive of interstitial lung disease versus interstitial edema.\\n\\n4. Mild interstitial edema. Cardiomegaly.\\n\\n5. Mild pulmonary edema and cardiomegaly. Small bilateral pleural effusions. Incidental azygos fissure with mild opacity.\\n\\n6. Painless right chest wall mass lateral to the nipple. Skin is intact.\\n\\n7. Prominent left superior intercostal vein (aortic nipple).\\n\\n8. Normal lung expansion and clear lungs. Cardiomegaly is stable. Inferior pulmonary ligament represented by retrocardiac irregularity.', role='assistant', function_call=None, tool_calls=None))], created=1721974507, model='gpt-4o-2024-05-13', object='chat.completion', service_tier=None, system_fingerprint='fp_4e2b2da518', usage=CompletionUsage(completion_tokens=178, prompt_tokens=973, total_tokens=1151))\n",
      "\n",
      "Generated report for image 163_11b6ac54-65f50afa-38228a29-8a18a28e-c51e103a:\n",
      "ChatCompletion(id='chatcmpl-9p8WNmD7HxeS1dNQGzTceYPwJMHeQ', choices=[Choice(finish_reason='length', index=0, logprobs=None, message=ChatCompletionMessage(content='1. Right-sided thoracentesis has resulted in the removal of a large amount of pleural fluid with no definite pneumothorax identified. There is increasing pleural effusion on the left, and mild to moderate pulmonary vascular congestion persists.\\n\\n2. Increased opacification in the lower right hemithorax, potentially indicative of volume loss in the right middle and lower lobes with pleural effusion, or developing pneumonia. Biapical scarring is present, and there is little change in the left base opacification.\\n\\n3. Worsening areas of consolidation and interstitial prominence throughout both lung fields, with more confluent areas in the perihilar regions and left base. No pneumothorax detected. Findings may be consistent with multifocal pneumonia or superimposed pulmonary edema.\\n\\n4. Increased large left pleural effusion, along with increased right pleural effusion and consolidations in the right lower and middle lobes. Low lung volumes are noted, and no evident pneumothorax is observed. Cardiomegaly cannot be assessed.\\n\\n5. Stable heart size and mediastinum. Right mid lung consolidation appears more conspicuous, suggesting an infectious process. Extensive interstitial changes and a small amount of bilateral pleural effusion are most likely present. No pneumothorax detected.\\n\\n6. Patchy air space opacities in the bilateral mid to lower zones and left retrocardiac region, suggestive of worsening infective changes. Small left', role='assistant', function_call=None, tool_calls=None))], created=1721974511, model='gpt-4o-2024-05-13', object='chat.completion', service_tier=None, system_fingerprint='fp_400f27fa1f', usage=CompletionUsage(completion_tokens=300, prompt_tokens=1075, total_tokens=1375))\n",
      "\n",
      "Report generation completed.\n"
     ]
    }
   ],
   "source": [
    "def generate_report(prompt):\n",
    "    response = client.chat.completions.create(\n",
    "        model=\"gpt-4o\",\n",
    "        messages=[\n",
    "            {\"role\": \"system\", \"content\": \"You are a medical AI specialized in generating radiology reports.\"},\n",
    "            {\"role\": \"user\", \"content\": prompt}\n",
    "        ],\n",
    "        max_tokens=300  \n",
    "    )\n",
    "    return(response)\n",
    "    \n",
    "\n",
    "generated_reports_4o = {}\n",
    "for image_id, prompt in detailed_prompts.items():\n",
    "    generated_reports[image_id] = generate_report(prompt)\n",
    "    print(f\"Generated report for image {image_id}:\\n{generated_reports[image_id]}\\n\")\n",
    "\n",
    "with open('generated_reports_4o.txt', 'w') as file:\n",
    "    for image_id, report in generated_reports.items():\n",
    "        file.write(f\"Image ID: {image_id}\\n\")\n",
    "        file.write(f\"{report}\\n\")\n",
    "        file.write(\"\\n\" + \"-\"*80 + \"\\n\")\n",
    "\n",
    "print(\"Report generation completed.\")\n"
   ]
  },
  {
   "cell_type": "code",
   "execution_count": 33,
   "metadata": {},
   "outputs": [
    {
     "name": "stdout",
     "output_type": "stream",
     "text": [
      "Cleaned reports have been saved to cleaned_generated_reports_4o.txt\n"
     ]
    }
   ],
   "source": [
    "import re\n",
    "\n",
    "def extract_report_content(file_path):\n",
    "    with open(file_path, 'r') as file:\n",
    "        content = file.read()\n",
    "\n",
    "    reports = content.split(\"--------------------------------------------------------------------------------\")\n",
    "    cleaned_reports = {}\n",
    "\n",
    "    for report in reports:\n",
    "        image_id_match = re.search(r'Image ID: (\\S+)', report)\n",
    "        if image_id_match:\n",
    "            image_id = image_id_match.group(1)\n",
    "            \n",
    "            report_content_match = re.search(r'content=\\'(.*?)\\'', report, re.DOTALL)\n",
    "            if report_content_match:\n",
    "                report_content = report_content_match.group(1).replace('\\\\n', ' ').replace('\\\\', '')\n",
    "\n",
    "                cleaned_reports[image_id] = report_content.strip()\n",
    "    \n",
    "    return cleaned_reports\n",
    "\n",
    "def save_reports_as_txt(cleaned_reports, output_file_path):\n",
    "    with open(output_file_path, 'w') as file:\n",
    "        for image_id, report in cleaned_reports.items():\n",
    "            file.write(f\"Image ID: {image_id}\\n\")\n",
    "            file.write(f\"Report: {report}\\n\")\n",
    "            file.write(\"--------------------------------------------------------------------------------\\n\")\n",
    "\n",
    "file_path = 'generated_reports_4o.txt'\n",
    "output_file_path = 'cleaned_generated_reports_4o.txt'\n",
    "\n",
    "cleaned_generated_reports = extract_report_content(file_path)\n",
    "save_reports_as_txt(cleaned_generated_reports, output_file_path)\n",
    "\n",
    "\n",
    "print(f\"Cleaned reports have been saved to {output_file_path}\")\n"
   ]
  },
  {
   "cell_type": "code",
   "execution_count": 34,
   "metadata": {},
   "outputs": [],
   "source": [
    "import pandas as pd\n",
    "\n",
    "\n",
    "all_reports_df = pd.read_csv('all_reports_df_images.csv')\n",
    "\n",
    "data = []\n",
    "\n",
    "with open('cleaned_generated_reports_4o.txt', 'r') as file:\n",
    "    content = file.read().strip().split('--------------------------------------------------------------------------------')\n",
    "\n",
    "for block in content:\n",
    "    lines = block.strip().split('\\n')\n",
    "    if len(lines) > 1:\n",
    "        try:\n",
    "            image_id = lines[0].split(': ')[1]\n",
    "            cleaned_report = ' '.join(lines[1:]).strip()\n",
    "            data.append([image_id, cleaned_report])\n",
    "        except IndexError:\n",
    "            print(f\"Skipping malformed block: {block}\")\n",
    "\n",
    "cleaned_reports_df_4o = pd.DataFrame(data, columns=['image_id', 'AI_generated_report_4o'])\n",
    "\n",
    "filtered_df_4o = all_reports_df[all_reports_df['image_id'].isin(cleaned_reports_df_4o['image_id'])]\n",
    "\n",
    "filtered_df_4o = filtered_df_4o.merge(cleaned_reports_df_4o, on='image_id', how='left')\n",
    "\n",
    "filtered_df_4o.to_csv('filtered_reports_with_ai_4o.csv', index=False)\n",
    "\n"
   ]
  },
  {
   "cell_type": "code",
   "execution_count": 37,
   "metadata": {},
   "outputs": [
    {
     "name": "stderr",
     "output_type": "stream",
     "text": [
      "Some weights of RobertaModel were not initialized from the model checkpoint at roberta-large and are newly initialized: ['roberta.pooler.dense.bias', 'roberta.pooler.dense.weight']\n",
      "You should probably TRAIN this model on a down-stream task to be able to use it for predictions and inference.\n"
     ]
    },
    {
     "name": "stdout",
     "output_type": "stream",
     "text": [
      "calculating scores...\n",
      "computing bert embedding.\n"
     ]
    },
    {
     "name": "stderr",
     "output_type": "stream",
     "text": [
      "100%|██████████| 1/1 [00:00<00:00,  2.42it/s]\n"
     ]
    },
    {
     "name": "stdout",
     "output_type": "stream",
     "text": [
      "computing greedy matching.\n"
     ]
    },
    {
     "name": "stderr",
     "output_type": "stream",
     "text": [
      "100%|██████████| 1/1 [00:00<00:00,  8.39it/s]\n"
     ]
    },
    {
     "name": "stdout",
     "output_type": "stream",
     "text": [
      "done in 0.69 seconds, 1.44 sentences/sec\n"
     ]
    },
    {
     "name": "stderr",
     "output_type": "stream",
     "text": [
      "Some weights of RobertaModel were not initialized from the model checkpoint at roberta-large and are newly initialized: ['roberta.pooler.dense.bias', 'roberta.pooler.dense.weight']\n",
      "You should probably TRAIN this model on a down-stream task to be able to use it for predictions and inference.\n"
     ]
    },
    {
     "name": "stdout",
     "output_type": "stream",
     "text": [
      "calculating scores...\n",
      "computing bert embedding.\n"
     ]
    },
    {
     "name": "stderr",
     "output_type": "stream",
     "text": [
      "100%|██████████| 1/1 [00:00<00:00,  3.28it/s]\n"
     ]
    },
    {
     "name": "stdout",
     "output_type": "stream",
     "text": [
      "computing greedy matching.\n"
     ]
    },
    {
     "name": "stderr",
     "output_type": "stream",
     "text": [
      "100%|██████████| 1/1 [00:00<00:00, 27.26it/s]\n"
     ]
    },
    {
     "name": "stdout",
     "output_type": "stream",
     "text": [
      "done in 0.37 seconds, 2.70 sentences/sec\n"
     ]
    },
    {
     "name": "stderr",
     "output_type": "stream",
     "text": [
      "Some weights of RobertaModel were not initialized from the model checkpoint at roberta-large and are newly initialized: ['roberta.pooler.dense.bias', 'roberta.pooler.dense.weight']\n",
      "You should probably TRAIN this model on a down-stream task to be able to use it for predictions and inference.\n"
     ]
    },
    {
     "name": "stdout",
     "output_type": "stream",
     "text": [
      "calculating scores...\n",
      "computing bert embedding.\n"
     ]
    },
    {
     "name": "stderr",
     "output_type": "stream",
     "text": [
      "100%|██████████| 1/1 [00:00<00:00,  2.70it/s]\n"
     ]
    },
    {
     "name": "stdout",
     "output_type": "stream",
     "text": [
      "computing greedy matching.\n"
     ]
    },
    {
     "name": "stderr",
     "output_type": "stream",
     "text": [
      "100%|██████████| 1/1 [00:00<00:00, 29.03it/s]\n"
     ]
    },
    {
     "name": "stdout",
     "output_type": "stream",
     "text": [
      "done in 0.46 seconds, 2.16 sentences/sec\n"
     ]
    },
    {
     "name": "stderr",
     "output_type": "stream",
     "text": [
      "Some weights of RobertaModel were not initialized from the model checkpoint at roberta-large and are newly initialized: ['roberta.pooler.dense.bias', 'roberta.pooler.dense.weight']\n",
      "You should probably TRAIN this model on a down-stream task to be able to use it for predictions and inference.\n"
     ]
    },
    {
     "name": "stdout",
     "output_type": "stream",
     "text": [
      "calculating scores...\n",
      "computing bert embedding.\n"
     ]
    },
    {
     "name": "stderr",
     "output_type": "stream",
     "text": [
      "100%|██████████| 1/1 [00:00<00:00,  5.65it/s]\n"
     ]
    },
    {
     "name": "stdout",
     "output_type": "stream",
     "text": [
      "computing greedy matching.\n"
     ]
    },
    {
     "name": "stderr",
     "output_type": "stream",
     "text": [
      "100%|██████████| 1/1 [00:00<00:00, 269.99it/s]"
     ]
    },
    {
     "name": "stdout",
     "output_type": "stream",
     "text": [
      "done in 0.18 seconds, 5.41 sentences/sec\n"
     ]
    },
    {
     "name": "stderr",
     "output_type": "stream",
     "text": [
      "\n",
      "Some weights of RobertaModel were not initialized from the model checkpoint at roberta-large and are newly initialized: ['roberta.pooler.dense.bias', 'roberta.pooler.dense.weight']\n",
      "You should probably TRAIN this model on a down-stream task to be able to use it for predictions and inference.\n"
     ]
    },
    {
     "name": "stdout",
     "output_type": "stream",
     "text": [
      "calculating scores...\n",
      "computing bert embedding.\n"
     ]
    },
    {
     "name": "stderr",
     "output_type": "stream",
     "text": [
      "100%|██████████| 1/1 [00:00<00:00,  7.09it/s]\n"
     ]
    },
    {
     "name": "stdout",
     "output_type": "stream",
     "text": [
      "computing greedy matching.\n"
     ]
    },
    {
     "name": "stderr",
     "output_type": "stream",
     "text": [
      "100%|██████████| 1/1 [00:00<00:00, 100.02it/s]"
     ]
    },
    {
     "name": "stdout",
     "output_type": "stream",
     "text": [
      "done in 0.15 seconds, 6.64 sentences/sec\n"
     ]
    },
    {
     "name": "stderr",
     "output_type": "stream",
     "text": [
      "\n",
      "Some weights of RobertaModel were not initialized from the model checkpoint at roberta-large and are newly initialized: ['roberta.pooler.dense.bias', 'roberta.pooler.dense.weight']\n",
      "You should probably TRAIN this model on a down-stream task to be able to use it for predictions and inference.\n"
     ]
    },
    {
     "name": "stdout",
     "output_type": "stream",
     "text": [
      "calculating scores...\n",
      "computing bert embedding.\n"
     ]
    },
    {
     "name": "stderr",
     "output_type": "stream",
     "text": [
      "100%|██████████| 1/1 [00:00<00:00,  4.62it/s]\n"
     ]
    },
    {
     "name": "stdout",
     "output_type": "stream",
     "text": [
      "computing greedy matching.\n"
     ]
    },
    {
     "name": "stderr",
     "output_type": "stream",
     "text": [
      "100%|██████████| 1/1 [00:00<00:00, 17.74it/s]\n"
     ]
    },
    {
     "name": "stdout",
     "output_type": "stream",
     "text": [
      "done in 0.27 seconds, 3.64 sentences/sec\n"
     ]
    },
    {
     "name": "stderr",
     "output_type": "stream",
     "text": [
      "Some weights of RobertaModel were not initialized from the model checkpoint at roberta-large and are newly initialized: ['roberta.pooler.dense.bias', 'roberta.pooler.dense.weight']\n",
      "You should probably TRAIN this model on a down-stream task to be able to use it for predictions and inference.\n"
     ]
    },
    {
     "name": "stdout",
     "output_type": "stream",
     "text": [
      "calculating scores...\n",
      "computing bert embedding.\n"
     ]
    },
    {
     "name": "stderr",
     "output_type": "stream",
     "text": [
      "100%|██████████| 1/1 [00:00<00:00,  6.33it/s]\n"
     ]
    },
    {
     "name": "stdout",
     "output_type": "stream",
     "text": [
      "computing greedy matching.\n"
     ]
    },
    {
     "name": "stderr",
     "output_type": "stream",
     "text": [
      "100%|██████████| 1/1 [00:00<?, ?it/s]"
     ]
    },
    {
     "name": "stdout",
     "output_type": "stream",
     "text": [
      "done in 0.17 seconds, 5.94 sentences/sec\n"
     ]
    },
    {
     "name": "stderr",
     "output_type": "stream",
     "text": [
      "\n",
      "Some weights of RobertaModel were not initialized from the model checkpoint at roberta-large and are newly initialized: ['roberta.pooler.dense.bias', 'roberta.pooler.dense.weight']\n",
      "You should probably TRAIN this model on a down-stream task to be able to use it for predictions and inference.\n"
     ]
    },
    {
     "name": "stdout",
     "output_type": "stream",
     "text": [
      "calculating scores...\n",
      "computing bert embedding.\n"
     ]
    },
    {
     "name": "stderr",
     "output_type": "stream",
     "text": [
      "100%|██████████| 1/1 [00:00<00:00,  5.58it/s]\n"
     ]
    },
    {
     "name": "stdout",
     "output_type": "stream",
     "text": [
      "computing greedy matching.\n"
     ]
    },
    {
     "name": "stderr",
     "output_type": "stream",
     "text": [
      "100%|██████████| 1/1 [00:00<?, ?it/s]\n"
     ]
    },
    {
     "name": "stdout",
     "output_type": "stream",
     "text": [
      "done in 0.19 seconds, 5.28 sentences/sec\n"
     ]
    },
    {
     "name": "stderr",
     "output_type": "stream",
     "text": [
      "Some weights of RobertaModel were not initialized from the model checkpoint at roberta-large and are newly initialized: ['roberta.pooler.dense.bias', 'roberta.pooler.dense.weight']\n",
      "You should probably TRAIN this model on a down-stream task to be able to use it for predictions and inference.\n"
     ]
    },
    {
     "name": "stdout",
     "output_type": "stream",
     "text": [
      "calculating scores...\n",
      "computing bert embedding.\n"
     ]
    },
    {
     "name": "stderr",
     "output_type": "stream",
     "text": [
      "100%|██████████| 1/1 [00:00<00:00,  8.00it/s]\n"
     ]
    },
    {
     "name": "stdout",
     "output_type": "stream",
     "text": [
      "computing greedy matching.\n"
     ]
    },
    {
     "name": "stderr",
     "output_type": "stream",
     "text": [
      "100%|██████████| 1/1 [00:00<00:00, 170.49it/s]"
     ]
    },
    {
     "name": "stdout",
     "output_type": "stream",
     "text": [
      "done in 0.13 seconds, 7.80 sentences/sec\n"
     ]
    },
    {
     "name": "stderr",
     "output_type": "stream",
     "text": [
      "\n",
      "Some weights of RobertaModel were not initialized from the model checkpoint at roberta-large and are newly initialized: ['roberta.pooler.dense.bias', 'roberta.pooler.dense.weight']\n",
      "You should probably TRAIN this model on a down-stream task to be able to use it for predictions and inference.\n"
     ]
    },
    {
     "name": "stdout",
     "output_type": "stream",
     "text": [
      "calculating scores...\n",
      "computing bert embedding.\n"
     ]
    },
    {
     "name": "stderr",
     "output_type": "stream",
     "text": [
      "100%|██████████| 1/1 [00:00<00:00,  3.30it/s]\n"
     ]
    },
    {
     "name": "stdout",
     "output_type": "stream",
     "text": [
      "computing greedy matching.\n"
     ]
    },
    {
     "name": "stderr",
     "output_type": "stream",
     "text": [
      "100%|██████████| 1/1 [00:00<00:00, 30.34it/s]\n"
     ]
    },
    {
     "name": "stdout",
     "output_type": "stream",
     "text": [
      "done in 0.35 seconds, 2.88 sentences/sec\n"
     ]
    },
    {
     "name": "stderr",
     "output_type": "stream",
     "text": [
      "Some weights of RobertaModel were not initialized from the model checkpoint at roberta-large and are newly initialized: ['roberta.pooler.dense.bias', 'roberta.pooler.dense.weight']\n",
      "You should probably TRAIN this model on a down-stream task to be able to use it for predictions and inference.\n"
     ]
    },
    {
     "name": "stdout",
     "output_type": "stream",
     "text": [
      "calculating scores...\n",
      "computing bert embedding.\n"
     ]
    },
    {
     "name": "stderr",
     "output_type": "stream",
     "text": [
      "100%|██████████| 1/1 [00:00<00:00,  8.32it/s]\n"
     ]
    },
    {
     "name": "stdout",
     "output_type": "stream",
     "text": [
      "computing greedy matching.\n"
     ]
    },
    {
     "name": "stderr",
     "output_type": "stream",
     "text": [
      "100%|██████████| 1/1 [00:00<00:00, 95.76it/s]"
     ]
    },
    {
     "name": "stdout",
     "output_type": "stream",
     "text": [
      "done in 0.13 seconds, 7.61 sentences/sec\n"
     ]
    },
    {
     "name": "stderr",
     "output_type": "stream",
     "text": [
      "\n",
      "Some weights of RobertaModel were not initialized from the model checkpoint at roberta-large and are newly initialized: ['roberta.pooler.dense.bias', 'roberta.pooler.dense.weight']\n",
      "You should probably TRAIN this model on a down-stream task to be able to use it for predictions and inference.\n"
     ]
    },
    {
     "name": "stdout",
     "output_type": "stream",
     "text": [
      "calculating scores...\n",
      "computing bert embedding.\n"
     ]
    },
    {
     "name": "stderr",
     "output_type": "stream",
     "text": [
      "100%|██████████| 1/1 [00:00<00:00,  4.97it/s]\n"
     ]
    },
    {
     "name": "stdout",
     "output_type": "stream",
     "text": [
      "computing greedy matching.\n"
     ]
    },
    {
     "name": "stderr",
     "output_type": "stream",
     "text": [
      "100%|██████████| 1/1 [00:00<00:00, 110.68it/s]\n"
     ]
    },
    {
     "name": "stdout",
     "output_type": "stream",
     "text": [
      "done in 0.21 seconds, 4.75 sentences/sec\n"
     ]
    },
    {
     "name": "stderr",
     "output_type": "stream",
     "text": [
      "Some weights of RobertaModel were not initialized from the model checkpoint at roberta-large and are newly initialized: ['roberta.pooler.dense.bias', 'roberta.pooler.dense.weight']\n",
      "You should probably TRAIN this model on a down-stream task to be able to use it for predictions and inference.\n"
     ]
    },
    {
     "name": "stdout",
     "output_type": "stream",
     "text": [
      "calculating scores...\n",
      "computing bert embedding.\n"
     ]
    },
    {
     "name": "stderr",
     "output_type": "stream",
     "text": [
      "100%|██████████| 1/1 [00:00<00:00,  5.14it/s]\n"
     ]
    },
    {
     "name": "stdout",
     "output_type": "stream",
     "text": [
      "computing greedy matching.\n"
     ]
    },
    {
     "name": "stderr",
     "output_type": "stream",
     "text": [
      "100%|██████████| 1/1 [00:00<00:00, 99.71it/s]\n"
     ]
    },
    {
     "name": "stdout",
     "output_type": "stream",
     "text": [
      "done in 0.21 seconds, 4.81 sentences/sec\n"
     ]
    },
    {
     "name": "stderr",
     "output_type": "stream",
     "text": [
      "Some weights of RobertaModel were not initialized from the model checkpoint at roberta-large and are newly initialized: ['roberta.pooler.dense.bias', 'roberta.pooler.dense.weight']\n",
      "You should probably TRAIN this model on a down-stream task to be able to use it for predictions and inference.\n"
     ]
    },
    {
     "name": "stdout",
     "output_type": "stream",
     "text": [
      "calculating scores...\n",
      "computing bert embedding.\n"
     ]
    },
    {
     "name": "stderr",
     "output_type": "stream",
     "text": [
      "100%|██████████| 1/1 [00:00<00:00,  8.38it/s]\n"
     ]
    },
    {
     "name": "stdout",
     "output_type": "stream",
     "text": [
      "computing greedy matching.\n"
     ]
    },
    {
     "name": "stderr",
     "output_type": "stream",
     "text": [
      "100%|██████████| 1/1 [00:00<?, ?it/s]"
     ]
    },
    {
     "name": "stdout",
     "output_type": "stream",
     "text": [
      "done in 0.13 seconds, 7.64 sentences/sec\n"
     ]
    },
    {
     "name": "stderr",
     "output_type": "stream",
     "text": [
      "\n",
      "Some weights of RobertaModel were not initialized from the model checkpoint at roberta-large and are newly initialized: ['roberta.pooler.dense.bias', 'roberta.pooler.dense.weight']\n",
      "You should probably TRAIN this model on a down-stream task to be able to use it for predictions and inference.\n"
     ]
    },
    {
     "name": "stdout",
     "output_type": "stream",
     "text": [
      "calculating scores...\n",
      "computing bert embedding.\n"
     ]
    },
    {
     "name": "stderr",
     "output_type": "stream",
     "text": [
      "100%|██████████| 1/1 [00:00<00:00,  9.66it/s]\n"
     ]
    },
    {
     "name": "stdout",
     "output_type": "stream",
     "text": [
      "computing greedy matching.\n"
     ]
    },
    {
     "name": "stderr",
     "output_type": "stream",
     "text": [
      "100%|██████████| 1/1 [00:00<00:00, 318.06it/s]"
     ]
    },
    {
     "name": "stdout",
     "output_type": "stream",
     "text": [
      "done in 0.11 seconds, 9.20 sentences/sec\n"
     ]
    },
    {
     "name": "stderr",
     "output_type": "stream",
     "text": [
      "\n",
      "Some weights of RobertaModel were not initialized from the model checkpoint at roberta-large and are newly initialized: ['roberta.pooler.dense.bias', 'roberta.pooler.dense.weight']\n",
      "You should probably TRAIN this model on a down-stream task to be able to use it for predictions and inference.\n"
     ]
    },
    {
     "name": "stdout",
     "output_type": "stream",
     "text": [
      "calculating scores...\n",
      "computing bert embedding.\n"
     ]
    },
    {
     "name": "stderr",
     "output_type": "stream",
     "text": [
      "100%|██████████| 1/1 [00:00<00:00, 11.15it/s]\n"
     ]
    },
    {
     "name": "stdout",
     "output_type": "stream",
     "text": [
      "computing greedy matching.\n"
     ]
    },
    {
     "name": "stderr",
     "output_type": "stream",
     "text": [
      "100%|██████████| 1/1 [00:00<?, ?it/s]"
     ]
    },
    {
     "name": "stdout",
     "output_type": "stream",
     "text": [
      "done in 0.10 seconds, 10.24 sentences/sec\n"
     ]
    },
    {
     "name": "stderr",
     "output_type": "stream",
     "text": [
      "\n",
      "Some weights of RobertaModel were not initialized from the model checkpoint at roberta-large and are newly initialized: ['roberta.pooler.dense.bias', 'roberta.pooler.dense.weight']\n",
      "You should probably TRAIN this model on a down-stream task to be able to use it for predictions and inference.\n"
     ]
    },
    {
     "name": "stdout",
     "output_type": "stream",
     "text": [
      "calculating scores...\n",
      "computing bert embedding.\n"
     ]
    },
    {
     "name": "stderr",
     "output_type": "stream",
     "text": [
      "100%|██████████| 1/1 [00:00<00:00,  9.52it/s]\n"
     ]
    },
    {
     "name": "stdout",
     "output_type": "stream",
     "text": [
      "computing greedy matching.\n"
     ]
    },
    {
     "name": "stderr",
     "output_type": "stream",
     "text": [
      "100%|██████████| 1/1 [00:00<?, ?it/s]"
     ]
    },
    {
     "name": "stdout",
     "output_type": "stream",
     "text": [
      "done in 0.11 seconds, 8.98 sentences/sec\n"
     ]
    },
    {
     "name": "stderr",
     "output_type": "stream",
     "text": [
      "\n",
      "Some weights of RobertaModel were not initialized from the model checkpoint at roberta-large and are newly initialized: ['roberta.pooler.dense.bias', 'roberta.pooler.dense.weight']\n",
      "You should probably TRAIN this model on a down-stream task to be able to use it for predictions and inference.\n"
     ]
    },
    {
     "name": "stdout",
     "output_type": "stream",
     "text": [
      "calculating scores...\n",
      "computing bert embedding.\n"
     ]
    },
    {
     "name": "stderr",
     "output_type": "stream",
     "text": [
      "100%|██████████| 1/1 [00:00<00:00, 13.95it/s]\n"
     ]
    },
    {
     "name": "stdout",
     "output_type": "stream",
     "text": [
      "computing greedy matching.\n"
     ]
    },
    {
     "name": "stderr",
     "output_type": "stream",
     "text": [
      "100%|██████████| 1/1 [00:00<00:00, 99.35it/s]\n"
     ]
    },
    {
     "name": "stdout",
     "output_type": "stream",
     "text": [
      "done in 0.08 seconds, 11.88 sentences/sec\n"
     ]
    },
    {
     "name": "stderr",
     "output_type": "stream",
     "text": [
      "Some weights of RobertaModel were not initialized from the model checkpoint at roberta-large and are newly initialized: ['roberta.pooler.dense.bias', 'roberta.pooler.dense.weight']\n",
      "You should probably TRAIN this model on a down-stream task to be able to use it for predictions and inference.\n"
     ]
    },
    {
     "name": "stdout",
     "output_type": "stream",
     "text": [
      "calculating scores...\n",
      "computing bert embedding.\n"
     ]
    },
    {
     "name": "stderr",
     "output_type": "stream",
     "text": [
      "100%|██████████| 1/1 [00:00<00:00,  6.82it/s]\n"
     ]
    },
    {
     "name": "stdout",
     "output_type": "stream",
     "text": [
      "computing greedy matching.\n"
     ]
    },
    {
     "name": "stderr",
     "output_type": "stream",
     "text": [
      "100%|██████████| 1/1 [00:00<00:00, 232.56it/s]"
     ]
    },
    {
     "name": "stdout",
     "output_type": "stream",
     "text": [
      "done in 0.15 seconds, 6.86 sentences/sec\n"
     ]
    },
    {
     "name": "stderr",
     "output_type": "stream",
     "text": [
      "\n",
      "Some weights of RobertaModel were not initialized from the model checkpoint at roberta-large and are newly initialized: ['roberta.pooler.dense.bias', 'roberta.pooler.dense.weight']\n",
      "You should probably TRAIN this model on a down-stream task to be able to use it for predictions and inference.\n"
     ]
    },
    {
     "name": "stdout",
     "output_type": "stream",
     "text": [
      "calculating scores...\n",
      "computing bert embedding.\n"
     ]
    },
    {
     "name": "stderr",
     "output_type": "stream",
     "text": [
      "100%|██████████| 1/1 [00:00<00:00, 11.59it/s]\n"
     ]
    },
    {
     "name": "stdout",
     "output_type": "stream",
     "text": [
      "computing greedy matching.\n"
     ]
    },
    {
     "name": "stderr",
     "output_type": "stream",
     "text": [
      "100%|██████████| 1/1 [00:00<?, ?it/s]"
     ]
    },
    {
     "name": "stdout",
     "output_type": "stream",
     "text": [
      "done in 0.09 seconds, 11.29 sentences/sec\n",
      "Average scores for GPT-4 generated reports:\n",
      "BERTScore_Precision_4    0.831345\n",
      "BERTScore_Recall_4       0.827029\n",
      "BERTScore_F1_4           0.829072\n",
      "tfidf_score_4            0.276860\n",
      "dtype: float64\n",
      "\n",
      "Average scores for GPT-4o generated reports:\n",
      "BERTScore_Precision_4o    0.841910\n",
      "BERTScore_Recall_4o       0.821181\n",
      "BERTScore_F1_4o           0.831197\n",
      "tfidf_score_4o            0.218646\n",
      "dtype: float64\n"
     ]
    },
    {
     "name": "stderr",
     "output_type": "stream",
     "text": [
      "\n"
     ]
    }
   ],
   "source": [
    "import pandas as pd\n",
    "from bert_score import score\n",
    "from sentence_transformers import SentenceTransformer, util\n",
    "from sklearn.feature_extraction.text import TfidfVectorizer\n",
    "from sklearn.metrics.pairwise import cosine_similarity\n",
    "\n",
    "\n",
    "comparison_df = pd.read_csv('filtered_reports_with_ai.csv')\n",
    "\n",
    "def calculate_scores(cleaned_report, ai_generated_report):\n",
    "    P, R, F1 = score([ai_generated_report], [cleaned_report], lang=\"en\", verbose=True)\n",
    "    bert_score_precision = P.mean().item()\n",
    "    bert_score_recall = R.mean().item()\n",
    "    bert_score_f1 = F1.mean().item()\n",
    "    \n",
    "    vectorizer = TfidfVectorizer()\n",
    "    tfidf_matrix = vectorizer.fit_transform([cleaned_report, ai_generated_report])\n",
    "    tfidf_score = cosine_similarity(tfidf_matrix[0:1], tfidf_matrix[1:2])[0][0]\n",
    "\n",
    "    \n",
    "\n",
    "    return (bert_score_precision, bert_score_recall, bert_score_f1, tfidf_score)\n",
    "\n",
    "scores_4 = comparison_df.apply(lambda row: calculate_scores(row['cleaned_report'], row['AI_generated_report_GPT-4']), axis=1)\n",
    "scores_4o = comparison_df.apply(lambda row: calculate_scores(row['cleaned_report'], row['AI_generated_report_GPT-4o']), axis=1)\n",
    "\n",
    "comparison_df[['BERTScore_Precision_4', 'BERTScore_Recall_4', 'BERTScore_F1_4', 'tfidf_score_4']] = pd.DataFrame(scores_4.tolist(), index=comparison_df.index)\n",
    "comparison_df[['BERTScore_Precision_4o', 'BERTScore_Recall_4o', 'BERTScore_F1_4o', 'tfidf_score_4o']] = pd.DataFrame(scores_4o.tolist(), index=comparison_df.index)\n",
    "\n",
    "average_scores_4 = comparison_df[['BERTScore_Precision_4', 'BERTScore_Recall_4', 'BERTScore_F1_4',  'tfidf_score_4']].mean()\n",
    "average_scores_4o = comparison_df[['BERTScore_Precision_4o', 'BERTScore_Recall_4o', 'BERTScore_F1_4o', 'tfidf_score_4o']].mean()\n",
    "\n",
    "print(\"Average scores for GPT-4 generated reports:\")\n",
    "print(average_scores_4)\n",
    "\n",
    "print(\"\\nAverage scores for GPT-4o generated reports:\")\n",
    "print(average_scores_4o)\n",
    "\n",
    "comparison_df.to_csv('comparison_scores.csv', index=False)\n"
   ]
  },
  {
   "cell_type": "markdown",
   "metadata": {},
   "source": [
    "Random Radiology Image"
   ]
  },
  {
   "cell_type": "code",
   "execution_count": 5,
   "metadata": {},
   "outputs": [
    {
     "name": "stderr",
     "output_type": "stream",
     "text": [
      "C:\\Users\\Sharjil Dhanani\\AppData\\Roaming\\Python\\Python312\\site-packages\\torchvision\\models\\_utils.py:208: UserWarning: The parameter 'pretrained' is deprecated since 0.13 and may be removed in the future, please use 'weights' instead.\n",
      "  warnings.warn(\n",
      "C:\\Users\\Sharjil Dhanani\\AppData\\Roaming\\Python\\Python312\\site-packages\\torchvision\\models\\_utils.py:223: UserWarning: Arguments other than a weight enum or `None` for 'weights' are deprecated since 0.13 and may be removed in the future. The current behavior is equivalent to passing `weights=ResNet50_Weights.IMAGENET1K_V1`. You can also use `weights=ResNet50_Weights.DEFAULT` to get the most up-to-date weights.\n",
      "  warnings.warn(msg)\n"
     ]
    },
    {
     "data": {
      "text/plain": [
       "ALBEFModel(\n",
       "  (image_model): ResNet(\n",
       "    (conv1): Conv2d(3, 64, kernel_size=(7, 7), stride=(2, 2), padding=(3, 3), bias=False)\n",
       "    (bn1): BatchNorm2d(64, eps=1e-05, momentum=0.1, affine=True, track_running_stats=True)\n",
       "    (relu): ReLU(inplace=True)\n",
       "    (maxpool): MaxPool2d(kernel_size=3, stride=2, padding=1, dilation=1, ceil_mode=False)\n",
       "    (layer1): Sequential(\n",
       "      (0): Bottleneck(\n",
       "        (conv1): Conv2d(64, 64, kernel_size=(1, 1), stride=(1, 1), bias=False)\n",
       "        (bn1): BatchNorm2d(64, eps=1e-05, momentum=0.1, affine=True, track_running_stats=True)\n",
       "        (conv2): Conv2d(64, 64, kernel_size=(3, 3), stride=(1, 1), padding=(1, 1), bias=False)\n",
       "        (bn2): BatchNorm2d(64, eps=1e-05, momentum=0.1, affine=True, track_running_stats=True)\n",
       "        (conv3): Conv2d(64, 256, kernel_size=(1, 1), stride=(1, 1), bias=False)\n",
       "        (bn3): BatchNorm2d(256, eps=1e-05, momentum=0.1, affine=True, track_running_stats=True)\n",
       "        (relu): ReLU(inplace=True)\n",
       "        (downsample): Sequential(\n",
       "          (0): Conv2d(64, 256, kernel_size=(1, 1), stride=(1, 1), bias=False)\n",
       "          (1): BatchNorm2d(256, eps=1e-05, momentum=0.1, affine=True, track_running_stats=True)\n",
       "        )\n",
       "      )\n",
       "      (1): Bottleneck(\n",
       "        (conv1): Conv2d(256, 64, kernel_size=(1, 1), stride=(1, 1), bias=False)\n",
       "        (bn1): BatchNorm2d(64, eps=1e-05, momentum=0.1, affine=True, track_running_stats=True)\n",
       "        (conv2): Conv2d(64, 64, kernel_size=(3, 3), stride=(1, 1), padding=(1, 1), bias=False)\n",
       "        (bn2): BatchNorm2d(64, eps=1e-05, momentum=0.1, affine=True, track_running_stats=True)\n",
       "        (conv3): Conv2d(64, 256, kernel_size=(1, 1), stride=(1, 1), bias=False)\n",
       "        (bn3): BatchNorm2d(256, eps=1e-05, momentum=0.1, affine=True, track_running_stats=True)\n",
       "        (relu): ReLU(inplace=True)\n",
       "      )\n",
       "      (2): Bottleneck(\n",
       "        (conv1): Conv2d(256, 64, kernel_size=(1, 1), stride=(1, 1), bias=False)\n",
       "        (bn1): BatchNorm2d(64, eps=1e-05, momentum=0.1, affine=True, track_running_stats=True)\n",
       "        (conv2): Conv2d(64, 64, kernel_size=(3, 3), stride=(1, 1), padding=(1, 1), bias=False)\n",
       "        (bn2): BatchNorm2d(64, eps=1e-05, momentum=0.1, affine=True, track_running_stats=True)\n",
       "        (conv3): Conv2d(64, 256, kernel_size=(1, 1), stride=(1, 1), bias=False)\n",
       "        (bn3): BatchNorm2d(256, eps=1e-05, momentum=0.1, affine=True, track_running_stats=True)\n",
       "        (relu): ReLU(inplace=True)\n",
       "      )\n",
       "    )\n",
       "    (layer2): Sequential(\n",
       "      (0): Bottleneck(\n",
       "        (conv1): Conv2d(256, 128, kernel_size=(1, 1), stride=(1, 1), bias=False)\n",
       "        (bn1): BatchNorm2d(128, eps=1e-05, momentum=0.1, affine=True, track_running_stats=True)\n",
       "        (conv2): Conv2d(128, 128, kernel_size=(3, 3), stride=(2, 2), padding=(1, 1), bias=False)\n",
       "        (bn2): BatchNorm2d(128, eps=1e-05, momentum=0.1, affine=True, track_running_stats=True)\n",
       "        (conv3): Conv2d(128, 512, kernel_size=(1, 1), stride=(1, 1), bias=False)\n",
       "        (bn3): BatchNorm2d(512, eps=1e-05, momentum=0.1, affine=True, track_running_stats=True)\n",
       "        (relu): ReLU(inplace=True)\n",
       "        (downsample): Sequential(\n",
       "          (0): Conv2d(256, 512, kernel_size=(1, 1), stride=(2, 2), bias=False)\n",
       "          (1): BatchNorm2d(512, eps=1e-05, momentum=0.1, affine=True, track_running_stats=True)\n",
       "        )\n",
       "      )\n",
       "      (1): Bottleneck(\n",
       "        (conv1): Conv2d(512, 128, kernel_size=(1, 1), stride=(1, 1), bias=False)\n",
       "        (bn1): BatchNorm2d(128, eps=1e-05, momentum=0.1, affine=True, track_running_stats=True)\n",
       "        (conv2): Conv2d(128, 128, kernel_size=(3, 3), stride=(1, 1), padding=(1, 1), bias=False)\n",
       "        (bn2): BatchNorm2d(128, eps=1e-05, momentum=0.1, affine=True, track_running_stats=True)\n",
       "        (conv3): Conv2d(128, 512, kernel_size=(1, 1), stride=(1, 1), bias=False)\n",
       "        (bn3): BatchNorm2d(512, eps=1e-05, momentum=0.1, affine=True, track_running_stats=True)\n",
       "        (relu): ReLU(inplace=True)\n",
       "      )\n",
       "      (2): Bottleneck(\n",
       "        (conv1): Conv2d(512, 128, kernel_size=(1, 1), stride=(1, 1), bias=False)\n",
       "        (bn1): BatchNorm2d(128, eps=1e-05, momentum=0.1, affine=True, track_running_stats=True)\n",
       "        (conv2): Conv2d(128, 128, kernel_size=(3, 3), stride=(1, 1), padding=(1, 1), bias=False)\n",
       "        (bn2): BatchNorm2d(128, eps=1e-05, momentum=0.1, affine=True, track_running_stats=True)\n",
       "        (conv3): Conv2d(128, 512, kernel_size=(1, 1), stride=(1, 1), bias=False)\n",
       "        (bn3): BatchNorm2d(512, eps=1e-05, momentum=0.1, affine=True, track_running_stats=True)\n",
       "        (relu): ReLU(inplace=True)\n",
       "      )\n",
       "      (3): Bottleneck(\n",
       "        (conv1): Conv2d(512, 128, kernel_size=(1, 1), stride=(1, 1), bias=False)\n",
       "        (bn1): BatchNorm2d(128, eps=1e-05, momentum=0.1, affine=True, track_running_stats=True)\n",
       "        (conv2): Conv2d(128, 128, kernel_size=(3, 3), stride=(1, 1), padding=(1, 1), bias=False)\n",
       "        (bn2): BatchNorm2d(128, eps=1e-05, momentum=0.1, affine=True, track_running_stats=True)\n",
       "        (conv3): Conv2d(128, 512, kernel_size=(1, 1), stride=(1, 1), bias=False)\n",
       "        (bn3): BatchNorm2d(512, eps=1e-05, momentum=0.1, affine=True, track_running_stats=True)\n",
       "        (relu): ReLU(inplace=True)\n",
       "      )\n",
       "    )\n",
       "    (layer3): Sequential(\n",
       "      (0): Bottleneck(\n",
       "        (conv1): Conv2d(512, 256, kernel_size=(1, 1), stride=(1, 1), bias=False)\n",
       "        (bn1): BatchNorm2d(256, eps=1e-05, momentum=0.1, affine=True, track_running_stats=True)\n",
       "        (conv2): Conv2d(256, 256, kernel_size=(3, 3), stride=(2, 2), padding=(1, 1), bias=False)\n",
       "        (bn2): BatchNorm2d(256, eps=1e-05, momentum=0.1, affine=True, track_running_stats=True)\n",
       "        (conv3): Conv2d(256, 1024, kernel_size=(1, 1), stride=(1, 1), bias=False)\n",
       "        (bn3): BatchNorm2d(1024, eps=1e-05, momentum=0.1, affine=True, track_running_stats=True)\n",
       "        (relu): ReLU(inplace=True)\n",
       "        (downsample): Sequential(\n",
       "          (0): Conv2d(512, 1024, kernel_size=(1, 1), stride=(2, 2), bias=False)\n",
       "          (1): BatchNorm2d(1024, eps=1e-05, momentum=0.1, affine=True, track_running_stats=True)\n",
       "        )\n",
       "      )\n",
       "      (1): Bottleneck(\n",
       "        (conv1): Conv2d(1024, 256, kernel_size=(1, 1), stride=(1, 1), bias=False)\n",
       "        (bn1): BatchNorm2d(256, eps=1e-05, momentum=0.1, affine=True, track_running_stats=True)\n",
       "        (conv2): Conv2d(256, 256, kernel_size=(3, 3), stride=(1, 1), padding=(1, 1), bias=False)\n",
       "        (bn2): BatchNorm2d(256, eps=1e-05, momentum=0.1, affine=True, track_running_stats=True)\n",
       "        (conv3): Conv2d(256, 1024, kernel_size=(1, 1), stride=(1, 1), bias=False)\n",
       "        (bn3): BatchNorm2d(1024, eps=1e-05, momentum=0.1, affine=True, track_running_stats=True)\n",
       "        (relu): ReLU(inplace=True)\n",
       "      )\n",
       "      (2): Bottleneck(\n",
       "        (conv1): Conv2d(1024, 256, kernel_size=(1, 1), stride=(1, 1), bias=False)\n",
       "        (bn1): BatchNorm2d(256, eps=1e-05, momentum=0.1, affine=True, track_running_stats=True)\n",
       "        (conv2): Conv2d(256, 256, kernel_size=(3, 3), stride=(1, 1), padding=(1, 1), bias=False)\n",
       "        (bn2): BatchNorm2d(256, eps=1e-05, momentum=0.1, affine=True, track_running_stats=True)\n",
       "        (conv3): Conv2d(256, 1024, kernel_size=(1, 1), stride=(1, 1), bias=False)\n",
       "        (bn3): BatchNorm2d(1024, eps=1e-05, momentum=0.1, affine=True, track_running_stats=True)\n",
       "        (relu): ReLU(inplace=True)\n",
       "      )\n",
       "      (3): Bottleneck(\n",
       "        (conv1): Conv2d(1024, 256, kernel_size=(1, 1), stride=(1, 1), bias=False)\n",
       "        (bn1): BatchNorm2d(256, eps=1e-05, momentum=0.1, affine=True, track_running_stats=True)\n",
       "        (conv2): Conv2d(256, 256, kernel_size=(3, 3), stride=(1, 1), padding=(1, 1), bias=False)\n",
       "        (bn2): BatchNorm2d(256, eps=1e-05, momentum=0.1, affine=True, track_running_stats=True)\n",
       "        (conv3): Conv2d(256, 1024, kernel_size=(1, 1), stride=(1, 1), bias=False)\n",
       "        (bn3): BatchNorm2d(1024, eps=1e-05, momentum=0.1, affine=True, track_running_stats=True)\n",
       "        (relu): ReLU(inplace=True)\n",
       "      )\n",
       "      (4): Bottleneck(\n",
       "        (conv1): Conv2d(1024, 256, kernel_size=(1, 1), stride=(1, 1), bias=False)\n",
       "        (bn1): BatchNorm2d(256, eps=1e-05, momentum=0.1, affine=True, track_running_stats=True)\n",
       "        (conv2): Conv2d(256, 256, kernel_size=(3, 3), stride=(1, 1), padding=(1, 1), bias=False)\n",
       "        (bn2): BatchNorm2d(256, eps=1e-05, momentum=0.1, affine=True, track_running_stats=True)\n",
       "        (conv3): Conv2d(256, 1024, kernel_size=(1, 1), stride=(1, 1), bias=False)\n",
       "        (bn3): BatchNorm2d(1024, eps=1e-05, momentum=0.1, affine=True, track_running_stats=True)\n",
       "        (relu): ReLU(inplace=True)\n",
       "      )\n",
       "      (5): Bottleneck(\n",
       "        (conv1): Conv2d(1024, 256, kernel_size=(1, 1), stride=(1, 1), bias=False)\n",
       "        (bn1): BatchNorm2d(256, eps=1e-05, momentum=0.1, affine=True, track_running_stats=True)\n",
       "        (conv2): Conv2d(256, 256, kernel_size=(3, 3), stride=(1, 1), padding=(1, 1), bias=False)\n",
       "        (bn2): BatchNorm2d(256, eps=1e-05, momentum=0.1, affine=True, track_running_stats=True)\n",
       "        (conv3): Conv2d(256, 1024, kernel_size=(1, 1), stride=(1, 1), bias=False)\n",
       "        (bn3): BatchNorm2d(1024, eps=1e-05, momentum=0.1, affine=True, track_running_stats=True)\n",
       "        (relu): ReLU(inplace=True)\n",
       "      )\n",
       "    )\n",
       "    (layer4): Sequential(\n",
       "      (0): Bottleneck(\n",
       "        (conv1): Conv2d(1024, 512, kernel_size=(1, 1), stride=(1, 1), bias=False)\n",
       "        (bn1): BatchNorm2d(512, eps=1e-05, momentum=0.1, affine=True, track_running_stats=True)\n",
       "        (conv2): Conv2d(512, 512, kernel_size=(3, 3), stride=(2, 2), padding=(1, 1), bias=False)\n",
       "        (bn2): BatchNorm2d(512, eps=1e-05, momentum=0.1, affine=True, track_running_stats=True)\n",
       "        (conv3): Conv2d(512, 2048, kernel_size=(1, 1), stride=(1, 1), bias=False)\n",
       "        (bn3): BatchNorm2d(2048, eps=1e-05, momentum=0.1, affine=True, track_running_stats=True)\n",
       "        (relu): ReLU(inplace=True)\n",
       "        (downsample): Sequential(\n",
       "          (0): Conv2d(1024, 2048, kernel_size=(1, 1), stride=(2, 2), bias=False)\n",
       "          (1): BatchNorm2d(2048, eps=1e-05, momentum=0.1, affine=True, track_running_stats=True)\n",
       "        )\n",
       "      )\n",
       "      (1): Bottleneck(\n",
       "        (conv1): Conv2d(2048, 512, kernel_size=(1, 1), stride=(1, 1), bias=False)\n",
       "        (bn1): BatchNorm2d(512, eps=1e-05, momentum=0.1, affine=True, track_running_stats=True)\n",
       "        (conv2): Conv2d(512, 512, kernel_size=(3, 3), stride=(1, 1), padding=(1, 1), bias=False)\n",
       "        (bn2): BatchNorm2d(512, eps=1e-05, momentum=0.1, affine=True, track_running_stats=True)\n",
       "        (conv3): Conv2d(512, 2048, kernel_size=(1, 1), stride=(1, 1), bias=False)\n",
       "        (bn3): BatchNorm2d(2048, eps=1e-05, momentum=0.1, affine=True, track_running_stats=True)\n",
       "        (relu): ReLU(inplace=True)\n",
       "      )\n",
       "      (2): Bottleneck(\n",
       "        (conv1): Conv2d(2048, 512, kernel_size=(1, 1), stride=(1, 1), bias=False)\n",
       "        (bn1): BatchNorm2d(512, eps=1e-05, momentum=0.1, affine=True, track_running_stats=True)\n",
       "        (conv2): Conv2d(512, 512, kernel_size=(3, 3), stride=(1, 1), padding=(1, 1), bias=False)\n",
       "        (bn2): BatchNorm2d(512, eps=1e-05, momentum=0.1, affine=True, track_running_stats=True)\n",
       "        (conv3): Conv2d(512, 2048, kernel_size=(1, 1), stride=(1, 1), bias=False)\n",
       "        (bn3): BatchNorm2d(2048, eps=1e-05, momentum=0.1, affine=True, track_running_stats=True)\n",
       "        (relu): ReLU(inplace=True)\n",
       "      )\n",
       "    )\n",
       "    (avgpool): AdaptiveAvgPool2d(output_size=(1, 1))\n",
       "    (fc): Linear(in_features=2048, out_features=2048, bias=True)\n",
       "  )\n",
       "  (text_model): BertModel(\n",
       "    (embeddings): BertEmbeddings(\n",
       "      (word_embeddings): Embedding(30522, 768, padding_idx=0)\n",
       "      (position_embeddings): Embedding(512, 768)\n",
       "      (token_type_embeddings): Embedding(2, 768)\n",
       "      (LayerNorm): LayerNorm((768,), eps=1e-12, elementwise_affine=True)\n",
       "      (dropout): Dropout(p=0.1, inplace=False)\n",
       "    )\n",
       "    (encoder): BertEncoder(\n",
       "      (layer): ModuleList(\n",
       "        (0-11): 12 x BertLayer(\n",
       "          (attention): BertAttention(\n",
       "            (self): BertSdpaSelfAttention(\n",
       "              (query): Linear(in_features=768, out_features=768, bias=True)\n",
       "              (key): Linear(in_features=768, out_features=768, bias=True)\n",
       "              (value): Linear(in_features=768, out_features=768, bias=True)\n",
       "              (dropout): Dropout(p=0.1, inplace=False)\n",
       "            )\n",
       "            (output): BertSelfOutput(\n",
       "              (dense): Linear(in_features=768, out_features=768, bias=True)\n",
       "              (LayerNorm): LayerNorm((768,), eps=1e-12, elementwise_affine=True)\n",
       "              (dropout): Dropout(p=0.1, inplace=False)\n",
       "            )\n",
       "          )\n",
       "          (intermediate): BertIntermediate(\n",
       "            (dense): Linear(in_features=768, out_features=3072, bias=True)\n",
       "            (intermediate_act_fn): GELUActivation()\n",
       "          )\n",
       "          (output): BertOutput(\n",
       "            (dense): Linear(in_features=3072, out_features=768, bias=True)\n",
       "            (LayerNorm): LayerNorm((768,), eps=1e-12, elementwise_affine=True)\n",
       "            (dropout): Dropout(p=0.1, inplace=False)\n",
       "          )\n",
       "        )\n",
       "      )\n",
       "    )\n",
       "    (pooler): BertPooler(\n",
       "      (dense): Linear(in_features=768, out_features=768, bias=True)\n",
       "      (activation): Tanh()\n",
       "    )\n",
       "  )\n",
       "  (image_proj): Linear(in_features=2048, out_features=512, bias=True)\n",
       "  (text_proj): Linear(in_features=768, out_features=512, bias=True)\n",
       ")"
      ]
     },
     "execution_count": 5,
     "metadata": {},
     "output_type": "execute_result"
    }
   ],
   "source": [
    "from transformers import BertTokenizer, BertModel\n",
    "from torchvision.models import resnet50\n",
    "from torch import nn\n",
    "import torch\n",
    "class ALBEFModel(nn.Module):\n",
    "    def __init__(self, image_model, text_model, embed_dim):\n",
    "        super(ALBEFModel, self).__init__()\n",
    "        self.image_model = image_model\n",
    "        self.text_model = text_model\n",
    "        self.image_proj = nn.Linear(image_model.fc.in_features, embed_dim)\n",
    "        self.text_proj = nn.Linear(text_model.config.hidden_size, embed_dim)\n",
    "\n",
    "    def forward(self, image, text_input_ids, text_attention_mask):\n",
    "        image_features = self.image_model(image)\n",
    "        image_embed = self.image_proj(image_features)\n",
    "\n",
    "        text_output = self.text_model(input_ids=text_input_ids, attention_mask=text_attention_mask)\n",
    "        text_features = text_output.last_hidden_state[:, 0, :]\n",
    "        text_embed = self.text_proj(text_features)\n",
    "\n",
    "        return image_embed, text_embed\n",
    "image_model = resnet50(pretrained=True)\n",
    "num_features = image_model.fc.in_features\n",
    "image_model.fc = nn.Linear(num_features, num_features) \n",
    "\n",
    "tokenizer = BertTokenizer.from_pretrained('bert-base-uncased')\n",
    "text_model = BertModel.from_pretrained('bert-base-uncased')\n",
    "embed_dim = 512\n",
    "model = ALBEFModel(image_model, text_model, embed_dim)\n",
    "\n",
    "\n",
    "model.load_state_dict(torch.load('albef_model_server.pth'))\n",
    "model.eval()\n",
    "\n",
    "\n",
    "device = torch.device('cuda' if torch.cuda.is_available() else 'cpu')\n",
    "model.to(device)"
   ]
  },
  {
   "cell_type": "code",
   "execution_count": 50,
   "metadata": {},
   "outputs": [],
   "source": [
    "\n",
    "from torchvision import transforms\n",
    "image_transforms = transforms.Compose([\n",
    "    transforms.Resize((224, 224)),\n",
    "    transforms.ToTensor(),\n",
    "    transforms.Normalize(mean=[0.485, 0.456, 0.406], std=[0.229, 0.224, 0.225]),\n",
    "])\n",
    "\n",
    "def generate_image_embeddings(dicom_file_path):\n",
    "    with open(dicom_file_path, 'rb') as f:\n",
    "        dicom_data = f.read()\n",
    "    dicom_file = pydicom.dcmread(BytesIO(dicom_data))\n",
    "    image_array = dicom_file.pixel_array\n",
    "    image = Image.fromarray((image_array / np.max(image_array) * 255).astype(np.uint8)).convert('RGB')\n",
    "    image = image_transforms(image).unsqueeze(0).to(device)\n",
    "    with torch.no_grad():\n",
    "        image_embed, _ = model(image, torch.zeros((1, 512), dtype=torch.int64).to(device), torch.zeros((1, 512), dtype=torch.int64).to(device))\n",
    "    return image_embed.cpu().numpy().flatten()\n",
    "\n",
    "dicomfile = '8000_0e82057a-5ba4dacb-c5333adf-de03650c-483b7078.dcm'\n",
    "image_embeddings_new = generate_image_embeddings(dicomfile)\n"
   ]
  },
  {
   "cell_type": "code",
   "execution_count": 103,
   "metadata": {},
   "outputs": [
    {
     "name": "stdout",
     "output_type": "stream",
     "text": [
      "                                             Entity1      Relation  \\\n",
      "0                                      Hair artifact   has symptom   \n",
      "1                                      Hair artifact  described by   \n",
      "2         Large left upper lobe necrotic lung cancer   has symptom   \n",
      "3         Large left upper lobe necrotic lung cancer  described by   \n",
      "4  Congenital lobar overinflation - left lung upp...   has symptom   \n",
      "\n",
      "                                             Entity2  \n",
      "0                               Shortness of breath.  \n",
      "1  Heart size normal. Lungs clear. Pronounced ela...  \n",
      "2                   Progressive shortness of breath.  \n",
      "3  An 8 cm mass in the left upper lobe extends to...  \n",
      "4                              Respiratory distress.  \n"
     ]
    }
   ],
   "source": [
    "tokenizer = BertTokenizer.from_pretrained('bert-base-uncased')\n",
    "def generate_text_embeddings(text):\n",
    "    tokenized_text = tokenizer(text, return_tensors='pt', padding=True, truncation=True, max_length=512)\n",
    "    input_ids = tokenized_text['input_ids'].to(device)\n",
    "    attention_mask = tokenized_text['attention_mask'].to(device)\n",
    "    with torch.no_grad():\n",
    "        _, text_embed = model(torch.zeros((1, 3, 224, 224)).to(device), input_ids, attention_mask)\n",
    "    return text_embed.cpu().numpy().flatten()\n",
    "import pandas as pd\n",
    "\n",
    "triplets_path = 'triplets_server.csv'\n",
    "triplets_df = pd.read_csv(triplets_path)\n",
    "\n",
    "print(triplets_df.head())\n",
    "\n",
    "triplets = list(triplets_df.itertuples(index=False, name=None))\n",
    "\n",
    "\n",
    "def generate_triplet_embeddings(triplet):\n",
    "    triplet_text = f\"{triplet[0]} {triplet[1]} {triplet[2]}\"\n",
    "    return generate_text_embeddings(triplet_text)\n",
    "\n",
    "triplet_embeddings = [generate_triplet_embeddings(triplet) for triplet in triplets]"
   ]
  },
  {
   "cell_type": "code",
   "execution_count": 102,
   "metadata": {},
   "outputs": [
    {
     "data": {
      "text/plain": [
       "5"
      ]
     },
     "execution_count": 102,
     "metadata": {},
     "output_type": "execute_result"
    }
   ],
   "source": [
    "len(triplets)"
   ]
  },
  {
   "cell_type": "code",
   "execution_count": 104,
   "metadata": {},
   "outputs": [],
   "source": [
    "import numpy as np\n",
    "from sklearn.metrics.pairwise import cosine_similarity\n",
    "\n",
    "text_embeddings = np.load('text_embeddings_server.npy', allow_pickle=True).item()\n",
    "\n",
    "def retrieve_top_k_texts_and_triplets(image_id, image_embedding, text_embeddings, triplet_embeddings, triplets, k=5):\n",
    "    image_embeds = np.array([image_embedding])\n",
    "\n",
    "    text_embeds = np.array([text_embeddings[key] for key in text_embeddings.keys()])\n",
    "    triplet_embeds = np.array(triplet_embeddings)\n",
    "\n",
    "    text_similarity_matrix = cosine_similarity(image_embeds, text_embeds)\n",
    "    triplet_similarity_matrix = cosine_similarity(image_embeds, triplet_embeds)\n",
    "\n",
    "    top_k_text_indices = text_similarity_matrix[0].argsort()[-k:][::-1]\n",
    "    top_k_triplet_indices = triplet_similarity_matrix[0].argsort()[-k:][::-1]\n",
    "\n",
    "    top_k_text_ids = [list(text_embeddings.keys())[index] for index in top_k_text_indices]\n",
    "    top_k_triplets = [triplets[index] for index in top_k_triplet_indices]\n",
    "\n",
    "    result = {\n",
    "        'text_ids': top_k_text_ids,\n",
    "        'triplets': top_k_triplets\n",
    "    }\n",
    "    \n",
    "    return result\n",
    "\n",
    "image_id = '8000_0e82057a-5ba4dacb-c5333adf-de03650c-483b7078.dcm'\n",
    "\n",
    "result = {image_id: retrieve_top_k_texts_and_triplets(image_id, image_embeddings_new, text_embeddings, triplet_embeddings, triplets, k=5)}\n"
   ]
  },
  {
   "cell_type": "code",
   "execution_count": 46,
   "metadata": {},
   "outputs": [
    {
     "data": {
      "text/plain": [
       "{'8000_0e82057a-5ba4dacb-c5333adf-de03650c-483b7078.dcm': {'text_ids': ['30239_s50948352',\n",
       "   '7560_s56450273',\n",
       "   '5506_s56860376',\n",
       "   '8448_s56350597',\n",
       "   '20517_s50650436'],\n",
       "  'triplets': [('Azygos fissure',\n",
       "    'described by',\n",
       "    'Incidental azygos fissure with mild opacity in the inferior aspect of the fissure.'),\n",
       "   ('Inferior pulmonary ligament',\n",
       "    'described by',\n",
       "    'Lungs are well expanded and clear. Normal cardiomediastinal contour. Left hemidiaphragm retrocardiac irregularity represents the inferior pulmonary ligament'),\n",
       "   ('Inferior pulmonary ligament',\n",
       "    'described by',\n",
       "    'Lungs are well expanded and clear. Normal cardiomediastinal contour. Left hemidiaphragm retrocardiac irregularity represents the inferior pulmonary ligament'),\n",
       "   ('Rhomboid fossa of the clavicle',\n",
       "    'described by',\n",
       "    'The lungs and pleural spaces are clear. Cardiomediastinal contours and hilar regions within normal limits.\\xa0Incidental prominant left rhomboid fossa of the clavicle on the left - a normal variant.'),\n",
       "   ('Rhomboid fossa of the clavicle',\n",
       "    'described by',\n",
       "    'The lungs and pleural spaces are clear. Cardiomediastinal contours and hilar regions within normal limits.\\xa0Incidental prominant left rhomboid fossa of the clavicle on the left - a normal variant.')]}}"
      ]
     },
     "execution_count": 46,
     "metadata": {},
     "output_type": "execute_result"
    }
   ],
   "source": [
    "result"
   ]
  },
  {
   "cell_type": "code",
   "execution_count": 25,
   "metadata": {},
   "outputs": [],
   "source": [
    "pathology_words = [\"atelectasis\", \"opacities\", \"consolidation\", \"effusion\", \"pneumothorax\"]\n",
    "positional_words = [\"right\", \"left\", \"bilateral\", \"upper\", \"lower\", \"middle\"]\n",
    "severity_words = [\"mild\", \"moderate\", \"severe\"]\n",
    "size_words = [\"small\", \"large\"]\n",
    "\n",
    "def construct_detailed_prompt(image_id, context_texts, triplets):\n",
    "    context = \" \".join(context_texts)\n",
    "    triplets_text = \" \".join([f\"{triplet[0]} {triplet[1]} {triplet[2]}\" for triplet in triplets])\n",
    "\n",
    "    prompt = f\"\"\"\n",
    "    You are an assistant designed to write impression summaries for the radiology report.\n",
    "    Users will send a context text and you will respond with an impression summary using that context.\n",
    "    Instructions:\n",
    "    • Impression should be based on the information that the user will send in the context.\n",
    "    • The impression should not mention anything about follow-up actions.\n",
    "    • Impression should not contain any mentions of prior or previous studies.\n",
    "    • Use the following words for attributes where applicable:\n",
    "        - Pathology: {', '.join(pathology_words)}\n",
    "        - Positional: {', '.join(positional_words)}\n",
    "        - Severity: {', '.join(severity_words)}\n",
    "        - Size: {', '.join(size_words)}\n",
    "    CONTEXT: {context} {triplets_text}\n",
    "    IMPRESSION:\n",
    "    \"\"\"\n",
    "    return prompt"
   ]
  },
  {
   "cell_type": "code",
   "execution_count": 26,
   "metadata": {},
   "outputs": [],
   "source": [
    "all_reports_df=pd.read_csv(\"all_reports_df_images.csv\")"
   ]
  },
  {
   "cell_type": "code",
   "execution_count": 32,
   "metadata": {},
   "outputs": [],
   "source": [
    "selected_image_id = ['8000']"
   ]
  },
  {
   "cell_type": "code",
   "execution_count": 52,
   "metadata": {},
   "outputs": [
    {
     "data": {
      "text/plain": [
       "{'8000_0e82057a-5ba4dacb-c5333adf-de03650c-483b7078.dcm': {'text_ids': ['30239_s50948352',\n",
       "   '7560_s56450273',\n",
       "   '5506_s56860376',\n",
       "   '8448_s56350597',\n",
       "   '20517_s50650436'],\n",
       "  'triplets': [('Azygos fissure',\n",
       "    'described by',\n",
       "    'Incidental azygos fissure with mild opacity in the inferior aspect of the fissure.'),\n",
       "   ('Inferior pulmonary ligament',\n",
       "    'described by',\n",
       "    'Lungs are well expanded and clear. Normal cardiomediastinal contour. Left hemidiaphragm retrocardiac irregularity represents the inferior pulmonary ligament'),\n",
       "   ('Inferior pulmonary ligament',\n",
       "    'described by',\n",
       "    'Lungs are well expanded and clear. Normal cardiomediastinal contour. Left hemidiaphragm retrocardiac irregularity represents the inferior pulmonary ligament'),\n",
       "   ('Rhomboid fossa of the clavicle',\n",
       "    'described by',\n",
       "    'The lungs and pleural spaces are clear. Cardiomediastinal contours and hilar regions within normal limits.\\xa0Incidental prominant left rhomboid fossa of the clavicle on the left - a normal variant.'),\n",
       "   ('Rhomboid fossa of the clavicle',\n",
       "    'described by',\n",
       "    'The lungs and pleural spaces are clear. Cardiomediastinal contours and hilar regions within normal limits.\\xa0Incidental prominant left rhomboid fossa of the clavicle on the left - a normal variant.')]}}"
      ]
     },
     "execution_count": 52,
     "metadata": {},
     "output_type": "execute_result"
    }
   ],
   "source": [
    "result"
   ]
  },
  {
   "cell_type": "code",
   "execution_count": 47,
   "metadata": {},
   "outputs": [
    {
     "name": "stdout",
     "output_type": "stream",
     "text": [
      "Processing Image ID: 8000_0e82057a-5ba4dacb-c5333adf-de03650c-483b7078.dcm\n",
      "Top-5 Text IDs: ['30239_s50948352', '7560_s56450273', '5506_s56860376', '8448_s56350597', '20517_s50650436']\n",
      "Prompt for Image ID: 8000_0e82057a-5ba4dacb-c5333adf-de03650c-483b7078.dcm\n",
      "\n",
      "    You are an assistant designed to write impression summaries for the radiology report.\n",
      "    Users will send a context text and you will respond with an impression summary using that context.\n",
      "    Instructions:\n",
      "    • Impression should be based on the information that the user will send in the context.\n",
      "    • The impression should not mention anything about follow-up actions.\n",
      "    • Impression should not contain any mentions of prior or previous studies.\n",
      "    • Use the following words for attributes where applicable:\n",
      "        - Pathology: atelectasis, opacities, consolidation, effusion, pneumothorax\n",
      "        - Positional: right, left, bilateral, upper, lower, middle\n",
      "        - Severity: mild, moderate, severe\n",
      "        - Size: small, large\n",
      "    CONTEXT: FINAL REPORT INDICATION: ___F with chest pain, dizziness // acute process TECHNIQUE: PA and lateral views the chest. COMPARISON: ___. FINDINGS: The lungs are clear of focal consolidation. The cardiomediastinal silhouette is within normal limits. No displaced fractures identified. IMPRESSION: No acute cardiopulmonary process. FINAL REPORT INDICATION: ___F with cough // eval for acute process TECHNIQUE: PA and lateral views the chest. COMPARISON: None. FINDINGS: Lungs are clear. The cardiomediastinal silhouette is within normal limits. No acute osseous abnormalities identified. IMPRESSION: No acute cardiopulmonary process. FINAL REPORT INDICATION: ___F with substernal chest pain // r/o PNA, PTX TECHNIQUE: Frontal and lateral views of the chest. COMPARISON: None. FINDINGS: The lungs are clear focal consolidation, effusion, or edema. The cardiomediastinal silhouette is within normal limits. No acute osseous abnormalities identified. IMPRESSION: No acute cardiopulmonary process. FINAL REPORT EXAMINATION: Chest: Frontal and lateral views INDICATION: History: ___F with cp // eval for pain TECHNIQUE: Chest: Frontal and Lateral COMPARISON: None. FINDINGS: The lungs are clear without focal consolidation. No pleural effusion or pneumothorax is seen. The cardiac and mediastinal silhouettes are unremarkable. IMPRESSION: No acute cardiopulmonary process. FINAL REPORT INDICATION: ___F with chest pain. // acute process? TECHNIQUE: Chest PA and lateral COMPARISON: None FINDINGS: The lungs are well inflated and clear. Heart size and mediastinal contours are normal. There is no pleural effusion or pneumothorax. Osseous structures are intact. IMPRESSION: No acute cardiopulmonary process. Azygos fissure described by Incidental azygos fissure with mild opacity in the inferior aspect of the fissure. Inferior pulmonary ligament described by Lungs are well expanded and clear. Normal cardiomediastinal contour. Left hemidiaphragm retrocardiac irregularity represents the inferior pulmonary ligament Inferior pulmonary ligament described by Lungs are well expanded and clear. Normal cardiomediastinal contour. Left hemidiaphragm retrocardiac irregularity represents the inferior pulmonary ligament Rhomboid fossa of the clavicle described by The lungs and pleural spaces are clear. Cardiomediastinal contours and hilar regions within normal limits. Incidental prominant left rhomboid fossa of the clavicle on the left - a normal variant. Rhomboid fossa of the clavicle described by The lungs and pleural spaces are clear. Cardiomediastinal contours and hilar regions within normal limits. Incidental prominant left rhomboid fossa of the clavicle on the left - a normal variant.\n",
      "    IMPRESSION:\n",
      "    \n",
      "\n"
     ]
    }
   ],
   "source": [
    "detailed_prompts = {}\n",
    "\n",
    "for image_id, data in result.items():\n",
    "    if any(image_id.startswith(selected_id) for selected_id in selected_image_id):\n",
    "        context_text_ids = data['text_ids']\n",
    "        context_texts = []\n",
    "\n",
    "        print(f\"Processing Image ID: {image_id}\")\n",
    "        print(f\"Top-5 Text IDs: {context_text_ids}\")\n",
    "\n",
    "        for text_id in context_text_ids:\n",
    "            report_row = all_reports_df[all_reports_df['report_id'] == text_id]\n",
    "            if not report_row.empty:\n",
    "                context_texts.append(report_row['cleaned_report'].values[0])\n",
    "            else:\n",
    "                print(f\"Warning: Report ID {text_id} not found in all_reports_df.\")\n",
    "\n",
    "        if not context_texts:\n",
    "            print(f\"Warning: No context texts found for image ID {image_id}.\")\n",
    "            continue\n",
    "\n",
    "        triplets = data['triplets']\n",
    "        detailed_prompts[image_id] = construct_detailed_prompt(image_id, context_texts, triplets)\n",
    "\n",
    "for image_id, prompt in detailed_prompts.items():\n",
    "    print(f\"Prompt for Image ID: {image_id}\\n{prompt}\\n\")"
   ]
  },
  {
   "cell_type": "code",
   "execution_count": null,
   "metadata": {},
   "outputs": [],
   "source": [
    "from openai import OpenAI\n",
    "client = OpenAI(\n",
    "    api_key='XXX',\n",
    ")"
   ]
  },
  {
   "cell_type": "code",
   "execution_count": 54,
   "metadata": {},
   "outputs": [
    {
     "name": "stdout",
     "output_type": "stream",
     "text": [
      "Generated report for image 8000_0e82057a-5ba4dacb-c5333adf-de03650c-483b7078.dcm:\n",
      "ChatCompletion(id='chatcmpl-9pef5FgtYVxrakYA2776c8lLl7moC', choices=[Choice(finish_reason='stop', index=0, logprobs=None, message=ChatCompletionMessage(content='The lungs and cardiomediastinal silhouette are clear and within normal limits across all reports, with no signs of acute cardiopulmonary processes. There is no evidence of focal consolidation, pneumothorax, effusion or osseous abnormalities. An incidental finding of mild opacity is noted in the inferior aspect of the azygos fissure. Normal variants, including the prominent left rhomboid fossa of the clavicle and an irregularity of the left hemidiaphragm retrocardiac representing the inferior pulmonary ligament, were also detected. Overall, the examination reveals no acute cardiopulmonary abnormalities or pathology.', role='assistant', function_call=None, tool_calls=None))], created=1722098059, model='gpt-4-0613', object='chat.completion', service_tier=None, system_fingerprint=None, usage=CompletionUsage(completion_tokens=128, prompt_tokens=807, total_tokens=935))\n",
      "\n",
      "Report generation completed.\n"
     ]
    }
   ],
   "source": [
    "def generate_report(prompt):\n",
    "    response = client.chat.completions.create(\n",
    "        model=\"gpt-4\",\n",
    "        messages=[\n",
    "            {\"role\": \"system\", \"content\": \"You are a medical AI specialized in generating radiology reports.\"},\n",
    "            {\"role\": \"user\", \"content\": prompt}\n",
    "        ],\n",
    "        max_tokens=300 \n",
    "    )\n",
    "    return(response)\n",
    "    \n",
    "\n",
    "generated_reports = {}\n",
    "for image_id, prompt in detailed_prompts.items():\n",
    "    generated_reports[image_id] = generate_report(prompt)\n",
    "    print(f\"Generated report for image {image_id}:\\n{generated_reports[image_id]}\\n\")\n",
    "\n",
    "with open('generated_reports.txt', 'w') as file:\n",
    "    for image_id, report in generated_reports.items():\n",
    "        file.write(f\"Image ID: {image_id}\\n\")\n",
    "        file.write(f\"{report}\\n\")\n",
    "        file.write(\"\\n\" + \"-\"*80 + \"\\n\")\n",
    "\n",
    "print(\"Report generation completed.\")\n"
   ]
  },
  {
   "cell_type": "code",
   "execution_count": 55,
   "metadata": {},
   "outputs": [],
   "source": [
    "import re\n",
    "\n",
    "def clean_report_text(text):\n",
    "    text = re.sub(r'\\n', ' ', text)  \n",
    "    text = re.sub(r'\\s+', ' ', text) \n",
    "    text = text.strip()\n",
    "    return text\n"
   ]
  },
  {
   "cell_type": "code",
   "execution_count": 56,
   "metadata": {},
   "outputs": [
    {
     "name": "stdout",
     "output_type": "stream",
     "text": [
      "Cleaned reports have been saved to cleaned_generated_reports_sample.txt\n"
     ]
    }
   ],
   "source": [
    "import re\n",
    "\n",
    "def extract_report_content(file_path):\n",
    "    with open(file_path, 'r') as file:\n",
    "        content = file.read()\n",
    "\n",
    "    reports = content.split(\"--------------------------------------------------------------------------------\")\n",
    "    cleaned_reports = {}\n",
    "\n",
    "    for report in reports:\n",
    "        image_id_match = re.search(r'Image ID: (\\S+)', report)\n",
    "        if image_id_match:\n",
    "            image_id = image_id_match.group(1)\n",
    "            \n",
    "            report_content_match = re.search(r'content=\\'(.*?)\\'', report, re.DOTALL)\n",
    "            if report_content_match:\n",
    "                report_content = report_content_match.group(1).replace('\\\\n', ' ').replace('\\\\', '')\n",
    "\n",
    "                cleaned_reports[image_id] = report_content.strip()\n",
    "    \n",
    "    return cleaned_reports\n",
    "\n",
    "def save_reports_as_txt(cleaned_reports, output_file_path):\n",
    "    with open(output_file_path, 'w') as file:\n",
    "        for image_id, report in cleaned_reports.items():\n",
    "            file.write(f\"Image ID: {image_id}\\n\")\n",
    "            file.write(f\"Report: {report}\\n\")\n",
    "            file.write(\"--------------------------------------------------------------------------------\\n\")\n",
    "\n",
    "file_path = 'generated_reports.txt'\n",
    "output_file_path = 'cleaned_generated_reports_sample.txt'\n",
    "\n",
    "cleaned_generated_reports = extract_report_content(file_path)\n",
    "save_reports_as_txt(cleaned_generated_reports, output_file_path)\n",
    "\n",
    "print(f\"Cleaned reports have been saved to {output_file_path}\")\n"
   ]
  },
  {
   "cell_type": "code",
   "execution_count": 58,
   "metadata": {},
   "outputs": [
    {
     "data": {
      "text/plain": [
       "{'8000_0e82057a-5ba4dacb-c5333adf-de03650c-483b7078.dcm': 'The lungs and cardiomediastinal silhouette are clear and within normal limits across all reports, with no signs of acute cardiopulmonary processes. There is no evidence of focal consolidation, pneumothorax, effusion or osseous abnormalities. An incidental finding of mild opacity is noted in the inferior aspect of the azygos fissure. Normal variants, including the prominent left rhomboid fossa of the clavicle and an irregularity of the left hemidiaphragm retrocardiac representing the inferior pulmonary ligament, were also detected. Overall, the examination reveals no acute cardiopulmonary abnormalities or pathology.'}"
      ]
     },
     "execution_count": 58,
     "metadata": {},
     "output_type": "execute_result"
    }
   ],
   "source": [
    "cleaned_generated_reports"
   ]
  },
  {
   "cell_type": "code",
   "execution_count": 88,
   "metadata": {},
   "outputs": [],
   "source": [
    "import pandas as pd\n",
    "\n",
    "\n",
    "all_reports_df = pd.read_csv('sample_report_groundTruth.csv')\n",
    "\n",
    "data = []\n",
    "\n",
    "with open('cleaned_generated_reports_sample.txt', 'r') as file:\n",
    "    content = file.read().strip().split('--------------------------------------------------------------------------------')\n",
    "\n",
    "for block in content:\n",
    "    lines = block.strip().split('\\n')\n",
    "    if len(lines) > 1:\n",
    "        try:\n",
    "            image_id = lines[0].split(': ')[1]\n",
    "            cleaned_report = ' '.join(lines[1:]).strip()\n",
    "            data.append([image_id, cleaned_report])\n",
    "        except IndexError:\n",
    "            print(f\"Skipping malformed block: {block}\")\n",
    "\n",
    "cleaned_reports_df = pd.DataFrame(data, columns=['image_id', 'AI_generated_report'])\n",
    "cleaned_reports_df.to_csv('clean_sample.csv')\n",
    "clean_sample=pd.read_csv('clean_sample.csv')\n",
    "\n",
    "filtered_df = all_reports_df[all_reports_df['image_id'].isin(cleaned_reports_df['image_id'])]\n",
    "\n",
    "filtered_df = filtered_df.merge(cleaned_reports_df, on='image_id', how='left')\n",
    "\n",
    "filtered_df.to_csv('filtered_reports_with_ai_sample.csv', index=False)\n",
    "\n"
   ]
  },
  {
   "cell_type": "code",
   "execution_count": 89,
   "metadata": {},
   "outputs": [
    {
     "data": {
      "text/html": [
       "<div>\n",
       "<style scoped>\n",
       "    .dataframe tbody tr th:only-of-type {\n",
       "        vertical-align: middle;\n",
       "    }\n",
       "\n",
       "    .dataframe tbody tr th {\n",
       "        vertical-align: top;\n",
       "    }\n",
       "\n",
       "    .dataframe thead th {\n",
       "        text-align: right;\n",
       "    }\n",
       "</style>\n",
       "<table border=\"1\" class=\"dataframe\">\n",
       "  <thead>\n",
       "    <tr style=\"text-align: right;\">\n",
       "      <th></th>\n",
       "      <th>image_id</th>\n",
       "      <th>report_id</th>\n",
       "      <th>cleaned_report</th>\n",
       "      <th>AI_generated_report</th>\n",
       "    </tr>\n",
       "  </thead>\n",
       "  <tbody>\n",
       "    <tr>\n",
       "      <th>0</th>\n",
       "      <td>8000_0e82057a-5ba4dacb-c5333adf-de03650c-483b7...</td>\n",
       "      <td>8000_s55037150</td>\n",
       "      <td>Acute liver injury and abdominal pain.  Concer...</td>\n",
       "      <td>Report: The lungs and cardiomediastinal silhou...</td>\n",
       "    </tr>\n",
       "  </tbody>\n",
       "</table>\n",
       "</div>"
      ],
      "text/plain": [
       "                                            image_id       report_id  \\\n",
       "0  8000_0e82057a-5ba4dacb-c5333adf-de03650c-483b7...  8000_s55037150   \n",
       "\n",
       "                                      cleaned_report  \\\n",
       "0  Acute liver injury and abdominal pain.  Concer...   \n",
       "\n",
       "                                 AI_generated_report  \n",
       "0  Report: The lungs and cardiomediastinal silhou...  "
      ]
     },
     "execution_count": 89,
     "metadata": {},
     "output_type": "execute_result"
    }
   ],
   "source": [
    "filtered_df"
   ]
  },
  {
   "cell_type": "code",
   "execution_count": 92,
   "metadata": {},
   "outputs": [
    {
     "name": "stderr",
     "output_type": "stream",
     "text": [
      "Some weights of RobertaModel were not initialized from the model checkpoint at roberta-large and are newly initialized: ['roberta.pooler.dense.bias', 'roberta.pooler.dense.weight']\n",
      "You should probably TRAIN this model on a down-stream task to be able to use it for predictions and inference.\n"
     ]
    },
    {
     "name": "stdout",
     "output_type": "stream",
     "text": [
      "calculating scores...\n",
      "computing bert embedding.\n"
     ]
    },
    {
     "name": "stderr",
     "output_type": "stream",
     "text": [
      "100%|██████████| 1/1 [00:00<00:00,  1.60it/s]\n"
     ]
    },
    {
     "name": "stdout",
     "output_type": "stream",
     "text": [
      "computing greedy matching.\n"
     ]
    },
    {
     "name": "stderr",
     "output_type": "stream",
     "text": [
      "100%|██████████| 1/1 [00:00<00:00,  6.64it/s]\n"
     ]
    },
    {
     "name": "stdout",
     "output_type": "stream",
     "text": [
      "done in 0.90 seconds, 1.11 sentences/sec\n",
      "Average scores for GPT-4 generated reports:\n",
      "BERTScore_Precision_4    0.833115\n",
      "BERTScore_Recall_4       0.858473\n",
      "BERTScore_F1_4           0.845604\n",
      "tfidf_score_4            0.298376\n",
      "dtype: float64\n"
     ]
    }
   ],
   "source": [
    "import pandas as pd\n",
    "from bert_score import score\n",
    "from sentence_transformers import SentenceTransformer, util\n",
    "from sklearn.feature_extraction.text import TfidfVectorizer\n",
    "from sklearn.metrics.pairwise import cosine_similarity\n",
    "\n",
    "\n",
    "comparison_df = pd.read_csv('filtered_reports_with_ai_sample.csv')\n",
    "\n",
    "def calculate_scores(cleaned_report, ai_generated_report):\n",
    "    P, R, F1 = score([ai_generated_report], [cleaned_report], lang=\"en\", verbose=True)\n",
    "    bert_score_precision = P.mean().item()\n",
    "    bert_score_recall = R.mean().item()\n",
    "    bert_score_f1 = F1.mean().item()\n",
    "    \n",
    "    vectorizer = TfidfVectorizer()\n",
    "    tfidf_matrix = vectorizer.fit_transform([cleaned_report, ai_generated_report])\n",
    "    tfidf_score = cosine_similarity(tfidf_matrix[0:1], tfidf_matrix[1:2])[0][0]\n",
    "\n",
    "    \n",
    "\n",
    "    return (bert_score_precision, bert_score_recall, bert_score_f1, tfidf_score)\n",
    "\n",
    "scores_4 = comparison_df.apply(lambda row: calculate_scores(row['cleaned_report'], row['AI_generated_report']), axis=1)\n",
    "\n",
    "comparison_df[['BERTScore_Precision_4', 'BERTScore_Recall_4', 'BERTScore_F1_4', 'tfidf_score_4']] = pd.DataFrame(scores_4.tolist(), index=comparison_df.index)\n",
    "\n",
    "average_scores_4 = comparison_df[['BERTScore_Precision_4', 'BERTScore_Recall_4', 'BERTScore_F1_4',  'tfidf_score_4']].mean()\n",
    "\n",
    "print(\"Average scores for GPT-4 generated reports:\")\n",
    "print(average_scores_4)\n",
    "\n",
    "\n",
    "\n"
   ]
  },
  {
   "cell_type": "markdown",
   "metadata": {},
   "source": [
    "Few shot prompt example"
   ]
  },
  {
   "cell_type": "code",
   "execution_count": 21,
   "metadata": {},
   "outputs": [
    {
     "name": "stdout",
     "output_type": "stream",
     "text": [
      "\n",
      "    You are an assistant designed to write impression summaries for the radiology report.\n",
      "    Users will send a context text and you will respond with an impression summary using that context.\n",
      "    Instructions:\n",
      "    • Impression should be based on the information that the user will send in the context.\n",
      "    • The impression should not mention anything about follow-up actions.\n",
      "    • Impression should not contain any mentions of prior or previous studies.\n",
      "    • Use the following words for attributes where applicable:\n",
      "        - Pathology: atelectasis, opacities, consolidation, effusion, pneumothorax\n",
      "        - Positional: right, left, bilateral, upper, lower, middle\n",
      "        - Severity: mild, moderate, severe\n",
      "        - Size: small, large\n",
      "    Examples:\n",
      "    \n",
      "    Example 1:\n",
      "    CONTEXT: Frontal chest radiographs were obtained with the patient in the upright position. COMPARISON: Radiographs from ___, ___ and ___. FINDINGS: The lungs are clear of focal consolidation, pleural effusion or pneumothorax. The heart size is normal. The mediastinal contours are normal. Multiple surgical clips project over the left breast, and old left rib fractures are noted. \n",
      "    IMPRESSION: No acute cardiopulmonary process.\n",
      "    \n",
      "\n",
      "    Example 2:\n",
      "    CONTEXT: Portable chest radiograph demonstrates unchanged mediastinal, hilar, and cardiac contours. There has been interval development of bibasilar opacities likely reflecting atelectasis, though cannot exclude developing infectious process. Additionally, there has been interval increase in small right-sided pleural effusion.\n",
      "    IMPRESSION: Bibasilar opacities, likely atelectasis. Increased small right pleural effusion.\n",
      "    \n",
      "\n",
      "    Example 3:\n",
      "    CONTEXT:A tracheostomy is in place. Bullet fracture fragments are again noted bilaterally. Bilateral chest tubes are unchanged in positions. A right-sided pneumothorax has increased and is now small to moderate in size. There is no definite pleural effusion on the left. Vague retrocardiac opacity is similar and suggests atelectasis, but improved substantially. \n",
      "    IMPRESSION: Increase in right-sided pneumothorax, now small to moderate, with mild recurrent leftward shift.\n",
      "    \n",
      "    Your Turn:\n",
      "    CONTEXT: FINAL REPORT EXAMINATION: CHEST (PORTABLE AP) INDICATION: ___ year old man with R pleural effusion now s/p thoracentesis // now s/p thoracentesis. check for pneumothorax degree of change of R pleural effusion now s/p thoracentesis. check for pneumothorax degree of change of R pleural effusion IMPRESSION: In comparison with study of ___, there has been a thoracentesis on the right with removal of a large amount of pleural fluid, no definite pneumothorax. Increasing pleural effusion on the left. Continued enlargement the cardiac silhouette with mild to moderate pulmonary vascular congestion. FINAL REPORT EXAMINATION: CHEST (PORTABLE AP) INDICATION: ___ year old man with COPD // int change int change IMPRESSION: In comparison with the study of ___, there is increased opacification in the lower ___ of the right hemithorax in this patient with severe chronic pulmonary disease and biapical scarring. These findings could reflect volume loss in the right middle and lower lobes with pleural effusion. However, much of this appearance could be a manifestation of developing pneumonia. Little change in the opacification is at the left base. FINAL REPORT INDICATION: ___ year old man with hypoxemia, ? etiology // ___ year old man with hypoxemia, ? etiology COMPARISON: Radiographs from ___. IMPRESSION: There has been worsening of the areas of consolidation and interstitial prominence throughout both lung fields. There are more confluent areas of consolidation in the perihilar regions and in the left base. No pneumothoraces are identified. Findings may relate to multifocal pneumonia as previously suspected; however superimposed pulmonary edema could also be present. FINAL REPORT EXAMINATION: CHEST (PORTABLE AP) INDICATION: ___ year old man s/p ct pull // eval for ptx TECHNIQUE: Single frontal view of the chest COMPARISON: ___ IMPRESSION: Large left pleural effusion has increased. Right pleural effusion and right lower lobe and right middle lobe consolidations have increased. There are low lung volumes. Cardiomegaly cannot be assessed. There is no evident pneumothorax. FINAL REPORT EXAMINATION: CHEST (PORTABLE AP) INDICATION: ___ year old man with PAH, refract hypoxemia // Eval for interval change Eval for interval change IMPRESSION: Heart size and mediastinum are stable. Right mid lung consolidation appears to be an more conspicuous concerning for infectious process. Interstitial changes are extensive, similar to previous examination. Small amount of bilateral pleural effusion is most likely present. There is no pneumothorax. Oxygen mask and tubing artifact (portable radiograph) described by Patchy air space opacities are noted in the bilateral mid to lower zones and left retrocardiac region which may be suggestive of worsening infective changes. A small left pleural effusion is noted with adjacent atelectasis. No gross pneumothorax is detected. No subdiaphragmatic free gas is seen. Aortic calcifications are noted. Degenerative changes are noted of the imaged spine on a background of diffuse osteopenia. An old right 9th rib fracture is also seen. Oxygen mask and tubing artifact (portable radiograph) described by Patchy air space opacities are noted in the bilateral mid to lower zones and left retrocardiac region which may be suggestive of worsening infective changes. A small left pleural effusion is noted with adjacent atelectasis. No gross pneumothorax is detected. No subdiaphragmatic free gas is seen. Aortic calcifications are noted. Degenerative changes are noted of the imaged spine on a background of diffuse osteopenia. An old right 9th rib fracture is also seen. Thoracic empyema described by There is moderate-to-large-sized pleural effusion with multiple septations/loculations associated with underlying consolidation. Thoracic empyema described by There is moderate-to-large-sized pleural effusion with multiple septations/loculations associated with underlying consolidation. Hiatus hernia described by Large retrocardiac cystic lesion with air/fluid level.\n",
      "    IMPRESSION:\n",
      "    \n"
     ]
    }
   ],
   "source": [
    "pathology_words = [\"atelectasis\", \"opacities\", \"consolidation\", \"effusion\", \"pneumothorax\"]\n",
    "positional_words = [\"right\", \"left\", \"bilateral\", \"upper\", \"lower\", \"middle\"]\n",
    "severity_words = [\"mild\", \"moderate\", \"severe\"]\n",
    "size_words = [\"small\", \"large\"]\n",
    "\n",
    "def construct_detailed_prompt_with_few_shot(image_id, context_texts, triplets, few_shot_examples):\n",
    "    context = \" \".join(context_texts)\n",
    "    triplets_text = \" \".join([f\"{triplet[0]} {triplet[1]} {triplet[2]}\" for triplet in triplets])\n",
    "\n",
    "    few_shot_prompt = \"\\n\".join(few_shot_examples)\n",
    "\n",
    "    prompt = f\"\"\"\n",
    "    You are an assistant designed to write impression summaries for the radiology report.\n",
    "    Users will send a context text and you will respond with an impression summary using that context.\n",
    "    Instructions:\n",
    "    • Impression should be based on the information that the user will send in the context.\n",
    "    • The impression should not mention anything about follow-up actions.\n",
    "    • Impression should not contain any mentions of prior or previous studies.\n",
    "    • Use the following words for attributes where applicable:\n",
    "        - Pathology: {', '.join(pathology_words)}\n",
    "        - Positional: {', '.join(positional_words)}\n",
    "        - Severity: {', '.join(severity_words)}\n",
    "        - Size: {', '.join(size_words)}\n",
    "    Examples:\n",
    "    {few_shot_prompt}\n",
    "    Your Turn:\n",
    "    CONTEXT: {context} {triplets_text}\n",
    "    IMPRESSION:\n",
    "    \"\"\"\n",
    "    return prompt\n",
    "\n",
    "\n",
    "few_shot_examples = [\n",
    "    \"\"\"\n",
    "    Example 1:\n",
    "    CONTEXT: Frontal chest radiographs were obtained with the patient in the upright position. COMPARISON: Radiographs from ___, ___ and ___. FINDINGS: The lungs are clear of focal consolidation, pleural effusion or pneumothorax. The heart size is normal. The mediastinal contours are normal. Multiple surgical clips project over the left breast, and old left rib fractures are noted. \n",
    "    IMPRESSION: No acute cardiopulmonary process.\n",
    "    \"\"\",\n",
    "    \"\"\"\n",
    "    Example 2:\n",
    "    CONTEXT: Portable chest radiograph demonstrates unchanged mediastinal, hilar, and cardiac contours. There has been interval development of bibasilar opacities likely reflecting atelectasis, though cannot exclude developing infectious process. Additionally, there has been interval increase in small right-sided pleural effusion.\n",
    "    IMPRESSION: Bibasilar opacities, likely atelectasis. Increased small right pleural effusion.\n",
    "    \"\"\",\n",
    "    \"\"\"\n",
    "    Example 3:\n",
    "    CONTEXT:A tracheostomy is in place. Bullet fracture fragments are again noted bilaterally. Bilateral chest tubes are unchanged in positions. A right-sided pneumothorax has increased and is now small to moderate in size. There is no definite pleural effusion on the left. Vague retrocardiac opacity is similar and suggests atelectasis, but improved substantially. \n",
    "    IMPRESSION: Increase in right-sided pneumothorax, now small to moderate, with mild recurrent leftward shift.\n",
    "    \"\"\"\n",
    "]\n",
    "\n",
    "\n",
    "\n",
    "prompt = construct_detailed_prompt_with_few_shot(image_id, context_texts, triplets, few_shot_examples)\n",
    "print(prompt)\n"
   ]
  },
  {
   "cell_type": "code",
   "execution_count": 23,
   "metadata": {},
   "outputs": [
    {
     "name": "stdout",
     "output_type": "stream",
     "text": [
      "Processing Image ID: 450_4c8f8ea6-47e8a94c-d0102870-54af5bd2-c538db5f\n",
      "Top-5 Text IDs: ['31402_s51718048', '18549_s50696726', '23163_s53192951', '19294_s59515023', '184_s54234360']\n",
      "Processing Image ID: 173_eb2fabb7-4bbc8aab-d7371282-08e5bcb5-de2e430a\n",
      "Top-5 Text IDs: ['9335_s56406916', '22008_s50002557', '11261_s58493244', '22683_s54917419', '194_s53950795']\n",
      "Processing Image ID: 23_28fad2ac-d6001216-b4f72c5b-2d4d452e-17b6c9a5\n",
      "Top-5 Text IDs: ['19653_s56073986', '20585_s56207921', '11908_s59124602', '24181_s59459488', '12707_s53019840']\n",
      "Processing Image ID: 210_5053834b-b1bea04f-680aec42-45abe415-c2d097ba\n",
      "Top-5 Text IDs: ['6870_s56090555', '7286_s53507895', '1758_s55579609', '5815_s56477239', '7183_s55768555']\n",
      "Processing Image ID: 17_6ad819bb-bae74eb9-7b663e90-b8deabd7-57f8054a\n",
      "Top-5 Text IDs: ['21587_s55564934', '19292_s58015625', '10631_s54279389', '5377_s51448682', '31901_s58288699']\n",
      "Processing Image ID: 153_2c814e99-aa096010-bd722059-5a35bd69-a902e44e\n",
      "Top-5 Text IDs: ['19535_s57131561', '22113_s53245228', '11046_s55024693', '5528_s53731433', '20420_s50158561']\n",
      "Processing Image ID: 149_3373e04d-44222d3e-2a706a8e-f5a037de-a41a60f6\n",
      "Top-5 Text IDs: ['6066_s51722041', '31901_s58288699', '30574_s56214651', '12069_s54943962', '5677_s59956857']\n",
      "Processing Image ID: 215_0d985d10-36a2a165-ddc49c96-8b8466c9-df947f57\n",
      "Top-5 Text IDs: ['8170_s51364164', '853_s51882357', '7036_s56856430', '11096_s55929980', '12226_s57518319']\n",
      "Processing Image ID: 242_81791c39-946a2aaa-fd27f78d-48400e77-610e2ae2\n",
      "Top-5 Text IDs: ['31728_s53948810', '6176_s58733600', '8070_s51351077', '19103_s53308470', '19984_s53958957']\n",
      "Processing Image ID: 163_11b6ac54-65f50afa-38228a29-8a18a28e-c51e103a\n",
      "Top-5 Text IDs: ['12686_s59709503', '10237_s50007410', '385_s50370108', '1146_s55277368', '7589_s50867802']\n",
      "Prompt for Image ID: 450_4c8f8ea6-47e8a94c-d0102870-54af5bd2-c538db5f\n",
      "\n",
      "    You are an assistant designed to write impression summaries for the radiology report.\n",
      "    Users will send a context text and you will respond with an impression summary using that context.\n",
      "    Instructions:\n",
      "    • Impression should be based on the information that the user will send in the context.\n",
      "    • The impression should not mention anything about follow-up actions.\n",
      "    • Impression should not contain any mentions of prior or previous studies.\n",
      "    • Use the following words for attributes where applicable:\n",
      "        - Pathology: atelectasis, opacities, consolidation, effusion, pneumothorax\n",
      "        - Positional: right, left, bilateral, upper, lower, middle\n",
      "        - Severity: mild, moderate, severe\n",
      "        - Size: small, large\n",
      "    Examples:\n",
      "    \n",
      "    Example 1:\n",
      "    CONTEXT: Frontal chest radiographs were obtained with the patient in the upright position. COMPARISON: Radiographs from ___, ___ and ___. FINDINGS: The lungs are clear of focal consolidation, pleural effusion or pneumothorax. The heart size is normal. The mediastinal contours are normal. Multiple surgical clips project over the left breast, and old left rib fractures are noted. \n",
      "    IMPRESSION: No acute cardiopulmonary process.\n",
      "    \n",
      "\n",
      "    Example 2:\n",
      "    CONTEXT: Portable chest radiograph demonstrates unchanged mediastinal, hilar, and cardiac contours. There has been interval development of bibasilar opacities likely reflecting atelectasis, though cannot exclude developing infectious process. Additionally, there has been interval increase in small right-sided pleural effusion.\n",
      "    IMPRESSION: Bibasilar opacities, likely atelectasis. Increased small right pleural effusion.\n",
      "    \n",
      "\n",
      "    Example 3:\n",
      "    CONTEXT:A tracheostomy is in place. Bullet fracture fragments are again noted bilaterally. Bilateral chest tubes are unchanged in positions. A right-sided pneumothorax has increased and is now small to moderate in size. There is no definite pleural effusion on the left. Vague retrocardiac opacity is similar and suggests atelectasis, but improved substantially. \n",
      "    IMPRESSION: Increase in right-sided pneumothorax, now small to moderate, with mild recurrent leftward shift.\n",
      "    \n",
      "    Your Turn:\n",
      "    CONTEXT: FINAL REPORT HISTORY: ___-year-old female with shortness of breath, cough and sputum production. New onset of dyspnea and chest pain. COMPARISON: None. FINDINGS: Frontal and lateral views of the chest. The bilateral perihilar opacities with indistinct pulmonary vascular markings seen throughout. Blunting of posterior costophrenic angles suggestive of effusions. Linear opacity in the region of the minor fissure suggests fluid within the fissure versus potential adjacent atelectasis or other cause of consolidation. The cardiac silhouette appears enlarged likely exaggerated by poor inspiratory effort. Dense mitral annular calcifications are noted as well as atherosclerotic calcifications of the aorta which is tortuous. Multiple compression deformities are noted throughout the thoracic and likely lumbar spine which are age indeterminate. IMPRESSION: Findings suggestive of congestive failure noting a superimposed infection is also a possibility. Multifocal compression deformities within the spine which are age indeterminate and clinical correlation suggested. FINAL REPORT INDICATION: Cough and weakness. COMPARISON: Radiograph available from ___. FRONTAL AND LATERAL CHEST RADIOGRAPHS: The heart is moderately enlarged. The hilar and mediastinal contours are unchanged since ___. There has been increase in central vascular congestion with mild interstitial edema. There are right lower and middle lobe densities, increased since the ___ examination, concerning for consolidations. There is no pneumothorax. IMPRESSION: 1. Increase in density of a right lower and middle lobe opacities, concerning for pneumonia. 2. Cardiomegaly with central vascular congestion and mild interstitial edema. FINAL REPORT CHEST, TWO VIEWS; ___ HISTORY: ___-year-old female with shortness of breath. Additional history from prior radiology report reveals breast cancer with pulmonary metastases. COMPARISON: Chest x-ray from ___ and PET-CT from ___. FINDINGS: Frontal and lateral views of the chest. Multifocal regions of consolidation are compatible with known metastatic lesions throughout the lungs. Overall the size and distribution has not significantly changed. Cardiomediastinal silhouette is stable. No acute osseous abnormality is identified. IMPRESSION: Multifocal, with bilateral pulmonary metastases. No definite superimposed acute cardiopulmonary process although given burden of disease evaluation for subtle change is limited. WET READ: ___ ___ 8:13 PM Extensive chronic pulmonary fibrotic changes are again noted in a similar distribution. Underlying edema or infection is difficult to exclude. Moderate cardiomegaly is stable. ______________________________________________________________________________ FINAL REPORT EXAMINATION: Chest radiographs. INDICATION: ___F with cough // r/o infiltrate TECHNIQUE: AP and lateral. COMPARISON: Chest CT: ___. Chest radiograph: ___. FINDINGS: Extensive confluent interstitial fibrotic changes are again noted, in a similar distribution compared to prior exams, with peripheral basilar predominance. No new opacification is identified. The cardiomediastinal silhouette is unchanged compared to the prior radiograph, with stable moderate cardiomegaly and calcifications in the aortic arch. There is no pleural effusion or pneumothorax. Surgical clips are noted in the upper abdomen. IMPRESSION: 1. Extensive chronic pulmonary fibrotic changes are again noted in a similar distribution. 2. Underlying edema or infection is difficult to exclude. 3. Moderate cardiomegaly is stable. FINAL REPORT EXAMINATION: CHEST (PA AND LAT) INDICATION: ___M POD___ s/p robotic CCY, RNY w/ fevers // evaluate for pneumonia IMPRESSION: As compared to ___ radiograph, cardiomediastinal contours are stable. Worsening bibasilar opacities favor atelectasis over infectious pneumonia. Probable very small pleural effusions bilaterally. Hiatus hernia described by Air-fluid level behind the heart on the lateral radiograph. Sickle cell disease with acute chest syndrome described by Cardiac silhouette is mildly enlarged. There is bilateral lower zone atelectasis and hazy airspace opacities. Bones are diffusely sclerotic with multi-level H-shaped vertebral bodies. Splenic shadow is difficult to visualize. Giant cell interstitial pneumonia described by heart is enlarged with a cardiothoracic ratio of 0.59 ill-defined \"shaggy\" left heart border suggests interstitial thickening in the lingula increased interstitial markings in a bibasal distribution no consolidation, pulmonary nodules, or pleural effusion degenerative change of the shoulders and thoracic spine Usual interstitial pneumonia (UIP) described by Extensive interstitial lung markings throughout the lungs are consistent with chronic interstitial lung disease with equivocal lung volume loss. No pleural effusion.  No pneumothorax. Enlarged heart silhouette.  Bilateral shoulder injuries on chest x-ray described by Interstitial lung markings are prominent by sub-optimal inspiration. The left glenohumeral joint appears dislocated. The right proximal humerus is fractured. Dedicated shoulder views are recommended.\n",
      "    IMPRESSION:\n",
      "    \n",
      "\n",
      "Prompt for Image ID: 173_eb2fabb7-4bbc8aab-d7371282-08e5bcb5-de2e430a\n",
      "\n",
      "    You are an assistant designed to write impression summaries for the radiology report.\n",
      "    Users will send a context text and you will respond with an impression summary using that context.\n",
      "    Instructions:\n",
      "    • Impression should be based on the information that the user will send in the context.\n",
      "    • The impression should not mention anything about follow-up actions.\n",
      "    • Impression should not contain any mentions of prior or previous studies.\n",
      "    • Use the following words for attributes where applicable:\n",
      "        - Pathology: atelectasis, opacities, consolidation, effusion, pneumothorax\n",
      "        - Positional: right, left, bilateral, upper, lower, middle\n",
      "        - Severity: mild, moderate, severe\n",
      "        - Size: small, large\n",
      "    Examples:\n",
      "    \n",
      "    Example 1:\n",
      "    CONTEXT: Frontal chest radiographs were obtained with the patient in the upright position. COMPARISON: Radiographs from ___, ___ and ___. FINDINGS: The lungs are clear of focal consolidation, pleural effusion or pneumothorax. The heart size is normal. The mediastinal contours are normal. Multiple surgical clips project over the left breast, and old left rib fractures are noted. \n",
      "    IMPRESSION: No acute cardiopulmonary process.\n",
      "    \n",
      "\n",
      "    Example 2:\n",
      "    CONTEXT: Portable chest radiograph demonstrates unchanged mediastinal, hilar, and cardiac contours. There has been interval development of bibasilar opacities likely reflecting atelectasis, though cannot exclude developing infectious process. Additionally, there has been interval increase in small right-sided pleural effusion.\n",
      "    IMPRESSION: Bibasilar opacities, likely atelectasis. Increased small right pleural effusion.\n",
      "    \n",
      "\n",
      "    Example 3:\n",
      "    CONTEXT:A tracheostomy is in place. Bullet fracture fragments are again noted bilaterally. Bilateral chest tubes are unchanged in positions. A right-sided pneumothorax has increased and is now small to moderate in size. There is no definite pleural effusion on the left. Vague retrocardiac opacity is similar and suggests atelectasis, but improved substantially. \n",
      "    IMPRESSION: Increase in right-sided pneumothorax, now small to moderate, with mild recurrent leftward shift.\n",
      "    \n",
      "    Your Turn:\n",
      "    CONTEXT: FINAL REPORT EXAMINATION: CHEST (PORTABLE AP) INDICATION: ___ year old man with pleurx // effusion f/u TECHNIQUE: Portable chest COMPARISON: 517 FINDINGS: There is a moderate right pleural effusion that is increased in size. There is associated right lower lobe volume loss. An underlying infectious infiltrate can't be excluded. There is small left pleural effusion with associated left lower lobe volume loss. There is pulmonary vascular redistribution and moderate cardiomegaly. Sternal wires are again visualized. IMPRESSION: Increased fluid overload with increased right effusion. FINAL REPORT EXAMINATION: CHEST (PORTABLE AP) INDICATION: ___ year old man with heme malignancy, COPD, CHF. acute resp decompensation // assess for increased Pulm edema, acute processes COMPARISON: ___. IMPRESSION: As compared to the previous radiograph, the known pre-existing diffuse nodular parenchymal opacities increase in extent and severity. In the right lung, these opacities that tends to confluate, thereby forming larger areas of changes with air bronchograms. The mediastinum could have slightly increased in diameter, suggesting either fluid overload or increasing adenopathy. No pleural effusions. FINAL REPORT EXAMINATION: CHEST (PORTABLE AP) INDICATION: History: ___M with cancer, neutropenic, history of malignant effusions, decreased breath sounds bilaterally TECHNIQUE: Upright AP view of the chest COMPARISON: Chest radiograph ___ FINDINGS: Left-sided Port-A-Cath tip terminates in the proximal right atrium. Severe enlargement of the cardiac silhouette is unchanged. There is continued mild pulmonary edema. The mediastinal and hilar contours are similar. Small bilateral pleural effusions have decreased in size compared to the previous study. Patchy opacities in lung bases may reflect compressive atelectasis. No pneumothorax is seen. There are moderate multilevel degenerative changes in the thoracic spine. IMPRESSION: Severe cardiomegaly with mild pulmonary edema. Small bilateral pleural effusions, decreased in size compared to the previous exam. Patchy opacities in lung bases may reflect atelectasis. FINAL REPORT EXAMINATION: CHEST (PORTABLE AP) INDICATION: ___ year old man with cirrhosis // eval pulm edema, effusions COMPARISON: CT abdomen from ___. FINDINGS: AP portable upright view of the chest. The heart is obscured by bibasilar opacities, likely reflecting a mixture of moderate pleural effusions with adjacent compressive atelectasis. Air bronchograms are demonstrated at the right base, concerning for underlying consolidation. There is no pneumothorax. The aorta is tortuous, demonstrating mild calcifications at the arch. IMPRESSION: Moderate bilateral pleural effusions with adjacent compressive atelectasis. Air bronchograms at the right base are concerning for underlying consolidation. FINAL REPORT INDICATION: ___ year old man with SOB and tachycardia // please assess for worsening pna or effusion //___ year old man with SOB and tachycardia TECHNIQUE: AP view of the chest COMPARISON: ___ CT and ___ x-ray FINDINGS: Numerous nodular opacities compatible the patient's metastatic disease are again appreciated. In addition, there is worsening pulmonary edema as well as a worsening right lower lobe infiltrate which could represent pneumonia in the correct clinical setting. A right pleural effusion is also increased in size. IMPRESSION: Worsening combination of pleural effusion, pulmonary edema and possibly pneumonia particularly in the right lower lobe. Thoracic empyema described by There is moderate-to-large-sized pleural effusion with multiple septations/loculations associated with underlying consolidation. Thoracic empyema described by There is moderate-to-large-sized pleural effusion with multiple septations/loculations associated with underlying consolidation. Re-expansion pulmonary edema described by Right pleural effusion with associated compressive atelectasis. Small left pleural effusion. Left upper zone mass. Sternotomy wires and valve replacement. Enlarged cardiac silhouette. Re-expansion pulmonary edema described by Right pleural effusion with associated compressive atelectasis. Small left pleural effusion. Left upper zone mass. Sternotomy wires and valve replacement. Enlarged cardiac silhouette. Oxygen mask and tubing artifact (portable radiograph) described by Patchy air space opacities are noted in the bilateral mid to lower zones and left retrocardiac region which may be suggestive of worsening infective changes. A small left pleural effusion is noted with adjacent atelectasis. No gross pneumothorax is detected. No subdiaphragmatic free gas is seen. Aortic calcifications are noted. Degenerative changes are noted of the imaged spine on a background of diffuse osteopenia. An old right 9th rib fracture is also seen.\n",
      "    IMPRESSION:\n",
      "    \n",
      "\n",
      "Prompt for Image ID: 23_28fad2ac-d6001216-b4f72c5b-2d4d452e-17b6c9a5\n",
      "\n",
      "    You are an assistant designed to write impression summaries for the radiology report.\n",
      "    Users will send a context text and you will respond with an impression summary using that context.\n",
      "    Instructions:\n",
      "    • Impression should be based on the information that the user will send in the context.\n",
      "    • The impression should not mention anything about follow-up actions.\n",
      "    • Impression should not contain any mentions of prior or previous studies.\n",
      "    • Use the following words for attributes where applicable:\n",
      "        - Pathology: atelectasis, opacities, consolidation, effusion, pneumothorax\n",
      "        - Positional: right, left, bilateral, upper, lower, middle\n",
      "        - Severity: mild, moderate, severe\n",
      "        - Size: small, large\n",
      "    Examples:\n",
      "    \n",
      "    Example 1:\n",
      "    CONTEXT: Frontal chest radiographs were obtained with the patient in the upright position. COMPARISON: Radiographs from ___, ___ and ___. FINDINGS: The lungs are clear of focal consolidation, pleural effusion or pneumothorax. The heart size is normal. The mediastinal contours are normal. Multiple surgical clips project over the left breast, and old left rib fractures are noted. \n",
      "    IMPRESSION: No acute cardiopulmonary process.\n",
      "    \n",
      "\n",
      "    Example 2:\n",
      "    CONTEXT: Portable chest radiograph demonstrates unchanged mediastinal, hilar, and cardiac contours. There has been interval development of bibasilar opacities likely reflecting atelectasis, though cannot exclude developing infectious process. Additionally, there has been interval increase in small right-sided pleural effusion.\n",
      "    IMPRESSION: Bibasilar opacities, likely atelectasis. Increased small right pleural effusion.\n",
      "    \n",
      "\n",
      "    Example 3:\n",
      "    CONTEXT:A tracheostomy is in place. Bullet fracture fragments are again noted bilaterally. Bilateral chest tubes are unchanged in positions. A right-sided pneumothorax has increased and is now small to moderate in size. There is no definite pleural effusion on the left. Vague retrocardiac opacity is similar and suggests atelectasis, but improved substantially. \n",
      "    IMPRESSION: Increase in right-sided pneumothorax, now small to moderate, with mild recurrent leftward shift.\n",
      "    \n",
      "    Your Turn:\n",
      "    CONTEXT: FINAL REPORT HISTORY: Fever assess for pneumonia. COMPARISON: None. FINDINGS: 2 views were obtained of the chest. The lungs are well expanded and clear without pleural effusion or pneumothorax. The heart is normal in size with normal cardiomediastinal contours. IMPRESSION: No acute intrathoracic process. FINAL REPORT HISTORY: Anterior chest pain, evaluate for pneumothorax or infiltrate COMPARISON: None available FINDINGS: Frontal and lateral radiographs of the chest demonstrate normal heart size. The cardiomediastinal silhouette and hilar contours are normal. The lungs are clear. No pleural effusion or pneumothorax. No displaced rib fracture identified. IMPRESSION: Normal chest radiograph. FINAL REPORT INDICATION: Chest pain. COMPARISON: None available. FINDINGS: The lungs are clear with no evidence of consolidation, effusion, or pneumothorax. Cardiomediastinal silhouette is normal. No acute fractures are identified. IMPRESSION: No acute cardiopulmonary process. FINAL REPORT HISTORY: Pre renal transplant evaluation. COMPARISON: None. FINDINGS: 2 views were obtained of the chest. The lungs are well expanded and clear. There is no pleural effusion or pneumothorax. The heart is normal in size with normal mediastinal and hilar contours. IMPRESSION: No acute intrathoracic process. FINAL REPORT HISTORY: Left lower quadrant pain with history of IBS, evaluation for free air. COMPARISON: None available. FINDINGS: The lungs are clear with no evidence of a consolidation, effusion, or pneumothorax. Cardiac and mediastinal silhouettes are normal. No acute fractures are identified. No free air is noted under the hemidiaphragms. IMPRESSION: No acute cardiopulmonary process with no evidence of large amount of free air. Rhomboid fossa of the clavicle described by The lungs and pleural spaces are clear. Cardiomediastinal contours and hilar regions within normal limits. Incidental prominant left rhomboid fossa of the clavicle on the left - a normal variant. Rhomboid fossa of the clavicle described by The lungs and pleural spaces are clear. Cardiomediastinal contours and hilar regions within normal limits. Incidental prominant left rhomboid fossa of the clavicle on the left - a normal variant. Nipple stud described by Normal cardiomediastinal contour. Lungs are clear. Linear right nipple stud. Pneumonia has symptom Chief complaints: throat pain, body ache, fever, and left-sided chest pain for 2 days. No history of breathing difficulty or cough. Myasthenia gravis - non-thymomatous described by No anterior superior mediastinal mass is seen. The lungs and pleural angles are clear. The heart, mediastinum, pulmonary vessels, and diaphragm all appear normal.\n",
      "    IMPRESSION:\n",
      "    \n",
      "\n",
      "Prompt for Image ID: 210_5053834b-b1bea04f-680aec42-45abe415-c2d097ba\n",
      "\n",
      "    You are an assistant designed to write impression summaries for the radiology report.\n",
      "    Users will send a context text and you will respond with an impression summary using that context.\n",
      "    Instructions:\n",
      "    • Impression should be based on the information that the user will send in the context.\n",
      "    • The impression should not mention anything about follow-up actions.\n",
      "    • Impression should not contain any mentions of prior or previous studies.\n",
      "    • Use the following words for attributes where applicable:\n",
      "        - Pathology: atelectasis, opacities, consolidation, effusion, pneumothorax\n",
      "        - Positional: right, left, bilateral, upper, lower, middle\n",
      "        - Severity: mild, moderate, severe\n",
      "        - Size: small, large\n",
      "    Examples:\n",
      "    \n",
      "    Example 1:\n",
      "    CONTEXT: Frontal chest radiographs were obtained with the patient in the upright position. COMPARISON: Radiographs from ___, ___ and ___. FINDINGS: The lungs are clear of focal consolidation, pleural effusion or pneumothorax. The heart size is normal. The mediastinal contours are normal. Multiple surgical clips project over the left breast, and old left rib fractures are noted. \n",
      "    IMPRESSION: No acute cardiopulmonary process.\n",
      "    \n",
      "\n",
      "    Example 2:\n",
      "    CONTEXT: Portable chest radiograph demonstrates unchanged mediastinal, hilar, and cardiac contours. There has been interval development of bibasilar opacities likely reflecting atelectasis, though cannot exclude developing infectious process. Additionally, there has been interval increase in small right-sided pleural effusion.\n",
      "    IMPRESSION: Bibasilar opacities, likely atelectasis. Increased small right pleural effusion.\n",
      "    \n",
      "\n",
      "    Example 3:\n",
      "    CONTEXT:A tracheostomy is in place. Bullet fracture fragments are again noted bilaterally. Bilateral chest tubes are unchanged in positions. A right-sided pneumothorax has increased and is now small to moderate in size. There is no definite pleural effusion on the left. Vague retrocardiac opacity is similar and suggests atelectasis, but improved substantially. \n",
      "    IMPRESSION: Increase in right-sided pneumothorax, now small to moderate, with mild recurrent leftward shift.\n",
      "    \n",
      "    Your Turn:\n",
      "    CONTEXT: FINAL REPORT INDICATION: ___ year old woman s/p thoracentesis. STAT. // assess for PTX or complications of thoracentesis EXAMINATION: CHEST (PORTABLE AP) TECHNIQUE: Portable chest radiograph, frontal view COMPARISON: Chest radiograph ___, CT chest ___ FINDINGS: Right pleural effusion is decreased in size and L small. Small left pleural effusion is unchanged. Left apical cavitary lesion is unchanged. Large hiatal hernia is noted. Left perihilar consolidation corresponds to the region of bronchiectasis in the left lower lobe seen on prior CT. Right lung base opacity is likely atelectasis or re-expansion edema. Cardiomediastinal silhouette is normal size. IMPRESSION: No pneumothorax. Right pleural effusion is smaller. Right lung base opacity is likely atelectasis or re-expansion edema. FINAL REPORT EXAMINATION: CHEST (PORTABLE AP) INDICATION: ___ year old woman with cirrhosis, MDS with hypothermia and increasing lethargy. // Any signs of pneumonia, acute changes? Any signs of pneumonia, acute changes? IMPRESSION: In comparison with the study of ___ there is even further accumulation of fluid in the left pleural space. Little change in the degree of vascular congestion. Otherwise little change. FINAL REPORT EXAMINATION: CHEST (PORTABLE AP) INDICATION: ___F hx esophageal adenoCA s/p MIE ___ now with persistent GOO s/p laparoscopic pyloroplasty // assess for barium passage assess for barium passage IMPRESSION: As compared to ___, areas of atelectatic lung in both the right and the left lung base have decreased in extent and severity. Overall, the lung parenchyma is better expanded than on the previous examination. Contrast material is seen in the basal portions of the neoesophagus. No pleural effusions. Normal appearance of the cardiac silhouette. FINAL REPORT EXAMINATION: CHEST (PORTABLE AP) INDICATION: ___ year old woman with SOB // atelectasis, pneumonia atelectasis, pneumonia IMPRESSION: Cardiomegaly is substantial. Mediastinum is widened and there is interval development of pulmonary edema. Underlying consolidation in the right lower lobe might potentially represent infection but pulmonary edema is the major pathology. Right pleural effusion is a possibility. No pneumothorax. NOTIFICATION: The findings were discussed with Dr. ___ , . by ___ ___, M.D. on the telephone on ___ at 4:49 PM, 10 minutes after discovery of the findings. WET READ: ___ ___ ___ 9:01 PM improved R pleural effusion; small L pleural effusion w/ associated atelectasis; no ptx. ______________________________________________________________________________ FINAL REPORT HISTORY: Evaluate pleural fluid, pneumothorax. CHEST, SINGLE AP PORTABLE VIEW. Compared with ___ at 14:27 p.m., the left pleural effusion is slightly larger, with progressive left lower lobe collapse and/or consolidation. There is minimal right costophrenic angle blunting, improved. Suspect background hyperinflation consistent with COPD. There is a large right paratracheal mass, as well as a mass in the region of the AP window. There is biapical pleural scarring. Possible slight volume loss on the left side, with atelectasis and/or scarring. Tiny nodular density noted in right upper zone. IMPRESSION: 1. Left effusion slightly larger. Right effusion smaller. 2. No pneumothorax detected. 3. New obscuration of the left hemidiaphragm consistent with left lower lobe collapse and/or consolidation. 4. Prominent mediastinal lymphadenopathy and right upper zone nodule more completely demonstrated on a chest CT dated ___. Hydropneumothorax, pneumomediastinum, pneumoperitoneum and pneumoretroperitoneum described by Right-sided hydropneumothorax with pneumomediastinum, pneumoperitoneum and pneumoretroperitoneum (note the gas outlining the heart, aortic knuckle, psoas muscles, kidneys, along the right and left paracolic gutter and in the pelvis). Basal pneumothorax and trapped lung post thoracentesis has symptom Chronic left pleural effusion. Post thoracocentesis. Pulmonary lacerations described by Large hazy left mid zone opacity containing a cavity. Smaller medial left basal cavity and adjacent opacity. Small left pneumothorax.\n",
      "\n",
      " Pneumothorax - large described by Large left sided pneumothorax, with underlying lung collapse. No mediastinal shift. Right lung clear.\n",
      " Large thoracic aortic aneurysm described by Large dilated tortuous aortic arch and descending aorta with mass effect on the trachea (displacing it to the left and mildly narrowing it). Despite rotation of the patient to the right, there is some mediastinal shift to the left. Increased interstitial markings throughout the lungs. Left apical pleural capping.\n",
      "    IMPRESSION:\n",
      "    \n",
      "\n",
      "Prompt for Image ID: 17_6ad819bb-bae74eb9-7b663e90-b8deabd7-57f8054a\n",
      "\n",
      "    You are an assistant designed to write impression summaries for the radiology report.\n",
      "    Users will send a context text and you will respond with an impression summary using that context.\n",
      "    Instructions:\n",
      "    • Impression should be based on the information that the user will send in the context.\n",
      "    • The impression should not mention anything about follow-up actions.\n",
      "    • Impression should not contain any mentions of prior or previous studies.\n",
      "    • Use the following words for attributes where applicable:\n",
      "        - Pathology: atelectasis, opacities, consolidation, effusion, pneumothorax\n",
      "        - Positional: right, left, bilateral, upper, lower, middle\n",
      "        - Severity: mild, moderate, severe\n",
      "        - Size: small, large\n",
      "    Examples:\n",
      "    \n",
      "    Example 1:\n",
      "    CONTEXT: Frontal chest radiographs were obtained with the patient in the upright position. COMPARISON: Radiographs from ___, ___ and ___. FINDINGS: The lungs are clear of focal consolidation, pleural effusion or pneumothorax. The heart size is normal. The mediastinal contours are normal. Multiple surgical clips project over the left breast, and old left rib fractures are noted. \n",
      "    IMPRESSION: No acute cardiopulmonary process.\n",
      "    \n",
      "\n",
      "    Example 2:\n",
      "    CONTEXT: Portable chest radiograph demonstrates unchanged mediastinal, hilar, and cardiac contours. There has been interval development of bibasilar opacities likely reflecting atelectasis, though cannot exclude developing infectious process. Additionally, there has been interval increase in small right-sided pleural effusion.\n",
      "    IMPRESSION: Bibasilar opacities, likely atelectasis. Increased small right pleural effusion.\n",
      "    \n",
      "\n",
      "    Example 3:\n",
      "    CONTEXT:A tracheostomy is in place. Bullet fracture fragments are again noted bilaterally. Bilateral chest tubes are unchanged in positions. A right-sided pneumothorax has increased and is now small to moderate in size. There is no definite pleural effusion on the left. Vague retrocardiac opacity is similar and suggests atelectasis, but improved substantially. \n",
      "    IMPRESSION: Increase in right-sided pneumothorax, now small to moderate, with mild recurrent leftward shift.\n",
      "    \n",
      "    Your Turn:\n",
      "    CONTEXT: FINAL REPORT EXAMINATION: Chest: Frontal and lateral views INDICATION: History: ___F with 2h worsening SOB // SOB, CHF? TECHNIQUE: Chest: Frontal and Lateral COMPARISON: ___ FINDINGS: The patient is somewhat rotated. Increased interstitial markings bilaterally are worrisome for moderate interstitial pulmonary edema versus less likely atypical infection. There are small pleural effusions. The cardiac silhouette is mildly enlarged. The aorta is calcified and tortuous. Prominence of the hila may relate to fluid overload or pulmonary hypertension. There may be a hiatal hernia. IMPRESSION: Moderate interstitial edema. Small bilateral pleural effusions. WET READ: ___ ___ ___ 2:03 PM Worsened diffuse increase in interstitial markings bilaterally in this patient with known history of diffuse fibrotic interstitial lung disease, concerning for progression of interstitial lung disease and/or possible superimposed vascular congestion. ______________________________________________________________________________ FINAL REPORT EXAMINATION: Chest: Frontal and lateral views INDICATION: History: ___F with sob // eval for ptx TECHNIQUE: Chest: Frontal and Lateral COMPARISON: ___ FINDINGS: There is diffuse increase in interstitial markings bilaterally, increased compared to the prior study, consistent with patient's known diffuse interstitial fibrotic lung disease raising concern for worsening of the interstitial lung disease with possible superimposed vascular congestion. No large pleural effusion is seen although trace pleural effusion would be difficult to exclude. There is no pneumothorax. The cardiac and mediastinal silhouettes are grossly stable. Aortic knob calcification is re- demonstrated. IMPRESSION: Worsened diffuse increase in interstitial markings bilaterally in this patient with known history of diffuse fibrotic interstitial lung disease, concerning for progression of interstitial lung disease and/or possible superimposed vascular congestion. FINAL REPORT EXAMINATION: Chest: Frontal and lateral views INDICATION: History: ___F with dyspnea // r/o acute process TECHNIQUE: Chest: Frontal and Lateral COMPARISON: ___ FINDINGS: Diffuse increase in interstitial markings bilaterally is similar to prior consistent with mild interstitial edema with pulmonary vascular congestion. No large pleural effusion is seen. There is no pneumothorax. The cardiac and mediastinal silhouettes are stable. IMPRESSION: Persistent diffuse increase in interstitial markings bilaterally consistent with mild interstitial edema versus less likely chronic lung disease. FINAL REPORT EXAMINATION: CHEST (PA AND LAT) INDICATION: ___M with dyspnea on exertion // Edema, consolidation COMPARISON: ___ FINDINGS: PA and lateral views of the chest provided. Again seen is elevation of the left hemidiaphragm. Heart size is difficult to assess though appears at least mildly enlarged. Bibasilar opacities likely reflect atelectasis, difficult to exclude tiny pleural effusions. There is probable mild interstitial pulmonary edema. IMPRESSION: As above. FINAL REPORT EXAMINATION: Chest: Frontal and lateral views INDICATION: History: ___M with CHF, COPD on 4L home O2 with hypoxemia and ___. // eval for pulm edema, pneumonia TECHNIQUE: Chest: Frontal and Lateral COMPARISON: ___ and ___ FINDINGS: Re- demonstrated widespread pulmonary interstitial abnormality, slightly worsened compared to ___, similar compared to ___, again may be due to interstitial pulmonary edema superimposed on a background of moderate pulmonary emphysema. Superimposed infectious process is not excluded. There are small bilateral pleural effusions. No pneumothorax is seen. The cardiac and mediastinal silhouettes are stably enlarged. IMPRESSION: Re- demonstrated widespread pulmonary interstitial abnormality, slightly worse compared to ___, similar compared to ___, can't may be due to interstitial pulmonary edema superimposed on a background of pulmonary emphysema. Superimposed infectious process not excluded. Hiatus hernia described by Air-fluid level behind the heart on the lateral radiograph. Miliary tuberculosis described by Bilateral lung fields interstitial opacities. Miliary tuberculosis described by Bilateral lung fields interstitial opacities. Large pericardial effusion described by Grossyl enlarged cardiac shadow demonstrating the water bottle sign, bilateral pleural effusion, multiple intrapulmonary masses. Enlarged pulmonary vasculature, diffuse, inhomogenously increased interstitial markings. Large pericardial effusion described by Grossyl enlarged cardiac shadow demonstrating the water bottle sign, bilateral pleural effusion, multiple intrapulmonary masses. Enlarged pulmonary vasculature, diffuse, inhomogenously increased interstitial markings.\n",
      "    IMPRESSION:\n",
      "    \n",
      "\n",
      "Prompt for Image ID: 153_2c814e99-aa096010-bd722059-5a35bd69-a902e44e\n",
      "\n",
      "    You are an assistant designed to write impression summaries for the radiology report.\n",
      "    Users will send a context text and you will respond with an impression summary using that context.\n",
      "    Instructions:\n",
      "    • Impression should be based on the information that the user will send in the context.\n",
      "    • The impression should not mention anything about follow-up actions.\n",
      "    • Impression should not contain any mentions of prior or previous studies.\n",
      "    • Use the following words for attributes where applicable:\n",
      "        - Pathology: atelectasis, opacities, consolidation, effusion, pneumothorax\n",
      "        - Positional: right, left, bilateral, upper, lower, middle\n",
      "        - Severity: mild, moderate, severe\n",
      "        - Size: small, large\n",
      "    Examples:\n",
      "    \n",
      "    Example 1:\n",
      "    CONTEXT: Frontal chest radiographs were obtained with the patient in the upright position. COMPARISON: Radiographs from ___, ___ and ___. FINDINGS: The lungs are clear of focal consolidation, pleural effusion or pneumothorax. The heart size is normal. The mediastinal contours are normal. Multiple surgical clips project over the left breast, and old left rib fractures are noted. \n",
      "    IMPRESSION: No acute cardiopulmonary process.\n",
      "    \n",
      "\n",
      "    Example 2:\n",
      "    CONTEXT: Portable chest radiograph demonstrates unchanged mediastinal, hilar, and cardiac contours. There has been interval development of bibasilar opacities likely reflecting atelectasis, though cannot exclude developing infectious process. Additionally, there has been interval increase in small right-sided pleural effusion.\n",
      "    IMPRESSION: Bibasilar opacities, likely atelectasis. Increased small right pleural effusion.\n",
      "    \n",
      "\n",
      "    Example 3:\n",
      "    CONTEXT:A tracheostomy is in place. Bullet fracture fragments are again noted bilaterally. Bilateral chest tubes are unchanged in positions. A right-sided pneumothorax has increased and is now small to moderate in size. There is no definite pleural effusion on the left. Vague retrocardiac opacity is similar and suggests atelectasis, but improved substantially. \n",
      "    IMPRESSION: Increase in right-sided pneumothorax, now small to moderate, with mild recurrent leftward shift.\n",
      "    \n",
      "    Your Turn:\n",
      "    CONTEXT: FINAL REPORT EXAMINATION: Chest radiograph. INDICATION: History: ___F with COPD aND sob, COUGH, pls eval cxr for pna; also vag bleeding s/p hysterectomy pls eval u/s for clots/hematomas // History: ___F with COPD aND sob, COUGH, pls eval cxr for pna; also vag bleeding s/p hysterectomy pls eval u/s for clots/hematomas TECHNIQUE: Chest AP and lateral COMPARISON: Chest radiographs dated ___, CT chest dated ___. FINDINGS: The patient is status post median sternotomy and CABG. Stable, moderate cardiomegaly is noted. Emphysematous changes are noted. Mildly prominent bilateral hila is suggestive of mild pulmonary congestion. There is no pleural effusion, lobar consolidation, or overt pulmonary edema identified. The descending thoracic aorta is calcified and mildly tortuous. IMPRESSION: Stable, moderate cardiomegaly. Mild emphysema without lobar consolidation. FINAL REPORT EXAMINATION: CHEST (AP AND LAT) INDICATION: History: ___M with dyspnea TECHNIQUE: Upright AP and lateral views of the chest COMPARISON: Chest radiograph ___ FINDINGS: Cardiac silhouette size appears mild to moderately enlarged as seen previously. The aorta is unfolded with atherosclerotic calcifications noted in the descending thoracic aorta. Lung volumes are lower compared to the previous study. Enlarged on the hila is again noted bilaterally. Mild interstitial pulmonary edema is worse in the interval, with increased patchy bibasilar opacities likely reflective of atelectasis. No pleural effusion or pneumothorax is clearly identified. No acute osseous abnormality seen. A rounded radiopaque dense structure measuring 2 cm projects over the epigastric region. IMPRESSION: Mild interstitial pulmonary edema, worse in the interval, with patchy bibasilar opacities, likely atelectasis. FINAL REPORT EXAMINATION: CHEST (AP AND LAT) INDICATION: ___M with cough and shortness of breath x 2 weeks // eval for pna COMPARISON: ___ FINDINGS: AP upright and lateral views of the chest provided. Hilar congestion with mild interstitial pulmonary edema noted. There also bibasilar opacities right greater than left which could reflect aspiration or pneumonia. No large effusion or pneumothorax. Overall cardiomediastinal silhouette is unchanged. Bony structures are intact. IMPRESSION: Mild pulmonary edema with bibasilar opacities which could reflect atelectasis though difficult to exclude aspiration/pneumonia. FINAL REPORT EXAMINATION: CHEST (AP AND LATERAL) INDICATION: History: ___M with chest pain, confusion TECHNIQUE: Upright AP and lateral views of the chest COMPARISON: ___ FINDINGS: The patient is status post median sternotomy and CABG. Lung volumes are low which accentuates the size of the cardiac silhouette which remains mildly enlarged. Mediastinal and hilar contours are unchanged. There is crowding of the bronchovascular structures due to low lung volumes without overt pulmonary edema. Innumerable basilar predominant nodular opacities are less pronounced on the current study but compatible with known metastases. Patchy opacities are re- demonstrated in the lung bases likely reflective of atelectasis. No new focal consolidation, pleural effusion or pneumothorax is demonstrated. Multilevel degenerative changes are again noted in the thoracic spine. IMPRESSION: Innumerable pulmonary metastases are less pronounced on the current study. Bibasilar atelectasis. WET READ: ___ ___ ___ 12:56 PM Moderate bibasilar atelectasis with low lung volumes. ______________________________________________________________________________ FINAL REPORT EXAMINATION: Chest radiograph INDICATION: History: ___M with fall // ? Abnormality, traumatic injuries TECHNIQUE: Chest PA and lateral COMPARISON: Prior chest radiographs from ___, ___, ___ FINDINGS: Moderate bibasilar atelectasis is noted with low lung volumes. Redemonstrated anterior upper mediastinal soft tissue has previously been identified as an enlarged thyroid goiter. Heart size is emphasized due to low lung volumes. No pneumothorax or pulmonary edema. IMPRESSION: Moderate bibasilar atelectasis with low lung volumes. Bilateral shoulder injuries on chest x-ray described by Interstitial lung markings are prominent by sub-optimal inspiration. The left glenohumeral joint appears dislocated. The right proximal humerus is fractured. Dedicated shoulder views are recommended. Bilateral shoulder injuries on chest x-ray described by Interstitial lung markings are prominent by sub-optimal inspiration. The left glenohumeral joint appears dislocated. The right proximal humerus is fractured. Dedicated shoulder views are recommended. Sickle cell disease with acute chest syndrome described by Cardiac silhouette is mildly enlarged. There is bilateral lower zone atelectasis and hazy airspace opacities. Bones are diffusely sclerotic with multi-level H-shaped vertebral bodies. Splenic shadow is difficult to visualize. Aortic intramural hematoma has symptom Acute central chest and bilateral jaw pain. Progressive with generalized weakness. History of hypertension and ischemic heart disease. Usual interstitial pneumonia (UIP) described by Extensive interstitial lung markings throughout the lungs are consistent with chronic interstitial lung disease with equivocal lung volume loss. No pleural effusion.  No pneumothorax. Enlarged heart silhouette. \n",
      "    IMPRESSION:\n",
      "    \n",
      "\n",
      "Prompt for Image ID: 149_3373e04d-44222d3e-2a706a8e-f5a037de-a41a60f6\n",
      "\n",
      "    You are an assistant designed to write impression summaries for the radiology report.\n",
      "    Users will send a context text and you will respond with an impression summary using that context.\n",
      "    Instructions:\n",
      "    • Impression should be based on the information that the user will send in the context.\n",
      "    • The impression should not mention anything about follow-up actions.\n",
      "    • Impression should not contain any mentions of prior or previous studies.\n",
      "    • Use the following words for attributes where applicable:\n",
      "        - Pathology: atelectasis, opacities, consolidation, effusion, pneumothorax\n",
      "        - Positional: right, left, bilateral, upper, lower, middle\n",
      "        - Severity: mild, moderate, severe\n",
      "        - Size: small, large\n",
      "    Examples:\n",
      "    \n",
      "    Example 1:\n",
      "    CONTEXT: Frontal chest radiographs were obtained with the patient in the upright position. COMPARISON: Radiographs from ___, ___ and ___. FINDINGS: The lungs are clear of focal consolidation, pleural effusion or pneumothorax. The heart size is normal. The mediastinal contours are normal. Multiple surgical clips project over the left breast, and old left rib fractures are noted. \n",
      "    IMPRESSION: No acute cardiopulmonary process.\n",
      "    \n",
      "\n",
      "    Example 2:\n",
      "    CONTEXT: Portable chest radiograph demonstrates unchanged mediastinal, hilar, and cardiac contours. There has been interval development of bibasilar opacities likely reflecting atelectasis, though cannot exclude developing infectious process. Additionally, there has been interval increase in small right-sided pleural effusion.\n",
      "    IMPRESSION: Bibasilar opacities, likely atelectasis. Increased small right pleural effusion.\n",
      "    \n",
      "\n",
      "    Example 3:\n",
      "    CONTEXT:A tracheostomy is in place. Bullet fracture fragments are again noted bilaterally. Bilateral chest tubes are unchanged in positions. A right-sided pneumothorax has increased and is now small to moderate in size. There is no definite pleural effusion on the left. Vague retrocardiac opacity is similar and suggests atelectasis, but improved substantially. \n",
      "    IMPRESSION: Increase in right-sided pneumothorax, now small to moderate, with mild recurrent leftward shift.\n",
      "    \n",
      "    Your Turn:\n",
      "    CONTEXT: FINAL REPORT INDICATION: ___M with hypoxia // pulmonary edema? TECHNIQUE: Frontal and lateral views the chest. COMPARISON: ___. FINDINGS: When compared to prior, there has been interval progression the degree of pulmonary vascular congestion. There is blunting of the posterior costophrenic angles suggesting small effusions. Enlarged cardiac silhouette is similar to prior IMPRESSION: Mild pulmonary edema with small bilateral effusions. FINAL REPORT EXAMINATION: Chest: Frontal and lateral views INDICATION: History: ___M with CHF, COPD on 4L home O2 with hypoxemia and ___. // eval for pulm edema, pneumonia TECHNIQUE: Chest: Frontal and Lateral COMPARISON: ___ and ___ FINDINGS: Re- demonstrated widespread pulmonary interstitial abnormality, slightly worsened compared to ___, similar compared to ___, again may be due to interstitial pulmonary edema superimposed on a background of moderate pulmonary emphysema. Superimposed infectious process is not excluded. There are small bilateral pleural effusions. No pneumothorax is seen. The cardiac and mediastinal silhouettes are stably enlarged. IMPRESSION: Re- demonstrated widespread pulmonary interstitial abnormality, slightly worse compared to ___, similar compared to ___, can't may be due to interstitial pulmonary edema superimposed on a background of pulmonary emphysema. Superimposed infectious process not excluded. FINAL REPORT EXAMINATION: CHEST (PA AND LAT) INDICATION: History: ___M with CHF, COPD, CAD presents with progressive dyspnea, fluid retention, cough TECHNIQUE: Upright AP and lateral views of the chest COMPARISON: Chest radiograph ___ FINDINGS: CC is status post median sternotomy and CABG. Severe cardiomegaly is unchanged. There is mild to moderate pulmonary edema, as seen previously. The mediastinal and hilar contours are similar with atherosclerotic calcifications noted diffusely in the descending thoracic aorta. Small bilateral pleural effusions have decreased in size compared to the prior study. Patchy atelectasis is noted in the lung bases. No pneumothorax is identified. There are moderate degenerative changes in the thoracic spine. IMPRESSION: Mild to moderate pulmonary edema, as seen previously, with severe cardiomegaly. Trace bilateral pleural effusions, decreased in size in the interval. FINAL REPORT EXAMINATION: Chest radiograph. INDICATION: History: ___F with hypoxia // eval for PNA TECHNIQUE: AP and lateral views of the chest COMPARISON: Chest radiographs dated ___. FINDINGS: Interval removal of a right internal jugular central venous line. Lung volumes have diminished with crowding of the pulmonary vasculature and interval improvement in pulmonary vascular congestion. Bilateral layering effusions with associated airspace opacities likely reflecting partial lower lobe atelectasis, although pneumonia cannot be excluded. No pneumothorax. Overall cardiac and mediastinal contours are likely unchanged given differences in positioning. IMPRESSION: Layering bilateral effusions with associated airspace disease most consistent with partial lower lobe atelectasis, although pneumonia cannot be entirely excluded. FINAL REPORT INDICATION: ___M with sob // eval for pna TECHNIQUE: AP and lateral views of the chest. COMPARISON: ___. FINDINGS: There are a small-moderate bilateral pleural effusions and moderate pulmonary edema. Enlargement of cardiac silhouette is again seen. Tortuosity of the thoracic aorta is again noted. No acute osseous abnormalities. IMPRESSION: Small-moderate bilateral pleural effusions and moderate pulmonary edema. Cardiomegaly with plethora and edema described by There is cardiomegaly with pulmonary plethora and airspace shadowing suggesting secondary pulmonary edema. Pulmonary hypertension and edema in Eisenmenger syndrome described by Enlarged pulmonary arteries and plethora. Cardiomegaly. Prominent left-sided aortic arch. There are also features of pulmonary edema. Pulmonary edema described by Air space opacity most confluent in the perihilar regions and interstitial prominence. There is venous congestion and an enlarged cardiac outline. Bilateral small to moderate sized pleural effusions. Appearances are those of mixed alveolar and interstitial pulmonary edema.  Hiatus hernia described by Large gas-filled hiatus hernia. Hiatus hernia described by Large gas-filled hiatus hernia.\n",
      "    IMPRESSION:\n",
      "    \n",
      "\n",
      "Prompt for Image ID: 215_0d985d10-36a2a165-ddc49c96-8b8466c9-df947f57\n",
      "\n",
      "    You are an assistant designed to write impression summaries for the radiology report.\n",
      "    Users will send a context text and you will respond with an impression summary using that context.\n",
      "    Instructions:\n",
      "    • Impression should be based on the information that the user will send in the context.\n",
      "    • The impression should not mention anything about follow-up actions.\n",
      "    • Impression should not contain any mentions of prior or previous studies.\n",
      "    • Use the following words for attributes where applicable:\n",
      "        - Pathology: atelectasis, opacities, consolidation, effusion, pneumothorax\n",
      "        - Positional: right, left, bilateral, upper, lower, middle\n",
      "        - Severity: mild, moderate, severe\n",
      "        - Size: small, large\n",
      "    Examples:\n",
      "    \n",
      "    Example 1:\n",
      "    CONTEXT: Frontal chest radiographs were obtained with the patient in the upright position. COMPARISON: Radiographs from ___, ___ and ___. FINDINGS: The lungs are clear of focal consolidation, pleural effusion or pneumothorax. The heart size is normal. The mediastinal contours are normal. Multiple surgical clips project over the left breast, and old left rib fractures are noted. \n",
      "    IMPRESSION: No acute cardiopulmonary process.\n",
      "    \n",
      "\n",
      "    Example 2:\n",
      "    CONTEXT: Portable chest radiograph demonstrates unchanged mediastinal, hilar, and cardiac contours. There has been interval development of bibasilar opacities likely reflecting atelectasis, though cannot exclude developing infectious process. Additionally, there has been interval increase in small right-sided pleural effusion.\n",
      "    IMPRESSION: Bibasilar opacities, likely atelectasis. Increased small right pleural effusion.\n",
      "    \n",
      "\n",
      "    Example 3:\n",
      "    CONTEXT:A tracheostomy is in place. Bullet fracture fragments are again noted bilaterally. Bilateral chest tubes are unchanged in positions. A right-sided pneumothorax has increased and is now small to moderate in size. There is no definite pleural effusion on the left. Vague retrocardiac opacity is similar and suggests atelectasis, but improved substantially. \n",
      "    IMPRESSION: Increase in right-sided pneumothorax, now small to moderate, with mild recurrent leftward shift.\n",
      "    \n",
      "    Your Turn:\n",
      "    CONTEXT: WET READ: ___ ___ 6:22 AM No evidence of acute cardiopulmonary process. ______________________________________________________________________________ FINAL REPORT INDICATION: ___F with back pain, fever evaluate for acute cardiopulmonary disease. TECHNIQUE: Chest PA and lateral COMPARISON: Multiple prior chest radiographs dating back to ___ peer FINDINGS: There is no focal consolidation, pleural effusion, pulmonary edema, or pneumothorax. The cardiomediastinal contour is within normal limits with unchanged median sternotomy wires and mediastinal surgical clips noted. IMPRESSION: No evidence of acute cardiopulmonary process. FINAL REPORT INDICATION: ___F with chest pain // ?cause of cp TECHNIQUE: PA and lateral views the chest. COMPARISON: ___. FINDINGS: The lungs are clear. The cardiomediastinal silhouette is stable. No acute osseous abnormalities. Coronary artery stent is noted. Surgical clips in the right upper quadrant suggest prior cholecystectomy. IMPRESSION: No acute cardiopulmonary process. FINAL REPORT INDICATION: ___F with chest pain // Please eval for any PNA, infectious process TECHNIQUE: PA and lateral views of the chest. COMPARISON: ___. FINDINGS: The lungs are clear without consolidation, effusion, or edema. The cardiac silhouette is enlarged similar to prior. Median sternotomy wires and mediastinal clips are noted. No acute osseous abnormalities identified. IMPRESSION: No acute cardiopulmonary process. WET READ: ___ ___ ___ 6:07 PM Changes in the perihilar regions of the lungs bilaterally suggesting underlying scarring. Given regions of opacity particularly in the right lower lung, superimposed infection or other acute process cannot be excluded without prior imaging to evaluate for stability. Followup will be necessary unless prior becomes available to document stability particularly for evaluation of the increased opacity in the retrosternal clear space. *** ED URGENT ATTENTION *** ______________________________________________________________________________ FINAL REPORT INDICATION: ___F with cough, SOB, wheezing, ___ sarcoid // presence of infiltrate, pleural effusions TECHNIQUE: PA and lateral views of the chest. COMPARISON: None. FINDINGS: Increased opacity seen in the right mid lung and there are changes suggesting of underlying fibrotic changes in the perihilar regions bilaterally, right greater than left. There is also increased density in the retrosternal clear space on lateral view with associated linear, spiculated opacities. The lungs are otherwise clear. The cardiomediastinal silhouette is within normal limits. No acute osseous abnormalities identified. IMPRESSION: Changes in the perihilar regions of the lungs bilaterally suggesting underlying scarring. Given regions of opacity particularly in the right lower lung, superimposed infection or other acute process cannot be excluded without prior imaging to evaluate for stability. Followup will be necessary unless prior becomes available to document stability particularly for evaluation of the increased opacity in the retrosternal clear space. FINAL REPORT EXAMINATION: CHEST (PA AND LAT) INDICATION: ___F with c/o cough with DOE COMPARISON: None FINDINGS: PA and lateral views of the chest provided. Cardiomegaly is noted with hilar congestion and mild interstitial edema. No large effusion or pneumothorax. No signs of pneumonia. Bony structures are intact. Mediastinal contour appears grossly unremarkable. Bony structures are intact. No free air below the right hemidiaphragm. IMPRESSION: Cardiomegaly with hilar congestion and mild pulmonary edema. Azygos fissure described by Incidental azygos fissure with mild opacity in the inferior aspect of the fissure. Lung cancer described by Painless right chest wall mass lateral to the nipple. The skin is intact. Lung cancer described by Painless right chest wall mass lateral to the nipple. The skin is intact. Posterior mediastinal mass - probable esophageal carcinoma described by Heart size is within normal limits. Posterior mediastinal density on lateral projection. CT chest recommended. Posterior mediastinal mass - probable esophageal carcinoma described by Heart size is within normal limits. Posterior mediastinal density on lateral projection. CT chest recommended.\n",
      "    IMPRESSION:\n",
      "    \n",
      "\n",
      "Prompt for Image ID: 242_81791c39-946a2aaa-fd27f78d-48400e77-610e2ae2\n",
      "\n",
      "    You are an assistant designed to write impression summaries for the radiology report.\n",
      "    Users will send a context text and you will respond with an impression summary using that context.\n",
      "    Instructions:\n",
      "    • Impression should be based on the information that the user will send in the context.\n",
      "    • The impression should not mention anything about follow-up actions.\n",
      "    • Impression should not contain any mentions of prior or previous studies.\n",
      "    • Use the following words for attributes where applicable:\n",
      "        - Pathology: atelectasis, opacities, consolidation, effusion, pneumothorax\n",
      "        - Positional: right, left, bilateral, upper, lower, middle\n",
      "        - Severity: mild, moderate, severe\n",
      "        - Size: small, large\n",
      "    Examples:\n",
      "    \n",
      "    Example 1:\n",
      "    CONTEXT: Frontal chest radiographs were obtained with the patient in the upright position. COMPARISON: Radiographs from ___, ___ and ___. FINDINGS: The lungs are clear of focal consolidation, pleural effusion or pneumothorax. The heart size is normal. The mediastinal contours are normal. Multiple surgical clips project over the left breast, and old left rib fractures are noted. \n",
      "    IMPRESSION: No acute cardiopulmonary process.\n",
      "    \n",
      "\n",
      "    Example 2:\n",
      "    CONTEXT: Portable chest radiograph demonstrates unchanged mediastinal, hilar, and cardiac contours. There has been interval development of bibasilar opacities likely reflecting atelectasis, though cannot exclude developing infectious process. Additionally, there has been interval increase in small right-sided pleural effusion.\n",
      "    IMPRESSION: Bibasilar opacities, likely atelectasis. Increased small right pleural effusion.\n",
      "    \n",
      "\n",
      "    Example 3:\n",
      "    CONTEXT:A tracheostomy is in place. Bullet fracture fragments are again noted bilaterally. Bilateral chest tubes are unchanged in positions. A right-sided pneumothorax has increased and is now small to moderate in size. There is no definite pleural effusion on the left. Vague retrocardiac opacity is similar and suggests atelectasis, but improved substantially. \n",
      "    IMPRESSION: Increase in right-sided pneumothorax, now small to moderate, with mild recurrent leftward shift.\n",
      "    \n",
      "    Your Turn:\n",
      "    CONTEXT: FINAL REPORT EXAMINATION: CHEST (PA AND LAT) INDICATION: ___F with sob // eval pneumonia COMPARISON: None FINDINGS: PA and lateral views of the chest provided. Extensive airspace consolidation is seen within the right lung involving right upper, middle and lower lobes compatible with multifocal pneumonia. The left lung appears clear. No large pleural effusion or pneumothorax. The heart size is mildly enlarged. The mediastinal contour is unremarkable. Bony structures appear intact. IMPRESSION: Multifocal pneumonia within the right lung. Mild cardiomegaly. FINAL REPORT EXAMINATION: CHEST (PA AND LAT) INDICATION: History: ___F with cough/fever // PNA? TECHNIQUE: Chest PA and lateral COMPARISON: ___ FINDINGS: Since the prior study of ___, there is increased pulmonary vascular congestion and diffuse interstitial abnormality. Peribronchial cuffing is moderate. No pleural effusion or focal consolidation. Heart size is mildly enlarged, as before. IMPRESSION: Diffuse interstitial abnormality and peribronchial cuffing compatible with small airway inflammation. FINAL REPORT EXAMINATION: CHEST (PA AND LAT) INDICATION: ___M with chest pain pls eval pna or edema COMPARISON: ___ FINDINGS: PA and lateral views of the chest provided. Coronary stent projects over the heart. A stent projects over the right upper arm. There is again noted to be coarsened prominent interstitial markings throughout both lungs which could reflect underlying fibrosis versus interstitial pulmonary edema. No large effusion or pneumothorax. No convincing evidence for pneumonia. Cardiomediastinal silhouette is stable. Bony structures are intact. A chronic left clavicular midshaft deformity is noted. IMPRESSION: Prominent bilateral interstitial opacities could reflect interstitial lung disease versus interstitial edema. Please correlate clinically. FINAL REPORT EXAMINATION: CHEST (PA AND LAT) INDICATION: ___M with cough, sob, hx CHF COMPARISON: ___ FINDINGS: PA and lateral views of the chest provided. Cardiomegaly is again noted with mild pulmonary interstitial edema re- demonstrated. No significant progression. No large effusion or pneumothorax. No convincing evidence for pneumonia. Mediastinal contour stable. Bony structures are intact. IMPRESSION: Mild interstitial edema, cardiomegaly. FINAL REPORT HISTORY: History of dyspnea on exertion and chest pain. Evaluate for pneumonia or pneumothorax. TECHNIQUE: PA and lateral chest radiographs were provided. COMPARISON: None. FINDINGS: There is no focal consolidation or pneumothorax. Interstitial markings are prominent, likely due to mild pulmonary edema. There is a small amount of fluid within the fissures and trace bilateral pleural effusions. The heart is mildly enlarged. The imaged upper abdomen is unremarkable. IMPRESSION: 1. Mild pulmonary edema and cardiomegaly. 2. Small bilateral pleural effusions. Azygos fissure described by Incidental azygos fissure with mild opacity in the inferior aspect of the fissure. Lung cancer described by Painless right chest wall mass lateral to the nipple. The skin is intact. Lung cancer described by Painless right chest wall mass lateral to the nipple. The skin is intact. Left superior intercostal vein - aortic nipple described by An \"aortic nipple\" is seen on the lateral aspect of the aortic arch/aortic knob. This represents a prominent left superior intercostal vein. Inferior pulmonary ligament described by Lungs are well expanded and clear. Normal cardiomediastinal contour. Left hemidiaphragm retrocardiac irregularity represents the inferior pulmonary ligament\n",
      "    IMPRESSION:\n",
      "    \n",
      "\n",
      "Prompt for Image ID: 163_11b6ac54-65f50afa-38228a29-8a18a28e-c51e103a\n",
      "\n",
      "    You are an assistant designed to write impression summaries for the radiology report.\n",
      "    Users will send a context text and you will respond with an impression summary using that context.\n",
      "    Instructions:\n",
      "    • Impression should be based on the information that the user will send in the context.\n",
      "    • The impression should not mention anything about follow-up actions.\n",
      "    • Impression should not contain any mentions of prior or previous studies.\n",
      "    • Use the following words for attributes where applicable:\n",
      "        - Pathology: atelectasis, opacities, consolidation, effusion, pneumothorax\n",
      "        - Positional: right, left, bilateral, upper, lower, middle\n",
      "        - Severity: mild, moderate, severe\n",
      "        - Size: small, large\n",
      "    Examples:\n",
      "    \n",
      "    Example 1:\n",
      "    CONTEXT: Frontal chest radiographs were obtained with the patient in the upright position. COMPARISON: Radiographs from ___, ___ and ___. FINDINGS: The lungs are clear of focal consolidation, pleural effusion or pneumothorax. The heart size is normal. The mediastinal contours are normal. Multiple surgical clips project over the left breast, and old left rib fractures are noted. \n",
      "    IMPRESSION: No acute cardiopulmonary process.\n",
      "    \n",
      "\n",
      "    Example 2:\n",
      "    CONTEXT: Portable chest radiograph demonstrates unchanged mediastinal, hilar, and cardiac contours. There has been interval development of bibasilar opacities likely reflecting atelectasis, though cannot exclude developing infectious process. Additionally, there has been interval increase in small right-sided pleural effusion.\n",
      "    IMPRESSION: Bibasilar opacities, likely atelectasis. Increased small right pleural effusion.\n",
      "    \n",
      "\n",
      "    Example 3:\n",
      "    CONTEXT:A tracheostomy is in place. Bullet fracture fragments are again noted bilaterally. Bilateral chest tubes are unchanged in positions. A right-sided pneumothorax has increased and is now small to moderate in size. There is no definite pleural effusion on the left. Vague retrocardiac opacity is similar and suggests atelectasis, but improved substantially. \n",
      "    IMPRESSION: Increase in right-sided pneumothorax, now small to moderate, with mild recurrent leftward shift.\n",
      "    \n",
      "    Your Turn:\n",
      "    CONTEXT: FINAL REPORT EXAMINATION: CHEST (PORTABLE AP) INDICATION: ___ year old man with R pleural effusion now s/p thoracentesis // now s/p thoracentesis. check for pneumothorax degree of change of R pleural effusion now s/p thoracentesis. check for pneumothorax degree of change of R pleural effusion IMPRESSION: In comparison with study of ___, there has been a thoracentesis on the right with removal of a large amount of pleural fluid, no definite pneumothorax. Increasing pleural effusion on the left. Continued enlargement the cardiac silhouette with mild to moderate pulmonary vascular congestion. FINAL REPORT EXAMINATION: CHEST (PORTABLE AP) INDICATION: ___ year old man with COPD // int change int change IMPRESSION: In comparison with the study of ___, there is increased opacification in the lower ___ of the right hemithorax in this patient with severe chronic pulmonary disease and biapical scarring. These findings could reflect volume loss in the right middle and lower lobes with pleural effusion. However, much of this appearance could be a manifestation of developing pneumonia. Little change in the opacification is at the left base. FINAL REPORT INDICATION: ___ year old man with hypoxemia, ? etiology // ___ year old man with hypoxemia, ? etiology COMPARISON: Radiographs from ___. IMPRESSION: There has been worsening of the areas of consolidation and interstitial prominence throughout both lung fields. There are more confluent areas of consolidation in the perihilar regions and in the left base. No pneumothoraces are identified. Findings may relate to multifocal pneumonia as previously suspected; however superimposed pulmonary edema could also be present. FINAL REPORT EXAMINATION: CHEST (PORTABLE AP) INDICATION: ___ year old man s/p ct pull // eval for ptx TECHNIQUE: Single frontal view of the chest COMPARISON: ___ IMPRESSION: Large left pleural effusion has increased. Right pleural effusion and right lower lobe and right middle lobe consolidations have increased. There are low lung volumes. Cardiomegaly cannot be assessed. There is no evident pneumothorax. FINAL REPORT EXAMINATION: CHEST (PORTABLE AP) INDICATION: ___ year old man with PAH, refract hypoxemia // Eval for interval change Eval for interval change IMPRESSION: Heart size and mediastinum are stable. Right mid lung consolidation appears to be an more conspicuous concerning for infectious process. Interstitial changes are extensive, similar to previous examination. Small amount of bilateral pleural effusion is most likely present. There is no pneumothorax. Oxygen mask and tubing artifact (portable radiograph) described by Patchy air space opacities are noted in the bilateral mid to lower zones and left retrocardiac region which may be suggestive of worsening infective changes. A small left pleural effusion is noted with adjacent atelectasis. No gross pneumothorax is detected. No subdiaphragmatic free gas is seen. Aortic calcifications are noted. Degenerative changes are noted of the imaged spine on a background of diffuse osteopenia. An old right 9th rib fracture is also seen. Oxygen mask and tubing artifact (portable radiograph) described by Patchy air space opacities are noted in the bilateral mid to lower zones and left retrocardiac region which may be suggestive of worsening infective changes. A small left pleural effusion is noted with adjacent atelectasis. No gross pneumothorax is detected. No subdiaphragmatic free gas is seen. Aortic calcifications are noted. Degenerative changes are noted of the imaged spine on a background of diffuse osteopenia. An old right 9th rib fracture is also seen. Thoracic empyema described by There is moderate-to-large-sized pleural effusion with multiple septations/loculations associated with underlying consolidation. Thoracic empyema described by There is moderate-to-large-sized pleural effusion with multiple septations/loculations associated with underlying consolidation. Hiatus hernia described by Large retrocardiac cystic lesion with air/fluid level.\n",
      "    IMPRESSION:\n",
      "    \n",
      "\n"
     ]
    }
   ],
   "source": [
    "detailed_prompts = {}\n",
    "\n",
    "for image_id, data in top_k_texts_and_triplets_selected.items():\n",
    "    if any(image_id.startswith(selected_id) for selected_id in selected_image_id):\n",
    "        context_text_ids = data['text_ids']\n",
    "        context_texts = []\n",
    "\n",
    "        print(f\"Processing Image ID: {image_id}\")\n",
    "        print(f\"Top-5 Text IDs: {context_text_ids}\")\n",
    "\n",
    "        for text_id in context_text_ids:\n",
    "            report_row = all_reports_df[all_reports_df['report_id'] == text_id]\n",
    "            if not report_row.empty:\n",
    "                context_texts.append(report_row['cleaned_report'].values[0])\n",
    "            else:\n",
    "                print(f\"Warning: Report ID {text_id} not found in all_reports_df.\")\n",
    "\n",
    "        if not context_texts:\n",
    "            print(f\"Warning: No context texts found for image ID {image_id}.\")\n",
    "            continue\n",
    "\n",
    "        triplets = data['triplets']\n",
    "        detailed_prompts[image_id] = construct_detailed_prompt_with_few_shot(image_id, context_texts, triplets,few_shot_examples)\n",
    "\n",
    "for image_id, prompt in detailed_prompts.items():\n",
    "    print(f\"Prompt for Image ID: {image_id}\\n{prompt}\\n\")"
   ]
  },
  {
   "cell_type": "code",
   "execution_count": 25,
   "metadata": {},
   "outputs": [
    {
     "name": "stdout",
     "output_type": "stream",
     "text": [
      "Generated report for image 450_4c8f8ea6-47e8a94c-d0102870-54af5bd2-c538db5f:\n",
      "ChatCompletion(id='chatcmpl-9qvmLEkp8BOnBdn6rim0feD2EwUy9', choices=[Choice(finish_reason='length', index=0, logprobs=None, message=ChatCompletionMessage(content='1. Bilateral perihilar opacities and posterior costophrenic angle blunting suggestive of effusions. Linear opacity in minor fissure region, potential atelectasis or other consolidation. Cardiac silhouette enlargement and aortic atherosclerotic calcifications noted.\\n2. Increased right lower and middle lobe densities, indicative of possible consolidations. Moderate cardiomegaly with central vascular congestion and mild interstitial edema.\\n3. Multifocal bilateral pulmonary metastases with no acute cardiopulmonary process detected. Chronic pulmonary fibrotic changes noted.\\n4. Extensive chronic interstitial fibrotic changes, possible edema or infection, moderate cardiomegaly stable.\\n5. Stable cardiomediastinal contours, worsening bibasilar opacities suggesting atelectasis, probable small bilateral pleural effusions.\\n6. Bilateral lower zone atelectasis and hazy airspace opacities in the context of sickle cell disease with acute chest syndrome. Diffuse sclerotic bones with multi-level H-shaped vertebral bodies noted.\\n7. Interstitial thickening in the lingula, enlarged heart with cardiothoracic ratio of 0.59, and bibasal increased interstitial markings.\\n8. Extensive interstitial lung markings across the lungs, possibly indicative of chronic interstitial lung disease. Enlarged heart contour.\\n9. Left glenohumeral joint dislocation and fractured right proximal humerus. Prominent interstitial', role='assistant', function_call=None, tool_calls=None))], created=1722402185, model='gpt-4-0613', object='chat.completion', service_tier=None, system_fingerprint=None, usage=CompletionUsage(completion_tokens=300, prompt_tokens=1569, total_tokens=1869))\n",
      "\n",
      "Generated report for image 173_eb2fabb7-4bbc8aab-d7371282-08e5bcb5-de2e430a:\n",
      "ChatCompletion(id='chatcmpl-9qvma3yYXH9uV0CQxmRfLURpBkAxr', choices=[Choice(finish_reason='stop', index=0, logprobs=None, message=ChatCompletionMessage(content='Moderate right pleural effusion with associated right lower lobe volume loss and small left pleural effusion with associated left lower lobe volume loss. Diffuse nodular parenchymal opacities present in the right lung with potential adenopathy. Severe cardiomegaly accompanied by mild pulmonary edema. Bilateral pleural effusions with related compressive atelectasis. Air bronchograms in the right base suggesting possible underlying consolidation. Presence of numerous nodular opacities suggesting metastatic disease, worsening pulmonary edema, and possible pneumonia in the right lower lobe. Moderate-to-large pleural effusion with multiple septations/loculations and underlying consolidation. Compressive atelectasis due to right pleural effusion. Features suggest increasing infective changes with patchy air space opacities in the bilateral mid to lower zones and left retrocardiac region, accompanied by a small left pleural effusion and adjacent atelectasis. Presence of right 9th rib fracture with degenerative changes of the imaged spine on a background of diffuse osteopenia.', role='assistant', function_call=None, tool_calls=None))], created=1722402200, model='gpt-4-0613', object='chat.completion', service_tier=None, system_fingerprint=None, usage=CompletionUsage(completion_tokens=220, prompt_tokens=1543, total_tokens=1763))\n",
      "\n",
      "Generated report for image 23_28fad2ac-d6001216-b4f72c5b-2d4d452e-17b6c9a5:\n",
      "ChatCompletion(id='chatcmpl-9qvmjr40uHMgE7IWXaW0yWY07AVmy', choices=[Choice(finish_reason='stop', index=0, logprobs=None, message=ChatCompletionMessage(content='No acute cardiopulmonary process in multiple readings. Additionally, an incidental finding of a prominent left rhomboid fossa of the clavicle, a normal variant, was noted. Clear lungs, normal heart size, and normal cardiomediastinal contours consistently observed. Notable, a linear right nipple stud was also observed.', role='assistant', function_call=None, tool_calls=None))], created=1722402209, model='gpt-4-0613', object='chat.completion', service_tier=None, system_fingerprint=None, usage=CompletionUsage(completion_tokens=68, prompt_tokens=1114, total_tokens=1182))\n",
      "\n",
      "Generated report for image 210_5053834b-b1bea04f-680aec42-45abe415-c2d097ba:\n",
      "ChatCompletion(id='chatcmpl-9qvmmm9HEvFYtHp0abPRMKcJz9uNE', choices=[Choice(finish_reason='stop', index=0, logprobs=None, message=ChatCompletionMessage(content='Decreased size of the right pleural effusion, left pleural effusion unchanged. Possible atelectasis or re-expansion edema at the right lung base. Larger left pleural effusion with associated left lower lobe consolidation or collapse. Significant cardiomegaly and possible right pleural effusion associated with an underlying pulmonary edema. Prominent mediastinal lymphadenopathy with nodular density in the right upper zone. Large right paratracheal mass and AP window mass. Right-sided hydropneumothorax present. Large left-sided pneumothorax with collapsed lung but no mediastinal shift. Large thoracic aortic aneurysm causing mass effect on trachea. Interstitial markings are increased throughout the lungs.', role='assistant', function_call=None, tool_calls=None))], created=1722402212, model='gpt-4-0613', object='chat.completion', service_tier=None, system_fingerprint=None, usage=CompletionUsage(completion_tokens=154, prompt_tokens=1573, total_tokens=1727))\n",
      "\n",
      "Generated report for image 17_6ad819bb-bae74eb9-7b663e90-b8deabd7-57f8054a:\n",
      "ChatCompletion(id='chatcmpl-9qvmuphBjpgEWQ2haLZxB6ZWmI2YF', choices=[Choice(finish_reason='stop', index=0, logprobs=None, message=ChatCompletionMessage(content='Diffuse increase in interstitial markings bilaterally, suggestive of moderate interstitial pulmonary edema with possible superimposed vascular congestion. Presence of small bilateral pleural effusions. Potential pulmonary emphysema. Probability of a hiatal hernia. Enlarged pulmonary vasculature. Large pericardial effusion with water bottle sign. Multiple intrapulmonary masses.', role='assistant', function_call=None, tool_calls=None))], created=1722402220, model='gpt-4-0613', object='chat.completion', service_tier=None, system_fingerprint=None, usage=CompletionUsage(completion_tokens=78, prompt_tokens=1505, total_tokens=1583))\n",
      "\n",
      "Generated report for image 153_2c814e99-aa096010-bd722059-5a35bd69-a902e44e:\n",
      "ChatCompletion(id='chatcmpl-9qvmykH0RoRT3P7TKqIwUvqKfpPUH', choices=[Choice(finish_reason='stop', index=0, logprobs=None, message=ChatCompletionMessage(content='Stable, moderate cardiomegaly. Mild emphysema without lobar consolidation. Mild interstitial pulmonary edema with increased patchy bibasilar opacities likely reflective of atelectasis. Mild pulmonary edema with bibasilar opacities, possibility of aspiration or pneumonia. Innumerable pulmonary metastases, less pronounced, with established bibasilar atelectasis. Moderate bibasilar atelectasis with low lung volumes. Bilateral lower zone atelectasis with hazy airspace opacities. Extensive interstitial lung markings consistent with chronic interstitial lung disease, with potential lung volume loss.', role='assistant', function_call=None, tool_calls=None))], created=1722402224, model='gpt-4-0613', object='chat.completion', service_tier=None, system_fingerprint=None, usage=CompletionUsage(completion_tokens=126, prompt_tokens=1666, total_tokens=1792))\n",
      "\n",
      "Generated report for image 149_3373e04d-44222d3e-2a706a8e-f5a037de-a41a60f6:\n",
      "ChatCompletion(id='chatcmpl-9qvn3rC3iHlfBTyoDZ6txgY3FbtH0', choices=[Choice(finish_reason='stop', index=0, logprobs=None, message=ChatCompletionMessage(content='Severe cardiomegaly, moderate pulmonary edema with small to moderate bilateral pleural effusions. Presence of pulmonary interstitial abnormality likely due to pulmonary edema, superimposed on emphysema. Potential partial lower lobe atelectasis with associated airspace disease. Features of pulmonary hypertension and edema described, along with an enlarged cardiac outline and congestion. Presence of large gas-filled hiatus hernia noted.', role='assistant', function_call=None, tool_calls=None))], created=1722402229, model='gpt-4-0613', object='chat.completion', service_tier=None, system_fingerprint=None, usage=CompletionUsage(completion_tokens=85, prompt_tokens=1443, total_tokens=1528))\n",
      "\n",
      "Generated report for image 215_0d985d10-36a2a165-ddc49c96-8b8466c9-df947f57:\n",
      "ChatCompletion(id='chatcmpl-9qvn7lHBPBeBA7WfHpnK4XInWTctK', choices=[Choice(finish_reason='stop', index=0, logprobs=None, message=ChatCompletionMessage(content='Multiple indicators of possible acute processes including changes in the perihilar regions of the lungs bilaterally suggestive of underlying scarring, regions of opacity particularly in the right lower lung, and increased density in the retrosternal clear space. Additional findings of cardiomegaly with hilar congestion and mild pulmonary edema.', role='assistant', function_call=None, tool_calls=None))], created=1722402233, model='gpt-4-0613', object='chat.completion', service_tier=None, system_fingerprint=None, usage=CompletionUsage(completion_tokens=63, prompt_tokens=1383, total_tokens=1446))\n",
      "\n",
      "Generated report for image 242_81791c39-946a2aaa-fd27f78d-48400e77-610e2ae2:\n",
      "ChatCompletion(id='chatcmpl-9qvnByz8qY4Ri0cfQtV3f8vPj0XjY', choices=[Choice(finish_reason='stop', index=0, logprobs=None, message=ChatCompletionMessage(content='1. Extensive consolidation in the right upper, middle, and lower lobes, indicative of multifocal pneumonia. Mild cardiomegaly.\\n2. Diffuse interstitial abnormality and moderate peribronchial cuffing, suggesting small airway inflammation.\\n3. Prominent bilateral interstitial opacities potentially reflecting interstitial lung disease or interstitial edema.\\n4. Mild interstitial edema with cardiomegaly.\\n5. Mild pulmonary edema and cardiomegaly, along with small bilateral pleural effusions.', role='assistant', function_call=None, tool_calls=None))], created=1722402237, model='gpt-4-0613', object='chat.completion', service_tier=None, system_fingerprint=None, usage=CompletionUsage(completion_tokens=109, prompt_tokens=1293, total_tokens=1402))\n",
      "\n",
      "Generated report for image 163_11b6ac54-65f50afa-38228a29-8a18a28e-c51e103a:\n",
      "ChatCompletion(id='chatcmpl-9qvnGuTf8N6nU2xJyV6Fgh2QNpmk1', choices=[Choice(finish_reason='stop', index=0, logprobs=None, message=ChatCompletionMessage(content='Large right pleural effusion post thoracentesis, with an increasing left pleural effusion. Moderate enlargement of cardiac silhouette with mild to moderate pulmonary vascular congestion. Increased opacification in lower right hemithorax potentially indicating volume loss with right middle and lower lobe pleural effusion or developing pneumonia. Worsening areas of consolidation and interstitial prominence in both lung fields, with potentially multifocal pneumonia or superimposed pulmonary edema. Significant increase in size of left pleural effusion, right pleural effusion and right lower lobe and middle lobe consolidation. No evident pneumothorax. Stable heart size and mediastinum with possible enhanced right mid lung consolidation suggestive of an infectious process. Extensive interstitial changes with likely small bilateral pleural effusions. Patchy air space opacities in bilateral mid to lower zones and left retrocardiac region suggestive of worsening infectious changes. Small left pleural effusion with adjacent atelectasis. No gross pneumothorax or subdiaphragmatic free gas. Moderate to large pleural effusion with multiple septations/loculations and underlying consolidation, pointing to a thoracic empyema. Notable large retrocardiac cystic lesion with air/fluid level suggestive of a hiatus hernia.', role='assistant', function_call=None, tool_calls=None))], created=1722402242, model='gpt-4-0613', object='chat.completion', service_tier=None, system_fingerprint=None, usage=CompletionUsage(completion_tokens=259, prompt_tokens=1376, total_tokens=1635))\n",
      "\n",
      "Report generation completed.\n"
     ]
    }
   ],
   "source": [
    "def generate_report(prompt):\n",
    "    response = client.chat.completions.create(\n",
    "        model=\"gpt-4\",\n",
    "        messages=[\n",
    "            {\"role\": \"system\", \"content\": \"You are a medical AI specialized in generating radiology reports.\"},\n",
    "            {\"role\": \"user\", \"content\": prompt}\n",
    "        ],\n",
    "        max_tokens=300 \n",
    "    )\n",
    "    return(response)\n",
    "    \n",
    "\n",
    "generated_reports = {}\n",
    "for image_id, prompt in detailed_prompts.items():\n",
    "    generated_reports[image_id] = generate_report(prompt)\n",
    "    print(f\"Generated report for image {image_id}:\\n{generated_reports[image_id]}\\n\")\n",
    "\n",
    "with open('generated_reports.txt', 'w') as file:\n",
    "    for image_id, report in generated_reports.items():\n",
    "        file.write(f\"Image ID: {image_id}\\n\")\n",
    "        file.write(f\"{report}\\n\")\n",
    "        file.write(\"\\n\" + \"-\"*80 + \"\\n\")\n",
    "\n",
    "print(\"Report generation completed.\")\n"
   ]
  },
  {
   "cell_type": "code",
   "execution_count": 26,
   "metadata": {},
   "outputs": [],
   "source": [
    "import re\n",
    "\n",
    "def clean_report_text(text):\n",
    "    text = re.sub(r'\\n', ' ', text)  \n",
    "    text = re.sub(r'\\s+', ' ', text) \n",
    "    text = text.strip()\n",
    "    return text\n"
   ]
  },
  {
   "cell_type": "code",
   "execution_count": 28,
   "metadata": {},
   "outputs": [
    {
     "name": "stdout",
     "output_type": "stream",
     "text": [
      "Image ID: 450_4c8f8ea6-47e8a94c-d0102870-54af5bd2-c538db5f\n",
      "Report: 1. Bilateral perihilar opacities and posterior costophrenic angle blunting suggestive of effusions. Linear opacity in minor fissure region, potential atelectasis or other consolidation. Cardiac silhouette enlargement and aortic atherosclerotic calcifications noted. 2. Increased right lower and middle lobe densities, indicative of possible consolidations. Moderate cardiomegaly with central vascular congestion and mild interstitial edema. 3. Multifocal bilateral pulmonary metastases with no acute cardiopulmonary process detected. Chronic pulmonary fibrotic changes noted. 4. Extensive chronic interstitial fibrotic changes, possible edema or infection, moderate cardiomegaly stable. 5. Stable cardiomediastinal contours, worsening bibasilar opacities suggesting atelectasis, probable small bilateral pleural effusions. 6. Bilateral lower zone atelectasis and hazy airspace opacities in the context of sickle cell disease with acute chest syndrome. Diffuse sclerotic bones with multi-level H-shaped vertebral bodies noted. 7. Interstitial thickening in the lingula, enlarged heart with cardiothoracic ratio of 0.59, and bibasal increased interstitial markings. 8. Extensive interstitial lung markings across the lungs, possibly indicative of chronic interstitial lung disease. Enlarged heart contour. 9. Left glenohumeral joint dislocation and fractured right proximal humerus. Prominent interstitial\n",
      "\n",
      "Image ID: 173_eb2fabb7-4bbc8aab-d7371282-08e5bcb5-de2e430a\n",
      "Report: Moderate right pleural effusion with associated right lower lobe volume loss and small left pleural effusion with associated left lower lobe volume loss. Diffuse nodular parenchymal opacities present in the right lung with potential adenopathy. Severe cardiomegaly accompanied by mild pulmonary edema. Bilateral pleural effusions with related compressive atelectasis. Air bronchograms in the right base suggesting possible underlying consolidation. Presence of numerous nodular opacities suggesting metastatic disease, worsening pulmonary edema, and possible pneumonia in the right lower lobe. Moderate-to-large pleural effusion with multiple septations/loculations and underlying consolidation. Compressive atelectasis due to right pleural effusion. Features suggest increasing infective changes with patchy air space opacities in the bilateral mid to lower zones and left retrocardiac region, accompanied by a small left pleural effusion and adjacent atelectasis. Presence of right 9th rib fracture with degenerative changes of the imaged spine on a background of diffuse osteopenia.\n",
      "\n",
      "Image ID: 23_28fad2ac-d6001216-b4f72c5b-2d4d452e-17b6c9a5\n",
      "Report: No acute cardiopulmonary process in multiple readings. Additionally, an incidental finding of a prominent left rhomboid fossa of the clavicle, a normal variant, was noted. Clear lungs, normal heart size, and normal cardiomediastinal contours consistently observed. Notable, a linear right nipple stud was also observed.\n",
      "\n",
      "Image ID: 210_5053834b-b1bea04f-680aec42-45abe415-c2d097ba\n",
      "Report: Decreased size of the right pleural effusion, left pleural effusion unchanged. Possible atelectasis or re-expansion edema at the right lung base. Larger left pleural effusion with associated left lower lobe consolidation or collapse. Significant cardiomegaly and possible right pleural effusion associated with an underlying pulmonary edema. Prominent mediastinal lymphadenopathy with nodular density in the right upper zone. Large right paratracheal mass and AP window mass. Right-sided hydropneumothorax present. Large left-sided pneumothorax with collapsed lung but no mediastinal shift. Large thoracic aortic aneurysm causing mass effect on trachea. Interstitial markings are increased throughout the lungs.\n",
      "\n",
      "Image ID: 17_6ad819bb-bae74eb9-7b663e90-b8deabd7-57f8054a\n",
      "Report: Diffuse increase in interstitial markings bilaterally, suggestive of moderate interstitial pulmonary edema with possible superimposed vascular congestion. Presence of small bilateral pleural effusions. Potential pulmonary emphysema. Probability of a hiatal hernia. Enlarged pulmonary vasculature. Large pericardial effusion with water bottle sign. Multiple intrapulmonary masses.\n",
      "\n",
      "Image ID: 153_2c814e99-aa096010-bd722059-5a35bd69-a902e44e\n",
      "Report: Stable, moderate cardiomegaly. Mild emphysema without lobar consolidation. Mild interstitial pulmonary edema with increased patchy bibasilar opacities likely reflective of atelectasis. Mild pulmonary edema with bibasilar opacities, possibility of aspiration or pneumonia. Innumerable pulmonary metastases, less pronounced, with established bibasilar atelectasis. Moderate bibasilar atelectasis with low lung volumes. Bilateral lower zone atelectasis with hazy airspace opacities. Extensive interstitial lung markings consistent with chronic interstitial lung disease, with potential lung volume loss.\n",
      "\n",
      "Image ID: 149_3373e04d-44222d3e-2a706a8e-f5a037de-a41a60f6\n",
      "Report: Severe cardiomegaly, moderate pulmonary edema with small to moderate bilateral pleural effusions. Presence of pulmonary interstitial abnormality likely due to pulmonary edema, superimposed on emphysema. Potential partial lower lobe atelectasis with associated airspace disease. Features of pulmonary hypertension and edema described, along with an enlarged cardiac outline and congestion. Presence of large gas-filled hiatus hernia noted.\n",
      "\n",
      "Image ID: 215_0d985d10-36a2a165-ddc49c96-8b8466c9-df947f57\n",
      "Report: Multiple indicators of possible acute processes including changes in the perihilar regions of the lungs bilaterally suggestive of underlying scarring, regions of opacity particularly in the right lower lung, and increased density in the retrosternal clear space. Additional findings of cardiomegaly with hilar congestion and mild pulmonary edema.\n",
      "\n",
      "Image ID: 242_81791c39-946a2aaa-fd27f78d-48400e77-610e2ae2\n",
      "Report: 1. Extensive consolidation in the right upper, middle, and lower lobes, indicative of multifocal pneumonia. Mild cardiomegaly. 2. Diffuse interstitial abnormality and moderate peribronchial cuffing, suggesting small airway inflammation. 3. Prominent bilateral interstitial opacities potentially reflecting interstitial lung disease or interstitial edema. 4. Mild interstitial edema with cardiomegaly. 5. Mild pulmonary edema and cardiomegaly, along with small bilateral pleural effusions.\n",
      "\n",
      "Image ID: 163_11b6ac54-65f50afa-38228a29-8a18a28e-c51e103a\n",
      "Report: Large right pleural effusion post thoracentesis, with an increasing left pleural effusion. Moderate enlargement of cardiac silhouette with mild to moderate pulmonary vascular congestion. Increased opacification in lower right hemithorax potentially indicating volume loss with right middle and lower lobe pleural effusion or developing pneumonia. Worsening areas of consolidation and interstitial prominence in both lung fields, with potentially multifocal pneumonia or superimposed pulmonary edema. Significant increase in size of left pleural effusion, right pleural effusion and right lower lobe and middle lobe consolidation. No evident pneumothorax. Stable heart size and mediastinum with possible enhanced right mid lung consolidation suggestive of an infectious process. Extensive interstitial changes with likely small bilateral pleural effusions. Patchy air space opacities in bilateral mid to lower zones and left retrocardiac region suggestive of worsening infectious changes. Small left pleural effusion with adjacent atelectasis. No gross pneumothorax or subdiaphragmatic free gas. Moderate to large pleural effusion with multiple septations/loculations and underlying consolidation, pointing to a thoracic empyema. Notable large retrocardiac cystic lesion with air/fluid level suggestive of a hiatus hernia.\n",
      "\n"
     ]
    }
   ],
   "source": [
    "import re\n",
    "\n",
    "\n",
    "def extract_report_content(file_path):\n",
    "    with open(file_path, 'r') as file:\n",
    "        content = file.read()\n",
    "\n",
    "    \n",
    "    reports = content.split(\"--------------------------------------------------------------------------------\")\n",
    "    cleaned_reports = {}\n",
    "\n",
    "    for report in reports:\n",
    "        \n",
    "        image_id_match = re.search(r'Image ID: (\\S+)', report)\n",
    "        if image_id_match:\n",
    "            image_id = image_id_match.group(1)\n",
    "            \n",
    "            \n",
    "            report_content_match = re.search(r'content=\\'(.*?)\\'', report, re.DOTALL)\n",
    "            if report_content_match:\n",
    "                report_content = report_content_match.group(1).replace('\\\\n', ' ').replace('\\\\', '')\n",
    "\n",
    "               \n",
    "                cleaned_reports[image_id] = report_content.strip()\n",
    "    \n",
    "    return cleaned_reports\n",
    "\n",
    "\n",
    "file_path = 'generated_reports.txt'\n",
    "\n",
    "cleaned_generated_reports = extract_report_content(file_path)\n",
    "\n",
    "\n",
    "for image_id, report in cleaned_generated_reports.items():\n",
    "    print(f\"Image ID: {image_id}\")\n",
    "    print(f\"Report: {report}\\n\")\n",
    "\n"
   ]
  },
  {
   "cell_type": "code",
   "execution_count": 29,
   "metadata": {},
   "outputs": [
    {
     "name": "stdout",
     "output_type": "stream",
     "text": [
      "Cleaned reports have been saved to cleaned_generated_reports_fewshot_GPT_4.txt\n"
     ]
    }
   ],
   "source": [
    "import re\n",
    "\n",
    "def extract_report_content(file_path):\n",
    "    with open(file_path, 'r') as file:\n",
    "        content = file.read()\n",
    "\n",
    "    reports = content.split(\"--------------------------------------------------------------------------------\")\n",
    "    cleaned_reports = {}\n",
    "\n",
    "    for report in reports:\n",
    "        image_id_match = re.search(r'Image ID: (\\S+)', report)\n",
    "        if image_id_match:\n",
    "            image_id = image_id_match.group(1)\n",
    "            \n",
    "            report_content_match = re.search(r'content=\\'(.*?)\\'', report, re.DOTALL)\n",
    "            if report_content_match:\n",
    "                report_content = report_content_match.group(1).replace('\\\\n', ' ').replace('\\\\', '')\n",
    "\n",
    "                cleaned_reports[image_id] = report_content.strip()\n",
    "    \n",
    "    return cleaned_reports\n",
    "\n",
    "def save_reports_as_txt(cleaned_reports, output_file_path):\n",
    "    with open(output_file_path, 'w') as file:\n",
    "        for image_id, report in cleaned_reports.items():\n",
    "            file.write(f\"Image ID: {image_id}\\n\")\n",
    "            file.write(f\"Report: {report}\\n\")\n",
    "            file.write(\"--------------------------------------------------------------------------------\\n\")\n",
    "\n",
    "file_path = 'generated_reports.txt'\n",
    "output_file_path = 'cleaned_generated_reports_fewshot_GPT_4.txt'\n",
    "\n",
    "cleaned_generated_reports = extract_report_content(file_path)\n",
    "save_reports_as_txt(cleaned_generated_reports, output_file_path)\n",
    "\n",
    "print(f\"Cleaned reports have been saved to {output_file_path}\")\n"
   ]
  },
  {
   "cell_type": "code",
   "execution_count": 30,
   "metadata": {},
   "outputs": [],
   "source": [
    "import pandas as pd\n",
    "\n",
    "\n",
    "all_reports_df = pd.read_csv('all_reports_df_images.csv')\n",
    "\n",
    "data = []\n",
    "\n",
    "with open('cleaned_generated_reports_fewshot_GPT_4.txt', 'r') as file:\n",
    "    content = file.read().strip().split('--------------------------------------------------------------------------------')\n",
    "\n",
    "for block in content:\n",
    "    lines = block.strip().split('\\n')\n",
    "    if len(lines) > 1:\n",
    "        try:\n",
    "            image_id = lines[0].split(': ')[1]\n",
    "            cleaned_report = ' '.join(lines[1:]).strip()\n",
    "            data.append([image_id, cleaned_report])\n",
    "        except IndexError:\n",
    "            print(f\"Skipping malformed block: {block}\")\n",
    "\n",
    "cleaned_reports_df = pd.DataFrame(data, columns=['image_id', 'AI_generated_report'])\n",
    "\n",
    "filtered_df = all_reports_df[all_reports_df['image_id'].isin(cleaned_reports_df['image_id'])]\n",
    "\n",
    "filtered_df = filtered_df.merge(cleaned_reports_df, on='image_id', how='left')\n",
    "\n",
    "filtered_df.to_csv('filtered_reports_with_ai_few_shot_GPT_4.csv', index=False)\n",
    "\n"
   ]
  },
  {
   "cell_type": "code",
   "execution_count": 31,
   "metadata": {},
   "outputs": [
    {
     "name": "stdout",
     "output_type": "stream",
     "text": [
      "Generated report for image 450_4c8f8ea6-47e8a94c-d0102870-54af5bd2-c538db5f:\n",
      "ChatCompletion(id='chatcmpl-9qvtRzs3D6AGuK2Gt1Q1mnLyPlyyo', choices=[Choice(finish_reason='stop', index=0, logprobs=None, message=ChatCompletionMessage(content='1. Extensive chronic interstitial fibrotic changes with peripheral basilar predominance.\\n2. Moderate cardiomegaly is stable.\\n3. No pleural effusion or pneumothorax.', role='assistant', function_call=None, tool_calls=None))], created=1722402625, model='gpt-4o-2024-05-13', object='chat.completion', service_tier=None, system_fingerprint='fp_4e2b2da518', usage=CompletionUsage(completion_tokens=40, prompt_tokens=1560, total_tokens=1600))\n",
      "\n",
      "Generated report for image 173_eb2fabb7-4bbc8aab-d7371282-08e5bcb5-de2e430a:\n",
      "ChatCompletion(id='chatcmpl-9qvtSYMSr8fu06kGTnajYQVMiCTwn', choices=[Choice(finish_reason='stop', index=0, logprobs=None, message=ChatCompletionMessage(content='Moderate right pleural effusion with associated right lower lobe volume loss. Small left pleural effusion with left lower lobe volume loss. Pulmonary vascular redistribution and moderate cardiomegaly. No pneumothorax. Patchy opacities in lung bases suggestive of atelectasis. Aortic calcifications and moderate multilevel degenerative changes in the thoracic spine noted.', role='assistant', function_call=None, tool_calls=None))], created=1722402626, model='gpt-4o-2024-05-13', object='chat.completion', service_tier=None, system_fingerprint='fp_4e2b2da518', usage=CompletionUsage(completion_tokens=80, prompt_tokens=1528, total_tokens=1608))\n",
      "\n",
      "Generated report for image 23_28fad2ac-d6001216-b4f72c5b-2d4d452e-17b6c9a5:\n",
      "ChatCompletion(id='chatcmpl-9qvtVd01HBr72KNXoULr5bZn4KTXn', choices=[Choice(finish_reason='stop', index=0, logprobs=None, message=ChatCompletionMessage(content='No acute intrathoracic process. Normal cardiomediastinal contour. Incidental prominent left rhomboid fossa of the clavicle noted, a normal variant.', role='assistant', function_call=None, tool_calls=None))], created=1722402629, model='gpt-4o-2024-05-13', object='chat.completion', service_tier=None, system_fingerprint='fp_4e2b2da518', usage=CompletionUsage(completion_tokens=35, prompt_tokens=1116, total_tokens=1151))\n",
      "\n",
      "Generated report for image 210_5053834b-b1bea04f-680aec42-45abe415-c2d097ba:\n",
      "ChatCompletion(id='chatcmpl-9qvtWP7lBLMynKMRF3lL4iXG8OCRV', choices=[Choice(finish_reason='stop', index=0, logprobs=None, message=ChatCompletionMessage(content='No pneumothorax. Right pleural effusion is smaller. Right lung base opacity is likely atelectasis or re-expansion edema.', role='assistant', function_call=None, tool_calls=None))], created=1722402630, model='gpt-4o-2024-05-13', object='chat.completion', service_tier=None, system_fingerprint='fp_4e2b2da518', usage=CompletionUsage(completion_tokens=29, prompt_tokens=1568, total_tokens=1597))\n",
      "\n",
      "Generated report for image 17_6ad819bb-bae74eb9-7b663e90-b8deabd7-57f8054a:\n",
      "ChatCompletion(id='chatcmpl-9qvtXEA30TNY9SNF5Bdd43PFHzLtQ', choices=[Choice(finish_reason='stop', index=0, logprobs=None, message=ChatCompletionMessage(content='Moderate interstitial pulmonary edema. Small bilateral pleural effusions. Prominence of the hila suggesting potential fluid overload or pulmonary hypertension. Mildly enlarged cardiac silhouette with calcified and tortuous aorta. Possible hiatal hernia.', role='assistant', function_call=None, tool_calls=None))], created=1722402631, model='gpt-4o-2024-05-13', object='chat.completion', service_tier=None, system_fingerprint='fp_4e2b2da518', usage=CompletionUsage(completion_tokens=48, prompt_tokens=1490, total_tokens=1538))\n",
      "\n",
      "Generated report for image 153_2c814e99-aa096010-bd722059-5a35bd69-a902e44e:\n",
      "ChatCompletion(id='chatcmpl-9qvtYriN2DdAWl9ervkx4EhYJlDPp', choices=[Choice(finish_reason='stop', index=0, logprobs=None, message=ChatCompletionMessage(content='Stable, moderate cardiomegaly. Mild emphysema without lobar consolidation. Mild interstitial pulmonary edema with patchy bibasilar opacities, likely atelectasis. Moderate bibasilar nodular atelectasis with low lung volumes.', role='assistant', function_call=None, tool_calls=None))], created=1722402632, model='gpt-4o-2024-05-13', object='chat.completion', service_tier=None, system_fingerprint='fp_4e2b2da518', usage=CompletionUsage(completion_tokens=51, prompt_tokens=1657, total_tokens=1708))\n",
      "\n",
      "Generated report for image 149_3373e04d-44222d3e-2a706a8e-f5a037de-a41a60f6:\n",
      "ChatCompletion(id='chatcmpl-9qvtabVxkKGlUfCAZ5aaL0geSjy56', choices=[Choice(finish_reason='stop', index=0, logprobs=None, message=ChatCompletionMessage(content='Mild to moderate pulmonary edema with small to moderate bilateral pleural effusions. Severe cardiomegaly. Patchy atelectasis in lung bases. No pneumothorax.', role='assistant', function_call=None, tool_calls=None))], created=1722402634, model='gpt-4o-2024-05-13', object='chat.completion', service_tier=None, system_fingerprint='fp_4e2b2da518', usage=CompletionUsage(completion_tokens=37, prompt_tokens=1418, total_tokens=1455))\n",
      "\n",
      "Generated report for image 215_0d985d10-36a2a165-ddc49c96-8b8466c9-df947f57:\n",
      "ChatCompletion(id='chatcmpl-9qvtbzG56Y8B4NKHOAsju7sXDnd5e', choices=[Choice(finish_reason='stop', index=0, logprobs=None, message=ChatCompletionMessage(content='Impression: Cardiomegaly with hilar congestion and mild pulmonary edema. Incidental azygos fissure with mild opacity in the inferior aspect of the fissure. Painless right chest wall mass lateral to the nipple. Posterior mediastinal density on lateral projection, likely representing a posterior mediastinal mass.', role='assistant', function_call=None, tool_calls=None))], created=1722402635, model='gpt-4o-2024-05-13', object='chat.completion', service_tier=None, system_fingerprint='fp_4e2b2da518', usage=CompletionUsage(completion_tokens=63, prompt_tokens=1386, total_tokens=1449))\n",
      "\n",
      "Generated report for image 242_81791c39-946a2aaa-fd27f78d-48400e77-610e2ae2:\n",
      "ChatCompletion(id='chatcmpl-9qvtdABMJDyHeV0n33UulF8mrAFhf', choices=[Choice(finish_reason='stop', index=0, logprobs=None, message=ChatCompletionMessage(content='Multifocal pneumonia within the right lung. Mild cardiomegaly. Diffuse interstitial abnormality and peribronchial cuffing compatible with small airway inflammation. Prominent bilateral interstitial opacities could reflect interstitial lung disease versus interstitial edema. Mild interstitial edema, cardiomegaly. Mild pulmonary edema and cardiomegaly. Small bilateral pleural effusions.', role='assistant', function_call=None, tool_calls=None))], created=1722402637, model='gpt-4o-2024-05-13', object='chat.completion', service_tier=None, system_fingerprint='fp_4e2b2da518', usage=CompletionUsage(completion_tokens=80, prompt_tokens=1289, total_tokens=1369))\n",
      "\n",
      "Generated report for image 163_11b6ac54-65f50afa-38228a29-8a18a28e-c51e103a:\n",
      "ChatCompletion(id='chatcmpl-9qvtfJik5KrVeYXkyjdllUio0Fp7T', choices=[Choice(finish_reason='stop', index=0, logprobs=None, message=ChatCompletionMessage(content='Moderate-to-large-sized pleural effusion with multiple septations/loculations associated with underlying consolidation, suggestive of thoracic empyema. Patchy air space opacities in the bilateral mid to lower zones and left retrocardiac region, indicating possible worsening infective changes. Small left pleural effusion with adjacent atelectasis noted. No gross pneumothorax or subdiaphragmatic free gas detected. Aortic calcifications and degenerative changes in the imaged spine are observed. An old right 9th rib fracture is also present. Additionally, a large retrocardiac cystic lesion with an air/fluid level is indicative of a hiatus hernia.', role='assistant', function_call=None, tool_calls=None))], created=1722402639, model='gpt-4o-2024-05-13', object='chat.completion', service_tier=None, system_fingerprint='fp_4e2b2da518', usage=CompletionUsage(completion_tokens=140, prompt_tokens=1391, total_tokens=1531))\n",
      "\n",
      "Report generation completed.\n"
     ]
    }
   ],
   "source": [
    "def generate_report(prompt):\n",
    "    response = client.chat.completions.create(\n",
    "        model=\"gpt-4o\",\n",
    "        messages=[\n",
    "            {\"role\": \"system\", \"content\": \"You are a medical AI specialized in generating radiology reports.\"},\n",
    "            {\"role\": \"user\", \"content\": prompt}\n",
    "        ],\n",
    "        max_tokens=300  \n",
    "    )\n",
    "    return(response)\n",
    "    \n",
    "\n",
    "generated_reports_4o = {}\n",
    "for image_id, prompt in detailed_prompts.items():\n",
    "    generated_reports[image_id] = generate_report(prompt)\n",
    "    print(f\"Generated report for image {image_id}:\\n{generated_reports[image_id]}\\n\")\n",
    "\n",
    "with open('generated_reports_4o.txt', 'w') as file:\n",
    "    for image_id, report in generated_reports.items():\n",
    "        file.write(f\"Image ID: {image_id}\\n\")\n",
    "        file.write(f\"{report}\\n\")\n",
    "        file.write(\"\\n\" + \"-\"*80 + \"\\n\")\n",
    "\n",
    "print(\"Report generation completed.\")\n"
   ]
  },
  {
   "cell_type": "code",
   "execution_count": 35,
   "metadata": {},
   "outputs": [
    {
     "name": "stdout",
     "output_type": "stream",
     "text": [
      "Image ID: 450_4c8f8ea6-47e8a94c-d0102870-54af5bd2-c538db5f\n",
      "Report: 1. Extensive chronic interstitial fibrotic changes with peripheral basilar predominance. 2. Moderate cardiomegaly is stable. 3. No pleural effusion or pneumothorax.\n",
      "\n",
      "Image ID: 173_eb2fabb7-4bbc8aab-d7371282-08e5bcb5-de2e430a\n",
      "Report: Moderate right pleural effusion with associated right lower lobe volume loss. Small left pleural effusion with left lower lobe volume loss. Pulmonary vascular redistribution and moderate cardiomegaly. No pneumothorax. Patchy opacities in lung bases suggestive of atelectasis. Aortic calcifications and moderate multilevel degenerative changes in the thoracic spine noted.\n",
      "\n",
      "Image ID: 23_28fad2ac-d6001216-b4f72c5b-2d4d452e-17b6c9a5\n",
      "Report: No acute intrathoracic process. Normal cardiomediastinal contour. Incidental prominent left rhomboid fossa of the clavicle noted, a normal variant.\n",
      "\n",
      "Image ID: 210_5053834b-b1bea04f-680aec42-45abe415-c2d097ba\n",
      "Report: No pneumothorax. Right pleural effusion is smaller. Right lung base opacity is likely atelectasis or re-expansion edema.\n",
      "\n",
      "Image ID: 17_6ad819bb-bae74eb9-7b663e90-b8deabd7-57f8054a\n",
      "Report: Moderate interstitial pulmonary edema. Small bilateral pleural effusions. Prominence of the hila suggesting potential fluid overload or pulmonary hypertension. Mildly enlarged cardiac silhouette with calcified and tortuous aorta. Possible hiatal hernia.\n",
      "\n",
      "Image ID: 153_2c814e99-aa096010-bd722059-5a35bd69-a902e44e\n",
      "Report: Stable, moderate cardiomegaly. Mild emphysema without lobar consolidation. Mild interstitial pulmonary edema with patchy bibasilar opacities, likely atelectasis. Moderate bibasilar nodular atelectasis with low lung volumes.\n",
      "\n",
      "Image ID: 149_3373e04d-44222d3e-2a706a8e-f5a037de-a41a60f6\n",
      "Report: Mild to moderate pulmonary edema with small to moderate bilateral pleural effusions. Severe cardiomegaly. Patchy atelectasis in lung bases. No pneumothorax.\n",
      "\n",
      "Image ID: 215_0d985d10-36a2a165-ddc49c96-8b8466c9-df947f57\n",
      "Report: Impression: Cardiomegaly with hilar congestion and mild pulmonary edema. Incidental azygos fissure with mild opacity in the inferior aspect of the fissure. Painless right chest wall mass lateral to the nipple. Posterior mediastinal density on lateral projection, likely representing a posterior mediastinal mass.\n",
      "\n",
      "Image ID: 242_81791c39-946a2aaa-fd27f78d-48400e77-610e2ae2\n",
      "Report: Multifocal pneumonia within the right lung. Mild cardiomegaly. Diffuse interstitial abnormality and peribronchial cuffing compatible with small airway inflammation. Prominent bilateral interstitial opacities could reflect interstitial lung disease versus interstitial edema. Mild interstitial edema, cardiomegaly. Mild pulmonary edema and cardiomegaly. Small bilateral pleural effusions.\n",
      "\n",
      "Image ID: 163_11b6ac54-65f50afa-38228a29-8a18a28e-c51e103a\n",
      "Report: Moderate-to-large-sized pleural effusion with multiple septations/loculations associated with underlying consolidation, suggestive of thoracic empyema. Patchy air space opacities in the bilateral mid to lower zones and left retrocardiac region, indicating possible worsening infective changes. Small left pleural effusion with adjacent atelectasis noted. No gross pneumothorax or subdiaphragmatic free gas detected. Aortic calcifications and degenerative changes in the imaged spine are observed. An old right 9th rib fracture is also present. Additionally, a large retrocardiac cystic lesion with an air/fluid level is indicative of a hiatus hernia.\n",
      "\n"
     ]
    }
   ],
   "source": [
    "import re\n",
    "\n",
    "\n",
    "def extract_report_content(file_path):\n",
    "    with open(file_path, 'r') as file:\n",
    "        content = file.read()\n",
    "\n",
    "    \n",
    "    reports = content.split(\"--------------------------------------------------------------------------------\")\n",
    "    cleaned_reports = {}\n",
    "\n",
    "    for report in reports:\n",
    "        \n",
    "        image_id_match = re.search(r'Image ID: (\\S+)', report)\n",
    "        if image_id_match:\n",
    "            image_id = image_id_match.group(1)\n",
    "            \n",
    "            \n",
    "            report_content_match = re.search(r'content=\\'(.*?)\\'', report, re.DOTALL)\n",
    "            if report_content_match:\n",
    "                report_content = report_content_match.group(1).replace('\\\\n', ' ').replace('\\\\', '')\n",
    "\n",
    "               \n",
    "                cleaned_reports[image_id] = report_content.strip()\n",
    "    \n",
    "    return cleaned_reports\n",
    "\n",
    "\n",
    "file_path = 'generated_reports_4o.txt'\n",
    "\n",
    "cleaned_generated_reports = extract_report_content(file_path)\n",
    "\n",
    "\n",
    "for image_id, report in cleaned_generated_reports.items():\n",
    "    print(f\"Image ID: {image_id}\")\n",
    "    print(f\"Report: {report}\\n\")\n",
    "\n"
   ]
  },
  {
   "cell_type": "code",
   "execution_count": 36,
   "metadata": {},
   "outputs": [
    {
     "name": "stdout",
     "output_type": "stream",
     "text": [
      "Cleaned reports have been saved to cleaned_generated_reports_4o_few shot.txt\n"
     ]
    }
   ],
   "source": [
    "import re\n",
    "\n",
    "def extract_report_content(file_path):\n",
    "    with open(file_path, 'r') as file:\n",
    "        content = file.read()\n",
    "\n",
    "    reports = content.split(\"--------------------------------------------------------------------------------\")\n",
    "    cleaned_reports = {}\n",
    "\n",
    "    for report in reports:\n",
    "        image_id_match = re.search(r'Image ID: (\\S+)', report)\n",
    "        if image_id_match:\n",
    "            image_id = image_id_match.group(1)\n",
    "            \n",
    "            report_content_match = re.search(r'content=\\'(.*?)\\'', report, re.DOTALL)\n",
    "            if report_content_match:\n",
    "                report_content = report_content_match.group(1).replace('\\\\n', ' ').replace('\\\\', '')\n",
    "\n",
    "                cleaned_reports[image_id] = report_content.strip()\n",
    "    \n",
    "    return cleaned_reports\n",
    "\n",
    "def save_reports_as_txt(cleaned_reports, output_file_path):\n",
    "    with open(output_file_path, 'w') as file:\n",
    "        for image_id, report in cleaned_reports.items():\n",
    "            file.write(f\"Image ID: {image_id}\\n\")\n",
    "            file.write(f\"Report: {report}\\n\")\n",
    "            file.write(\"--------------------------------------------------------------------------------\\n\")\n",
    "\n",
    "file_path = 'generated_reports_4o.txt'\n",
    "output_file_path = 'cleaned_generated_reports_4o_few shot.txt'\n",
    "\n",
    "cleaned_generated_reports = extract_report_content(file_path)\n",
    "save_reports_as_txt(cleaned_generated_reports, output_file_path)\n",
    "\n",
    "\n",
    "print(f\"Cleaned reports have been saved to {output_file_path}\")\n"
   ]
  },
  {
   "cell_type": "code",
   "execution_count": 37,
   "metadata": {},
   "outputs": [],
   "source": [
    "import pandas as pd\n",
    "\n",
    "\n",
    "all_reports_df = pd.read_csv('all_reports_df_images.csv')\n",
    "\n",
    "data = []\n",
    "\n",
    "with open('cleaned_generated_reports_4o_few shot.txt', 'r') as file:\n",
    "    content = file.read().strip().split('--------------------------------------------------------------------------------')\n",
    "\n",
    "for block in content:\n",
    "    lines = block.strip().split('\\n')\n",
    "    if len(lines) > 1:\n",
    "        try:\n",
    "            image_id = lines[0].split(': ')[1]\n",
    "            cleaned_report = ' '.join(lines[1:]).strip()\n",
    "            data.append([image_id, cleaned_report])\n",
    "        except IndexError:\n",
    "            print(f\"Skipping malformed block: {block}\")\n",
    "\n",
    "cleaned_reports_df_4o = pd.DataFrame(data, columns=['image_id', 'AI_generated_report_4o'])\n",
    "\n",
    "filtered_df_4o = all_reports_df[all_reports_df['image_id'].isin(cleaned_reports_df_4o['image_id'])]\n",
    "\n",
    "filtered_df_4o = filtered_df_4o.merge(cleaned_reports_df_4o, on='image_id', how='left')\n",
    "\n",
    "filtered_df_4o.to_csv('filtered_reports_with_ai_4o_fewshot.csv', index=False)\n",
    "\n"
   ]
  },
  {
   "cell_type": "code",
   "execution_count": 41,
   "metadata": {},
   "outputs": [],
   "source": [
    "import pandas as pd\n",
    "\n",
    "df_gpt4 = pd.read_csv('filtered_reports_with_ai_few_shot_GPT_4.csv')\n",
    "df_4o = pd.read_csv('filtered_reports_with_ai_4o_fewshot.csv')\n",
    "\n",
    "\n",
    "merged_df = pd.merge(df_gpt4,df_4o , on=['image_id', 'report_id', 'cleaned_report'], suffixes=('_GPT_4','_4o'))\n",
    "\n",
    "merged_df.to_csv('merged_reports.csv', index=False)\n",
    "\n"
   ]
  },
  {
   "cell_type": "code",
   "execution_count": 43,
   "metadata": {},
   "outputs": [
    {
     "name": "stderr",
     "output_type": "stream",
     "text": [
      "Some weights of RobertaModel were not initialized from the model checkpoint at roberta-large and are newly initialized: ['roberta.pooler.dense.bias', 'roberta.pooler.dense.weight']\n",
      "You should probably TRAIN this model on a down-stream task to be able to use it for predictions and inference.\n"
     ]
    },
    {
     "name": "stdout",
     "output_type": "stream",
     "text": [
      "calculating scores...\n",
      "computing bert embedding.\n"
     ]
    },
    {
     "name": "stderr",
     "output_type": "stream",
     "text": [
      "100%|██████████| 1/1 [00:00<00:00,  6.71it/s]\n"
     ]
    },
    {
     "name": "stdout",
     "output_type": "stream",
     "text": [
      "computing greedy matching.\n"
     ]
    },
    {
     "name": "stderr",
     "output_type": "stream",
     "text": [
      "100%|██████████| 1/1 [00:00<?, ?it/s]"
     ]
    },
    {
     "name": "stdout",
     "output_type": "stream",
     "text": [
      "done in 0.15 seconds, 6.54 sentences/sec\n"
     ]
    },
    {
     "name": "stderr",
     "output_type": "stream",
     "text": [
      "\n",
      "Some weights of RobertaModel were not initialized from the model checkpoint at roberta-large and are newly initialized: ['roberta.pooler.dense.bias', 'roberta.pooler.dense.weight']\n",
      "You should probably TRAIN this model on a down-stream task to be able to use it for predictions and inference.\n"
     ]
    },
    {
     "name": "stdout",
     "output_type": "stream",
     "text": [
      "calculating scores...\n",
      "computing bert embedding.\n"
     ]
    },
    {
     "name": "stderr",
     "output_type": "stream",
     "text": [
      "100%|██████████| 1/1 [00:00<00:00,  8.53it/s]\n"
     ]
    },
    {
     "name": "stdout",
     "output_type": "stream",
     "text": [
      "computing greedy matching.\n"
     ]
    },
    {
     "name": "stderr",
     "output_type": "stream",
     "text": [
      "100%|██████████| 1/1 [00:00<?, ?it/s]"
     ]
    },
    {
     "name": "stdout",
     "output_type": "stream",
     "text": [
      "done in 0.12 seconds, 8.15 sentences/sec\n"
     ]
    },
    {
     "name": "stderr",
     "output_type": "stream",
     "text": [
      "\n",
      "Some weights of RobertaModel were not initialized from the model checkpoint at roberta-large and are newly initialized: ['roberta.pooler.dense.bias', 'roberta.pooler.dense.weight']\n",
      "You should probably TRAIN this model on a down-stream task to be able to use it for predictions and inference.\n"
     ]
    },
    {
     "name": "stdout",
     "output_type": "stream",
     "text": [
      "calculating scores...\n",
      "computing bert embedding.\n"
     ]
    },
    {
     "name": "stderr",
     "output_type": "stream",
     "text": [
      "100%|██████████| 1/1 [00:00<00:00,  5.21it/s]\n"
     ]
    },
    {
     "name": "stdout",
     "output_type": "stream",
     "text": [
      "computing greedy matching.\n"
     ]
    },
    {
     "name": "stderr",
     "output_type": "stream",
     "text": [
      "100%|██████████| 1/1 [00:00<?, ?it/s]\n"
     ]
    },
    {
     "name": "stdout",
     "output_type": "stream",
     "text": [
      "done in 0.21 seconds, 4.79 sentences/sec\n"
     ]
    },
    {
     "name": "stderr",
     "output_type": "stream",
     "text": [
      "Some weights of RobertaModel were not initialized from the model checkpoint at roberta-large and are newly initialized: ['roberta.pooler.dense.bias', 'roberta.pooler.dense.weight']\n",
      "You should probably TRAIN this model on a down-stream task to be able to use it for predictions and inference.\n"
     ]
    },
    {
     "name": "stdout",
     "output_type": "stream",
     "text": [
      "calculating scores...\n",
      "computing bert embedding.\n"
     ]
    },
    {
     "name": "stderr",
     "output_type": "stream",
     "text": [
      "100%|██████████| 1/1 [00:00<00:00,  6.04it/s]\n"
     ]
    },
    {
     "name": "stdout",
     "output_type": "stream",
     "text": [
      "computing greedy matching.\n"
     ]
    },
    {
     "name": "stderr",
     "output_type": "stream",
     "text": [
      "100%|██████████| 1/1 [00:00<00:00, 99.06it/s]"
     ]
    },
    {
     "name": "stdout",
     "output_type": "stream",
     "text": [
      "done in 0.18 seconds, 5.51 sentences/sec\n"
     ]
    },
    {
     "name": "stderr",
     "output_type": "stream",
     "text": [
      "\n",
      "Some weights of RobertaModel were not initialized from the model checkpoint at roberta-large and are newly initialized: ['roberta.pooler.dense.bias', 'roberta.pooler.dense.weight']\n",
      "You should probably TRAIN this model on a down-stream task to be able to use it for predictions and inference.\n"
     ]
    },
    {
     "name": "stdout",
     "output_type": "stream",
     "text": [
      "calculating scores...\n",
      "computing bert embedding.\n"
     ]
    },
    {
     "name": "stderr",
     "output_type": "stream",
     "text": [
      "100%|██████████| 1/1 [00:00<00:00, 10.01it/s]\n"
     ]
    },
    {
     "name": "stdout",
     "output_type": "stream",
     "text": [
      "computing greedy matching.\n"
     ]
    },
    {
     "name": "stderr",
     "output_type": "stream",
     "text": [
      "100%|██████████| 1/1 [00:00<00:00, 99.88it/s]"
     ]
    },
    {
     "name": "stdout",
     "output_type": "stream",
     "text": [
      "done in 0.12 seconds, 8.56 sentences/sec\n"
     ]
    },
    {
     "name": "stderr",
     "output_type": "stream",
     "text": [
      "\n",
      "Some weights of RobertaModel were not initialized from the model checkpoint at roberta-large and are newly initialized: ['roberta.pooler.dense.bias', 'roberta.pooler.dense.weight']\n",
      "You should probably TRAIN this model on a down-stream task to be able to use it for predictions and inference.\n"
     ]
    },
    {
     "name": "stdout",
     "output_type": "stream",
     "text": [
      "calculating scores...\n",
      "computing bert embedding.\n"
     ]
    },
    {
     "name": "stderr",
     "output_type": "stream",
     "text": [
      "100%|██████████| 1/1 [00:00<00:00,  7.99it/s]\n"
     ]
    },
    {
     "name": "stdout",
     "output_type": "stream",
     "text": [
      "computing greedy matching.\n"
     ]
    },
    {
     "name": "stderr",
     "output_type": "stream",
     "text": [
      "100%|██████████| 1/1 [00:00<00:00, 140.23it/s]"
     ]
    },
    {
     "name": "stdout",
     "output_type": "stream",
     "text": [
      "done in 0.13 seconds, 7.47 sentences/sec\n"
     ]
    },
    {
     "name": "stderr",
     "output_type": "stream",
     "text": [
      "\n",
      "Some weights of RobertaModel were not initialized from the model checkpoint at roberta-large and are newly initialized: ['roberta.pooler.dense.bias', 'roberta.pooler.dense.weight']\n",
      "You should probably TRAIN this model on a down-stream task to be able to use it for predictions and inference.\n"
     ]
    },
    {
     "name": "stdout",
     "output_type": "stream",
     "text": [
      "calculating scores...\n",
      "computing bert embedding.\n"
     ]
    },
    {
     "name": "stderr",
     "output_type": "stream",
     "text": [
      "100%|██████████| 1/1 [00:00<00:00,  8.02it/s]\n"
     ]
    },
    {
     "name": "stdout",
     "output_type": "stream",
     "text": [
      "computing greedy matching.\n"
     ]
    },
    {
     "name": "stderr",
     "output_type": "stream",
     "text": [
      "100%|██████████| 1/1 [00:00<00:00, 305.44it/s]"
     ]
    },
    {
     "name": "stdout",
     "output_type": "stream",
     "text": [
      "done in 0.13 seconds, 7.45 sentences/sec\n"
     ]
    },
    {
     "name": "stderr",
     "output_type": "stream",
     "text": [
      "\n",
      "Some weights of RobertaModel were not initialized from the model checkpoint at roberta-large and are newly initialized: ['roberta.pooler.dense.bias', 'roberta.pooler.dense.weight']\n",
      "You should probably TRAIN this model on a down-stream task to be able to use it for predictions and inference.\n"
     ]
    },
    {
     "name": "stdout",
     "output_type": "stream",
     "text": [
      "calculating scores...\n",
      "computing bert embedding.\n"
     ]
    },
    {
     "name": "stderr",
     "output_type": "stream",
     "text": [
      "100%|██████████| 1/1 [00:00<00:00, 12.60it/s]\n"
     ]
    },
    {
     "name": "stdout",
     "output_type": "stream",
     "text": [
      "computing greedy matching.\n"
     ]
    },
    {
     "name": "stderr",
     "output_type": "stream",
     "text": [
      "100%|██████████| 1/1 [00:00<?, ?it/s]"
     ]
    },
    {
     "name": "stdout",
     "output_type": "stream",
     "text": [
      "done in 0.09 seconds, 10.94 sentences/sec\n"
     ]
    },
    {
     "name": "stderr",
     "output_type": "stream",
     "text": [
      "\n",
      "Some weights of RobertaModel were not initialized from the model checkpoint at roberta-large and are newly initialized: ['roberta.pooler.dense.bias', 'roberta.pooler.dense.weight']\n",
      "You should probably TRAIN this model on a down-stream task to be able to use it for predictions and inference.\n"
     ]
    },
    {
     "name": "stdout",
     "output_type": "stream",
     "text": [
      "calculating scores...\n",
      "computing bert embedding.\n"
     ]
    },
    {
     "name": "stderr",
     "output_type": "stream",
     "text": [
      "100%|██████████| 1/1 [00:00<00:00,  9.53it/s]\n"
     ]
    },
    {
     "name": "stdout",
     "output_type": "stream",
     "text": [
      "computing greedy matching.\n"
     ]
    },
    {
     "name": "stderr",
     "output_type": "stream",
     "text": [
      "100%|██████████| 1/1 [00:00<00:00, 161.26it/s]"
     ]
    },
    {
     "name": "stdout",
     "output_type": "stream",
     "text": [
      "done in 0.12 seconds, 8.61 sentences/sec\n"
     ]
    },
    {
     "name": "stderr",
     "output_type": "stream",
     "text": [
      "\n",
      "Some weights of RobertaModel were not initialized from the model checkpoint at roberta-large and are newly initialized: ['roberta.pooler.dense.bias', 'roberta.pooler.dense.weight']\n",
      "You should probably TRAIN this model on a down-stream task to be able to use it for predictions and inference.\n"
     ]
    },
    {
     "name": "stdout",
     "output_type": "stream",
     "text": [
      "calculating scores...\n",
      "computing bert embedding.\n"
     ]
    },
    {
     "name": "stderr",
     "output_type": "stream",
     "text": [
      "100%|██████████| 1/1 [00:00<00:00,  4.87it/s]\n"
     ]
    },
    {
     "name": "stdout",
     "output_type": "stream",
     "text": [
      "computing greedy matching.\n"
     ]
    },
    {
     "name": "stderr",
     "output_type": "stream",
     "text": [
      "100%|██████████| 1/1 [00:00<00:00, 136.67it/s]\n"
     ]
    },
    {
     "name": "stdout",
     "output_type": "stream",
     "text": [
      "done in 0.21 seconds, 4.68 sentences/sec\n"
     ]
    },
    {
     "name": "stderr",
     "output_type": "stream",
     "text": [
      "Some weights of RobertaModel were not initialized from the model checkpoint at roberta-large and are newly initialized: ['roberta.pooler.dense.bias', 'roberta.pooler.dense.weight']\n",
      "You should probably TRAIN this model on a down-stream task to be able to use it for predictions and inference.\n"
     ]
    },
    {
     "name": "stdout",
     "output_type": "stream",
     "text": [
      "calculating scores...\n",
      "computing bert embedding.\n"
     ]
    },
    {
     "name": "stderr",
     "output_type": "stream",
     "text": [
      "100%|██████████| 1/1 [00:00<00:00,  8.18it/s]\n"
     ]
    },
    {
     "name": "stdout",
     "output_type": "stream",
     "text": [
      "computing greedy matching.\n"
     ]
    },
    {
     "name": "stderr",
     "output_type": "stream",
     "text": [
      "100%|██████████| 1/1 [00:00<00:00, 72.97it/s]"
     ]
    },
    {
     "name": "stdout",
     "output_type": "stream",
     "text": [
      "done in 0.14 seconds, 6.90 sentences/sec\n"
     ]
    },
    {
     "name": "stderr",
     "output_type": "stream",
     "text": [
      "\n",
      "Some weights of RobertaModel were not initialized from the model checkpoint at roberta-large and are newly initialized: ['roberta.pooler.dense.bias', 'roberta.pooler.dense.weight']\n",
      "You should probably TRAIN this model on a down-stream task to be able to use it for predictions and inference.\n"
     ]
    },
    {
     "name": "stdout",
     "output_type": "stream",
     "text": [
      "calculating scores...\n",
      "computing bert embedding.\n"
     ]
    },
    {
     "name": "stderr",
     "output_type": "stream",
     "text": [
      "100%|██████████| 1/1 [00:00<00:00,  9.65it/s]\n"
     ]
    },
    {
     "name": "stdout",
     "output_type": "stream",
     "text": [
      "computing greedy matching.\n"
     ]
    },
    {
     "name": "stderr",
     "output_type": "stream",
     "text": [
      "100%|██████████| 1/1 [00:00<00:00, 124.63it/s]"
     ]
    },
    {
     "name": "stdout",
     "output_type": "stream",
     "text": [
      "done in 0.12 seconds, 8.67 sentences/sec\n"
     ]
    },
    {
     "name": "stderr",
     "output_type": "stream",
     "text": [
      "\n",
      "Some weights of RobertaModel were not initialized from the model checkpoint at roberta-large and are newly initialized: ['roberta.pooler.dense.bias', 'roberta.pooler.dense.weight']\n",
      "You should probably TRAIN this model on a down-stream task to be able to use it for predictions and inference.\n"
     ]
    },
    {
     "name": "stdout",
     "output_type": "stream",
     "text": [
      "calculating scores...\n",
      "computing bert embedding.\n"
     ]
    },
    {
     "name": "stderr",
     "output_type": "stream",
     "text": [
      "100%|██████████| 1/1 [00:00<00:00,  5.35it/s]\n"
     ]
    },
    {
     "name": "stdout",
     "output_type": "stream",
     "text": [
      "computing greedy matching.\n"
     ]
    },
    {
     "name": "stderr",
     "output_type": "stream",
     "text": [
      "100%|██████████| 1/1 [00:00<?, ?it/s]\n"
     ]
    },
    {
     "name": "stdout",
     "output_type": "stream",
     "text": [
      "done in 0.19 seconds, 5.21 sentences/sec\n"
     ]
    },
    {
     "name": "stderr",
     "output_type": "stream",
     "text": [
      "Some weights of RobertaModel were not initialized from the model checkpoint at roberta-large and are newly initialized: ['roberta.pooler.dense.bias', 'roberta.pooler.dense.weight']\n",
      "You should probably TRAIN this model on a down-stream task to be able to use it for predictions and inference.\n"
     ]
    },
    {
     "name": "stdout",
     "output_type": "stream",
     "text": [
      "calculating scores...\n",
      "computing bert embedding.\n"
     ]
    },
    {
     "name": "stderr",
     "output_type": "stream",
     "text": [
      "100%|██████████| 1/1 [00:00<00:00,  8.11it/s]\n"
     ]
    },
    {
     "name": "stdout",
     "output_type": "stream",
     "text": [
      "computing greedy matching.\n"
     ]
    },
    {
     "name": "stderr",
     "output_type": "stream",
     "text": [
      "100%|██████████| 1/1 [00:00<00:00, 206.92it/s]"
     ]
    },
    {
     "name": "stdout",
     "output_type": "stream",
     "text": [
      "done in 0.13 seconds, 7.50 sentences/sec\n"
     ]
    },
    {
     "name": "stderr",
     "output_type": "stream",
     "text": [
      "\n",
      "Some weights of RobertaModel were not initialized from the model checkpoint at roberta-large and are newly initialized: ['roberta.pooler.dense.bias', 'roberta.pooler.dense.weight']\n",
      "You should probably TRAIN this model on a down-stream task to be able to use it for predictions and inference.\n"
     ]
    },
    {
     "name": "stdout",
     "output_type": "stream",
     "text": [
      "calculating scores...\n",
      "computing bert embedding.\n"
     ]
    },
    {
     "name": "stderr",
     "output_type": "stream",
     "text": [
      "100%|██████████| 1/1 [00:00<00:00,  9.65it/s]\n"
     ]
    },
    {
     "name": "stdout",
     "output_type": "stream",
     "text": [
      "computing greedy matching.\n"
     ]
    },
    {
     "name": "stderr",
     "output_type": "stream",
     "text": [
      "100%|██████████| 1/1 [00:00<00:00, 221.82it/s]"
     ]
    },
    {
     "name": "stdout",
     "output_type": "stream",
     "text": [
      "done in 0.12 seconds, 8.30 sentences/sec\n"
     ]
    },
    {
     "name": "stderr",
     "output_type": "stream",
     "text": [
      "\n",
      "Some weights of RobertaModel were not initialized from the model checkpoint at roberta-large and are newly initialized: ['roberta.pooler.dense.bias', 'roberta.pooler.dense.weight']\n",
      "You should probably TRAIN this model on a down-stream task to be able to use it for predictions and inference.\n"
     ]
    },
    {
     "name": "stdout",
     "output_type": "stream",
     "text": [
      "calculating scores...\n",
      "computing bert embedding.\n"
     ]
    },
    {
     "name": "stderr",
     "output_type": "stream",
     "text": [
      "100%|██████████| 1/1 [00:00<00:00, 11.73it/s]\n"
     ]
    },
    {
     "name": "stdout",
     "output_type": "stream",
     "text": [
      "computing greedy matching.\n"
     ]
    },
    {
     "name": "stderr",
     "output_type": "stream",
     "text": [
      "100%|██████████| 1/1 [00:00<00:00, 174.81it/s]"
     ]
    },
    {
     "name": "stdout",
     "output_type": "stream",
     "text": [
      "done in 0.10 seconds, 10.26 sentences/sec\n"
     ]
    },
    {
     "name": "stderr",
     "output_type": "stream",
     "text": [
      "\n",
      "Some weights of RobertaModel were not initialized from the model checkpoint at roberta-large and are newly initialized: ['roberta.pooler.dense.bias', 'roberta.pooler.dense.weight']\n",
      "You should probably TRAIN this model on a down-stream task to be able to use it for predictions and inference.\n"
     ]
    },
    {
     "name": "stdout",
     "output_type": "stream",
     "text": [
      "calculating scores...\n",
      "computing bert embedding.\n"
     ]
    },
    {
     "name": "stderr",
     "output_type": "stream",
     "text": [
      "100%|██████████| 1/1 [00:00<00:00,  7.82it/s]\n"
     ]
    },
    {
     "name": "stdout",
     "output_type": "stream",
     "text": [
      "computing greedy matching.\n"
     ]
    },
    {
     "name": "stderr",
     "output_type": "stream",
     "text": [
      "100%|██████████| 1/1 [00:00<?, ?it/s]"
     ]
    },
    {
     "name": "stdout",
     "output_type": "stream",
     "text": [
      "done in 0.14 seconds, 7.12 sentences/sec\n"
     ]
    },
    {
     "name": "stderr",
     "output_type": "stream",
     "text": [
      "\n",
      "Some weights of RobertaModel were not initialized from the model checkpoint at roberta-large and are newly initialized: ['roberta.pooler.dense.bias', 'roberta.pooler.dense.weight']\n",
      "You should probably TRAIN this model on a down-stream task to be able to use it for predictions and inference.\n"
     ]
    },
    {
     "name": "stdout",
     "output_type": "stream",
     "text": [
      "calculating scores...\n",
      "computing bert embedding.\n"
     ]
    },
    {
     "name": "stderr",
     "output_type": "stream",
     "text": [
      "100%|██████████| 1/1 [00:00<00:00, 11.56it/s]\n"
     ]
    },
    {
     "name": "stdout",
     "output_type": "stream",
     "text": [
      "computing greedy matching.\n"
     ]
    },
    {
     "name": "stderr",
     "output_type": "stream",
     "text": [
      "100%|██████████| 1/1 [00:00<00:00, 177.03it/s]"
     ]
    },
    {
     "name": "stdout",
     "output_type": "stream",
     "text": [
      "done in 0.10 seconds, 10.24 sentences/sec\n"
     ]
    },
    {
     "name": "stderr",
     "output_type": "stream",
     "text": [
      "\n",
      "Some weights of RobertaModel were not initialized from the model checkpoint at roberta-large and are newly initialized: ['roberta.pooler.dense.bias', 'roberta.pooler.dense.weight']\n",
      "You should probably TRAIN this model on a down-stream task to be able to use it for predictions and inference.\n"
     ]
    },
    {
     "name": "stdout",
     "output_type": "stream",
     "text": [
      "calculating scores...\n",
      "computing bert embedding.\n"
     ]
    },
    {
     "name": "stderr",
     "output_type": "stream",
     "text": [
      "100%|██████████| 1/1 [00:00<00:00,  9.36it/s]\n"
     ]
    },
    {
     "name": "stdout",
     "output_type": "stream",
     "text": [
      "computing greedy matching.\n"
     ]
    },
    {
     "name": "stderr",
     "output_type": "stream",
     "text": [
      "100%|██████████| 1/1 [00:00<?, ?it/s]"
     ]
    },
    {
     "name": "stdout",
     "output_type": "stream",
     "text": [
      "done in 0.12 seconds, 8.37 sentences/sec\n"
     ]
    },
    {
     "name": "stderr",
     "output_type": "stream",
     "text": [
      "\n",
      "Some weights of RobertaModel were not initialized from the model checkpoint at roberta-large and are newly initialized: ['roberta.pooler.dense.bias', 'roberta.pooler.dense.weight']\n",
      "You should probably TRAIN this model on a down-stream task to be able to use it for predictions and inference.\n"
     ]
    },
    {
     "name": "stdout",
     "output_type": "stream",
     "text": [
      "calculating scores...\n",
      "computing bert embedding.\n"
     ]
    },
    {
     "name": "stderr",
     "output_type": "stream",
     "text": [
      "100%|██████████| 1/1 [00:00<00:00, 12.01it/s]\n"
     ]
    },
    {
     "name": "stdout",
     "output_type": "stream",
     "text": [
      "computing greedy matching.\n"
     ]
    },
    {
     "name": "stderr",
     "output_type": "stream",
     "text": [
      "100%|██████████| 1/1 [00:00<?, ?it/s]"
     ]
    },
    {
     "name": "stdout",
     "output_type": "stream",
     "text": [
      "done in 0.09 seconds, 10.98 sentences/sec\n",
      "Average scores for GPT-4 generated reports:\n",
      "BERTScore_Precision_4    0.836496\n",
      "BERTScore_Recall_4       0.818821\n",
      "BERTScore_F1_4           0.827462\n",
      "tfidf_score_4            0.190207\n",
      "dtype: float64\n",
      "\n",
      "Average scores for GPT-4o generated reports:\n",
      "BERTScore_Precision_4o    0.857200\n",
      "BERTScore_Recall_4o       0.818081\n",
      "BERTScore_F1_4o           0.837124\n",
      "tfidf_score_4o            0.183484\n",
      "dtype: float64\n"
     ]
    },
    {
     "name": "stderr",
     "output_type": "stream",
     "text": [
      "\n"
     ]
    }
   ],
   "source": [
    "import pandas as pd\n",
    "from bert_score import score\n",
    "from sentence_transformers import SentenceTransformer, util\n",
    "from sklearn.feature_extraction.text import TfidfVectorizer\n",
    "from sklearn.metrics.pairwise import cosine_similarity\n",
    "\n",
    "\n",
    "comparison_df = pd.read_csv('merged_reports.csv')\n",
    "\n",
    "def calculate_scores(cleaned_report, ai_generated_report):\n",
    "    P, R, F1 = score([ai_generated_report], [cleaned_report], lang=\"en\", verbose=True)\n",
    "    bert_score_precision = P.mean().item()\n",
    "    bert_score_recall = R.mean().item()\n",
    "    bert_score_f1 = F1.mean().item()\n",
    "    \n",
    "    vectorizer = TfidfVectorizer()\n",
    "    tfidf_matrix = vectorizer.fit_transform([cleaned_report, ai_generated_report])\n",
    "    tfidf_score = cosine_similarity(tfidf_matrix[0:1], tfidf_matrix[1:2])[0][0]\n",
    "\n",
    "    \n",
    "\n",
    "    return (bert_score_precision, bert_score_recall, bert_score_f1, tfidf_score)\n",
    "\n",
    "scores_4 = comparison_df.apply(lambda row: calculate_scores(row['cleaned_report'], row['AI_generated_report']), axis=1)\n",
    "scores_4o = comparison_df.apply(lambda row: calculate_scores(row['cleaned_report'], row['AI_generated_report_4o']), axis=1)\n",
    "\n",
    "comparison_df[['BERTScore_Precision_4', 'BERTScore_Recall_4', 'BERTScore_F1_4', 'tfidf_score_4']] = pd.DataFrame(scores_4.tolist(), index=comparison_df.index)\n",
    "comparison_df[['BERTScore_Precision_4o', 'BERTScore_Recall_4o', 'BERTScore_F1_4o', 'tfidf_score_4o']] = pd.DataFrame(scores_4o.tolist(), index=comparison_df.index)\n",
    "\n",
    "average_scores_4 = comparison_df[['BERTScore_Precision_4', 'BERTScore_Recall_4', 'BERTScore_F1_4',  'tfidf_score_4']].mean()\n",
    "average_scores_4o = comparison_df[['BERTScore_Precision_4o', 'BERTScore_Recall_4o', 'BERTScore_F1_4o', 'tfidf_score_4o']].mean()\n",
    "\n",
    "print(\"Average scores for GPT-4 generated reports:\")\n",
    "print(average_scores_4)\n",
    "\n",
    "print(\"\\nAverage scores for GPT-4o generated reports:\")\n",
    "print(average_scores_4o)\n",
    "\n",
    "comparison_df.to_csv('comparison_scores_fewshot.csv', index=False)\n"
   ]
  },
  {
   "cell_type": "code",
   "execution_count": null,
   "metadata": {},
   "outputs": [],
   "source": []
  }
 ],
 "metadata": {
  "kernelspec": {
   "display_name": "Python 3",
   "language": "python",
   "name": "python3"
  },
  "language_info": {
   "codemirror_mode": {
    "name": "ipython",
    "version": 3
   },
   "file_extension": ".py",
   "mimetype": "text/x-python",
   "name": "python",
   "nbconvert_exporter": "python",
   "pygments_lexer": "ipython3",
   "version": "3.12.3"
  }
 },
 "nbformat": 4,
 "nbformat_minor": 2
}
